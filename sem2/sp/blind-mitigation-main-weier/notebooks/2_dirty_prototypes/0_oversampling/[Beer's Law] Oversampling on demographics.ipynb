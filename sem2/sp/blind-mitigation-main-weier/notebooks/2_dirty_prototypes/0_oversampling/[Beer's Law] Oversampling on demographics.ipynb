{
 "cells": [
  {
   "cell_type": "code",
   "execution_count": 1,
   "id": "eb54d1f4",
   "metadata": {
    "ExecuteTime": {
     "end_time": "2022-06-06T14:54:38.697785Z",
     "start_time": "2022-06-06T14:54:38.425471Z"
    }
   },
   "outputs": [],
   "source": [
    "import os\n",
    "import re\n",
    "import pickle\n",
    "\n",
    "import numpy as np\n",
    "from matplotlib import pyplot as plt"
   ]
  },
  {
   "cell_type": "code",
   "execution_count": 2,
   "id": "cdb70dfc",
   "metadata": {
    "ExecuteTime": {
     "end_time": "2022-06-06T14:54:38.702924Z",
     "start_time": "2022-06-06T14:54:38.700189Z"
    }
   },
   "outputs": [],
   "source": [
    "a = 'joapzfe'"
   ]
  },
  {
   "cell_type": "code",
   "execution_count": 3,
   "id": "91d2b665",
   "metadata": {
    "ExecuteTime": {
     "end_time": "2022-06-06T14:54:39.337335Z",
     "start_time": "2022-06-06T14:54:39.330927Z"
    }
   },
   "outputs": [
    {
     "data": {
      "text/plain": [
       "'joapzf'"
      ]
     },
     "execution_count": 3,
     "metadata": {},
     "output_type": "execute_result"
    }
   ],
   "source": [
    "a[:-1]"
   ]
  },
  {
   "cell_type": "markdown",
   "id": "d1cdcc25",
   "metadata": {},
   "source": [
    "# Data"
   ]
  },
  {
   "cell_type": "code",
   "execution_count": 4,
   "id": "ed1e946c",
   "metadata": {
    "ExecuteTime": {
     "end_time": "2022-06-06T14:54:45.971837Z",
     "start_time": "2022-06-06T14:54:45.871270Z"
    }
   },
   "outputs": [],
   "source": [
    "language_labels_path = '/Users/cock/kDrive/PhD/Projects/Labs/blind-mitigation/experiments/oversample/language_label/beerslaw/simplestates/ts_attention/binconcepts/2022_06_02_0/results/nonnested_cval_mltsatt_l300.pkl'\n",
    "with open(language_labels_path, 'rb') as fp:\n",
    "    language_labels = pickle.load(fp)"
   ]
  },
  {
   "cell_type": "code",
   "execution_count": 4,
   "id": "118dd570",
   "metadata": {
    "ExecuteTime": {
     "end_time": "2022-06-02T08:48:33.818269Z",
     "start_time": "2022-06-02T08:48:33.692417Z"
    }
   },
   "outputs": [],
   "source": [
    "language_path = '/Users/cock/kDrive/PhD/Projects/Labs/blind-mitigation/experiments/oversample/language/beerslaw/simplestates/ts_attention/binconcepts/2022_06_02_0/results/nonnested_cval_mltsatt_l300.pkl'\n",
    "with open(language_path, 'rb') as fp:\n",
    "    language_labels = pickle.load(fp)"
   ]
  },
  {
   "cell_type": "code",
   "execution_count": 51,
   "id": "4e3d0697",
   "metadata": {
    "ExecuteTime": {
     "end_time": "2022-06-02T09:07:23.254324Z",
     "start_time": "2022-06-02T09:07:23.198318Z"
    }
   },
   "outputs": [],
   "source": [
    "years_path = '/Users/cock/kDrive/PhD/Projects/Labs/blind-mitigation/experiments/oversample/years/beerslaw/simplestates/ts_attention/binconcepts/2022_06_02_0/results/nonnested_cval_mltsatt_l300.pkl'\n",
    "with open(years_path, 'rb') as fp:\n",
    "    years = pickle.load(fp)"
   ]
  },
  {
   "cell_type": "code",
   "execution_count": 62,
   "id": "d52cca05",
   "metadata": {
    "ExecuteTime": {
     "end_time": "2022-06-02T09:25:47.864552Z",
     "start_time": "2022-06-02T09:25:47.806102Z"
    }
   },
   "outputs": [],
   "source": [
    "none_path = '/Users/cock/kDrive/PhD/Projects/Labs/blind-mitigation/experiments/oversample/none/beerslaw/simplestates/ts_attention/binconcepts/2022_06_02_0/results/nonnested_cval_mltsatt_l300.pkl'\n",
    "with open(none_path, 'rb') as fp:\n",
    "    noos = pickle.load(fp)"
   ]
  },
  {
   "cell_type": "code",
   "execution_count": 69,
   "id": "763bb309",
   "metadata": {
    "ExecuteTime": {
     "end_time": "2022-06-02T09:48:12.154383Z",
     "start_time": "2022-06-02T09:48:12.001254Z"
    }
   },
   "outputs": [],
   "source": [
    "year_label_path = '/Users/cock/kDrive/PhD/Projects/Labs/blind-mitigation/experiments/oversample/year_label/beerslaw/simplestates/ts_attention/binconcepts/2022_06_02_0/results/nonnested_cval_mltsatt_l300.pkl'\n",
    "with open(year_label_path, 'rb') as fp:\n",
    "    year_label = pickle.load(fp)"
   ]
  },
  {
   "cell_type": "code",
   "execution_count": 76,
   "id": "d2e3da2e",
   "metadata": {
    "ExecuteTime": {
     "end_time": "2022-06-02T11:04:19.379003Z",
     "start_time": "2022-06-02T11:04:19.225624Z"
    }
   },
   "outputs": [],
   "source": [
    "lang_stratlabel_path = '/Users/cock/kDrive/PhD/Projects/Labs/blind-mitigation/experiments/oversample/language_stratlabel/beerslaw/simplestates/ts_attention/binconcepts/2022_06_02_0/results/nonnested_cval_mltsatt_l300.pkl'\n",
    "with open(lang_stratlabel_path, 'rb') as fp:\n",
    "    lang_stratlabel = pickle.load(fp)"
   ]
  },
  {
   "cell_type": "markdown",
   "id": "f0b37512",
   "metadata": {},
   "source": [
    "# Definitions"
   ]
  },
  {
   "cell_type": "code",
   "execution_count": 77,
   "id": "f481a278",
   "metadata": {
    "ExecuteTime": {
     "end_time": "2022-06-02T11:04:21.487694Z",
     "start_time": "2022-06-02T11:04:21.485075Z"
    }
   },
   "outputs": [],
   "source": [
    "colours = ['#241A7A', '#7A89F7', '#AFB9FA', '#EFF3F6', '#EF8C34']"
   ]
  },
  {
   "cell_type": "code",
   "execution_count": 78,
   "id": "a4db2525",
   "metadata": {
    "ExecuteTime": {
     "end_time": "2022-06-02T11:04:21.688295Z",
     "start_time": "2022-06-02T11:04:21.684903Z"
    }
   },
   "outputs": [],
   "source": [
    "def plot_boxplot(data, colour, position):\n",
    "    box_item = plt.boxplot(data, positions=[position], patch_artist=True)\n",
    "    for item in ['boxes', 'whiskers', 'fliers', 'medians', 'caps']:\n",
    "            plt.setp(box_item[item], color='black', linewidth=1)\n",
    "    plt.setp(box_item['medians'], color='black', linewidth=1)\n",
    "    plt.setp(box_item[\"boxes\"], color=colour, edgecolor='black', linewidth=1)\n",
    "    plt.setp(box_item[\"fliers\"], markeredgecolor=colour, markersize=7)"
   ]
  },
  {
   "cell_type": "code",
   "execution_count": 79,
   "id": "d12c4dd4",
   "metadata": {
    "ExecuteTime": {
     "end_time": "2022-06-02T11:04:21.851873Z",
     "start_time": "2022-06-02T11:04:21.848645Z"
    }
   },
   "outputs": [],
   "source": [
    "def get_results(results, metric):\n",
    "    r = []\n",
    "    for i in range(10):\n",
    "        if i in results:\n",
    "            r.append(results[i][metric])\n",
    "    return r"
   ]
  },
  {
   "cell_type": "code",
   "execution_count": 80,
   "id": "c17b2a7a",
   "metadata": {
    "ExecuteTime": {
     "end_time": "2022-06-02T11:04:22.949494Z",
     "start_time": "2022-06-02T11:04:22.947061Z"
    }
   },
   "outputs": [],
   "source": [
    "metrics = ['balanced_accuracy', 'roc', 'precision', 'recall']"
   ]
  },
  {
   "cell_type": "markdown",
   "id": "986155fe",
   "metadata": {},
   "source": [
    "# Plots"
   ]
  },
  {
   "cell_type": "markdown",
   "id": "967d9737",
   "metadata": {},
   "source": [
    "## ROC"
   ]
  },
  {
   "cell_type": "code",
   "execution_count": 81,
   "id": "189fcfb0",
   "metadata": {
    "ExecuteTime": {
     "end_time": "2022-06-02T11:04:33.857638Z",
     "start_time": "2022-06-02T11:04:33.854215Z"
    }
   },
   "outputs": [],
   "source": [
    "data = [language_labels, language]\n",
    "labels = ['language_label', 'language']\n",
    "spacing = 1.5\n",
    "\n",
    "language_results = get_results(language, 'roc')\n",
    "language_label_results = get_results(language_labels, 'roc')\n",
    "years_results = get_results(years, 'roc')\n",
    "noos_results = get_results(noos, 'roc')\n",
    "year_label_results = get_results(year_label, 'roc')\n",
    "lang_stratlabel_results = get_results(lang_stratlabel, 'roc')"
   ]
  },
  {
   "cell_type": "code",
   "execution_count": 84,
   "id": "f72bf7ce",
   "metadata": {
    "ExecuteTime": {
     "end_time": "2022-06-02T11:05:25.353662Z",
     "start_time": "2022-06-02T11:05:25.062021Z"
    }
   },
   "outputs": [
    {
     "data": {
      "image/png": "[encoded data removed]",
      "text/plain": [
       "<Figure size 864x360 with 1 Axes>"
      ]
     },
     "metadata": {
      "needs_background": "light"
     },
     "output_type": "display_data"
    }
   ],
   "source": [
    "plt.figure(figsize=(12, 5))\n",
    "\n",
    "plot_boxplot(language_results, colours[1], 0.33)\n",
    "plot_boxplot(language_label_results, colours[3], 0.66)\n",
    "plot_boxplot(years_results, colours[4], 0.99)\n",
    "plot_boxplot(year_label_results, colours[2], 1.33)\n",
    "plot_boxplot(lang_stratlabel_results, colours[1], 1.66)\n",
    "plot_boxplot(noos_results, colours[0], 1.99)\n",
    "\n",
    "plt.xlim([0, 2.33])\n",
    "plt.ylim([0.5, 1])\n",
    "plt.yticks(fontsize=12)\n",
    "plt.xticks([0.33, 0.66, 0.99, 1.33, 1.66, 1.99], ['language', 'language_label', 'years', 'year_label', 'lang_stratlabel', 'noos'], fontsize=12)\n",
    "plt.ylabel('roc', fontsize=14)\n",
    "plt.xlabel('model', fontsize=14)\n",
    "\n",
    "plt.plot([0, 0.66], [2, 2], label='language', color=colours[1], linewidth=3)\n",
    "plt.plot([0, 0.66], [2, 2], label='language_label', color=colours[3], linewidth=3)\n",
    "plt.plot([0, 0.66], [2, 2], label='years', color=colours[4], linewidth=3)\n",
    "plt.plot([0, 0.66], [2, 2], label='year_label', color=colours[2], linewidth=3)\n",
    "plt.plot([0, 0.66], [2, 2], label='lang_stratlabel', color=colours[1], linewidth=3)\n",
    "plt.plot([0, 0.66], [2, 2], label='noos', color=colours[0], linewidth=3)\n",
    "\n",
    "plt.legend()\n",
    "# plt.savefig('full-chemlab.svg', format='svg')\n",
    "plt.show()"
   ]
  },
  {
   "cell_type": "code",
   "execution_count": 5,
   "id": "6e8e516c",
   "metadata": {
    "ExecuteTime": {
     "end_time": "2022-06-06T14:54:53.446181Z",
     "start_time": "2022-06-06T14:54:53.442080Z"
    }
   },
   "outputs": [
    {
     "data": {
      "text/plain": [
       "dict_keys(['language', 'gender', 'field', 'year', 'stratifier_col', 'oversampler_col'])"
      ]
     },
     "execution_count": 5,
     "metadata": {},
     "output_type": "execute_result"
    }
   ],
   "source": [
    "language_labels['demographics'].keys()"
   ]
  },
  {
   "cell_type": "code",
   "execution_count": 17,
   "id": "1f45ba2b",
   "metadata": {
    "ExecuteTime": {
     "end_time": "2022-06-06T15:11:26.357996Z",
     "start_time": "2022-06-06T15:11:26.242252Z"
    }
   },
   "outputs": [],
   "source": [
    "test_path = '/Users/cock/kDrive/PhD/Projects/Labs/blind-mitigation/experiments/test/small/beerslaw/simplestates/ts_attention/binconcepts/2022_06_06_6/results/nonnested_cval_mltsatt_l300.pkl'\n",
    "with open(test_path, 'rb') as fp:\n",
    "    test = pickle.load(fp)"
   ]
  },
  {
   "cell_type": "code",
   "execution_count": 18,
   "id": "814ab2a2",
   "metadata": {
    "ExecuteTime": {
     "end_time": "2022-06-06T15:11:26.545408Z",
     "start_time": "2022-06-06T15:11:26.541446Z"
    }
   },
   "outputs": [
    {
     "data": {
      "text/plain": [
       "{'tp': {'Deutsch': 0.6785714285714286, 'Français': 0.6666666666666666},\n",
       " 'fp': {'Deutsch': 0.22580645161290322, 'Français': 0.4},\n",
       " 'roc': {'Deutsch': 0.8052995391705069, 'Français': 0.6888888888888889},\n",
       " 'recall': {'Deutsch': 0.6785714285714286, 'Français': 0.6666666666666666},\n",
       " 'precision': {'Deutsch': 0.7307692307692307, 'Français': 0.5},\n",
       " 'balanced_auc': {}}"
      ]
     },
     "execution_count": 18,
     "metadata": {},
     "output_type": "execute_result"
    }
   ],
   "source": [
    "test[0]['language']"
   ]
  },
  {
   "cell_type": "code",
   "execution_count": null,
   "id": "a327c0b6",
   "metadata": {},
   "outputs": [],
   "source": []
  },
  {
   "cell_type": "code",
   "execution_count": null,
   "id": "abfae4fc",
   "metadata": {},
   "outputs": [],
   "source": []
  },
  {
   "cell_type": "code",
   "execution_count": null,
   "id": "c803da98",
   "metadata": {},
   "outputs": [],
   "source": []
  }
 ],
 "metadata": {
  "kernelspec": {
   "display_name": "Python 3 (ipykernel)",
   "language": "python",
   "name": "python3"
  },
  "language_info": {
   "codemirror_mode": {
    "name": "ipython",
    "version": 3
   },
   "file_extension": ".py",
   "mimetype": "text/x-python",
   "name": "python",
   "nbconvert_exporter": "python",
   "pygments_lexer": "ipython3",
   "version": "3.8.12"
  },
  "toc": {
   "base_numbering": 1,
   "nav_menu": {},
   "number_sections": true,
   "sideBar": true,
   "skip_h1_title": false,
   "title_cell": "Table of Contents",
   "title_sidebar": "Contents",
   "toc_cell": false,
   "toc_position": {},
   "toc_section_display": true,
   "toc_window_display": false
  }
 },
 "nbformat": 4,
 "nbformat_minor": 5
}
