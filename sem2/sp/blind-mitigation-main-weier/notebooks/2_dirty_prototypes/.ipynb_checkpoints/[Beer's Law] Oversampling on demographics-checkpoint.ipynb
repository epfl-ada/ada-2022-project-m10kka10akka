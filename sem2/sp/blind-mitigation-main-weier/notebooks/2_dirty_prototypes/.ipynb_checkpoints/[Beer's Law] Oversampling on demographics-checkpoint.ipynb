{
 "cells": [
  {
   "cell_type": "code",
   "execution_count": 1,
   "id": "eb54d1f4",
   "metadata": {
    "ExecuteTime": {
     "end_time": "2022-06-02T08:46:31.635516Z",
     "start_time": "2022-06-02T08:46:31.273365Z"
    }
   },
   "outputs": [],
   "source": [
    "import os\n",
    "import re\n",
    "import pickle\n",
    "\n",
    "import numpy as np\n",
    "from matplotlib import pyplot as plt"
   ]
  },
  {
   "cell_type": "markdown",
   "id": "3e6aa486",
   "metadata": {},
   "source": [
    "# Data"
   ]
  },
  {
   "cell_type": "code",
   "execution_count": 2,
   "id": "4b0bde7e",
   "metadata": {
    "ExecuteTime": {
     "end_time": "2022-06-02T08:47:31.129808Z",
     "start_time": "2022-06-02T08:47:31.010800Z"
    }
   },
   "outputs": [],
   "source": [
    "language_labels_path = '/Users/cock/kDrive/PhD/Projects/Labs/blind-mitigation/experiments/oversample/language_label/beerslaw/simplestates/ts_attention/binconcepts/2022_06_02_0/results/nonnested_cval_mltsatt_l300.pkl'\n",
    "with open(language_labels_path, 'rb') as fp:\n",
    "    language_labels = pickle.load(fp)"
   ]
  },
  {
   "cell_type": "code",
   "execution_count": 4,
   "id": "a76570a3",
   "metadata": {
    "ExecuteTime": {
     "end_time": "2022-06-02T08:48:33.818269Z",
     "start_time": "2022-06-02T08:48:33.692417Z"
    }
   },
   "outputs": [],
   "source": [
    "language_path = '/Users/cock/kDrive/PhD/Projects/Labs/blind-mitigation/experiments/oversample/language/beerslaw/simplestates/ts_attention/binconcepts/2022_06_02_0/results/nonnested_cval_mltsatt_l300.pkl'\n",
    "with open(language_path, 'rb') as fp:\n",
    "    language_labels = pickle.load(fp)"
   ]
  },
  {
   "cell_type": "code",
   "execution_count": 51,
   "id": "fd2072b6",
   "metadata": {
    "ExecuteTime": {
     "end_time": "2022-06-02T09:07:23.254324Z",
     "start_time": "2022-06-02T09:07:23.198318Z"
    }
   },
   "outputs": [],
   "source": [
    "years_path = '/Users/cock/kDrive/PhD/Projects/Labs/blind-mitigation/experiments/oversample/years/beerslaw/simplestates/ts_attention/binconcepts/2022_06_02_0/results/nonnested_cval_mltsatt_l300.pkl'\n",
    "with open(years_path, 'rb') as fp:\n",
    "    years = pickle.load(fp)"
   ]
  },
  {
   "cell_type": "code",
   "execution_count": 62,
   "id": "95793dd4",
   "metadata": {
    "ExecuteTime": {
     "end_time": "2022-06-02T09:25:47.864552Z",
     "start_time": "2022-06-02T09:25:47.806102Z"
    }
   },
   "outputs": [],
   "source": [
    "none_path = '/Users/cock/kDrive/PhD/Projects/Labs/blind-mitigation/experiments/oversample/none/beerslaw/simplestates/ts_attention/binconcepts/2022_06_02_0/results/nonnested_cval_mltsatt_l300.pkl'\n",
    "with open(none_path, 'rb') as fp:\n",
    "    noos = pickle.load(fp)"
   ]
  },
  {
   "cell_type": "code",
   "execution_count": 69,
   "id": "0cdf533e",
   "metadata": {
    "ExecuteTime": {
     "end_time": "2022-06-02T09:48:12.154383Z",
     "start_time": "2022-06-02T09:48:12.001254Z"
    }
   },
   "outputs": [],
   "source": [
    "year_label_path = '/Users/cock/kDrive/PhD/Projects/Labs/blind-mitigation/experiments/oversample/year_label/beerslaw/simplestates/ts_attention/binconcepts/2022_06_02_0/results/nonnested_cval_mltsatt_l300.pkl'\n",
    "with open(year_label_path, 'rb') as fp:\n",
    "    year_label = pickle.load(fp)"
   ]
  },
  {
   "cell_type": "code",
   "execution_count": 76,
   "id": "db33df1f",
   "metadata": {
    "ExecuteTime": {
     "end_time": "2022-06-02T11:04:19.379003Z",
     "start_time": "2022-06-02T11:04:19.225624Z"
    }
   },
   "outputs": [],
   "source": [
    "lang_stratlabel_path = '/Users/cock/kDrive/PhD/Projects/Labs/blind-mitigation/experiments/oversample/language_stratlabel/beerslaw/simplestates/ts_attention/binconcepts/2022_06_02_0/results/nonnested_cval_mltsatt_l300.pkl'\n",
    "with open(lang_stratlabel_path, 'rb') as fp:\n",
    "    lang_stratlabel = pickle.load(fp)"
   ]
  },
  {
   "cell_type": "markdown",
   "id": "406570a2",
   "metadata": {},
   "source": [
    "# Definitions"
   ]
  },
  {
   "cell_type": "code",
   "execution_count": 77,
   "id": "52481ecd",
   "metadata": {
    "ExecuteTime": {
     "end_time": "2022-06-02T11:04:21.487694Z",
     "start_time": "2022-06-02T11:04:21.485075Z"
    }
   },
   "outputs": [],
   "source": [
    "colours = ['#241A7A', '#7A89F7', '#AFB9FA', '#EFF3F6', '#EF8C34']"
   ]
  },
  {
   "cell_type": "code",
   "execution_count": 78,
   "id": "e472d446",
   "metadata": {
    "ExecuteTime": {
     "end_time": "2022-06-02T11:04:21.688295Z",
     "start_time": "2022-06-02T11:04:21.684903Z"
    }
   },
   "outputs": [],
   "source": [
    "def plot_boxplot(data, colour, position):\n",
    "    box_item = plt.boxplot(data, positions=[position], patch_artist=True)\n",
    "    for item in ['boxes', 'whiskers', 'fliers', 'medians', 'caps']:\n",
    "            plt.setp(box_item[item], color='black', linewidth=1)\n",
    "    plt.setp(box_item['medians'], color='black', linewidth=1)\n",
    "    plt.setp(box_item[\"boxes\"], color=colour, edgecolor='black', linewidth=1)\n",
    "    plt.setp(box_item[\"fliers\"], markeredgecolor=colour, markersize=7)"
   ]
  },
  {
   "cell_type": "code",
   "execution_count": 79,
   "id": "b8a2b2d6",
   "metadata": {
    "ExecuteTime": {
     "end_time": "2022-06-02T11:04:21.851873Z",
     "start_time": "2022-06-02T11:04:21.848645Z"
    }
   },
   "outputs": [],
   "source": [
    "def get_results(results, metric):\n",
    "    r = []\n",
    "    for i in range(10):\n",
    "        if i in results:\n",
    "            r.append(results[i][metric])\n",
    "    return r"
   ]
  },
  {
   "cell_type": "code",
   "execution_count": 80,
   "id": "c210238b",
   "metadata": {
    "ExecuteTime": {
     "end_time": "2022-06-02T11:04:22.949494Z",
     "start_time": "2022-06-02T11:04:22.947061Z"
    }
   },
   "outputs": [],
   "source": [
    "metrics = ['balanced_accuracy', 'roc', 'precision', 'recall']"
   ]
  },
  {
   "cell_type": "markdown",
   "id": "018d1605",
   "metadata": {},
   "source": [
    "# Plots"
   ]
  },
  {
   "cell_type": "markdown",
   "id": "29015268",
   "metadata": {},
   "source": [
    "## ROC"
   ]
  },
  {
   "cell_type": "code",
   "execution_count": 81,
   "id": "651ec580",
   "metadata": {
    "ExecuteTime": {
     "end_time": "2022-06-02T11:04:33.857638Z",
     "start_time": "2022-06-02T11:04:33.854215Z"
    }
   },
   "outputs": [],
   "source": [
    "data = [language_labels, language]\n",
    "labels = ['language_label', 'language']\n",
    "spacing = 1.5\n",
    "\n",
    "language_results = get_results(language, 'roc')\n",
    "language_label_results = get_results(language_labels, 'roc')\n",
    "years_results = get_results(years, 'roc')\n",
    "noos_results = get_results(noos, 'roc')\n",
    "year_label_results = get_results(year_label, 'roc')\n",
    "lang_stratlabel_results = get_results(lang_stratlabel, 'roc')"
   ]
  },
  {
   "cell_type": "code",
   "execution_count": 75,
   "id": "c0052fd2",
   "metadata": {
    "ExecuteTime": {
     "end_time": "2022-06-02T09:49:53.898544Z",
     "start_time": "2022-06-02T09:49:53.677427Z"
    }
   },
   "outputs": [
    {
     "data": {
      "image/png": "[encoded data removed]",
      "text/plain": [
       "<Figure size 648x360 with 1 Axes>"
      ]
     },
     "metadata": {
      "needs_background": "light"
     },
     "output_type": "display_data"
    }
   ],
   "source": [
    "plt.figure(figsize=(9, 5))\n",
    "\n",
    "plot_boxplot(language_results, colours[1], 0.33)\n",
    "plot_boxplot(language_label_results, colours[3], 0.66)\n",
    "plot_boxplot(years_results, colours[4], 0.99)\n",
    "plot_boxplot(year_label_results, colours[2], 1.33)\n",
    "plot_boxplot(lang_stratlabel_results, colours[1], 1.66)\n",
    "plot_boxplot(noos_results, colours[0], 1.99)\n",
    "\n",
    "plt.xlim([0, 2.33])\n",
    "plt.ylim([0.5, 1])\n",
    "plt.yticks(fontsize=12)\n",
    "plt.xticks([0.33, 0.66, 0.99, 1.33, 1.66, 1.99], ['language', 'language_label', 'years', 'year_label', 'lang_stratlabel', 'noos'], fontsize=12)\n",
    "plt.ylabel('roc', fontsize=14)\n",
    "plt.xlabel('model', fontsize=14)\n",
    "\n",
    "plt.plot([0, 0.66], [2, 2], label='language', color=colours[1], linewidth=3)\n",
    "plt.plot([0, 0.66], [2, 2], label='language_label', color=colours[3], linewidth=3)\n",
    "plt.plot([0, 0.66], [2, 2], label='years', color=colours[4], linewidth=3)\n",
    "plt.plot([0, 0.66], [2, 2], label='year_label', color=colours[2], linewidth=3)\n",
    "plt.plot([0, 0.66], [2, 2], label='lang_stratlabel', color=colours[1], linewidth=3)\n",
    "plt.plot([0, 0.66], [2, 2], label='noos', color=colours[0], linewidth=3)\n",
    "\n",
    "plt.legend()\n",
    "# plt.savefig('full-chemlab.svg', format='svg')\n",
    "plt.show()"
   ]
  },
  {
   "cell_type": "code",
   "execution_count": 49,
   "id": "12f995b0",
   "metadata": {
    "ExecuteTime": {
     "end_time": "2022-06-02T09:06:10.023590Z",
     "start_time": "2022-06-02T09:06:10.019360Z"
    }
   },
   "outputs": [
    {
     "data": {
      "text/plain": [
       "[0.83125,\n",
       " 0.8045112781954887,\n",
       " 0.7254901960784313,\n",
       " 0.7333333333333333,\n",
       " 0.7333333333333334,\n",
       " 0.8311688311688312,\n",
       " 0.6666666666666666,\n",
       " 0.7243589743589742,\n",
       " 0.8012820512820513,\n",
       " 0.7922077922077921]"
      ]
     },
     "execution_count": 49,
     "metadata": {},
     "output_type": "execute_result"
    }
   ],
   "source": [
    "noos_results"
   ]
  },
  {
   "cell_type": "code",
   "execution_count": 50,
   "id": "cb4b2f36",
   "metadata": {
    "ExecuteTime": {
     "end_time": "2022-06-02T09:06:14.882857Z",
     "start_time": "2022-06-02T09:06:14.878207Z"
    }
   },
   "outputs": [
    {
     "data": {
      "text/plain": [
       "[0.83125,\n",
       " 0.8045112781954887,\n",
       " 0.7254901960784313,\n",
       " 0.7333333333333333,\n",
       " 0.7333333333333334,\n",
       " 0.8311688311688312,\n",
       " 0.6666666666666666,\n",
       " 0.7243589743589742,\n",
       " 0.8012820512820513,\n",
       " 0.7922077922077921]"
      ]
     },
     "execution_count": 50,
     "metadata": {},
     "output_type": "execute_result"
    }
   ],
   "source": [
    "years_results"
   ]
  },
  {
   "cell_type": "code",
   "execution_count": 17,
   "id": "05f62346",
   "metadata": {
    "ExecuteTime": {
     "end_time": "2022-06-02T08:51:54.139239Z",
     "start_time": "2022-06-02T08:51:53.874789Z"
    }
   },
   "outputs": [
    {
     "data": {
      "image/png": "[encoded data removed]",
      "text/plain": [
       "<Figure size 432x288 with 1 Axes>"
      ]
     },
     "metadata": {
      "needs_background": "light"
     },
     "output_type": "display_data"
    }
   ],
   "source": [
    "plt.figure(figsize)\n",
    "plot_boxplot(language_results, colours[1], 0)"
   ]
  },
  {
   "cell_type": "code",
   "execution_count": null,
   "id": "ac675d62",
   "metadata": {},
   "outputs": [],
   "source": []
  },
  {
   "cell_type": "code",
   "execution_count": null,
   "id": "a8bde6a4",
   "metadata": {},
   "outputs": [],
   "source": []
  },
  {
   "cell_type": "code",
   "execution_count": null,
   "id": "ae1a3183",
   "metadata": {},
   "outputs": [],
   "source": []
  },
  {
   "cell_type": "code",
   "execution_count": null,
   "id": "70616575",
   "metadata": {},
   "outputs": [],
   "source": []
  },
  {
   "cell_type": "code",
   "execution_count": null,
   "id": "42c355bb",
   "metadata": {},
   "outputs": [],
   "source": []
  },
  {
   "cell_type": "code",
   "execution_count": null,
   "id": "8ba5becf",
   "metadata": {},
   "outputs": [],
   "source": []
  }
 ],
 "metadata": {
  "kernelspec": {
   "display_name": "Python 3 (ipykernel)",
   "language": "python",
   "name": "python3"
  },
  "language_info": {
   "codemirror_mode": {
    "name": "ipython",
    "version": 3
   },
   "file_extension": ".py",
   "mimetype": "text/x-python",
   "name": "python",
   "nbconvert_exporter": "python",
   "pygments_lexer": "ipython3",
   "version": "3.8.12"
  },
  "toc": {
   "base_numbering": 1,
   "nav_menu": {},
   "number_sections": true,
   "sideBar": true,
   "skip_h1_title": false,
   "title_cell": "Table of Contents",
   "title_sidebar": "Contents",
   "toc_cell": false,
   "toc_position": {},
   "toc_section_display": true,
   "toc_window_display": false
  }
 },
 "nbformat": 4,
 "nbformat_minor": 5
}
