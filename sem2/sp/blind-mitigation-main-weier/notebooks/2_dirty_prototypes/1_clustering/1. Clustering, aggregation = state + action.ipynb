{
 "cells": [
  {
   "cell_type": "code",
   "execution_count": 1,
   "id": "013695e6",
   "metadata": {
    "ExecuteTime": {
     "end_time": "2022-06-24T08:10:27.286997Z",
     "start_time": "2022-06-24T08:10:27.278091Z"
    }
   },
   "outputs": [
    {
     "name": "stdout",
     "output_type": "stream",
     "text": [
      "/Users/cock/kDrive/PhD/Projects/Labs/blind-mitigation/src\n"
     ]
    }
   ],
   "source": [
    "cd ../../../src"
   ]
  },
  {
   "cell_type": "code",
   "execution_count": 2,
   "id": "04612575",
   "metadata": {
    "ExecuteTime": {
     "end_time": "2022-06-24T08:10:28.076858Z",
     "start_time": "2022-06-24T08:10:27.288750Z"
    }
   },
   "outputs": [],
   "source": [
    "import os\n",
    "import yaml\n",
    "import pickle\n",
    "\n",
    "import numpy as np\n",
    "import pandas as pd\n",
    "from collections import Counter\n",
    "from matplotlib import pyplot as plt\n",
    "from sklearn.cluster import DBSCAN\n",
    "from sklearn.metrics import silhouette_score\n",
    "from data_handlers.data_loader import DataLoader\n",
    "\n",
    "%matplotlib inline"
   ]
  },
  {
   "cell_type": "markdown",
   "id": "ffc721c2",
   "metadata": {},
   "source": [
    "# Functions\n"
   ]
  },
  {
   "cell_type": "code",
   "execution_count": 3,
   "id": "d42c7dae",
   "metadata": {
    "ExecuteTime": {
     "end_time": "2022-06-24T08:10:28.087372Z",
     "start_time": "2022-06-24T08:10:28.081692Z"
    }
   },
   "outputs": [],
   "source": [
    "def aggregate(sequence:list, keys:list, states:list, actions:list):\n",
    "    \"\"\"\n",
    "    Takes the sequence of actions with len(states) states and len(actions) actions, and creates a vector\n",
    "    with the aggregated time and n_states x n_actions features.\n",
    "    \n",
    "    Args:\n",
    "        sequence [list]: the vector containing the students action, where each list in the sequence has a 1 in \n",
    "        the first n_states entry, and a number > 0 in the last n_actions entry, and where the rest is zero\n",
    "        keys [list]: vector of the known aggregated features (each entry in the form {indexstate}_{indexaction})\n",
    "        states [list]: states in the features\n",
    "        actions [list]: actions in the features\n",
    "    \"\"\"\n",
    "    n_states = len(states)\n",
    "    n_actions = len(actions)\n",
    "    new_sequences = {k:0 for k in keys}\n",
    "    for vector in sequence:\n",
    "        index_state = np.argmax(vector[0:n_states])\n",
    "        index_action = np.argmax(vector[-n_actions:])\n",
    "        action_time = vector[n_states + index_action]\n",
    "        state = states[index_state]\n",
    "        action = actions[index_action]\n",
    "        \n",
    "        new_sequences['{}_{}'.format(state, action)] += action_time\n",
    "    return new_sequences"
   ]
  },
  {
   "cell_type": "code",
   "execution_count": 4,
   "id": "2780a9a6",
   "metadata": {
    "ExecuteTime": {
     "end_time": "2022-06-24T08:10:28.091937Z",
     "start_time": "2022-06-24T08:10:28.088948Z"
    }
   },
   "outputs": [],
   "source": [
    "def get_colour(n:int) -> str:\n",
    "    \"\"\"Returns n colours from the chosen palette\n",
    "\n",
    "    Args:\n",
    "        n (int): number of colours wanted\n",
    "\n",
    "    Returns:\n",
    "        list: n randomly chosen colours. If n > len(palette) -> some colours will be selected more than\n",
    "        once\n",
    "    \"\"\"\n",
    "    colours = [\n",
    "        '#241A7A', '#7A89F7', '#AFB9FA', '#EFF3F6', '#EF8C34',\n",
    "        '#594DD4', '#213AF2', '#A8BCC7', '#A8BCC7', '#A8BCC7', \n",
    "        '#618595', '#618595'\n",
    "    ]\n",
    "    replace_bool = n > len(colours)\n",
    "    return np.random.choice(colours, size=n, replace=replace_bool)"
   ]
  },
  {
   "cell_type": "code",
   "execution_count": 5,
   "id": "63d56aef",
   "metadata": {
    "ExecuteTime": {
     "end_time": "2022-06-24T08:10:28.096273Z",
     "start_time": "2022-06-24T08:10:28.093345Z"
    }
   },
   "outputs": [],
   "source": [
    "def prepare_data(sequences:list, keys:list):\n",
    "    \"\"\"\n",
    "    Takes the sequences where each data point is represented by a dictionary, where the key is the name\n",
    "    of the feature, and the value is the time spent on that feature. Then, it transforms it into a list with just \n",
    "    the time spent on that feature\n",
    "    \n",
    "    Args:\n",
    "        sequences [list]: list of data points, where each data point is a dictionary.\n",
    "        keys [list]: ordered list of the features to create the new sequences\n",
    "        \n",
    "    Returns:\n",
    "        new_sequences [list] new list of features\n",
    "    \"\"\"\n",
    "    new_sequences = []\n",
    "    for seq in sequences:\n",
    "        new_sequences.append([seq[k] for k in keys])\n",
    "    return new_sequences"
   ]
  },
  {
   "cell_type": "markdown",
   "id": "f47ccaf2",
   "metadata": {},
   "source": [
    "# Data"
   ]
  },
  {
   "cell_type": "code",
   "execution_count": 6,
   "id": "459901ae",
   "metadata": {
    "ExecuteTime": {
     "end_time": "2022-06-24T08:10:28.335620Z",
     "start_time": "2022-06-24T08:10:28.332061Z"
    }
   },
   "outputs": [],
   "source": [
    "# Preparation of the stucture\n",
    "states = [\n",
    "    'greengreen',\n",
    "    'greenred',\n",
    "    'notgreennotred',\n",
    "    'noobserved'\n",
    "]\n",
    "actions = [\n",
    "    'other',\n",
    "    'concentration', \n",
    "    'width', \n",
    "    'concentrationlab',\n",
    "    'pdf',\n",
    "    'break'\n",
    "]\n",
    "\n",
    "keys = []\n",
    "for s in states:\n",
    "    for a in actions:\n",
    "        keys.append('{}_{}'.format(s, a))\n",
    "        "
   ]
  },
  {
   "cell_type": "code",
   "execution_count": 7,
   "id": "71f34bd2",
   "metadata": {
    "ExecuteTime": {
     "end_time": "2022-06-24T08:10:28.844775Z",
     "start_time": "2022-06-24T08:10:28.546655Z"
    }
   },
   "outputs": [],
   "source": [
    "# Prepation of the data\n",
    "with open('./configs/oversample_config.yaml', 'r') as f:\n",
    "    settings = yaml.load(f, Loader=yaml.FullLoader)\n",
    "    \n",
    "dl = DataLoader(settings)\n",
    "sequences, labels, demographics = dl.load_data()\n",
    "new_sequences = []\n",
    "for seq in sequences:\n",
    "    new_seq = aggregate(seq, keys, states, actions)\n",
    "    new_sequences.append(new_seq)\n",
    "formatted_data = prepare_data(new_sequences, keys)"
   ]
  },
  {
   "cell_type": "markdown",
   "id": "be42e2de",
   "metadata": {},
   "source": [
    "# DBSCAN"
   ]
  },
  {
   "cell_type": "code",
   "execution_count": 8,
   "id": "74f73165",
   "metadata": {
    "ExecuteTime": {
     "end_time": "2022-06-24T08:10:31.650154Z",
     "start_time": "2022-06-24T08:10:29.001100Z"
    }
   },
   "outputs": [
    {
     "name": "stdout",
     "output_type": "stream",
     "text": [
      "**************************************************\n",
      "maximum distance to be a neighbour: 0.5\n",
      "minimum number of samples in a cluster: 2.0\n",
      "    Silhouette score including noisy samples: -0.19497053096237874\n",
      "    Silhouette score not including noisy samples: 0.8835850798769151\n"
     ]
    },
    {
     "data": {
      "image/png": "[encoded data removed]",
      "text/plain": [
       "<Figure size 432x288 with 1 Axes>"
      ]
     },
     "metadata": {
      "needs_background": "light"
     },
     "output_type": "display_data"
    },
    {
     "name": "stdout",
     "output_type": "stream",
     "text": [
      "**************************************************\n",
      "maximum distance to be a neighbour: 1.0\n",
      "minimum number of samples in a cluster: 2.0\n",
      "    Silhouette score including noisy samples: -0.22321488970541942\n",
      "    Silhouette score not including noisy samples: 0.4688553858539032\n"
     ]
    },
    {
     "data": {
      "image/png": "[encoded data removed]",
      "text/plain": [
       "<Figure size 432x288 with 1 Axes>"
      ]
     },
     "metadata": {
      "needs_background": "light"
     },
     "output_type": "display_data"
    },
    {
     "name": "stdout",
     "output_type": "stream",
     "text": [
      "**************************************************\n",
      "maximum distance to be a neighbour: 1.5\n",
      "minimum number of samples in a cluster: 4.0\n",
      "    Silhouette score including noisy samples: -0.18921219419797972\n",
      "    Silhouette score not including noisy samples: 0.4662805404104845\n"
     ]
    },
    {
     "data": {
      "image/png": "[encoded data removed]",
      "text/plain": [
       "<Figure size 432x288 with 1 Axes>"
      ]
     },
     "metadata": {
      "needs_background": "light"
     },
     "output_type": "display_data"
    },
    {
     "name": "stdout",
     "output_type": "stream",
     "text": [
      "**************************************************\n",
      "maximum distance to be a neighbour: 1.0\n",
      "minimum number of samples in a cluster: 3.0\n",
      "    Silhouette score including noisy samples: -0.20031005874115043\n",
      "    Silhouette score not including noisy samples: 0.4567078555355888\n"
     ]
    },
    {
     "data": {
      "image/png": "[encoded data removed]",
      "text/plain": [
       "<Figure size 432x288 with 1 Axes>"
      ]
     },
     "metadata": {
      "needs_background": "light"
     },
     "output_type": "display_data"
    },
    {
     "name": "stdout",
     "output_type": "stream",
     "text": [
      "**************************************************\n",
      "maximum distance to be a neighbour: 1.5\n",
      "minimum number of samples in a cluster: 5.0\n",
      "    Silhouette score including noisy samples: -0.20429639173410338\n",
      "    Silhouette score not including noisy samples: 0.4513757742675024\n"
     ]
    },
    {
     "data": {
      "image/png": "[encoded data removed]",
      "text/plain": [
       "<Figure size 432x288 with 1 Axes>"
      ]
     },
     "metadata": {
      "needs_background": "light"
     },
     "output_type": "display_data"
    },
    {
     "name": "stdout",
     "output_type": "stream",
     "text": [
      "**************************************************\n",
      "maximum distance to be a neighbour: 5.0\n",
      "minimum number of samples in a cluster: 2.0\n",
      "    Silhouette score including noisy samples: 0.4065141254635761\n",
      "    Silhouette score not including noisy samples: 0.4300538437588147\n"
     ]
    },
    {
     "data": {
      "image/png": "[encoded data removed]",
      "text/plain": [
       "<Figure size 432x288 with 1 Axes>"
      ]
     },
     "metadata": {
      "needs_background": "light"
     },
     "output_type": "display_data"
    },
    {
     "name": "stdout",
     "output_type": "stream",
     "text": [
      "**************************************************\n",
      "maximum distance to be a neighbour: 2.0\n",
      "minimum number of samples in a cluster: 9.0\n",
      "    Silhouette score including noisy samples: -0.10581417372508728\n",
      "    Silhouette score not including noisy samples: 0.3426060021493926\n"
     ]
    },
    {
     "data": {
      "image/png": "[encoded data removed]",
      "text/plain": [
       "<Figure size 432x288 with 1 Axes>"
      ]
     },
     "metadata": {
      "needs_background": "light"
     },
     "output_type": "display_data"
    },
    {
     "name": "stdout",
     "output_type": "stream",
     "text": [
      "**************************************************\n",
      "maximum distance to be a neighbour: 2.0\n",
      "minimum number of samples in a cluster: 8.0\n",
      "    Silhouette score including noisy samples: -0.10233647294580697\n",
      "    Silhouette score not including noisy samples: 0.3396617016809924\n"
     ]
    },
    {
     "data": {
      "image/png": "[encoded data removed]",
      "text/plain": [
       "<Figure size 432x288 with 1 Axes>"
      ]
     },
     "metadata": {
      "needs_background": "light"
     },
     "output_type": "display_data"
    },
    {
     "name": "stdout",
     "output_type": "stream",
     "text": [
      "**************************************************\n",
      "maximum distance to be a neighbour: 2.0\n",
      "minimum number of samples in a cluster: 6.0\n",
      "    Silhouette score including noisy samples: -0.07640589309774813\n",
      "    Silhouette score not including noisy samples: 0.3315834012705871\n"
     ]
    },
    {
     "data": {
      "image/png": "[encoded data removed]",
      "text/plain": [
       "<Figure size 432x288 with 1 Axes>"
      ]
     },
     "metadata": {
      "needs_background": "light"
     },
     "output_type": "display_data"
    },
    {
     "name": "stdout",
     "output_type": "stream",
     "text": [
      "**************************************************\n",
      "maximum distance to be a neighbour: 2.0\n",
      "minimum number of samples in a cluster: 7.0\n",
      "    Silhouette score including noisy samples: -0.08234985176395562\n",
      "    Silhouette score not including noisy samples: 0.33125089292085413\n"
     ]
    },
    {
     "data": {
      "image/png": "[encoded data removed]",
      "text/plain": [
       "<Figure size 432x288 with 1 Axes>"
      ]
     },
     "metadata": {
      "needs_background": "light"
     },
     "output_type": "display_data"
    },
    {
     "name": "stdout",
     "output_type": "stream",
     "text": [
      "**************************************************\n",
      "maximum distance to be a neighbour: 3.5\n",
      "minimum number of samples in a cluster: 3.0\n",
      "    Silhouette score including noisy samples: 0.1977893266074193\n",
      "    Silhouette score not including noisy samples: 0.3025007544570128\n"
     ]
    },
    {
     "data": {
      "image/png": "[encoded data removed]",
      "text/plain": [
       "<Figure size 432x288 with 1 Axes>"
      ]
     },
     "metadata": {
      "needs_background": "light"
     },
     "output_type": "display_data"
    },
    {
     "name": "stdout",
     "output_type": "stream",
     "text": [
      "**************************************************\n",
      "maximum distance to be a neighbour: 1.5\n",
      "minimum number of samples in a cluster: 3.0\n",
      "    Silhouette score including noisy samples: -0.22923877831093742\n",
      "    Silhouette score not including noisy samples: 0.28296233405279975\n"
     ]
    },
    {
     "data": {
      "image/png": "[encoded data removed]",
      "text/plain": [
       "<Figure size 432x288 with 1 Axes>"
      ]
     },
     "metadata": {
      "needs_background": "light"
     },
     "output_type": "display_data"
    },
    {
     "name": "stdout",
     "output_type": "stream",
     "text": [
      "**************************************************\n",
      "maximum distance to be a neighbour: 1.5\n",
      "minimum number of samples in a cluster: 2.0\n",
      "    Silhouette score including noisy samples: -0.24245780209977347\n",
      "    Silhouette score not including noisy samples: 0.25389346475857133\n"
     ]
    },
    {
     "data": {
      "image/png": "[encoded data removed]",
      "text/plain": [
       "<Figure size 432x288 with 1 Axes>"
      ]
     },
     "metadata": {
      "needs_background": "light"
     },
     "output_type": "display_data"
    },
    {
     "name": "stdout",
     "output_type": "stream",
     "text": [
      "**************************************************\n",
      "maximum distance to be a neighbour: 3.5\n",
      "minimum number of samples in a cluster: 2.0\n",
      "    Silhouette score including noisy samples: 0.10563317046226979\n",
      "    Silhouette score not including noisy samples: 0.1921048280577063\n"
     ]
    },
    {
     "data": {
      "image/png": "[encoded data removed]",
      "text/plain": [
       "<Figure size 432x288 with 1 Axes>"
      ]
     },
     "metadata": {
      "needs_background": "light"
     },
     "output_type": "display_data"
    },
    {
     "name": "stdout",
     "output_type": "stream",
     "text": [
      "**************************************************\n",
      "maximum distance to be a neighbour: 2.5\n",
      "minimum number of samples in a cluster: 3.0\n",
      "    Silhouette score including noisy samples: -0.003144606497345684\n",
      "    Silhouette score not including noisy samples: 0.17736975035551794\n"
     ]
    },
    {
     "data": {
      "image/png": "[encoded data removed]",
      "text/plain": [
       "<Figure size 432x288 with 1 Axes>"
      ]
     },
     "metadata": {
      "needs_background": "light"
     },
     "output_type": "display_data"
    },
    {
     "name": "stdout",
     "output_type": "stream",
     "text": [
      "**************************************************\n",
      "maximum distance to be a neighbour: 2.0\n",
      "minimum number of samples in a cluster: 3.0\n",
      "    Silhouette score including noisy samples: -0.131528392215148\n",
      "    Silhouette score not including noisy samples: 0.14342277923163557\n"
     ]
    },
    {
     "data": {
      "image/png": "[encoded data removed]",
      "text/plain": [
       "<Figure size 432x288 with 1 Axes>"
      ]
     },
     "metadata": {
      "needs_background": "light"
     },
     "output_type": "display_data"
    },
    {
     "name": "stdout",
     "output_type": "stream",
     "text": [
      "**************************************************\n",
      "maximum distance to be a neighbour: 3.0\n",
      "minimum number of samples in a cluster: 2.0\n",
      "    Silhouette score including noisy samples: 0.03167785363368725\n",
      "    Silhouette score not including noisy samples: 0.14155251038117045\n"
     ]
    },
    {
     "data": {
      "image/png": "[encoded data removed]",
      "text/plain": [
       "<Figure size 432x288 with 1 Axes>"
      ]
     },
     "metadata": {
      "needs_background": "light"
     },
     "output_type": "display_data"
    },
    {
     "name": "stdout",
     "output_type": "stream",
     "text": [
      "**************************************************\n",
      "maximum distance to be a neighbour: 2.5\n",
      "minimum number of samples in a cluster: 2.0\n",
      "    Silhouette score including noisy samples: -0.059310291245471165\n",
      "    Silhouette score not including noisy samples: 0.11656811261136293\n"
     ]
    },
    {
     "data": {
      "image/png": "[encoded data removed]",
      "text/plain": [
       "<Figure size 432x288 with 1 Axes>"
      ]
     },
     "metadata": {
      "needs_background": "light"
     },
     "output_type": "display_data"
    },
    {
     "name": "stdout",
     "output_type": "stream",
     "text": [
      "**************************************************\n",
      "maximum distance to be a neighbour: 2.0\n",
      "minimum number of samples in a cluster: 2.0\n",
      "    Silhouette score including noisy samples: -0.22320305381734387\n",
      "    Silhouette score not including noisy samples: -0.05705090005650023\n"
     ]
    },
    {
     "data": {
      "image/png": "[encoded data removed]",
      "text/plain": [
       "<Figure size 432x288 with 1 Axes>"
      ]
     },
     "metadata": {
      "needs_background": "light"
     },
     "output_type": "display_data"
    }
   ],
   "source": [
    "scores = []\n",
    "for eps in np.arange(0.5, 10, 0.5):\n",
    "    for min_samples in range(2, 10):\n",
    "        clustering = DBSCAN(eps=eps, min_samples=min_samples).fit(formatted_data)\n",
    "        cluster_labels = Counter(clustering.labels_)\n",
    "        \n",
    "        non_noisy = [i for i in range(len(clustering.labels_)) if clustering.labels_[i] != -1]\n",
    "        non_noisy_data = [formatted_data[idx] for idx in non_noisy]\n",
    "        non_noisy_labels = [clustering.labels_[idx] for idx in non_noisy]\n",
    "        if len(non_noisy) == 0 or len(np.unique(clustering.labels_)) < 2:\n",
    "#             print('    No valid clusters')\n",
    "            continue\n",
    "        else:\n",
    "            try:\n",
    "                scores.append([\n",
    "                    eps, \n",
    "                    min_samples,\n",
    "                    silhouette_score(non_noisy_data, non_noisy_labels),\n",
    "                    silhouette_score(formatted_data, clustering.labels_)\n",
    "                    ])\n",
    "            except ValueError:\n",
    "                continue\n",
    "\n",
    "        \n",
    "scores_df = pd.DataFrame(scores)\n",
    "scores_df.columns = ['eps', 'min_samples', 'non_noisy_silhouette', 'noisy_silhouette']\n",
    "scores_df = scores_df.sort_values(['non_noisy_silhouette', 'noisy_silhouette'], ascending=False)\n",
    "for i, row in scores_df.iterrows():\n",
    "    print('*'*50)\n",
    "    print('maximum distance to be a neighbour: {}'.format(row['eps']))\n",
    "    print('minimum number of samples in a cluster: {}'.format(row['min_samples']))\n",
    "    print('    Silhouette score including noisy samples: {}'.format(\n",
    "        row['noisy_silhouette'])\n",
    "         )\n",
    "    print('    Silhouette score not including noisy samples: {}'.format(\n",
    "        row['non_noisy_silhouette'])\n",
    "         )\n",
    "    clustering = DBSCAN(eps=row['eps'], min_samples=row['min_samples']).fit(formatted_data)\n",
    "    cluster_labels = Counter(clustering.labels_)\n",
    "    plt.bar(range(len(cluster_labels)), cluster_labels.values(), color=get_colour(1))\n",
    "    plt.xticks(range(len(cluster_labels)), cluster_labels.keys())\n",
    "    plt.show()"
   ]
  },
  {
   "cell_type": "markdown",
   "id": "7db88332",
   "metadata": {},
   "source": [
    "# Including it into the data"
   ]
  },
  {
   "cell_type": "code",
   "execution_count": 9,
   "id": "4980681f",
   "metadata": {
    "ExecuteTime": {
     "end_time": "2022-06-24T08:10:32.887674Z",
     "start_time": "2022-06-24T08:10:32.881221Z"
    }
   },
   "outputs": [],
   "source": [
    "selected_combinations = [\n",
    "    {'eps': 2, 'min_samples': 9}\n",
    "]\n",
    "selected_clusters = {}\n",
    "for comb in selected_combinations:\n",
    "    clustering = DBSCAN(eps=comb['eps'], min_samples=comb['min_samples']).fit(formatted_data)\n",
    "    selected_clusters['{}_{}'.format(comb['eps'], comb['min_samples'])] = clustering.labels_"
   ]
  },
  {
   "cell_type": "code",
   "execution_count": 10,
   "id": "3a5881e6",
   "metadata": {
    "ExecuteTime": {
     "end_time": "2022-06-24T08:10:37.173100Z",
     "start_time": "2022-06-24T08:10:37.040341Z"
    }
   },
   "outputs": [],
   "source": [
    "with open('../data/beerslaw/features/simplestates_clusters.pkl', 'rb') as fp:\n",
    "    simple = pickle.load(fp)"
   ]
  },
  {
   "cell_type": "code",
   "execution_count": 12,
   "id": "f273f985",
   "metadata": {
    "ExecuteTime": {
     "end_time": "2022-06-24T08:10:43.251559Z",
     "start_time": "2022-06-24T08:10:43.243599Z"
    }
   },
   "outputs": [
    {
     "name": "stdout",
     "output_type": "stream",
     "text": [
      "4.352218844984802 4.352218844984802\n",
      "1.1220573183214007 1.1220573183214007\n",
      "0.438710783473348 0.438710783473348\n",
      "0 0\n",
      "0.7675037595986207 0.7675037595986207\n",
      "0 0\n",
      "2.183465045592714 2.183465045592714\n",
      "1.9283520982599713 1.9283520982599713\n",
      "2.1506943253900266 2.1506943253900266\n",
      "0 0\n",
      "0.45522417854433755 0.45522417854433755\n",
      "0 0\n",
      "1.078176291793327 1.078176291793327\n",
      "0.3293244626407323 0.3293244626407323\n",
      "0.4981998971369731 0.4981998971369731\n",
      "0 0\n",
      "0 0\n",
      "1.0 1.0\n",
      "2.7574468085106343 2.7574468085106343\n",
      "0 0\n",
      "0.29933139036516443 0.29933139036516443\n",
      "0 0\n",
      "1.5041056147775513 1.5041056147775513\n",
      "0 0\n"
     ]
    }
   ],
   "source": [
    "## Test of correspondance\n",
    "simple[0].keys()\n",
    "test = aggregate(simple[0]['sequence'], keys, states, actions)\n",
    "test = prepare_data([test], keys)\n",
    "\n",
    "testt = aggregate(sequences[0], keys, states, actions)\n",
    "testt = prepare_data([testt], keys)\n",
    "for i in range(len(test[0])):\n",
    "    print(test[0][i], testt[0][i])"
   ]
  },
  {
   "cell_type": "code",
   "execution_count": 13,
   "id": "5925ed46",
   "metadata": {
    "ExecuteTime": {
     "end_time": "2022-06-24T08:10:48.305285Z",
     "start_time": "2022-06-24T08:10:48.302229Z"
    }
   },
   "outputs": [],
   "source": [
    "for comb in selected_clusters:\n",
    "    for i, idx in enumerate(simple):\n",
    "        if idx == 'available_demographics':\n",
    "            continue\n",
    "        simple[idx]['0_cluster_state_action_{}'.format(comb)] = selected_clusters[comb][i]"
   ]
  },
  {
   "cell_type": "code",
   "execution_count": 14,
   "id": "78218887",
   "metadata": {
    "ExecuteTime": {
     "end_time": "2022-06-24T08:10:59.540154Z",
     "start_time": "2022-06-24T08:10:59.536438Z"
    }
   },
   "outputs": [
    {
     "data": {
      "text/plain": [
       "dict_keys(['sequence', 'idx', 'learner_id', 'gender', 'language', 'field', 'year', 'ranking', 'binconcepts', 'binvector', '0_cluster_state_1-5_7', '0_cluster_state_1-5_9', '0_cluster_state_2_9', '0_cluster_state_1_4', '0_cluster_state_action_2_9'])"
      ]
     },
     "execution_count": 14,
     "metadata": {},
     "output_type": "execute_result"
    }
   ],
   "source": [
    "simple[0].keys()"
   ]
  },
  {
   "cell_type": "code",
   "execution_count": 15,
   "id": "888c1d53",
   "metadata": {
    "ExecuteTime": {
     "end_time": "2022-06-24T08:11:14.209325Z",
     "start_time": "2022-06-24T08:11:13.729930Z"
    }
   },
   "outputs": [],
   "source": [
    "with open('../data/beerslaw/features/simplestates_clusters.pkl', 'wb') as fp:\n",
    "    pickle.dump(simple, fp)"
   ]
  },
  {
   "cell_type": "code",
   "execution_count": 27,
   "id": "9d200b6b",
   "metadata": {
    "ExecuteTime": {
     "end_time": "2022-06-24T08:30:26.150315Z",
     "start_time": "2022-06-24T08:30:26.145897Z"
    }
   },
   "outputs": [
    {
     "data": {
      "text/plain": [
       "-1"
      ]
     },
     "execution_count": 27,
     "metadata": {},
     "output_type": "execute_result"
    }
   ],
   "source": [
    "test = [simple[idx]['0_cluster_state_1-5_7'] for idx in simple if idx != 'available_demographics']\n",
    "test[0]"
   ]
  },
  {
   "cell_type": "code",
   "execution_count": 28,
   "id": "5387aaec",
   "metadata": {
    "ExecuteTime": {
     "end_time": "2022-06-24T08:30:28.808522Z",
     "start_time": "2022-06-24T08:30:28.804858Z"
    }
   },
   "outputs": [
    {
     "data": {
      "text/plain": [
       "numpy.int64"
      ]
     },
     "execution_count": 28,
     "metadata": {},
     "output_type": "execute_result"
    }
   ],
   "source": [
    "type(test[0])"
   ]
  },
  {
   "cell_type": "code",
   "execution_count": null,
   "id": "5b21c430",
   "metadata": {},
   "outputs": [],
   "source": []
  }
 ],
 "metadata": {
  "kernelspec": {
   "display_name": "Python 3 (ipykernel)",
   "language": "python",
   "name": "python3"
  },
  "language_info": {
   "codemirror_mode": {
    "name": "ipython",
    "version": 3
   },
   "file_extension": ".py",
   "mimetype": "text/x-python",
   "name": "python",
   "nbconvert_exporter": "python",
   "pygments_lexer": "ipython3",
   "version": "3.8.12"
  },
  "toc": {
   "base_numbering": 1,
   "nav_menu": {},
   "number_sections": true,
   "sideBar": true,
   "skip_h1_title": false,
   "title_cell": "Table of Contents",
   "title_sidebar": "Contents",
   "toc_cell": false,
   "toc_position": {},
   "toc_section_display": true,
   "toc_window_display": false
  }
 },
 "nbformat": 4,
 "nbformat_minor": 5
}
