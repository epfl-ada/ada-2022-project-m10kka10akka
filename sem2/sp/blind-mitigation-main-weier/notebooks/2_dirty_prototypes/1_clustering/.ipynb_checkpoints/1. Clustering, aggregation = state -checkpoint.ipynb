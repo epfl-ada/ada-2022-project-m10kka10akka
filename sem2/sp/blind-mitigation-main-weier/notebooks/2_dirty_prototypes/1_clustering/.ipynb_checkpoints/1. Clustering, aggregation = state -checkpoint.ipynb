{
 "cells": [
  {
   "cell_type": "code",
   "execution_count": 1,
   "id": "013695e6",
   "metadata": {
    "ExecuteTime": {
     "end_time": "2022-06-24T08:07:12.243479Z",
     "start_time": "2022-06-24T08:07:12.234002Z"
    }
   },
   "outputs": [
    {
     "name": "stdout",
     "output_type": "stream",
     "text": [
      "/Users/cock/kDrive/PhD/Projects/Labs/blind-mitigation/src\n"
     ]
    }
   ],
   "source": [
    "cd ../../../src"
   ]
  },
  {
   "cell_type": "code",
   "execution_count": 2,
   "id": "04612575",
   "metadata": {
    "ExecuteTime": {
     "end_time": "2022-06-24T08:07:13.603568Z",
     "start_time": "2022-06-24T08:07:12.245419Z"
    }
   },
   "outputs": [],
   "source": [
    "import os\n",
    "import yaml\n",
    "import pickle\n",
    "\n",
    "from collections import Counter\n",
    "import numpy as np\n",
    "import pandas as pd\n",
    "\n",
    "from matplotlib import pyplot as plt\n",
    "from data_handlers.data_loader import DataLoader\n",
    "\n",
    "from sklearn.cluster import DBSCAN\n",
    "from collections import Counter\n",
    "from sklearn.metrics import silhouette_score\n",
    "%matplotlib inline"
   ]
  },
  {
   "cell_type": "markdown",
   "id": "ffc721c2",
   "metadata": {},
   "source": [
    "# Functions\n"
   ]
  },
  {
   "cell_type": "code",
   "execution_count": 3,
   "id": "d42c7dae",
   "metadata": {
    "ExecuteTime": {
     "end_time": "2022-06-24T08:07:13.609009Z",
     "start_time": "2022-06-24T08:07:13.604882Z"
    }
   },
   "outputs": [],
   "source": [
    "def aggregate(sequence:list, states:list, actions:list):\n",
    "    \"\"\"\n",
    "    Takes the sequence of actions with len(states) states and len(actions) actions, and creates a vector\n",
    "    with the aggregated time and n_states x n_actions features.\n",
    "    \n",
    "    Args:\n",
    "        sequence [list]: the vector containing the students action, where each list in the sequence has a 1 in \n",
    "        the first n_states entry, and a number > 0 in the last n_actions entry, and where the rest is zero\n",
    "        states [list]: states in the features\n",
    "        actions [list]: actions in the features\n",
    "    \"\"\"\n",
    "    n_states = len(states)\n",
    "    n_actions = len(actions)\n",
    "    new_sequences = {k:0 for k in states}\n",
    "    for vector in sequence:\n",
    "        index_state = np.argmax(vector[0:n_states])\n",
    "        index_action = np.argmax(vector[-n_actions:])\n",
    "        action_time = vector[n_states + index_action]\n",
    "        state = states[index_state]\n",
    "        \n",
    "        new_sequences[state] += action_time\n",
    "    return new_sequences"
   ]
  },
  {
   "cell_type": "code",
   "execution_count": 4,
   "id": "2780a9a6",
   "metadata": {
    "ExecuteTime": {
     "end_time": "2022-06-24T08:07:13.616433Z",
     "start_time": "2022-06-24T08:07:13.613201Z"
    }
   },
   "outputs": [],
   "source": [
    "def get_colour(n:int) -> str:\n",
    "    \"\"\"Returns n colours from the chosen palette\n",
    "\n",
    "    Args:\n",
    "        n (int): number of colours wanted\n",
    "\n",
    "    Returns:\n",
    "        list: n randomly chosen colours. If n > len(palette) -> some colours will be selected more than\n",
    "        once\n",
    "    \"\"\"\n",
    "    colours = [\n",
    "        '#241A7A', '#7A89F7', '#AFB9FA', '#EFF3F6', '#EF8C34',\n",
    "        '#594DD4', '#213AF2', '#A8BCC7', '#A8BCC7', '#A8BCC7', \n",
    "        '#618595', '#618595'\n",
    "    ]\n",
    "    replace_bool = n > len(colours)\n",
    "    return np.random.choice(colours, size=n, replace=replace_bool)"
   ]
  },
  {
   "cell_type": "code",
   "execution_count": 5,
   "id": "e89bc8ad",
   "metadata": {
    "ExecuteTime": {
     "end_time": "2022-06-24T08:07:13.620733Z",
     "start_time": "2022-06-24T08:07:13.617851Z"
    }
   },
   "outputs": [],
   "source": [
    "def print_distribution(demo:list, reference:list):\n",
    "    \"\"\"\n",
    "    prints the distribution of some characteristics within a cluster\n",
    "    \n",
    "    Args:\n",
    "        demo [list]: list of the characteristics for each instance in the cluster\n",
    "        reference [list]: list of the characteristics for each instance in the dataset\n",
    "    \"\"\"\n",
    "    demo_count = Counter(demo)\n",
    "    ref_count = Counter(reference)\n",
    "    for dem in demo_count:\n",
    "        print('          {}: {:.2f}% (ref:{:.2f})'.format(dem, demo_count[dem]/len(demo), ref_count[dem]/len(reference)))\n",
    "    "
   ]
  },
  {
   "cell_type": "markdown",
   "id": "f47ccaf2",
   "metadata": {},
   "source": [
    "# Data"
   ]
  },
  {
   "cell_type": "code",
   "execution_count": 6,
   "id": "459901ae",
   "metadata": {
    "ExecuteTime": {
     "end_time": "2022-06-24T08:07:13.624465Z",
     "start_time": "2022-06-24T08:07:13.622224Z"
    }
   },
   "outputs": [],
   "source": [
    "# Preparation of the stucture\n",
    "states = [\n",
    "    'greengreen',\n",
    "    'greenred',\n",
    "    'notgreennotred',\n",
    "    'noobserved'\n",
    "]\n",
    "actions = [\n",
    "    'other',\n",
    "    'concentration', \n",
    "    'width', \n",
    "    'concentrationlab',\n",
    "    'pdf',\n",
    "    'break'\n",
    "]"
   ]
  },
  {
   "cell_type": "code",
   "execution_count": 7,
   "id": "71f34bd2",
   "metadata": {
    "ExecuteTime": {
     "end_time": "2022-06-24T08:07:14.627961Z",
     "start_time": "2022-06-24T08:07:14.339578Z"
    }
   },
   "outputs": [],
   "source": [
    "# Prepation of the data\n",
    "with open('./configs/oversample_config.yaml', 'r') as f:\n",
    "    settings = yaml.load(f, Loader=yaml.FullLoader)\n",
    "    \n",
    "dl = DataLoader(settings)\n",
    "sequences, labels, demographics = dl.load_data()\n",
    "new_sequences = []\n",
    "for seq in sequences:\n",
    "    new_seq = aggregate(seq, states, actions)\n",
    "    new_sequences.append(new_seq)"
   ]
  },
  {
   "cell_type": "code",
   "execution_count": 8,
   "id": "e2405238",
   "metadata": {
    "ExecuteTime": {
     "end_time": "2022-06-24T08:07:14.637981Z",
     "start_time": "2022-06-24T08:07:14.631202Z"
    }
   },
   "outputs": [],
   "source": [
    "from sklearn.decomposition import PCA\n",
    "from mpl_toolkits.mplot3d import Axes3D\n",
    "%matplotlib notebook"
   ]
  },
  {
   "cell_type": "code",
   "execution_count": 9,
   "id": "99361fd3",
   "metadata": {
    "ExecuteTime": {
     "end_time": "2022-06-24T08:07:14.997754Z",
     "start_time": "2022-06-24T08:07:14.994276Z"
    }
   },
   "outputs": [],
   "source": [
    "def prepare_data(sequences:list, keys:list):\n",
    "    \"\"\"\n",
    "    Takes the sequences where each data point is represented by a dictionary, where the key is the name\n",
    "    of the feature, and the value is the time spent on that feature. Then, it transforms it into a list with just \n",
    "    the time spent on that feature\n",
    "    \n",
    "    Args:\n",
    "        sequences [list]: list of data points, where each data point is a dictionary.\n",
    "        keys [list]: ordered list of the features to create the new sequences\n",
    "        \n",
    "    Returns:\n",
    "        new_sequences [list] new list of features\n",
    "    \"\"\"\n",
    "    new_sequences = []\n",
    "    for seq in sequences:\n",
    "        new_sequences.append([seq[k] for k in keys])\n",
    "    return new_sequences"
   ]
  },
  {
   "cell_type": "code",
   "execution_count": 10,
   "id": "0dfe53d4",
   "metadata": {
    "ExecuteTime": {
     "end_time": "2022-06-24T08:07:16.451443Z",
     "start_time": "2022-06-24T08:07:16.448845Z"
    }
   },
   "outputs": [],
   "source": [
    "formatted_data = prepare_data(new_sequences, states)"
   ]
  },
  {
   "cell_type": "code",
   "execution_count": 11,
   "id": "f292adb1",
   "metadata": {
    "ExecuteTime": {
     "end_time": "2022-06-24T08:07:16.706710Z",
     "start_time": "2022-06-24T08:07:16.643353Z"
    }
   },
   "outputs": [
    {
     "data": {
      "application/javascript": [
       "/* Put everything inside the global mpl namespace */\n",
       "/* global mpl */\n",
       "window.mpl = {};\n",
       "\n",
       "mpl.get_websocket_type = function () {\n",
       "    if (typeof WebSocket !== 'undefined') {\n",
       "        return WebSocket;\n",
       "    } else if (typeof MozWebSocket !== 'undefined') {\n",
       "        return MozWebSocket;\n",
       "    } else {\n",
       "        alert(\n",
       "            'Your browser does not have WebSocket support. ' +\n",
       "                'Please try Chrome, Safari or Firefox ≥ 6. ' +\n",
       "                'Firefox 4 and 5 are also supported but you ' +\n",
       "                'have to enable WebSockets in about:config.'\n",
       "        );\n",
       "    }\n",
       "};\n",
       "\n",
       "mpl.figure = function (figure_id, websocket, ondownload, parent_element) {\n",
       "    this.id = figure_id;\n",
       "\n",
       "    this.ws = websocket;\n",
       "\n",
       "    this.supports_binary = this.ws.binaryType !== undefined;\n",
       "\n",
       "    if (!this.supports_binary) {\n",
       "        var warnings = document.getElementById('mpl-warnings');\n",
       "        if (warnings) {\n",
       "            warnings.style.display = 'block';\n",
       "            warnings.textContent =\n",
       "                'This browser does not support binary websocket messages. ' +\n",
       "                'Performance may be slow.';\n",
       "        }\n",
       "    }\n",
       "\n",
       "    this.imageObj = new Image();\n",
       "\n",
       "    this.context = undefined;\n",
       "    this.message = undefined;\n",
       "    this.canvas = undefined;\n",
       "    this.rubberband_canvas = undefined;\n",
       "    this.rubberband_context = undefined;\n",
       "    this.format_dropdown = undefined;\n",
       "\n",
       "    this.image_mode = 'full';\n",
       "\n",
       "    this.root = document.createElement('div');\n",
       "    this.root.setAttribute('style', 'display: inline-block');\n",
       "    this._root_extra_style(this.root);\n",
       "\n",
       "    parent_element.appendChild(this.root);\n",
       "\n",
       "    this._init_header(this);\n",
       "    this._init_canvas(this);\n",
       "    this._init_toolbar(this);\n",
       "\n",
       "    var fig = this;\n",
       "\n",
       "    this.waiting = false;\n",
       "\n",
       "    this.ws.onopen = function () {\n",
       "        fig.send_message('supports_binary', { value: fig.supports_binary });\n",
       "        fig.send_message('send_image_mode', {});\n",
       "        if (fig.ratio !== 1) {\n",
       "            fig.send_message('set_dpi_ratio', { dpi_ratio: fig.ratio });\n",
       "        }\n",
       "        fig.send_message('refresh', {});\n",
       "    };\n",
       "\n",
       "    this.imageObj.onload = function () {\n",
       "        if (fig.image_mode === 'full') {\n",
       "            // Full images could contain transparency (where diff images\n",
       "            // almost always do), so we need to clear the canvas so that\n",
       "            // there is no ghosting.\n",
       "            fig.context.clearRect(0, 0, fig.canvas.width, fig.canvas.height);\n",
       "        }\n",
       "        fig.context.drawImage(fig.imageObj, 0, 0);\n",
       "    };\n",
       "\n",
       "    this.imageObj.onunload = function () {\n",
       "        fig.ws.close();\n",
       "    };\n",
       "\n",
       "    this.ws.onmessage = this._make_on_message_function(this);\n",
       "\n",
       "    this.ondownload = ondownload;\n",
       "};\n",
       "\n",
       "mpl.figure.prototype._init_header = function () {\n",
       "    var titlebar = document.createElement('div');\n",
       "    titlebar.classList =\n",
       "        'ui-dialog-titlebar ui-widget-header ui-corner-all ui-helper-clearfix';\n",
       "    var titletext = document.createElement('div');\n",
       "    titletext.classList = 'ui-dialog-title';\n",
       "    titletext.setAttribute(\n",
       "        'style',\n",
       "        'width: 100%; text-align: center; padding: 3px;'\n",
       "    );\n",
       "    titlebar.appendChild(titletext);\n",
       "    this.root.appendChild(titlebar);\n",
       "    this.header = titletext;\n",
       "};\n",
       "\n",
       "mpl.figure.prototype._canvas_extra_style = function (_canvas_div) {};\n",
       "\n",
       "mpl.figure.prototype._root_extra_style = function (_canvas_div) {};\n",
       "\n",
       "mpl.figure.prototype._init_canvas = function () {\n",
       "    var fig = this;\n",
       "\n",
       "    var canvas_div = (this.canvas_div = document.createElement('div'));\n",
       "    canvas_div.setAttribute(\n",
       "        'style',\n",
       "        'border: 1px solid #ddd;' +\n",
       "            'box-sizing: content-box;' +\n",
       "            'clear: both;' +\n",
       "            'min-height: 1px;' +\n",
       "            'min-width: 1px;' +\n",
       "            'outline: 0;' +\n",
       "            'overflow: hidden;' +\n",
       "            'position: relative;' +\n",
       "            'resize: both;'\n",
       "    );\n",
       "\n",
       "    function on_keyboard_event_closure(name) {\n",
       "        return function (event) {\n",
       "            return fig.key_event(event, name);\n",
       "        };\n",
       "    }\n",
       "\n",
       "    canvas_div.addEventListener(\n",
       "        'keydown',\n",
       "        on_keyboard_event_closure('key_press')\n",
       "    );\n",
       "    canvas_div.addEventListener(\n",
       "        'keyup',\n",
       "        on_keyboard_event_closure('key_release')\n",
       "    );\n",
       "\n",
       "    this._canvas_extra_style(canvas_div);\n",
       "    this.root.appendChild(canvas_div);\n",
       "\n",
       "    var canvas = (this.canvas = document.createElement('canvas'));\n",
       "    canvas.classList.add('mpl-canvas');\n",
       "    canvas.setAttribute('style', 'box-sizing: content-box;');\n",
       "\n",
       "    this.context = canvas.getContext('2d');\n",
       "\n",
       "    var backingStore =\n",
       "        this.context.backingStorePixelRatio ||\n",
       "        this.context.webkitBackingStorePixelRatio ||\n",
       "        this.context.mozBackingStorePixelRatio ||\n",
       "        this.context.msBackingStorePixelRatio ||\n",
       "        this.context.oBackingStorePixelRatio ||\n",
       "        this.context.backingStorePixelRatio ||\n",
       "        1;\n",
       "\n",
       "    this.ratio = (window.devicePixelRatio || 1) / backingStore;\n",
       "\n",
       "    var rubberband_canvas = (this.rubberband_canvas = document.createElement(\n",
       "        'canvas'\n",
       "    ));\n",
       "    rubberband_canvas.setAttribute(\n",
       "        'style',\n",
       "        'box-sizing: content-box; position: absolute; left: 0; top: 0; z-index: 1;'\n",
       "    );\n",
       "\n",
       "    // Apply a ponyfill if ResizeObserver is not implemented by browser.\n",
       "    if (this.ResizeObserver === undefined) {\n",
       "        if (window.ResizeObserver !== undefined) {\n",
       "            this.ResizeObserver = window.ResizeObserver;\n",
       "        } else {\n",
       "            var obs = _JSXTOOLS_RESIZE_OBSERVER({});\n",
       "            this.ResizeObserver = obs.ResizeObserver;\n",
       "        }\n",
       "    }\n",
       "\n",
       "    this.resizeObserverInstance = new this.ResizeObserver(function (entries) {\n",
       "        var nentries = entries.length;\n",
       "        for (var i = 0; i < nentries; i++) {\n",
       "            var entry = entries[i];\n",
       "            var width, height;\n",
       "            if (entry.contentBoxSize) {\n",
       "                if (entry.contentBoxSize instanceof Array) {\n",
       "                    // Chrome 84 implements new version of spec.\n",
       "                    width = entry.contentBoxSize[0].inlineSize;\n",
       "                    height = entry.contentBoxSize[0].blockSize;\n",
       "                } else {\n",
       "                    // Firefox implements old version of spec.\n",
       "                    width = entry.contentBoxSize.inlineSize;\n",
       "                    height = entry.contentBoxSize.blockSize;\n",
       "                }\n",
       "            } else {\n",
       "                // Chrome <84 implements even older version of spec.\n",
       "                width = entry.contentRect.width;\n",
       "                height = entry.contentRect.height;\n",
       "            }\n",
       "\n",
       "            // Keep the size of the canvas and rubber band canvas in sync with\n",
       "            // the canvas container.\n",
       "            if (entry.devicePixelContentBoxSize) {\n",
       "                // Chrome 84 implements new version of spec.\n",
       "                canvas.setAttribute(\n",
       "                    'width',\n",
       "                    entry.devicePixelContentBoxSize[0].inlineSize\n",
       "                );\n",
       "                canvas.setAttribute(\n",
       "                    'height',\n",
       "                    entry.devicePixelContentBoxSize[0].blockSize\n",
       "                );\n",
       "            } else {\n",
       "                canvas.setAttribute('width', width * fig.ratio);\n",
       "                canvas.setAttribute('height', height * fig.ratio);\n",
       "            }\n",
       "            canvas.setAttribute(\n",
       "                'style',\n",
       "                'width: ' + width + 'px; height: ' + height + 'px;'\n",
       "            );\n",
       "\n",
       "            rubberband_canvas.setAttribute('width', width);\n",
       "            rubberband_canvas.setAttribute('height', height);\n",
       "\n",
       "            // And update the size in Python. We ignore the initial 0/0 size\n",
       "            // that occurs as the element is placed into the DOM, which should\n",
       "            // otherwise not happen due to the minimum size styling.\n",
       "            if (fig.ws.readyState == 1 && width != 0 && height != 0) {\n",
       "                fig.request_resize(width, height);\n",
       "            }\n",
       "        }\n",
       "    });\n",
       "    this.resizeObserverInstance.observe(canvas_div);\n",
       "\n",
       "    function on_mouse_event_closure(name) {\n",
       "        return function (event) {\n",
       "            return fig.mouse_event(event, name);\n",
       "        };\n",
       "    }\n",
       "\n",
       "    rubberband_canvas.addEventListener(\n",
       "        'mousedown',\n",
       "        on_mouse_event_closure('button_press')\n",
       "    );\n",
       "    rubberband_canvas.addEventListener(\n",
       "        'mouseup',\n",
       "        on_mouse_event_closure('button_release')\n",
       "    );\n",
       "    rubberband_canvas.addEventListener(\n",
       "        'dblclick',\n",
       "        on_mouse_event_closure('dblclick')\n",
       "    );\n",
       "    // Throttle sequential mouse events to 1 every 20ms.\n",
       "    rubberband_canvas.addEventListener(\n",
       "        'mousemove',\n",
       "        on_mouse_event_closure('motion_notify')\n",
       "    );\n",
       "\n",
       "    rubberband_canvas.addEventListener(\n",
       "        'mouseenter',\n",
       "        on_mouse_event_closure('figure_enter')\n",
       "    );\n",
       "    rubberband_canvas.addEventListener(\n",
       "        'mouseleave',\n",
       "        on_mouse_event_closure('figure_leave')\n",
       "    );\n",
       "\n",
       "    canvas_div.addEventListener('wheel', function (event) {\n",
       "        if (event.deltaY < 0) {\n",
       "            event.step = 1;\n",
       "        } else {\n",
       "            event.step = -1;\n",
       "        }\n",
       "        on_mouse_event_closure('scroll')(event);\n",
       "    });\n",
       "\n",
       "    canvas_div.appendChild(canvas);\n",
       "    canvas_div.appendChild(rubberband_canvas);\n",
       "\n",
       "    this.rubberband_context = rubberband_canvas.getContext('2d');\n",
       "    this.rubberband_context.strokeStyle = '#000000';\n",
       "\n",
       "    this._resize_canvas = function (width, height, forward) {\n",
       "        if (forward) {\n",
       "            canvas_div.style.width = width + 'px';\n",
       "            canvas_div.style.height = height + 'px';\n",
       "        }\n",
       "    };\n",
       "\n",
       "    // Disable right mouse context menu.\n",
       "    this.rubberband_canvas.addEventListener('contextmenu', function (_e) {\n",
       "        event.preventDefault();\n",
       "        return false;\n",
       "    });\n",
       "\n",
       "    function set_focus() {\n",
       "        canvas.focus();\n",
       "        canvas_div.focus();\n",
       "    }\n",
       "\n",
       "    window.setTimeout(set_focus, 100);\n",
       "};\n",
       "\n",
       "mpl.figure.prototype._init_toolbar = function () {\n",
       "    var fig = this;\n",
       "\n",
       "    var toolbar = document.createElement('div');\n",
       "    toolbar.classList = 'mpl-toolbar';\n",
       "    this.root.appendChild(toolbar);\n",
       "\n",
       "    function on_click_closure(name) {\n",
       "        return function (_event) {\n",
       "            return fig.toolbar_button_onclick(name);\n",
       "        };\n",
       "    }\n",
       "\n",
       "    function on_mouseover_closure(tooltip) {\n",
       "        return function (event) {\n",
       "            if (!event.currentTarget.disabled) {\n",
       "                return fig.toolbar_button_onmouseover(tooltip);\n",
       "            }\n",
       "        };\n",
       "    }\n",
       "\n",
       "    fig.buttons = {};\n",
       "    var buttonGroup = document.createElement('div');\n",
       "    buttonGroup.classList = 'mpl-button-group';\n",
       "    for (var toolbar_ind in mpl.toolbar_items) {\n",
       "        var name = mpl.toolbar_items[toolbar_ind][0];\n",
       "        var tooltip = mpl.toolbar_items[toolbar_ind][1];\n",
       "        var image = mpl.toolbar_items[toolbar_ind][2];\n",
       "        var method_name = mpl.toolbar_items[toolbar_ind][3];\n",
       "\n",
       "        if (!name) {\n",
       "            /* Instead of a spacer, we start a new button group. */\n",
       "            if (buttonGroup.hasChildNodes()) {\n",
       "                toolbar.appendChild(buttonGroup);\n",
       "            }\n",
       "            buttonGroup = document.createElement('div');\n",
       "            buttonGroup.classList = 'mpl-button-group';\n",
       "            continue;\n",
       "        }\n",
       "\n",
       "        var button = (fig.buttons[name] = document.createElement('button'));\n",
       "        button.classList = 'mpl-widget';\n",
       "        button.setAttribute('role', 'button');\n",
       "        button.setAttribute('aria-disabled', 'false');\n",
       "        button.addEventListener('click', on_click_closure(method_name));\n",
       "        button.addEventListener('mouseover', on_mouseover_closure(tooltip));\n",
       "\n",
       "        var icon_img = document.createElement('img');\n",
       "        icon_img.src = '_images/' + image + '.png';\n",
       "        icon_img.srcset = '_images/' + image + '_large.png 2x';\n",
       "        icon_img.alt = tooltip;\n",
       "        button.appendChild(icon_img);\n",
       "\n",
       "        buttonGroup.appendChild(button);\n",
       "    }\n",
       "\n",
       "    if (buttonGroup.hasChildNodes()) {\n",
       "        toolbar.appendChild(buttonGroup);\n",
       "    }\n",
       "\n",
       "    var fmt_picker = document.createElement('select');\n",
       "    fmt_picker.classList = 'mpl-widget';\n",
       "    toolbar.appendChild(fmt_picker);\n",
       "    this.format_dropdown = fmt_picker;\n",
       "\n",
       "    for (var ind in mpl.extensions) {\n",
       "        var fmt = mpl.extensions[ind];\n",
       "        var option = document.createElement('option');\n",
       "        option.selected = fmt === mpl.default_extension;\n",
       "        option.innerHTML = fmt;\n",
       "        fmt_picker.appendChild(option);\n",
       "    }\n",
       "\n",
       "    var status_bar = document.createElement('span');\n",
       "    status_bar.classList = 'mpl-message';\n",
       "    toolbar.appendChild(status_bar);\n",
       "    this.message = status_bar;\n",
       "};\n",
       "\n",
       "mpl.figure.prototype.request_resize = function (x_pixels, y_pixels) {\n",
       "    // Request matplotlib to resize the figure. Matplotlib will then trigger a resize in the client,\n",
       "    // which will in turn request a refresh of the image.\n",
       "    this.send_message('resize', { width: x_pixels, height: y_pixels });\n",
       "};\n",
       "\n",
       "mpl.figure.prototype.send_message = function (type, properties) {\n",
       "    properties['type'] = type;\n",
       "    properties['figure_id'] = this.id;\n",
       "    this.ws.send(JSON.stringify(properties));\n",
       "};\n",
       "\n",
       "mpl.figure.prototype.send_draw_message = function () {\n",
       "    if (!this.waiting) {\n",
       "        this.waiting = true;\n",
       "        this.ws.send(JSON.stringify({ type: 'draw', figure_id: this.id }));\n",
       "    }\n",
       "};\n",
       "\n",
       "mpl.figure.prototype.handle_save = function (fig, _msg) {\n",
       "    var format_dropdown = fig.format_dropdown;\n",
       "    var format = format_dropdown.options[format_dropdown.selectedIndex].value;\n",
       "    fig.ondownload(fig, format);\n",
       "};\n",
       "\n",
       "mpl.figure.prototype.handle_resize = function (fig, msg) {\n",
       "    var size = msg['size'];\n",
       "    if (size[0] !== fig.canvas.width || size[1] !== fig.canvas.height) {\n",
       "        fig._resize_canvas(size[0], size[1], msg['forward']);\n",
       "        fig.send_message('refresh', {});\n",
       "    }\n",
       "};\n",
       "\n",
       "mpl.figure.prototype.handle_rubberband = function (fig, msg) {\n",
       "    var x0 = msg['x0'] / fig.ratio;\n",
       "    var y0 = (fig.canvas.height - msg['y0']) / fig.ratio;\n",
       "    var x1 = msg['x1'] / fig.ratio;\n",
       "    var y1 = (fig.canvas.height - msg['y1']) / fig.ratio;\n",
       "    x0 = Math.floor(x0) + 0.5;\n",
       "    y0 = Math.floor(y0) + 0.5;\n",
       "    x1 = Math.floor(x1) + 0.5;\n",
       "    y1 = Math.floor(y1) + 0.5;\n",
       "    var min_x = Math.min(x0, x1);\n",
       "    var min_y = Math.min(y0, y1);\n",
       "    var width = Math.abs(x1 - x0);\n",
       "    var height = Math.abs(y1 - y0);\n",
       "\n",
       "    fig.rubberband_context.clearRect(\n",
       "        0,\n",
       "        0,\n",
       "        fig.canvas.width / fig.ratio,\n",
       "        fig.canvas.height / fig.ratio\n",
       "    );\n",
       "\n",
       "    fig.rubberband_context.strokeRect(min_x, min_y, width, height);\n",
       "};\n",
       "\n",
       "mpl.figure.prototype.handle_figure_label = function (fig, msg) {\n",
       "    // Updates the figure title.\n",
       "    fig.header.textContent = msg['label'];\n",
       "};\n",
       "\n",
       "mpl.figure.prototype.handle_cursor = function (fig, msg) {\n",
       "    var cursor = msg['cursor'];\n",
       "    switch (cursor) {\n",
       "        case 0:\n",
       "            cursor = 'pointer';\n",
       "            break;\n",
       "        case 1:\n",
       "            cursor = 'default';\n",
       "            break;\n",
       "        case 2:\n",
       "            cursor = 'crosshair';\n",
       "            break;\n",
       "        case 3:\n",
       "            cursor = 'move';\n",
       "            break;\n",
       "    }\n",
       "    fig.rubberband_canvas.style.cursor = cursor;\n",
       "};\n",
       "\n",
       "mpl.figure.prototype.handle_message = function (fig, msg) {\n",
       "    fig.message.textContent = msg['message'];\n",
       "};\n",
       "\n",
       "mpl.figure.prototype.handle_draw = function (fig, _msg) {\n",
       "    // Request the server to send over a new figure.\n",
       "    fig.send_draw_message();\n",
       "};\n",
       "\n",
       "mpl.figure.prototype.handle_image_mode = function (fig, msg) {\n",
       "    fig.image_mode = msg['mode'];\n",
       "};\n",
       "\n",
       "mpl.figure.prototype.handle_history_buttons = function (fig, msg) {\n",
       "    for (var key in msg) {\n",
       "        if (!(key in fig.buttons)) {\n",
       "            continue;\n",
       "        }\n",
       "        fig.buttons[key].disabled = !msg[key];\n",
       "        fig.buttons[key].setAttribute('aria-disabled', !msg[key]);\n",
       "    }\n",
       "};\n",
       "\n",
       "mpl.figure.prototype.handle_navigate_mode = function (fig, msg) {\n",
       "    if (msg['mode'] === 'PAN') {\n",
       "        fig.buttons['Pan'].classList.add('active');\n",
       "        fig.buttons['Zoom'].classList.remove('active');\n",
       "    } else if (msg['mode'] === 'ZOOM') {\n",
       "        fig.buttons['Pan'].classList.remove('active');\n",
       "        fig.buttons['Zoom'].classList.add('active');\n",
       "    } else {\n",
       "        fig.buttons['Pan'].classList.remove('active');\n",
       "        fig.buttons['Zoom'].classList.remove('active');\n",
       "    }\n",
       "};\n",
       "\n",
       "mpl.figure.prototype.updated_canvas_event = function () {\n",
       "    // Called whenever the canvas gets updated.\n",
       "    this.send_message('ack', {});\n",
       "};\n",
       "\n",
       "// A function to construct a web socket function for onmessage handling.\n",
       "// Called in the figure constructor.\n",
       "mpl.figure.prototype._make_on_message_function = function (fig) {\n",
       "    return function socket_on_message(evt) {\n",
       "        if (evt.data instanceof Blob) {\n",
       "            var img = evt.data;\n",
       "            if (img.type !== 'image/png') {\n",
       "                /* FIXME: We get \"Resource interpreted as Image but\n",
       "                 * transferred with MIME type text/plain:\" errors on\n",
       "                 * Chrome.  But how to set the MIME type?  It doesn't seem\n",
       "                 * to be part of the websocket stream */\n",
       "                img.type = 'image/png';\n",
       "            }\n",
       "\n",
       "            /* Free the memory for the previous frames */\n",
       "            if (fig.imageObj.src) {\n",
       "                (window.URL || window.webkitURL).revokeObjectURL(\n",
       "                    fig.imageObj.src\n",
       "                );\n",
       "            }\n",
       "\n",
       "            fig.imageObj.src = (window.URL || window.webkitURL).createObjectURL(\n",
       "                img\n",
       "            );\n",
       "            fig.updated_canvas_event();\n",
       "            fig.waiting = false;\n",
       "            return;\n",
       "        } else if (\n",
       "            typeof evt.data === 'string' &&\n",
       "            evt.data.slice(0, 21) === 'data:image/png;base64'\n",
       "        ) {\n",
       "            fig.imageObj.src = evt.data;\n",
       "            fig.updated_canvas_event();\n",
       "            fig.waiting = false;\n",
       "            return;\n",
       "        }\n",
       "\n",
       "        var msg = JSON.parse(evt.data);\n",
       "        var msg_type = msg['type'];\n",
       "\n",
       "        // Call the  \"handle_{type}\" callback, which takes\n",
       "        // the figure and JSON message as its only arguments.\n",
       "        try {\n",
       "            var callback = fig['handle_' + msg_type];\n",
       "        } catch (e) {\n",
       "            console.log(\n",
       "                \"No handler for the '\" + msg_type + \"' message type: \",\n",
       "                msg\n",
       "            );\n",
       "            return;\n",
       "        }\n",
       "\n",
       "        if (callback) {\n",
       "            try {\n",
       "                // console.log(\"Handling '\" + msg_type + \"' message: \", msg);\n",
       "                callback(fig, msg);\n",
       "            } catch (e) {\n",
       "                console.log(\n",
       "                    \"Exception inside the 'handler_\" + msg_type + \"' callback:\",\n",
       "                    e,\n",
       "                    e.stack,\n",
       "                    msg\n",
       "                );\n",
       "            }\n",
       "        }\n",
       "    };\n",
       "};\n",
       "\n",
       "// from http://stackoverflow.com/questions/1114465/getting-mouse-location-in-canvas\n",
       "mpl.findpos = function (e) {\n",
       "    //this section is from http://www.quirksmode.org/js/events_properties.html\n",
       "    var targ;\n",
       "    if (!e) {\n",
       "        e = window.event;\n",
       "    }\n",
       "    if (e.target) {\n",
       "        targ = e.target;\n",
       "    } else if (e.srcElement) {\n",
       "        targ = e.srcElement;\n",
       "    }\n",
       "    if (targ.nodeType === 3) {\n",
       "        // defeat Safari bug\n",
       "        targ = targ.parentNode;\n",
       "    }\n",
       "\n",
       "    // pageX,Y are the mouse positions relative to the document\n",
       "    var boundingRect = targ.getBoundingClientRect();\n",
       "    var x = e.pageX - (boundingRect.left + document.body.scrollLeft);\n",
       "    var y = e.pageY - (boundingRect.top + document.body.scrollTop);\n",
       "\n",
       "    return { x: x, y: y };\n",
       "};\n",
       "\n",
       "/*\n",
       " * return a copy of an object with only non-object keys\n",
       " * we need this to avoid circular references\n",
       " * http://stackoverflow.com/a/24161582/3208463\n",
       " */\n",
       "function simpleKeys(original) {\n",
       "    return Object.keys(original).reduce(function (obj, key) {\n",
       "        if (typeof original[key] !== 'object') {\n",
       "            obj[key] = original[key];\n",
       "        }\n",
       "        return obj;\n",
       "    }, {});\n",
       "}\n",
       "\n",
       "mpl.figure.prototype.mouse_event = function (event, name) {\n",
       "    var canvas_pos = mpl.findpos(event);\n",
       "\n",
       "    if (name === 'button_press') {\n",
       "        this.canvas.focus();\n",
       "        this.canvas_div.focus();\n",
       "    }\n",
       "\n",
       "    var x = canvas_pos.x * this.ratio;\n",
       "    var y = canvas_pos.y * this.ratio;\n",
       "\n",
       "    this.send_message(name, {\n",
       "        x: x,\n",
       "        y: y,\n",
       "        button: event.button,\n",
       "        step: event.step,\n",
       "        guiEvent: simpleKeys(event),\n",
       "    });\n",
       "\n",
       "    /* This prevents the web browser from automatically changing to\n",
       "     * the text insertion cursor when the button is pressed.  We want\n",
       "     * to control all of the cursor setting manually through the\n",
       "     * 'cursor' event from matplotlib */\n",
       "    event.preventDefault();\n",
       "    return false;\n",
       "};\n",
       "\n",
       "mpl.figure.prototype._key_event_extra = function (_event, _name) {\n",
       "    // Handle any extra behaviour associated with a key event\n",
       "};\n",
       "\n",
       "mpl.figure.prototype.key_event = function (event, name) {\n",
       "    // Prevent repeat events\n",
       "    if (name === 'key_press') {\n",
       "        if (event.key === this._key) {\n",
       "            return;\n",
       "        } else {\n",
       "            this._key = event.key;\n",
       "        }\n",
       "    }\n",
       "    if (name === 'key_release') {\n",
       "        this._key = null;\n",
       "    }\n",
       "\n",
       "    var value = '';\n",
       "    if (event.ctrlKey && event.key !== 'Control') {\n",
       "        value += 'ctrl+';\n",
       "    }\n",
       "    else if (event.altKey && event.key !== 'Alt') {\n",
       "        value += 'alt+';\n",
       "    }\n",
       "    else if (event.shiftKey && event.key !== 'Shift') {\n",
       "        value += 'shift+';\n",
       "    }\n",
       "\n",
       "    value += 'k' + event.key;\n",
       "\n",
       "    this._key_event_extra(event, name);\n",
       "\n",
       "    this.send_message(name, { key: value, guiEvent: simpleKeys(event) });\n",
       "    return false;\n",
       "};\n",
       "\n",
       "mpl.figure.prototype.toolbar_button_onclick = function (name) {\n",
       "    if (name === 'download') {\n",
       "        this.handle_save(this, null);\n",
       "    } else {\n",
       "        this.send_message('toolbar_button', { name: name });\n",
       "    }\n",
       "};\n",
       "\n",
       "mpl.figure.prototype.toolbar_button_onmouseover = function (tooltip) {\n",
       "    this.message.textContent = tooltip;\n",
       "};\n",
       "\n",
       "///////////////// REMAINING CONTENT GENERATED BY embed_js.py /////////////////\n",
       "// prettier-ignore\n",
       "var _JSXTOOLS_RESIZE_OBSERVER=function(A){var t,i=new WeakMap,n=new WeakMap,a=new WeakMap,r=new WeakMap,o=new Set;function s(e){if(!(this instanceof s))throw new TypeError(\"Constructor requires 'new' operator\");i.set(this,e)}function h(){throw new TypeError(\"Function is not a constructor\")}function c(e,t,i,n){e=0 in arguments?Number(arguments[0]):0,t=1 in arguments?Number(arguments[1]):0,i=2 in arguments?Number(arguments[2]):0,n=3 in arguments?Number(arguments[3]):0,this.right=(this.x=this.left=e)+(this.width=i),this.bottom=(this.y=this.top=t)+(this.height=n),Object.freeze(this)}function d(){t=requestAnimationFrame(d);var s=new WeakMap,p=new Set;o.forEach((function(t){r.get(t).forEach((function(i){var r=t instanceof window.SVGElement,o=a.get(t),d=r?0:parseFloat(o.paddingTop),f=r?0:parseFloat(o.paddingRight),l=r?0:parseFloat(o.paddingBottom),u=r?0:parseFloat(o.paddingLeft),g=r?0:parseFloat(o.borderTopWidth),m=r?0:parseFloat(o.borderRightWidth),w=r?0:parseFloat(o.borderBottomWidth),b=u+f,F=d+l,v=(r?0:parseFloat(o.borderLeftWidth))+m,W=g+w,y=r?0:t.offsetHeight-W-t.clientHeight,E=r?0:t.offsetWidth-v-t.clientWidth,R=b+v,z=F+W,M=r?t.width:parseFloat(o.width)-R-E,O=r?t.height:parseFloat(o.height)-z-y;if(n.has(t)){var k=n.get(t);if(k[0]===M&&k[1]===O)return}n.set(t,[M,O]);var S=Object.create(h.prototype);S.target=t,S.contentRect=new c(u,d,M,O),s.has(i)||(s.set(i,[]),p.add(i)),s.get(i).push(S)}))})),p.forEach((function(e){i.get(e).call(e,s.get(e),e)}))}return s.prototype.observe=function(i){if(i instanceof window.Element){r.has(i)||(r.set(i,new Set),o.add(i),a.set(i,window.getComputedStyle(i)));var n=r.get(i);n.has(this)||n.add(this),cancelAnimationFrame(t),t=requestAnimationFrame(d)}},s.prototype.unobserve=function(i){if(i instanceof window.Element&&r.has(i)){var n=r.get(i);n.has(this)&&(n.delete(this),n.size||(r.delete(i),o.delete(i))),n.size||r.delete(i),o.size||cancelAnimationFrame(t)}},A.DOMRectReadOnly=c,A.ResizeObserver=s,A.ResizeObserverEntry=h,A}; // eslint-disable-line\n",
       "mpl.toolbar_items = [[\"Home\", \"Reset original view\", \"fa fa-home icon-home\", \"home\"], [\"Back\", \"Back to previous view\", \"fa fa-arrow-left icon-arrow-left\", \"back\"], [\"Forward\", \"Forward to next view\", \"fa fa-arrow-right icon-arrow-right\", \"forward\"], [\"\", \"\", \"\", \"\"], [\"Pan\", \"Left button pans, Right button zooms\\nx/y fixes axis, CTRL fixes aspect\", \"fa fa-arrows icon-move\", \"pan\"], [\"Zoom\", \"Zoom to rectangle\\nx/y fixes axis, CTRL fixes aspect\", \"fa fa-square-o icon-check-empty\", \"zoom\"], [\"\", \"\", \"\", \"\"], [\"Download\", \"Download plot\", \"fa fa-floppy-o icon-save\", \"download\"]];\n",
       "\n",
       "mpl.extensions = [\"eps\", \"jpeg\", \"pgf\", \"pdf\", \"png\", \"ps\", \"raw\", \"svg\", \"tif\"];\n",
       "\n",
       "mpl.default_extension = \"png\";/* global mpl */\n",
       "\n",
       "var comm_websocket_adapter = function (comm) {\n",
       "    // Create a \"websocket\"-like object which calls the given IPython comm\n",
       "    // object with the appropriate methods. Currently this is a non binary\n",
       "    // socket, so there is still some room for performance tuning.\n",
       "    var ws = {};\n",
       "\n",
       "    ws.binaryType = comm.kernel.ws.binaryType;\n",
       "    ws.readyState = comm.kernel.ws.readyState;\n",
       "    function updateReadyState(_event) {\n",
       "        if (comm.kernel.ws) {\n",
       "            ws.readyState = comm.kernel.ws.readyState;\n",
       "        } else {\n",
       "            ws.readyState = 3; // Closed state.\n",
       "        }\n",
       "    }\n",
       "    comm.kernel.ws.addEventListener('open', updateReadyState);\n",
       "    comm.kernel.ws.addEventListener('close', updateReadyState);\n",
       "    comm.kernel.ws.addEventListener('error', updateReadyState);\n",
       "\n",
       "    ws.close = function () {\n",
       "        comm.close();\n",
       "    };\n",
       "    ws.send = function (m) {\n",
       "        //console.log('sending', m);\n",
       "        comm.send(m);\n",
       "    };\n",
       "    // Register the callback with on_msg.\n",
       "    comm.on_msg(function (msg) {\n",
       "        //console.log('receiving', msg['content']['data'], msg);\n",
       "        var data = msg['content']['data'];\n",
       "        if (data['blob'] !== undefined) {\n",
       "            data = {\n",
       "                data: new Blob(msg['buffers'], { type: data['blob'] }),\n",
       "            };\n",
       "        }\n",
       "        // Pass the mpl event to the overridden (by mpl) onmessage function.\n",
       "        ws.onmessage(data);\n",
       "    });\n",
       "    return ws;\n",
       "};\n",
       "\n",
       "mpl.mpl_figure_comm = function (comm, msg) {\n",
       "    // This is the function which gets called when the mpl process\n",
       "    // starts-up an IPython Comm through the \"matplotlib\" channel.\n",
       "\n",
       "    var id = msg.content.data.id;\n",
       "    // Get hold of the div created by the display call when the Comm\n",
       "    // socket was opened in Python.\n",
       "    var element = document.getElementById(id);\n",
       "    var ws_proxy = comm_websocket_adapter(comm);\n",
       "\n",
       "    function ondownload(figure, _format) {\n",
       "        window.open(figure.canvas.toDataURL());\n",
       "    }\n",
       "\n",
       "    var fig = new mpl.figure(id, ws_proxy, ondownload, element);\n",
       "\n",
       "    // Call onopen now - mpl needs it, as it is assuming we've passed it a real\n",
       "    // web socket which is closed, not our websocket->open comm proxy.\n",
       "    ws_proxy.onopen();\n",
       "\n",
       "    fig.parent_element = element;\n",
       "    fig.cell_info = mpl.find_output_cell(\"<div id='\" + id + \"'></div>\");\n",
       "    if (!fig.cell_info) {\n",
       "        console.error('Failed to find cell for figure', id, fig);\n",
       "        return;\n",
       "    }\n",
       "    fig.cell_info[0].output_area.element.on(\n",
       "        'cleared',\n",
       "        { fig: fig },\n",
       "        fig._remove_fig_handler\n",
       "    );\n",
       "};\n",
       "\n",
       "mpl.figure.prototype.handle_close = function (fig, msg) {\n",
       "    var width = fig.canvas.width / fig.ratio;\n",
       "    fig.cell_info[0].output_area.element.off(\n",
       "        'cleared',\n",
       "        fig._remove_fig_handler\n",
       "    );\n",
       "    fig.resizeObserverInstance.unobserve(fig.canvas_div);\n",
       "\n",
       "    // Update the output cell to use the data from the current canvas.\n",
       "    fig.push_to_output();\n",
       "    var dataURL = fig.canvas.toDataURL();\n",
       "    // Re-enable the keyboard manager in IPython - without this line, in FF,\n",
       "    // the notebook keyboard shortcuts fail.\n",
       "    IPython.keyboard_manager.enable();\n",
       "    fig.parent_element.innerHTML =\n",
       "        '<img src=\"' + dataURL + '\" width=\"' + width + '\">';\n",
       "    fig.close_ws(fig, msg);\n",
       "};\n",
       "\n",
       "mpl.figure.prototype.close_ws = function (fig, msg) {\n",
       "    fig.send_message('closing', msg);\n",
       "    // fig.ws.close()\n",
       "};\n",
       "\n",
       "mpl.figure.prototype.push_to_output = function (_remove_interactive) {\n",
       "    // Turn the data on the canvas into data in the output cell.\n",
       "    var width = this.canvas.width / this.ratio;\n",
       "    var dataURL = this.canvas.toDataURL();\n",
       "    this.cell_info[1]['text/html'] =\n",
       "        '<img src=\"' + dataURL + '\" width=\"' + width + '\">';\n",
       "};\n",
       "\n",
       "mpl.figure.prototype.updated_canvas_event = function () {\n",
       "    // Tell IPython that the notebook contents must change.\n",
       "    IPython.notebook.set_dirty(true);\n",
       "    this.send_message('ack', {});\n",
       "    var fig = this;\n",
       "    // Wait a second, then push the new image to the DOM so\n",
       "    // that it is saved nicely (might be nice to debounce this).\n",
       "    setTimeout(function () {\n",
       "        fig.push_to_output();\n",
       "    }, 1000);\n",
       "};\n",
       "\n",
       "mpl.figure.prototype._init_toolbar = function () {\n",
       "    var fig = this;\n",
       "\n",
       "    var toolbar = document.createElement('div');\n",
       "    toolbar.classList = 'btn-toolbar';\n",
       "    this.root.appendChild(toolbar);\n",
       "\n",
       "    function on_click_closure(name) {\n",
       "        return function (_event) {\n",
       "            return fig.toolbar_button_onclick(name);\n",
       "        };\n",
       "    }\n",
       "\n",
       "    function on_mouseover_closure(tooltip) {\n",
       "        return function (event) {\n",
       "            if (!event.currentTarget.disabled) {\n",
       "                return fig.toolbar_button_onmouseover(tooltip);\n",
       "            }\n",
       "        };\n",
       "    }\n",
       "\n",
       "    fig.buttons = {};\n",
       "    var buttonGroup = document.createElement('div');\n",
       "    buttonGroup.classList = 'btn-group';\n",
       "    var button;\n",
       "    for (var toolbar_ind in mpl.toolbar_items) {\n",
       "        var name = mpl.toolbar_items[toolbar_ind][0];\n",
       "        var tooltip = mpl.toolbar_items[toolbar_ind][1];\n",
       "        var image = mpl.toolbar_items[toolbar_ind][2];\n",
       "        var method_name = mpl.toolbar_items[toolbar_ind][3];\n",
       "\n",
       "        if (!name) {\n",
       "            /* Instead of a spacer, we start a new button group. */\n",
       "            if (buttonGroup.hasChildNodes()) {\n",
       "                toolbar.appendChild(buttonGroup);\n",
       "            }\n",
       "            buttonGroup = document.createElement('div');\n",
       "            buttonGroup.classList = 'btn-group';\n",
       "            continue;\n",
       "        }\n",
       "\n",
       "        button = fig.buttons[name] = document.createElement('button');\n",
       "        button.classList = 'btn btn-default';\n",
       "        button.href = '#';\n",
       "        button.title = name;\n",
       "        button.innerHTML = '<i class=\"fa ' + image + ' fa-lg\"></i>';\n",
       "        button.addEventListener('click', on_click_closure(method_name));\n",
       "        button.addEventListener('mouseover', on_mouseover_closure(tooltip));\n",
       "        buttonGroup.appendChild(button);\n",
       "    }\n",
       "\n",
       "    if (buttonGroup.hasChildNodes()) {\n",
       "        toolbar.appendChild(buttonGroup);\n",
       "    }\n",
       "\n",
       "    // Add the status bar.\n",
       "    var status_bar = document.createElement('span');\n",
       "    status_bar.classList = 'mpl-message pull-right';\n",
       "    toolbar.appendChild(status_bar);\n",
       "    this.message = status_bar;\n",
       "\n",
       "    // Add the close button to the window.\n",
       "    var buttongrp = document.createElement('div');\n",
       "    buttongrp.classList = 'btn-group inline pull-right';\n",
       "    button = document.createElement('button');\n",
       "    button.classList = 'btn btn-mini btn-primary';\n",
       "    button.href = '#';\n",
       "    button.title = 'Stop Interaction';\n",
       "    button.innerHTML = '<i class=\"fa fa-power-off icon-remove icon-large\"></i>';\n",
       "    button.addEventListener('click', function (_evt) {\n",
       "        fig.handle_close(fig, {});\n",
       "    });\n",
       "    button.addEventListener(\n",
       "        'mouseover',\n",
       "        on_mouseover_closure('Stop Interaction')\n",
       "    );\n",
       "    buttongrp.appendChild(button);\n",
       "    var titlebar = this.root.querySelector('.ui-dialog-titlebar');\n",
       "    titlebar.insertBefore(buttongrp, titlebar.firstChild);\n",
       "};\n",
       "\n",
       "mpl.figure.prototype._remove_fig_handler = function (event) {\n",
       "    var fig = event.data.fig;\n",
       "    if (event.target !== this) {\n",
       "        // Ignore bubbled events from children.\n",
       "        return;\n",
       "    }\n",
       "    fig.close_ws(fig, {});\n",
       "};\n",
       "\n",
       "mpl.figure.prototype._root_extra_style = function (el) {\n",
       "    el.style.boxSizing = 'content-box'; // override notebook setting of border-box.\n",
       "};\n",
       "\n",
       "mpl.figure.prototype._canvas_extra_style = function (el) {\n",
       "    // this is important to make the div 'focusable\n",
       "    el.setAttribute('tabindex', 0);\n",
       "    // reach out to IPython and tell the keyboard manager to turn it's self\n",
       "    // off when our div gets focus\n",
       "\n",
       "    // location in version 3\n",
       "    if (IPython.notebook.keyboard_manager) {\n",
       "        IPython.notebook.keyboard_manager.register_events(el);\n",
       "    } else {\n",
       "        // location in version 2\n",
       "        IPython.keyboard_manager.register_events(el);\n",
       "    }\n",
       "};\n",
       "\n",
       "mpl.figure.prototype._key_event_extra = function (event, _name) {\n",
       "    var manager = IPython.notebook.keyboard_manager;\n",
       "    if (!manager) {\n",
       "        manager = IPython.keyboard_manager;\n",
       "    }\n",
       "\n",
       "    // Check for shift+enter\n",
       "    if (event.shiftKey && event.which === 13) {\n",
       "        this.canvas_div.blur();\n",
       "        // select the cell after this one\n",
       "        var index = IPython.notebook.find_cell_index(this.cell_info[0]);\n",
       "        IPython.notebook.select(index + 1);\n",
       "    }\n",
       "};\n",
       "\n",
       "mpl.figure.prototype.handle_save = function (fig, _msg) {\n",
       "    fig.ondownload(fig, null);\n",
       "};\n",
       "\n",
       "mpl.find_output_cell = function (html_output) {\n",
       "    // Return the cell and output element which can be found *uniquely* in the notebook.\n",
       "    // Note - this is a bit hacky, but it is done because the \"notebook_saving.Notebook\"\n",
       "    // IPython event is triggered only after the cells have been serialised, which for\n",
       "    // our purposes (turning an active figure into a static one), is too late.\n",
       "    var cells = IPython.notebook.get_cells();\n",
       "    var ncells = cells.length;\n",
       "    for (var i = 0; i < ncells; i++) {\n",
       "        var cell = cells[i];\n",
       "        if (cell.cell_type === 'code') {\n",
       "            for (var j = 0; j < cell.output_area.outputs.length; j++) {\n",
       "                var data = cell.output_area.outputs[j];\n",
       "                if (data.data) {\n",
       "                    // IPython >= 3 moved mimebundle to data attribute of output\n",
       "                    data = data.data;\n",
       "                }\n",
       "                if (data['text/html'] === html_output) {\n",
       "                    return [cell, data, j];\n",
       "                }\n",
       "            }\n",
       "        }\n",
       "    }\n",
       "};\n",
       "\n",
       "// Register the function which deals with the matplotlib target/channel.\n",
       "// The kernel may be null if the page has been refreshed.\n",
       "if (IPython.notebook.kernel !== null) {\n",
       "    IPython.notebook.kernel.comm_manager.register_target(\n",
       "        'matplotlib',\n",
       "        mpl.mpl_figure_comm\n",
       "    );\n",
       "}\n"
      ],
      "text/plain": [
       "<IPython.core.display.Javascript object>"
      ]
     },
     "metadata": {},
     "output_type": "display_data"
    },
    {
     "data": {
      "text/html": [
       "<img src=\"data:image/png;base64,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\" width=\"431\">"
      ],
      "text/plain": [
       "<IPython.core.display.HTML object>"
      ]
     },
     "metadata": {},
     "output_type": "display_data"
    }
   ],
   "source": [
    "colours = get_colour(4)\n",
    "for i, c in enumerate(colours):\n",
    "    plt.hist([seq[i] for seq in formatted_data], color=c, alpha=0.3, label=states[i])\n",
    "plt.legend()\n",
    "plt.show()"
   ]
  },
  {
   "cell_type": "markdown",
   "id": "8bcf542f",
   "metadata": {},
   "source": [
    "## Clustering"
   ]
  },
  {
   "cell_type": "code",
   "execution_count": 12,
   "id": "e4e5b543",
   "metadata": {
    "ExecuteTime": {
     "end_time": "2022-06-24T08:07:17.116196Z",
     "start_time": "2022-06-24T08:07:17.112001Z"
    }
   },
   "outputs": [],
   "source": [
    "%matplotlib inline"
   ]
  },
  {
   "cell_type": "code",
   "execution_count": 13,
   "id": "2a7d1ca3",
   "metadata": {
    "ExecuteTime": {
     "end_time": "2022-06-24T08:07:26.509118Z",
     "start_time": "2022-06-24T08:07:21.093651Z"
    },
    "scrolled": true
   },
   "outputs": [
    {
     "name": "stdout",
     "output_type": "stream",
     "text": [
      "**************************************************\n",
      "maximum distance to be a neighbour: 0.5\n",
      "minimum number of samples in a cluster: 3.0\n",
      "    Silhouette score including noisy samples: -0.27487503628635307\n",
      "    Silhouette score not including noisy samples: 0.7355559216190504\n"
     ]
    },
    {
     "data": {
      "image/png": "[encoded data removed]",
      "text/plain": [
       "<Figure size 432x288 with 1 Axes>"
      ]
     },
     "metadata": {
      "needs_background": "light"
     },
     "output_type": "display_data"
    },
    {
     "name": "stdout",
     "output_type": "stream",
     "text": [
      "**************************************************\n",
      "maximum distance to be a neighbour: 0.5\n",
      "minimum number of samples in a cluster: 7.0\n",
      "    Silhouette score including noisy samples: -0.07967525399141846\n",
      "    Silhouette score not including noisy samples: 0.7283539014402327\n"
     ]
    },
    {
     "data": {
      "image/png": "[encoded data removed]",
      "text/plain": [
       "<Figure size 432x288 with 1 Axes>"
      ]
     },
     "metadata": {
      "needs_background": "light"
     },
     "output_type": "display_data"
    },
    {
     "name": "stdout",
     "output_type": "stream",
     "text": [
      "**************************************************\n",
      "maximum distance to be a neighbour: 0.5\n",
      "minimum number of samples in a cluster: 2.0\n",
      "    Silhouette score including noisy samples: -0.2585857327282189\n",
      "    Silhouette score not including noisy samples: 0.7152040171883819\n"
     ]
    },
    {
     "data": {
      "image/png": "[encoded data removed]",
      "text/plain": [
       "<Figure size 432x288 with 1 Axes>"
      ]
     },
     "metadata": {
      "needs_background": "light"
     },
     "output_type": "display_data"
    },
    {
     "name": "stdout",
     "output_type": "stream",
     "text": [
      "**************************************************\n",
      "maximum distance to be a neighbour: 0.5\n",
      "minimum number of samples in a cluster: 4.0\n",
      "    Silhouette score including noisy samples: -0.04459759915159541\n",
      "    Silhouette score not including noisy samples: 0.7080953586000027\n"
     ]
    },
    {
     "data": {
      "image/png": "[encoded data removed]",
      "text/plain": [
       "<Figure size 432x288 with 1 Axes>"
      ]
     },
     "metadata": {
      "needs_background": "light"
     },
     "output_type": "display_data"
    },
    {
     "name": "stdout",
     "output_type": "stream",
     "text": [
      "**************************************************\n",
      "maximum distance to be a neighbour: 0.5\n",
      "minimum number of samples in a cluster: 5.0\n",
      "    Silhouette score including noisy samples: -0.0694265918600786\n",
      "    Silhouette score not including noisy samples: 0.6980736246501117\n"
     ]
    },
    {
     "data": {
      "image/png": "[encoded data removed]",
      "text/plain": [
       "<Figure size 432x288 with 1 Axes>"
      ]
     },
     "metadata": {
      "needs_background": "light"
     },
     "output_type": "display_data"
    },
    {
     "name": "stdout",
     "output_type": "stream",
     "text": [
      "**************************************************\n",
      "maximum distance to be a neighbour: 0.5\n",
      "minimum number of samples in a cluster: 6.0\n",
      "    Silhouette score including noisy samples: -0.0694265918600786\n",
      "    Silhouette score not including noisy samples: 0.6980736246501117\n"
     ]
    },
    {
     "data": {
      "image/png": "[encoded data removed]",
      "text/plain": [
       "<Figure size 432x288 with 1 Axes>"
      ]
     },
     "metadata": {
      "needs_background": "light"
     },
     "output_type": "display_data"
    },
    {
     "name": "stdout",
     "output_type": "stream",
     "text": [
      "**************************************************\n",
      "maximum distance to be a neighbour: 1.5\n",
      "minimum number of samples in a cluster: 7.0\n",
      "    Silhouette score including noisy samples: -0.031743838713001286\n",
      "    Silhouette score not including noisy samples: 0.5940527505383139\n"
     ]
    },
    {
     "data": {
      "image/png": "[encoded data removed]",
      "text/plain": [
       "<Figure size 432x288 with 1 Axes>"
      ]
     },
     "metadata": {
      "needs_background": "light"
     },
     "output_type": "display_data"
    },
    {
     "name": "stdout",
     "output_type": "stream",
     "text": [
      "**************************************************\n",
      "maximum distance to be a neighbour: 5.0\n",
      "minimum number of samples in a cluster: 2.0\n",
      "    Silhouette score including noisy samples: 0.4124586777854414\n",
      "    Silhouette score not including noisy samples: 0.5603713237189695\n"
     ]
    },
    {
     "data": {
      "image/png": "[encoded data removed]",
      "text/plain": [
       "<Figure size 432x288 with 1 Axes>"
      ]
     },
     "metadata": {
      "needs_background": "light"
     },
     "output_type": "display_data"
    },
    {
     "name": "stdout",
     "output_type": "stream",
     "text": [
      "**************************************************\n",
      "maximum distance to be a neighbour: 5.0\n",
      "minimum number of samples in a cluster: 3.0\n",
      "    Silhouette score including noisy samples: 0.4124586777854414\n",
      "    Silhouette score not including noisy samples: 0.5603713237189695\n"
     ]
    },
    {
     "data": {
      "image/png": "[encoded data removed]",
      "text/plain": [
       "<Figure size 432x288 with 1 Axes>"
      ]
     },
     "metadata": {
      "needs_background": "light"
     },
     "output_type": "display_data"
    },
    {
     "name": "stdout",
     "output_type": "stream",
     "text": [
      "**************************************************\n",
      "maximum distance to be a neighbour: 1.0\n",
      "minimum number of samples in a cluster: 6.0\n",
      "    Silhouette score including noisy samples: -0.19484357944559577\n",
      "    Silhouette score not including noisy samples: 0.5268829774440632\n"
     ]
    },
    {
     "data": {
      "image/png": "[encoded data removed]",
      "text/plain": [
       "<Figure size 432x288 with 1 Axes>"
      ]
     },
     "metadata": {
      "needs_background": "light"
     },
     "output_type": "display_data"
    },
    {
     "name": "stdout",
     "output_type": "stream",
     "text": [
      "**************************************************\n",
      "maximum distance to be a neighbour: 1.0\n",
      "minimum number of samples in a cluster: 5.0\n",
      "    Silhouette score including noisy samples: -0.18298150532499832\n",
      "    Silhouette score not including noisy samples: 0.5217816698958618\n"
     ]
    },
    {
     "data": {
      "image/png": "[encoded data removed]",
      "text/plain": [
       "<Figure size 432x288 with 1 Axes>"
      ]
     },
     "metadata": {
      "needs_background": "light"
     },
     "output_type": "display_data"
    },
    {
     "name": "stdout",
     "output_type": "stream",
     "text": [
      "**************************************************\n",
      "maximum distance to be a neighbour: 2.0\n",
      "minimum number of samples in a cluster: 9.0\n",
      "    Silhouette score including noisy samples: 0.07373963154894571\n",
      "    Silhouette score not including noisy samples: 0.5111752776015293\n"
     ]
    },
    {
     "data": {
      "image/png": "[encoded data removed]",
      "text/plain": [
       "<Figure size 432x288 with 1 Axes>"
      ]
     },
     "metadata": {
      "needs_background": "light"
     },
     "output_type": "display_data"
    },
    {
     "name": "stdout",
     "output_type": "stream",
     "text": [
      "**************************************************\n",
      "maximum distance to be a neighbour: 1.5\n",
      "minimum number of samples in a cluster: 9.0\n",
      "    Silhouette score including noisy samples: -0.12769202241556407\n",
      "    Silhouette score not including noisy samples: 0.5073129162387486\n"
     ]
    },
    {
     "data": {
      "image/png": "[encoded data removed]",
      "text/plain": [
       "<Figure size 432x288 with 1 Axes>"
      ]
     },
     "metadata": {
      "needs_background": "light"
     },
     "output_type": "display_data"
    },
    {
     "name": "stdout",
     "output_type": "stream",
     "text": [
      "**************************************************\n",
      "maximum distance to be a neighbour: 1.0\n",
      "minimum number of samples in a cluster: 4.0\n",
      "    Silhouette score including noisy samples: -0.1671425458523078\n",
      "    Silhouette score not including noisy samples: 0.5023545854827625\n"
     ]
    },
    {
     "data": {
      "image/png": "[encoded data removed]",
      "text/plain": [
       "<Figure size 432x288 with 1 Axes>"
      ]
     },
     "metadata": {
      "needs_background": "light"
     },
     "output_type": "display_data"
    },
    {
     "name": "stdout",
     "output_type": "stream",
     "text": [
      "**************************************************\n",
      "maximum distance to be a neighbour: 1.5\n",
      "minimum number of samples in a cluster: 8.0\n",
      "    Silhouette score including noisy samples: -0.10936890549962232\n",
      "    Silhouette score not including noisy samples: 0.47309427572051477\n"
     ]
    },
    {
     "data": {
      "image/png": "[encoded data removed]",
      "text/plain": [
       "<Figure size 432x288 with 1 Axes>"
      ]
     },
     "metadata": {
      "needs_background": "light"
     },
     "output_type": "display_data"
    },
    {
     "name": "stdout",
     "output_type": "stream",
     "text": [
      "**************************************************\n",
      "maximum distance to be a neighbour: 5.5\n",
      "minimum number of samples in a cluster: 2.0\n",
      "    Silhouette score including noisy samples: 0.37110635847516593\n",
      "    Silhouette score not including noisy samples: 0.46080759310651165\n"
     ]
    },
    {
     "data": {
      "image/png": "[encoded data removed]",
      "text/plain": [
       "<Figure size 432x288 with 1 Axes>"
      ]
     },
     "metadata": {
      "needs_background": "light"
     },
     "output_type": "display_data"
    },
    {
     "name": "stdout",
     "output_type": "stream",
     "text": [
      "**************************************************\n",
      "maximum distance to be a neighbour: 6.0\n",
      "minimum number of samples in a cluster: 2.0\n",
      "    Silhouette score including noisy samples: 0.3738385204668133\n",
      "    Silhouette score not including noisy samples: 0.45690296963816845\n"
     ]
    },
    {
     "data": {
      "image/png": "[encoded data removed]",
      "text/plain": [
       "<Figure size 432x288 with 1 Axes>"
      ]
     },
     "metadata": {
      "needs_background": "light"
     },
     "output_type": "display_data"
    },
    {
     "name": "stdout",
     "output_type": "stream",
     "text": [
      "**************************************************\n",
      "maximum distance to be a neighbour: 1.0\n",
      "minimum number of samples in a cluster: 2.0\n",
      "    Silhouette score including noisy samples: -0.16528183723034268\n",
      "    Silhouette score not including noisy samples: 0.443470157405658\n"
     ]
    },
    {
     "data": {
      "image/png": "[encoded data removed]",
      "text/plain": [
       "<Figure size 432x288 with 1 Axes>"
      ]
     },
     "metadata": {
      "needs_background": "light"
     },
     "output_type": "display_data"
    },
    {
     "name": "stdout",
     "output_type": "stream",
     "text": [
      "**************************************************\n",
      "maximum distance to be a neighbour: 1.0\n",
      "minimum number of samples in a cluster: 3.0\n",
      "    Silhouette score including noisy samples: -0.17360286189310614\n",
      "    Silhouette score not including noisy samples: 0.42993095156832073\n"
     ]
    },
    {
     "data": {
      "image/png": "[encoded data removed]",
      "text/plain": [
       "<Figure size 432x288 with 1 Axes>"
      ]
     },
     "metadata": {
      "needs_background": "light"
     },
     "output_type": "display_data"
    },
    {
     "name": "stdout",
     "output_type": "stream",
     "text": [
      "**************************************************\n",
      "maximum distance to be a neighbour: 3.5\n",
      "minimum number of samples in a cluster: 4.0\n",
      "    Silhouette score including noisy samples: 0.32172333265749314\n",
      "    Silhouette score not including noisy samples: 0.4078503342708086\n"
     ]
    },
    {
     "data": {
      "image/png": "[encoded data removed]",
      "text/plain": [
       "<Figure size 432x288 with 1 Axes>"
      ]
     },
     "metadata": {
      "needs_background": "light"
     },
     "output_type": "display_data"
    },
    {
     "name": "stdout",
     "output_type": "stream",
     "text": [
      "**************************************************\n",
      "maximum distance to be a neighbour: 4.0\n",
      "minimum number of samples in a cluster: 4.0\n",
      "    Silhouette score including noisy samples: 0.3241814873452758\n",
      "    Silhouette score not including noisy samples: 0.39761605373939046\n"
     ]
    },
    {
     "data": {
      "image/png": "[encoded data removed]",
      "text/plain": [
       "<Figure size 432x288 with 1 Axes>"
      ]
     },
     "metadata": {
      "needs_background": "light"
     },
     "output_type": "display_data"
    },
    {
     "name": "stdout",
     "output_type": "stream",
     "text": [
      "**************************************************\n",
      "maximum distance to be a neighbour: 4.5\n",
      "minimum number of samples in a cluster: 3.0\n",
      "    Silhouette score including noisy samples: 0.33546637783442407\n",
      "    Silhouette score not including noisy samples: 0.3911748275781187\n"
     ]
    },
    {
     "data": {
      "image/png": "[encoded data removed]",
      "text/plain": [
       "<Figure size 432x288 with 1 Axes>"
      ]
     },
     "metadata": {
      "needs_background": "light"
     },
     "output_type": "display_data"
    },
    {
     "name": "stdout",
     "output_type": "stream",
     "text": [
      "**************************************************\n",
      "maximum distance to be a neighbour: 1.5\n",
      "minimum number of samples in a cluster: 6.0\n",
      "    Silhouette score including noisy samples: -0.09459865532459318\n",
      "    Silhouette score not including noisy samples: 0.3880378867879043\n"
     ]
    },
    {
     "data": {
      "image/png": "[encoded data removed]",
      "text/plain": [
       "<Figure size 432x288 with 1 Axes>"
      ]
     },
     "metadata": {
      "needs_background": "light"
     },
     "output_type": "display_data"
    },
    {
     "name": "stdout",
     "output_type": "stream",
     "text": [
      "**************************************************\n",
      "maximum distance to be a neighbour: 4.0\n",
      "minimum number of samples in a cluster: 3.0\n",
      "    Silhouette score including noisy samples: 0.2972443479569291\n",
      "    Silhouette score not including noisy samples: 0.3431892881121625\n"
     ]
    },
    {
     "data": {
      "image/png": "[encoded data removed]",
      "text/plain": [
       "<Figure size 432x288 with 1 Axes>"
      ]
     },
     "metadata": {
      "needs_background": "light"
     },
     "output_type": "display_data"
    },
    {
     "name": "stdout",
     "output_type": "stream",
     "text": [
      "**************************************************\n",
      "maximum distance to be a neighbour: 1.5\n",
      "minimum number of samples in a cluster: 5.0\n",
      "    Silhouette score including noisy samples: -0.13070736180233816\n",
      "    Silhouette score not including noisy samples: 0.26904977377539363\n"
     ]
    },
    {
     "data": {
      "image/png": "[encoded data removed]",
      "text/plain": [
       "<Figure size 432x288 with 1 Axes>"
      ]
     },
     "metadata": {
      "needs_background": "light"
     },
     "output_type": "display_data"
    },
    {
     "name": "stdout",
     "output_type": "stream",
     "text": [
      "**************************************************\n",
      "maximum distance to be a neighbour: 3.0\n",
      "minimum number of samples in a cluster: 3.0\n",
      "    Silhouette score including noisy samples: 0.1932780473378528\n",
      "    Silhouette score not including noisy samples: 0.26597717197541504\n"
     ]
    },
    {
     "data": {
      "image/png": "[encoded data removed]",
      "text/plain": [
       "<Figure size 432x288 with 1 Axes>"
      ]
     },
     "metadata": {
      "needs_background": "light"
     },
     "output_type": "display_data"
    },
    {
     "name": "stdout",
     "output_type": "stream",
     "text": [
      "**************************************************\n",
      "maximum distance to be a neighbour: 1.5\n",
      "minimum number of samples in a cluster: 3.0\n",
      "    Silhouette score including noisy samples: -0.09244767082562375\n",
      "    Silhouette score not including noisy samples: 0.2630510090037532\n"
     ]
    },
    {
     "data": {
      "image/png": "[encoded data removed]",
      "text/plain": [
       "<Figure size 432x288 with 1 Axes>"
      ]
     },
     "metadata": {
      "needs_background": "light"
     },
     "output_type": "display_data"
    },
    {
     "name": "stdout",
     "output_type": "stream",
     "text": [
      "**************************************************\n",
      "maximum distance to be a neighbour: 3.5\n",
      "minimum number of samples in a cluster: 3.0\n",
      "    Silhouette score including noisy samples: 0.20144193847148692\n",
      "    Silhouette score not including noisy samples: 0.24004527125834108\n"
     ]
    },
    {
     "data": {
      "image/png": "[encoded data removed]",
      "text/plain": [
       "<Figure size 432x288 with 1 Axes>"
      ]
     },
     "metadata": {
      "needs_background": "light"
     },
     "output_type": "display_data"
    },
    {
     "name": "stdout",
     "output_type": "stream",
     "text": [
      "**************************************************\n",
      "maximum distance to be a neighbour: 2.5\n",
      "minimum number of samples in a cluster: 7.0\n",
      "    Silhouette score including noisy samples: 0.08882165540556017\n",
      "    Silhouette score not including noisy samples: 0.23719006361162542\n"
     ]
    },
    {
     "data": {
      "image/png": "[encoded data removed]",
      "text/plain": [
       "<Figure size 432x288 with 1 Axes>"
      ]
     },
     "metadata": {
      "needs_background": "light"
     },
     "output_type": "display_data"
    },
    {
     "name": "stdout",
     "output_type": "stream",
     "text": [
      "**************************************************\n",
      "maximum distance to be a neighbour: 4.0\n",
      "minimum number of samples in a cluster: 2.0\n",
      "    Silhouette score including noisy samples: 0.20648951255198325\n",
      "    Silhouette score not including noisy samples: 0.23641038723308455\n"
     ]
    },
    {
     "data": {
      "image/png": "[encoded data removed]",
      "text/plain": [
       "<Figure size 432x288 with 1 Axes>"
      ]
     },
     "metadata": {
      "needs_background": "light"
     },
     "output_type": "display_data"
    },
    {
     "name": "stdout",
     "output_type": "stream",
     "text": [
      "**************************************************\n",
      "maximum distance to be a neighbour: 1.5\n",
      "minimum number of samples in a cluster: 4.0\n",
      "    Silhouette score including noisy samples: -0.12602472549270544\n",
      "    Silhouette score not including noisy samples: 0.23496989257485945\n"
     ]
    },
    {
     "data": {
      "image/png": "[encoded data removed]",
      "text/plain": [
       "<Figure size 432x288 with 1 Axes>"
      ]
     },
     "metadata": {
      "needs_background": "light"
     },
     "output_type": "display_data"
    },
    {
     "name": "stdout",
     "output_type": "stream",
     "text": [
      "**************************************************\n",
      "maximum distance to be a neighbour: 4.5\n",
      "minimum number of samples in a cluster: 2.0\n",
      "    Silhouette score including noisy samples: 0.2176277867448035\n",
      "    Silhouette score not including noisy samples: 0.2343123804710617\n"
     ]
    },
    {
     "data": {
      "image/png": "[encoded data removed]",
      "text/plain": [
       "<Figure size 432x288 with 1 Axes>"
      ]
     },
     "metadata": {
      "needs_background": "light"
     },
     "output_type": "display_data"
    },
    {
     "name": "stdout",
     "output_type": "stream",
     "text": [
      "**************************************************\n",
      "maximum distance to be a neighbour: 2.5\n",
      "minimum number of samples in a cluster: 6.0\n",
      "    Silhouette score including noisy samples: 0.09351434462052548\n",
      "    Silhouette score not including noisy samples: 0.2299685420936881\n"
     ]
    },
    {
     "data": {
      "image/png": "[encoded data removed]",
      "text/plain": [
       "<Figure size 432x288 with 1 Axes>"
      ]
     },
     "metadata": {
      "needs_background": "light"
     },
     "output_type": "display_data"
    },
    {
     "name": "stdout",
     "output_type": "stream",
     "text": [
      "**************************************************\n",
      "maximum distance to be a neighbour: 3.5\n",
      "minimum number of samples in a cluster: 2.0\n",
      "    Silhouette score including noisy samples: 0.19388295690637572\n",
      "    Silhouette score not including noisy samples: 0.22846171089614772\n"
     ]
    },
    {
     "data": {
      "image/png": "[encoded data removed]",
      "text/plain": [
       "<Figure size 432x288 with 1 Axes>"
      ]
     },
     "metadata": {
      "needs_background": "light"
     },
     "output_type": "display_data"
    },
    {
     "name": "stdout",
     "output_type": "stream",
     "text": [
      "**************************************************\n",
      "maximum distance to be a neighbour: 1.5\n",
      "minimum number of samples in a cluster: 2.0\n",
      "    Silhouette score including noisy samples: -0.11074045886032238\n",
      "    Silhouette score not including noisy samples: 0.20263589905432505\n"
     ]
    },
    {
     "data": {
      "image/png": "[encoded data removed]",
      "text/plain": [
       "<Figure size 432x288 with 1 Axes>"
      ]
     },
     "metadata": {
      "needs_background": "light"
     },
     "output_type": "display_data"
    },
    {
     "name": "stdout",
     "output_type": "stream",
     "text": [
      "**************************************************\n",
      "maximum distance to be a neighbour: 3.0\n",
      "minimum number of samples in a cluster: 6.0\n",
      "    Silhouette score including noisy samples: 0.08673847788186898\n",
      "    Silhouette score not including noisy samples: 0.16268130908921224\n"
     ]
    },
    {
     "data": {
      "image/png": "[encoded data removed]",
      "text/plain": [
       "<Figure size 432x288 with 1 Axes>"
      ]
     },
     "metadata": {
      "needs_background": "light"
     },
     "output_type": "display_data"
    },
    {
     "name": "stdout",
     "output_type": "stream",
     "text": [
      "**************************************************\n",
      "maximum distance to be a neighbour: 3.0\n",
      "minimum number of samples in a cluster: 5.0\n",
      "    Silhouette score including noisy samples: 0.08583434471154557\n",
      "    Silhouette score not including noisy samples: 0.15679784082837797\n"
     ]
    },
    {
     "data": {
      "image/png": "[encoded data removed]",
      "text/plain": [
       "<Figure size 432x288 with 1 Axes>"
      ]
     },
     "metadata": {
      "needs_background": "light"
     },
     "output_type": "display_data"
    },
    {
     "name": "stdout",
     "output_type": "stream",
     "text": [
      "**************************************************\n",
      "maximum distance to be a neighbour: 2.5\n",
      "minimum number of samples in a cluster: 4.0\n",
      "    Silhouette score including noisy samples: 0.014865422080399737\n",
      "    Silhouette score not including noisy samples: 0.11698496928475516\n"
     ]
    },
    {
     "data": {
      "image/png": "[encoded data removed]",
      "text/plain": [
       "<Figure size 432x288 with 1 Axes>"
      ]
     },
     "metadata": {
      "needs_background": "light"
     },
     "output_type": "display_data"
    },
    {
     "name": "stdout",
     "output_type": "stream",
     "text": [
      "**************************************************\n",
      "maximum distance to be a neighbour: 2.0\n",
      "minimum number of samples in a cluster: 5.0\n",
      "    Silhouette score including noisy samples: -0.08404417639573333\n",
      "    Silhouette score not including noisy samples: 0.05220840051306556\n"
     ]
    },
    {
     "data": {
      "image/png": "[encoded data removed]",
      "text/plain": [
       "<Figure size 432x288 with 1 Axes>"
      ]
     },
     "metadata": {
      "needs_background": "light"
     },
     "output_type": "display_data"
    },
    {
     "name": "stdout",
     "output_type": "stream",
     "text": [
      "**************************************************\n",
      "maximum distance to be a neighbour: 2.0\n",
      "minimum number of samples in a cluster: 4.0\n",
      "    Silhouette score including noisy samples: -0.1287786804860384\n",
      "    Silhouette score not including noisy samples: 0.014978281900148563\n"
     ]
    },
    {
     "data": {
      "image/png": "[encoded data removed]",
      "text/plain": [
       "<Figure size 432x288 with 1 Axes>"
      ]
     },
     "metadata": {
      "needs_background": "light"
     },
     "output_type": "display_data"
    },
    {
     "name": "stdout",
     "output_type": "stream",
     "text": [
      "**************************************************\n",
      "maximum distance to be a neighbour: 2.5\n",
      "minimum number of samples in a cluster: 3.0\n",
      "    Silhouette score including noisy samples: -0.11929445401451763\n",
      "    Silhouette score not including noisy samples: -0.04844429029915175\n"
     ]
    },
    {
     "data": {
      "image/png": "[encoded data removed]",
      "text/plain": [
       "<Figure size 432x288 with 1 Axes>"
      ]
     },
     "metadata": {
      "needs_background": "light"
     },
     "output_type": "display_data"
    },
    {
     "name": "stdout",
     "output_type": "stream",
     "text": [
      "**************************************************\n",
      "maximum distance to be a neighbour: 2.0\n",
      "minimum number of samples in a cluster: 3.0\n",
      "    Silhouette score including noisy samples: -0.1559764520607003\n",
      "    Silhouette score not including noisy samples: -0.051030266535344065\n"
     ]
    },
    {
     "data": {
      "image/png": "[encoded data removed]",
      "text/plain": [
       "<Figure size 432x288 with 1 Axes>"
      ]
     },
     "metadata": {
      "needs_background": "light"
     },
     "output_type": "display_data"
    },
    {
     "name": "stdout",
     "output_type": "stream",
     "text": [
      "**************************************************\n",
      "maximum distance to be a neighbour: 3.0\n",
      "minimum number of samples in a cluster: 2.0\n",
      "    Silhouette score including noisy samples: -0.12032795204936644\n",
      "    Silhouette score not including noisy samples: -0.08481824834478596\n"
     ]
    },
    {
     "data": {
      "image/png": "[encoded data removed]",
      "text/plain": [
       "<Figure size 432x288 with 1 Axes>"
      ]
     },
     "metadata": {
      "needs_background": "light"
     },
     "output_type": "display_data"
    },
    {
     "name": "stdout",
     "output_type": "stream",
     "text": [
      "**************************************************\n",
      "maximum distance to be a neighbour: 2.5\n",
      "minimum number of samples in a cluster: 2.0\n",
      "    Silhouette score including noisy samples: -0.1732948920329851\n",
      "    Silhouette score not including noisy samples: -0.12343999199780253\n"
     ]
    },
    {
     "data": {
      "image/png": "[encoded data removed]",
      "text/plain": [
       "<Figure size 432x288 with 1 Axes>"
      ]
     },
     "metadata": {
      "needs_background": "light"
     },
     "output_type": "display_data"
    },
    {
     "name": "stdout",
     "output_type": "stream",
     "text": [
      "**************************************************\n",
      "maximum distance to be a neighbour: 2.0\n",
      "minimum number of samples in a cluster: 2.0\n",
      "    Silhouette score including noisy samples: -0.2745593980401595\n",
      "    Silhouette score not including noisy samples: -0.18807632467745974\n"
     ]
    },
    {
     "data": {
      "image/png": "[encoded data removed]",
      "text/plain": [
       "<Figure size 432x288 with 1 Axes>"
      ]
     },
     "metadata": {
      "needs_background": "light"
     },
     "output_type": "display_data"
    }
   ],
   "source": [
    "scores = []\n",
    "for eps in np.arange(0.5, 10, 0.5):\n",
    "    for min_samples in range(2, 10):\n",
    "        clustering = DBSCAN(eps=eps, min_samples=min_samples).fit(formatted_data)\n",
    "        cluster_labels = Counter(clustering.labels_)\n",
    "        \n",
    "        non_noisy = [i for i in range(len(clustering.labels_)) if clustering.labels_[i] != -1]\n",
    "        non_noisy_data = [formatted_data[idx] for idx in non_noisy]\n",
    "        non_noisy_labels = [clustering.labels_[idx] for idx in non_noisy]\n",
    "        if len(non_noisy) == 0 or len(np.unique(clustering.labels_)) < 2:\n",
    "#             print('    No valid clusters')\n",
    "            continue\n",
    "        else:\n",
    "            try:\n",
    "                scores.append([\n",
    "                    eps, \n",
    "                    min_samples,\n",
    "                    silhouette_score(non_noisy_data, non_noisy_labels),\n",
    "                    silhouette_score(formatted_data, clustering.labels_)\n",
    "                    ])\n",
    "            except ValueError:\n",
    "                continue\n",
    "\n",
    "        \n",
    "scores_df = pd.DataFrame(scores)\n",
    "scores_df.columns = ['eps', 'min_samples', 'non_noisy_silhouette', 'noisy_silhouette']\n",
    "scores_df = scores_df.sort_values(['non_noisy_silhouette', 'noisy_silhouette'], ascending=False)\n",
    "for i, row in scores_df.iterrows():\n",
    "    print('*'*50)\n",
    "    print('maximum distance to be a neighbour: {}'.format(row['eps']))\n",
    "    print('minimum number of samples in a cluster: {}'.format(row['min_samples']))\n",
    "    print('    Silhouette score including noisy samples: {}'.format(\n",
    "        row['noisy_silhouette'])\n",
    "         )\n",
    "    print('    Silhouette score not including noisy samples: {}'.format(\n",
    "        row['non_noisy_silhouette'])\n",
    "         )\n",
    "    clustering = DBSCAN(eps=row['eps'], min_samples=row['min_samples']).fit(formatted_data)\n",
    "    cluster_labels = Counter(clustering.labels_)\n",
    "    plt.bar(range(len(cluster_labels)), cluster_labels.values(), color=get_colour(1))\n",
    "    plt.xticks(range(len(cluster_labels)), cluster_labels.keys())\n",
    "    plt.show()"
   ]
  },
  {
   "cell_type": "markdown",
   "id": "2479a6d0",
   "metadata": {},
   "source": [
    "# Including it into the data"
   ]
  },
  {
   "cell_type": "code",
   "execution_count": 14,
   "id": "c3442580",
   "metadata": {
    "ExecuteTime": {
     "end_time": "2022-06-24T08:07:28.330919Z",
     "start_time": "2022-06-24T08:07:28.319175Z"
    }
   },
   "outputs": [],
   "source": [
    "selected_combinations = [\n",
    "    {'eps': 1.5, 'min_samples': 7},\n",
    "    {'eps': 1.5, 'min_samples': 9},\n",
    "    {'eps': 2, 'min_samples': 9},\n",
    "    {'eps': 1, 'min_samples': 4},\n",
    "]\n",
    "selected_clusters = {}\n",
    "for comb in selected_combinations:\n",
    "    clustering = DBSCAN(eps=comb['eps'], min_samples=comb['min_samples']).fit(formatted_data)\n",
    "    selected_clusters['{}_{}'.format(str(comb['eps']).replace('.', '-'), comb['min_samples'])] = clustering.labels_"
   ]
  },
  {
   "cell_type": "code",
   "execution_count": 15,
   "id": "c2309174",
   "metadata": {
    "ExecuteTime": {
     "end_time": "2022-06-24T08:07:38.256806Z",
     "start_time": "2022-06-24T08:07:38.128221Z"
    }
   },
   "outputs": [],
   "source": [
    "with open('../data/beerslaw/features/simplestates_sequences.pkl', 'rb') as fp:\n",
    "    simple = pickle.load(fp)"
   ]
  },
  {
   "cell_type": "code",
   "execution_count": 17,
   "id": "c4ce93e7",
   "metadata": {
    "ExecuteTime": {
     "end_time": "2022-06-24T08:08:10.077526Z",
     "start_time": "2022-06-24T08:08:10.070094Z"
    }
   },
   "outputs": [
    {
     "name": "stdout",
     "output_type": "stream",
     "text": [
      "6.680490706378172 6.680490706378172\n",
      "6.717735647787049 6.717735647787049\n",
      "2.905700651571032 2.905700651571032\n",
      "4.56088381365335 4.56088381365335\n"
     ]
    }
   ],
   "source": [
    "## Test of correspondance\n",
    "simple[0].keys()\n",
    "test = aggregate(simple[0]['sequence'], states, actions)\n",
    "test = prepare_data([test], states)\n",
    "\n",
    "testt = aggregate(sequences[0], states, actions)\n",
    "testt = prepare_data([testt], states)\n",
    "for i in range(len(test[0])):\n",
    "    print(test[0][i], testt[0][i])"
   ]
  },
  {
   "cell_type": "code",
   "execution_count": 18,
   "id": "da466579",
   "metadata": {
    "ExecuteTime": {
     "end_time": "2022-06-24T08:08:24.329815Z",
     "start_time": "2022-06-24T08:08:24.325840Z"
    }
   },
   "outputs": [],
   "source": [
    "for comb in selected_clusters:\n",
    "    for i, idx in enumerate(simple):\n",
    "        if idx == 'available_demographics':\n",
    "            continue\n",
    "        simple[idx]['0_cluster_state_{}'.format(comb)] = selected_clusters[comb][i]"
   ]
  },
  {
   "cell_type": "code",
   "execution_count": 23,
   "id": "936a8cae",
   "metadata": {
    "ExecuteTime": {
     "end_time": "2022-06-24T08:09:00.189765Z",
     "start_time": "2022-06-24T08:09:00.185951Z"
    }
   },
   "outputs": [
    {
     "data": {
      "text/plain": [
       "dict_keys(['sequence', 'idx', 'learner_id', 'gender', 'language', 'field', 'year', 'ranking', 'binconcepts', 'binvector', '0_cluster_state_1-5_7', '0_cluster_state_1-5_9', '0_cluster_state_2_9', '0_cluster_state_1_4'])"
      ]
     },
     "execution_count": 23,
     "metadata": {},
     "output_type": "execute_result"
    }
   ],
   "source": [
    "simple[0].keys()"
   ]
  },
  {
   "cell_type": "code",
   "execution_count": null,
   "id": "9c22f496",
   "metadata": {},
   "outputs": [],
   "source": [
    "with open('../data/beerslaw/features/simplestates_sequences.pkl', 'wb') as fp:\n",
    "    pickle.dump(simple, fp)"
   ]
  },
  {
   "cell_type": "code",
   "execution_count": null,
   "id": "193ff607",
   "metadata": {},
   "outputs": [],
   "source": []
  },
  {
   "cell_type": "code",
   "execution_count": null,
   "id": "65475ff2",
   "metadata": {},
   "outputs": [],
   "source": []
  },
  {
   "cell_type": "code",
   "execution_count": null,
   "id": "32c7c671",
   "metadata": {},
   "outputs": [],
   "source": []
  },
  {
   "cell_type": "code",
   "execution_count": null,
   "id": "fc4d2f98",
   "metadata": {},
   "outputs": [],
   "source": []
  },
  {
   "cell_type": "code",
   "execution_count": null,
   "id": "5387aaec",
   "metadata": {},
   "outputs": [],
   "source": []
  },
  {
   "cell_type": "code",
   "execution_count": null,
   "id": "5b21c430",
   "metadata": {},
   "outputs": [],
   "source": []
  }
 ],
 "metadata": {
  "kernelspec": {
   "display_name": "Python 3 (ipykernel)",
   "language": "python",
   "name": "python3"
  },
  "language_info": {
   "codemirror_mode": {
    "name": "ipython",
    "version": 3
   },
   "file_extension": ".py",
   "mimetype": "text/x-python",
   "name": "python",
   "nbconvert_exporter": "python",
   "pygments_lexer": "ipython3",
   "version": "3.8.12"
  },
  "toc": {
   "base_numbering": 1,
   "nav_menu": {},
   "number_sections": true,
   "sideBar": true,
   "skip_h1_title": false,
   "title_cell": "Table of Contents",
   "title_sidebar": "Contents",
   "toc_cell": false,
   "toc_position": {},
   "toc_section_display": true,
   "toc_window_display": false
  }
 },
 "nbformat": 4,
 "nbformat_minor": 5
}
