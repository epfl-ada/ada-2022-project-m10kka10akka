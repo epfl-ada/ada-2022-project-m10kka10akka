{
 "cells": [
  {
   "cell_type": "code",
   "execution_count": 1,
   "id": "10d0a8fc",
   "metadata": {
    "ExecuteTime": {
     "end_time": "2022-09-06T13:19:44.471117Z",
     "start_time": "2022-09-06T13:19:44.041266Z"
    }
   },
   "outputs": [],
   "source": [
    "import os\n",
    "import pickle\n",
    "\n",
    "import numpy as np\n",
    "import pandas as pd\n",
    "from matplotlib import pyplot as plt"
   ]
  },
  {
   "cell_type": "code",
   "execution_count": 25,
   "id": "86896b7c",
   "metadata": {
    "ExecuteTime": {
     "end_time": "2022-06-02T08:44:08.410723Z",
     "start_time": "2022-06-02T08:44:08.402614Z"
    }
   },
   "outputs": [],
   "source": [
    "results_files = []\n",
    "experiment_path = '../experiments/oversample/language_label/'\n",
    "for (dirpath, dirnames, filenames) in os.walk(experiment_path):\n",
    "    files = [os.path.join(dirpath, file) for file in filenames]\n",
    "    results_files.extend(files)\n",
    "    \n",
    "\n",
    "results_files = [f for f in results_files if 'results' in f]"
   ]
  },
  {
   "cell_type": "code",
   "execution_count": 26,
   "id": "bca33cb3",
   "metadata": {
    "ExecuteTime": {
     "end_time": "2022-06-02T08:44:12.516592Z",
     "start_time": "2022-06-02T08:44:12.511675Z"
    }
   },
   "outputs": [
    {
     "data": {
      "text/plain": [
       "['../experiments/oversample/language_label/beerslaw/simplestates/ts_attention/binconcepts/2022_06_02_0/config.yaml']"
      ]
     },
     "execution_count": 26,
     "metadata": {},
     "output_type": "execute_result"
    }
   ],
   "source": [
    "configs_files"
   ]
  },
  {
   "cell_type": "code",
   "execution_count": 21,
   "id": "e5852bad",
   "metadata": {
    "ExecuteTime": {
     "end_time": "2022-06-02T08:39:38.163743Z",
     "start_time": "2022-06-02T08:39:38.071131Z"
    }
   },
   "outputs": [],
   "source": [
    "with open(results_files[0], 'rb') as fp:\n",
    "    results = pickle.load(fp)"
   ]
  },
  {
   "cell_type": "code",
   "execution_count": 23,
   "id": "01b02354",
   "metadata": {
    "ExecuteTime": {
     "end_time": "2022-06-02T08:39:46.732211Z",
     "start_time": "2022-06-02T08:39:46.728037Z"
    }
   },
   "outputs": [
    {
     "data": {
      "text/plain": [
       "dict_keys(['train_index', 'test_index', 'oversample_indexes', 'x_resampled', 'y_resampled', 'x_resampled_train', 'y_resampled_train', 'x_resampled_val', 'y_resampled_val', 'best_params', 'y_pred', 'y_proba', 'accuracy', 'balanced_accuracy', 'precision', 'recall', 'roc'])"
      ]
     },
     "execution_count": 23,
     "metadata": {},
     "output_type": "execute_result"
    }
   ],
   "source": [
    "results[0].keys()"
   ]
  },
  {
   "cell_type": "code",
   "execution_count": 24,
   "id": "13095db3",
   "metadata": {
    "ExecuteTime": {
     "end_time": "2022-06-02T08:39:58.555982Z",
     "start_time": "2022-06-02T08:39:58.551459Z"
    }
   },
   "outputs": [
    {
     "data": {
      "text/plain": [
       "dict_keys(['x', 'y', 'demographics', 'optim_scoring', 0, 1, 2, 3, 4, 5, 6, 7, 8, 9])"
      ]
     },
     "execution_count": 24,
     "metadata": {},
     "output_type": "execute_result"
    }
   ],
   "source": [
    "results.keys()"
   ]
  },
  {
   "cell_type": "code",
   "execution_count": 1,
   "id": "c317ec96",
   "metadata": {
    "ExecuteTime": {
     "end_time": "2022-08-29T13:06:59.821786Z",
     "start_time": "2022-08-29T13:06:59.814071Z"
    }
   },
   "outputs": [],
   "source": [
    "import random"
   ]
  },
  {
   "cell_type": "code",
   "execution_count": 13,
   "id": "a0571d5e",
   "metadata": {
    "ExecuteTime": {
     "end_time": "2022-08-29T13:08:07.868756Z",
     "start_time": "2022-08-29T13:08:07.864723Z"
    }
   },
   "outputs": [],
   "source": [
    "def shuffle(sequence):\n",
    "    chunks_breaking_points = range(3, len(sequence), 3)\n",
    "    chunks = []\n",
    "    curr_breaking_point = 0\n",
    "    for bp in chunks_breaking_points[:-1]:\n",
    "        chunks.append([sequence[i] for i in range(curr_breaking_point, bp)])\n",
    "        curr_breaking_point = bp\n",
    "    chunks.append([s for s in sequence[bp:]])\n",
    "    random.shuffle(chunks)\n",
    "    new_sequence = []\n",
    "    for chunk in chunks:\n",
    "        new_sequence = new_sequence + chunk\n",
    "\n",
    "    return new_sequence"
   ]
  },
  {
   "cell_type": "code",
   "execution_count": 60,
   "id": "2d8935d5",
   "metadata": {
    "ExecuteTime": {
     "end_time": "2022-09-06T17:42:15.490242Z",
     "start_time": "2022-09-06T17:42:15.487723Z"
    }
   },
   "outputs": [],
   "source": [
    "sequence = [\n",
    "    1, 2, 3,\n",
    "    4, 5, 6,\n",
    "    7, 8, 9\n",
    "]"
   ]
  },
  {
   "cell_type": "code",
   "execution_count": 27,
   "id": "6b26415a",
   "metadata": {
    "ExecuteTime": {
     "end_time": "2022-08-29T13:08:38.135739Z",
     "start_time": "2022-08-29T13:08:38.131893Z"
    }
   },
   "outputs": [
    {
     "data": {
      "text/plain": [
       "[1, 2, 3, 4, 5, 6, 7, 8, 9]"
      ]
     },
     "execution_count": 27,
     "metadata": {},
     "output_type": "execute_result"
    }
   ],
   "source": [
    "shuffle(sequence)"
   ]
  },
  {
   "cell_type": "code",
   "execution_count": 61,
   "id": "e27ca51c",
   "metadata": {
    "ExecuteTime": {
     "end_time": "2022-09-06T17:42:17.326817Z",
     "start_time": "2022-09-06T17:42:17.324024Z"
    }
   },
   "outputs": [],
   "source": [
    "sequence = [\n",
    "    [1, 2, 3],\n",
    "    [4, 5, 6],\n",
    "    [7, 8, 9],\n",
    "    [7, 8, 9],\n",
    "    [7, 8, 9]\n",
    "]"
   ]
  },
  {
   "cell_type": "code",
   "execution_count": 62,
   "id": "ccf66c72",
   "metadata": {
    "ExecuteTime": {
     "end_time": "2022-09-06T17:42:17.526498Z",
     "start_time": "2022-09-06T17:42:17.523751Z"
    }
   },
   "outputs": [],
   "source": [
    "a = pd.DataFrame(sequence)"
   ]
  },
  {
   "cell_type": "code",
   "execution_count": 52,
   "id": "16bb0f16",
   "metadata": {
    "ExecuteTime": {
     "end_time": "2022-09-06T14:52:51.459522Z",
     "start_time": "2022-09-06T14:52:51.453184Z"
    }
   },
   "outputs": [
    {
     "data": {
      "text/html": [
       "<div>\n",
       "<style scoped>\n",
       "    .dataframe tbody tr th:only-of-type {\n",
       "        vertical-align: middle;\n",
       "    }\n",
       "\n",
       "    .dataframe tbody tr th {\n",
       "        vertical-align: top;\n",
       "    }\n",
       "\n",
       "    .dataframe thead th {\n",
       "        text-align: right;\n",
       "    }\n",
       "</style>\n",
       "<table border=\"1\" class=\"dataframe\">\n",
       "  <thead>\n",
       "    <tr style=\"text-align: right;\">\n",
       "      <th></th>\n",
       "      <th>0</th>\n",
       "      <th>1</th>\n",
       "      <th>2</th>\n",
       "    </tr>\n",
       "  </thead>\n",
       "  <tbody>\n",
       "    <tr>\n",
       "      <th>0</th>\n",
       "      <td>1</td>\n",
       "      <td>2</td>\n",
       "      <td>3</td>\n",
       "    </tr>\n",
       "    <tr>\n",
       "      <th>1</th>\n",
       "      <td>4</td>\n",
       "      <td>5</td>\n",
       "      <td>6</td>\n",
       "    </tr>\n",
       "    <tr>\n",
       "      <th>2</th>\n",
       "      <td>7</td>\n",
       "      <td>8</td>\n",
       "      <td>9</td>\n",
       "    </tr>\n",
       "    <tr>\n",
       "      <th>3</th>\n",
       "      <td>7</td>\n",
       "      <td>8</td>\n",
       "      <td>9</td>\n",
       "    </tr>\n",
       "    <tr>\n",
       "      <th>4</th>\n",
       "      <td>7</td>\n",
       "      <td>8</td>\n",
       "      <td>9</td>\n",
       "    </tr>\n",
       "  </tbody>\n",
       "</table>\n",
       "</div>"
      ],
      "text/plain": [
       "   0  1  2\n",
       "0  1  2  3\n",
       "1  4  5  6\n",
       "2  7  8  9\n",
       "3  7  8  9\n",
       "4  7  8  9"
      ]
     },
     "execution_count": 52,
     "metadata": {},
     "output_type": "execute_result"
    }
   ],
   "source": [
    "a"
   ]
  },
  {
   "cell_type": "code",
   "execution_count": 53,
   "id": "ff9948aa",
   "metadata": {
    "ExecuteTime": {
     "end_time": "2022-09-06T14:52:53.897526Z",
     "start_time": "2022-09-06T14:52:53.894540Z"
    }
   },
   "outputs": [],
   "source": [
    "a = a.style.apply(lambda row: [\"background-color: red\" if r == 1 else \"background-color: white\" for r in row ] if row[0]>0 else \"background-color: white\", axis=1)"
   ]
  },
  {
   "cell_type": "code",
   "execution_count": 55,
   "id": "45093df3",
   "metadata": {
    "ExecuteTime": {
     "end_time": "2022-09-06T14:52:57.477433Z",
     "start_time": "2022-09-06T14:52:57.468734Z"
    }
   },
   "outputs": [
    {
     "data": {
      "text/html": [
       "<style type=\"text/css\">\n",
       "#T_a287c_row0_col0 {\n",
       "  background-color: red;\n",
       "}\n",
       "#T_a287c_row0_col1, #T_a287c_row0_col2, #T_a287c_row1_col0, #T_a287c_row1_col1, #T_a287c_row1_col2, #T_a287c_row2_col0, #T_a287c_row2_col1, #T_a287c_row2_col2, #T_a287c_row3_col0, #T_a287c_row3_col1, #T_a287c_row3_col2, #T_a287c_row4_col0, #T_a287c_row4_col1, #T_a287c_row4_col2 {\n",
       "  background-color: white;\n",
       "}\n",
       "</style>\n",
       "<table id=\"T_a287c_\">\n",
       "  <thead>\n",
       "    <tr>\n",
       "      <th class=\"blank level0\" >&nbsp;</th>\n",
       "      <th class=\"col_heading level0 col0\" >0</th>\n",
       "      <th class=\"col_heading level0 col1\" >1</th>\n",
       "      <th class=\"col_heading level0 col2\" >2</th>\n",
       "    </tr>\n",
       "  </thead>\n",
       "  <tbody>\n",
       "    <tr>\n",
       "      <th id=\"T_a287c_level0_row0\" class=\"row_heading level0 row0\" >0</th>\n",
       "      <td id=\"T_a287c_row0_col0\" class=\"data row0 col0\" >1</td>\n",
       "      <td id=\"T_a287c_row0_col1\" class=\"data row0 col1\" >2</td>\n",
       "      <td id=\"T_a287c_row0_col2\" class=\"data row0 col2\" >3</td>\n",
       "    </tr>\n",
       "    <tr>\n",
       "      <th id=\"T_a287c_level0_row1\" class=\"row_heading level0 row1\" >1</th>\n",
       "      <td id=\"T_a287c_row1_col0\" class=\"data row1 col0\" >4</td>\n",
       "      <td id=\"T_a287c_row1_col1\" class=\"data row1 col1\" >5</td>\n",
       "      <td id=\"T_a287c_row1_col2\" class=\"data row1 col2\" >6</td>\n",
       "    </tr>\n",
       "    <tr>\n",
       "      <th id=\"T_a287c_level0_row2\" class=\"row_heading level0 row2\" >2</th>\n",
       "      <td id=\"T_a287c_row2_col0\" class=\"data row2 col0\" >7</td>\n",
       "      <td id=\"T_a287c_row2_col1\" class=\"data row2 col1\" >8</td>\n",
       "      <td id=\"T_a287c_row2_col2\" class=\"data row2 col2\" >9</td>\n",
       "    </tr>\n",
       "    <tr>\n",
       "      <th id=\"T_a287c_level0_row3\" class=\"row_heading level0 row3\" >3</th>\n",
       "      <td id=\"T_a287c_row3_col0\" class=\"data row3 col0\" >7</td>\n",
       "      <td id=\"T_a287c_row3_col1\" class=\"data row3 col1\" >8</td>\n",
       "      <td id=\"T_a287c_row3_col2\" class=\"data row3 col2\" >9</td>\n",
       "    </tr>\n",
       "    <tr>\n",
       "      <th id=\"T_a287c_level0_row4\" class=\"row_heading level0 row4\" >4</th>\n",
       "      <td id=\"T_a287c_row4_col0\" class=\"data row4 col0\" >7</td>\n",
       "      <td id=\"T_a287c_row4_col1\" class=\"data row4 col1\" >8</td>\n",
       "      <td id=\"T_a287c_row4_col2\" class=\"data row4 col2\" >9</td>\n",
       "    </tr>\n",
       "  </tbody>\n",
       "</table>\n"
      ],
      "text/plain": [
       "<pandas.io.formats.style.Styler at 0x7fd480e7abe0>"
      ]
     },
     "execution_count": 55,
     "metadata": {},
     "output_type": "execute_result"
    }
   ],
   "source": [
    "a"
   ]
  },
  {
   "cell_type": "code",
   "execution_count": 58,
   "id": "3409699a",
   "metadata": {
    "ExecuteTime": {
     "end_time": "2022-09-06T14:55:21.131228Z",
     "start_time": "2022-09-06T14:55:21.123987Z"
    }
   },
   "outputs": [
    {
     "ename": "AttributeError",
     "evalue": "'Styler' object has no attribute 'concat'",
     "output_type": "error",
     "traceback": [
      "\u001b[0;31m---------------------------------------------------------------------------\u001b[0m",
      "\u001b[0;31mAttributeError\u001b[0m                            Traceback (most recent call last)",
      "\u001b[0;32m/var/folders/jy/0pp1md9x1358dt8g8k69srhr0000gp/T/ipykernel_4765/4125970035.py\u001b[0m in \u001b[0;36m<module>\u001b[0;34m\u001b[0m\n\u001b[0;32m----> 1\u001b[0;31m \u001b[0ma\u001b[0m\u001b[0;34m.\u001b[0m\u001b[0mconcat\u001b[0m\u001b[0;34m(\u001b[0m\u001b[0ma\u001b[0m\u001b[0;34m)\u001b[0m\u001b[0;34m\u001b[0m\u001b[0;34m\u001b[0m\u001b[0m\n\u001b[0m",
      "\u001b[0;31mAttributeError\u001b[0m: 'Styler' object has no attribute 'concat'"
     ]
    }
   ],
   "source": [
    "a.concat(a)"
   ]
  },
  {
   "cell_type": "code",
   "execution_count": 12,
   "id": "7664031a",
   "metadata": {
    "ExecuteTime": {
     "end_time": "2022-09-06T13:24:17.432658Z",
     "start_time": "2022-09-06T13:24:17.144182Z"
    }
   },
   "outputs": [],
   "source": [
    "a.to_excel('test.xlsx')"
   ]
  },
  {
   "cell_type": "code",
   "execution_count": 21,
   "id": "edd72e06",
   "metadata": {
    "ExecuteTime": {
     "end_time": "2022-09-06T14:27:34.009893Z",
     "start_time": "2022-09-06T14:27:33.995484Z"
    }
   },
   "outputs": [
    {
     "ename": "ValueError",
     "evalue": "Function <function <lambda> at 0x7fd480bcc310> returned the wrong shape.\nResult has shape: (3,)\nExpected shape:   (5, 3)",
     "output_type": "error",
     "traceback": [
      "\u001b[0;31m---------------------------------------------------------------------------\u001b[0m",
      "\u001b[0;31mValueError\u001b[0m                                Traceback (most recent call last)",
      "\u001b[0;32m/opt/anaconda3/envs/PhetGPU/lib/python3.8/site-packages/IPython/core/formatters.py\u001b[0m in \u001b[0;36m__call__\u001b[0;34m(self, obj)\u001b[0m\n\u001b[1;32m    343\u001b[0m             \u001b[0mmethod\u001b[0m \u001b[0;34m=\u001b[0m \u001b[0mget_real_method\u001b[0m\u001b[0;34m(\u001b[0m\u001b[0mobj\u001b[0m\u001b[0;34m,\u001b[0m \u001b[0mself\u001b[0m\u001b[0;34m.\u001b[0m\u001b[0mprint_method\u001b[0m\u001b[0;34m)\u001b[0m\u001b[0;34m\u001b[0m\u001b[0;34m\u001b[0m\u001b[0m\n\u001b[1;32m    344\u001b[0m             \u001b[0;32mif\u001b[0m \u001b[0mmethod\u001b[0m \u001b[0;32mis\u001b[0m \u001b[0;32mnot\u001b[0m \u001b[0;32mNone\u001b[0m\u001b[0;34m:\u001b[0m\u001b[0;34m\u001b[0m\u001b[0;34m\u001b[0m\u001b[0m\n\u001b[0;32m--> 345\u001b[0;31m                 \u001b[0;32mreturn\u001b[0m \u001b[0mmethod\u001b[0m\u001b[0;34m(\u001b[0m\u001b[0;34m)\u001b[0m\u001b[0;34m\u001b[0m\u001b[0;34m\u001b[0m\u001b[0m\n\u001b[0m\u001b[1;32m    346\u001b[0m             \u001b[0;32mreturn\u001b[0m \u001b[0;32mNone\u001b[0m\u001b[0;34m\u001b[0m\u001b[0;34m\u001b[0m\u001b[0m\n\u001b[1;32m    347\u001b[0m         \u001b[0;32melse\u001b[0m\u001b[0;34m:\u001b[0m\u001b[0;34m\u001b[0m\u001b[0;34m\u001b[0m\u001b[0m\n",
      "\u001b[0;32m/opt/anaconda3/envs/PhetGPU/lib/python3.8/site-packages/pandas/io/formats/style.py\u001b[0m in \u001b[0;36m_repr_html_\u001b[0;34m(self)\u001b[0m\n\u001b[1;32m    214\u001b[0m         \u001b[0mHooks\u001b[0m \u001b[0minto\u001b[0m \u001b[0mJupyter\u001b[0m \u001b[0mnotebook\u001b[0m \u001b[0mrich\u001b[0m \u001b[0mdisplay\u001b[0m \u001b[0msystem\u001b[0m\u001b[0;34m.\u001b[0m\u001b[0;34m\u001b[0m\u001b[0;34m\u001b[0m\u001b[0m\n\u001b[1;32m    215\u001b[0m         \"\"\"\n\u001b[0;32m--> 216\u001b[0;31m         \u001b[0;32mreturn\u001b[0m \u001b[0mself\u001b[0m\u001b[0;34m.\u001b[0m\u001b[0mrender\u001b[0m\u001b[0;34m(\u001b[0m\u001b[0;34m)\u001b[0m\u001b[0;34m\u001b[0m\u001b[0;34m\u001b[0m\u001b[0m\n\u001b[0m\u001b[1;32m    217\u001b[0m \u001b[0;34m\u001b[0m\u001b[0m\n\u001b[1;32m    218\u001b[0m     def render(\n",
      "\u001b[0;32m/opt/anaconda3/envs/PhetGPU/lib/python3.8/site-packages/pandas/io/formats/style.py\u001b[0m in \u001b[0;36mrender\u001b[0;34m(self, sparse_index, sparse_columns, **kwargs)\u001b[0m\n\u001b[1;32m    270\u001b[0m         \u001b[0;32mif\u001b[0m \u001b[0msparse_columns\u001b[0m \u001b[0;32mis\u001b[0m \u001b[0;32mNone\u001b[0m\u001b[0;34m:\u001b[0m\u001b[0;34m\u001b[0m\u001b[0;34m\u001b[0m\u001b[0m\n\u001b[1;32m    271\u001b[0m             \u001b[0msparse_columns\u001b[0m \u001b[0;34m=\u001b[0m \u001b[0mget_option\u001b[0m\u001b[0;34m(\u001b[0m\u001b[0;34m\"styler.sparse.columns\"\u001b[0m\u001b[0;34m)\u001b[0m\u001b[0;34m\u001b[0m\u001b[0;34m\u001b[0m\u001b[0m\n\u001b[0;32m--> 272\u001b[0;31m         \u001b[0;32mreturn\u001b[0m \u001b[0mself\u001b[0m\u001b[0;34m.\u001b[0m\u001b[0m_render_html\u001b[0m\u001b[0;34m(\u001b[0m\u001b[0msparse_index\u001b[0m\u001b[0;34m,\u001b[0m \u001b[0msparse_columns\u001b[0m\u001b[0;34m,\u001b[0m \u001b[0;34m**\u001b[0m\u001b[0mkwargs\u001b[0m\u001b[0;34m)\u001b[0m\u001b[0;34m\u001b[0m\u001b[0;34m\u001b[0m\u001b[0m\n\u001b[0m\u001b[1;32m    273\u001b[0m \u001b[0;34m\u001b[0m\u001b[0m\n\u001b[1;32m    274\u001b[0m     def set_tooltips(\n",
      "\u001b[0;32m/opt/anaconda3/envs/PhetGPU/lib/python3.8/site-packages/pandas/io/formats/style_render.py\u001b[0m in \u001b[0;36m_render_html\u001b[0;34m(self, sparse_index, sparse_columns, **kwargs)\u001b[0m\n\u001b[1;32m    119\u001b[0m         \u001b[0mGenerates\u001b[0m \u001b[0ma\u001b[0m \u001b[0mdict\u001b[0m \u001b[0;32mwith\u001b[0m \u001b[0mnecessary\u001b[0m \u001b[0mkwargs\u001b[0m \u001b[0mpassed\u001b[0m \u001b[0mto\u001b[0m \u001b[0mjinja2\u001b[0m \u001b[0mtemplate\u001b[0m\u001b[0;34m.\u001b[0m\u001b[0;34m\u001b[0m\u001b[0;34m\u001b[0m\u001b[0m\n\u001b[1;32m    120\u001b[0m         \"\"\"\n\u001b[0;32m--> 121\u001b[0;31m         \u001b[0mself\u001b[0m\u001b[0;34m.\u001b[0m\u001b[0m_compute\u001b[0m\u001b[0;34m(\u001b[0m\u001b[0;34m)\u001b[0m\u001b[0;34m\u001b[0m\u001b[0;34m\u001b[0m\u001b[0m\n\u001b[0m\u001b[1;32m    122\u001b[0m         \u001b[0;31m# TODO: namespace all the pandas keys\u001b[0m\u001b[0;34m\u001b[0m\u001b[0;34m\u001b[0m\u001b[0;34m\u001b[0m\u001b[0m\n\u001b[1;32m    123\u001b[0m         \u001b[0md\u001b[0m \u001b[0;34m=\u001b[0m \u001b[0mself\u001b[0m\u001b[0;34m.\u001b[0m\u001b[0m_translate\u001b[0m\u001b[0;34m(\u001b[0m\u001b[0msparse_index\u001b[0m\u001b[0;34m,\u001b[0m \u001b[0msparse_columns\u001b[0m\u001b[0;34m)\u001b[0m\u001b[0;34m\u001b[0m\u001b[0;34m\u001b[0m\u001b[0m\n",
      "\u001b[0;32m/opt/anaconda3/envs/PhetGPU/lib/python3.8/site-packages/pandas/io/formats/style_render.py\u001b[0m in \u001b[0;36m_compute\u001b[0;34m(self)\u001b[0m\n\u001b[1;32m    158\u001b[0m         \u001b[0mr\u001b[0m \u001b[0;34m=\u001b[0m \u001b[0mself\u001b[0m\u001b[0;34m\u001b[0m\u001b[0;34m\u001b[0m\u001b[0m\n\u001b[1;32m    159\u001b[0m         \u001b[0;32mfor\u001b[0m \u001b[0mfunc\u001b[0m\u001b[0;34m,\u001b[0m \u001b[0margs\u001b[0m\u001b[0;34m,\u001b[0m \u001b[0mkwargs\u001b[0m \u001b[0;32min\u001b[0m \u001b[0mself\u001b[0m\u001b[0;34m.\u001b[0m\u001b[0m_todo\u001b[0m\u001b[0;34m:\u001b[0m\u001b[0;34m\u001b[0m\u001b[0;34m\u001b[0m\u001b[0m\n\u001b[0;32m--> 160\u001b[0;31m             \u001b[0mr\u001b[0m \u001b[0;34m=\u001b[0m \u001b[0mfunc\u001b[0m\u001b[0;34m(\u001b[0m\u001b[0mself\u001b[0m\u001b[0;34m)\u001b[0m\u001b[0;34m(\u001b[0m\u001b[0;34m*\u001b[0m\u001b[0margs\u001b[0m\u001b[0;34m,\u001b[0m \u001b[0;34m**\u001b[0m\u001b[0mkwargs\u001b[0m\u001b[0;34m)\u001b[0m\u001b[0;34m\u001b[0m\u001b[0;34m\u001b[0m\u001b[0m\n\u001b[0m\u001b[1;32m    161\u001b[0m         \u001b[0;32mreturn\u001b[0m \u001b[0mr\u001b[0m\u001b[0;34m\u001b[0m\u001b[0;34m\u001b[0m\u001b[0m\n\u001b[1;32m    162\u001b[0m \u001b[0;34m\u001b[0m\u001b[0m\n",
      "\u001b[0;32m/opt/anaconda3/envs/PhetGPU/lib/python3.8/site-packages/pandas/io/formats/style.py\u001b[0m in \u001b[0;36m_apply\u001b[0;34m(self, func, axis, subset, **kwargs)\u001b[0m\n\u001b[1;32m   1079\u001b[0m \u001b[0;34m\u001b[0m\u001b[0m\n\u001b[1;32m   1080\u001b[0m         \u001b[0;32mif\u001b[0m \u001b[0mresult\u001b[0m\u001b[0;34m.\u001b[0m\u001b[0mshape\u001b[0m \u001b[0;34m!=\u001b[0m \u001b[0mdata\u001b[0m\u001b[0;34m.\u001b[0m\u001b[0mshape\u001b[0m\u001b[0;34m:\u001b[0m\u001b[0;34m\u001b[0m\u001b[0;34m\u001b[0m\u001b[0m\n\u001b[0;32m-> 1081\u001b[0;31m             raise ValueError(\n\u001b[0m\u001b[1;32m   1082\u001b[0m                 \u001b[0;34mf\"Function {repr(func)} returned the wrong shape.\\n\"\u001b[0m\u001b[0;34m\u001b[0m\u001b[0;34m\u001b[0m\u001b[0m\n\u001b[1;32m   1083\u001b[0m                 \u001b[0;34mf\"Result has shape: {result.shape}\\n\"\u001b[0m\u001b[0;34m\u001b[0m\u001b[0;34m\u001b[0m\u001b[0m\n",
      "\u001b[0;31mValueError\u001b[0m: Function <function <lambda> at 0x7fd480bcc310> returned the wrong shape.\nResult has shape: (3,)\nExpected shape:   (5, 3)"
     ]
    },
    {
     "data": {
      "text/plain": [
       "<pandas.io.formats.style.Styler at 0x7fd470faac10>"
      ]
     },
     "execution_count": 21,
     "metadata": {},
     "output_type": "execute_result"
    }
   ],
   "source": [
    "a"
   ]
  },
  {
   "cell_type": "code",
   "execution_count": 68,
   "id": "7ff93b0e",
   "metadata": {
    "ExecuteTime": {
     "end_time": "2022-09-06T17:43:12.471416Z",
     "start_time": "2022-09-06T17:43:12.446359Z"
    }
   },
   "outputs": [
    {
     "name": "stdout",
     "output_type": "stream",
     "text": [
      "1\n"
     ]
    },
    {
     "data": {
      "text/html": [
       "<style type=\"text/css\">\n",
       "#T_723ce_row0_col0 {\n",
       "  background-color: red;\n",
       "}\n",
       "#T_723ce_row0_col1, #T_723ce_row0_col2 {\n",
       "  background-color: white;\n",
       "}\n",
       "</style>\n",
       "<table id=\"T_723ce_\">\n",
       "  <thead>\n",
       "    <tr>\n",
       "      <th class=\"blank level0\" >&nbsp;</th>\n",
       "      <th class=\"col_heading level0 col0\" >0</th>\n",
       "      <th class=\"col_heading level0 col1\" >1</th>\n",
       "      <th class=\"col_heading level0 col2\" >2</th>\n",
       "    </tr>\n",
       "  </thead>\n",
       "  <tbody>\n",
       "    <tr>\n",
       "      <th id=\"T_723ce_level0_row0\" class=\"row_heading level0 row0\" >0</th>\n",
       "      <td id=\"T_723ce_row0_col0\" class=\"data row0 col0\" >1</td>\n",
       "      <td id=\"T_723ce_row0_col1\" class=\"data row0 col1\" >2</td>\n",
       "      <td id=\"T_723ce_row0_col2\" class=\"data row0 col2\" >3</td>\n",
       "    </tr>\n",
       "  </tbody>\n",
       "</table>\n"
      ],
      "text/plain": [
       "<pandas.io.formats.style.Styler at 0x7fd480e13df0>"
      ]
     },
     "metadata": {},
     "output_type": "display_data"
    },
    {
     "name": "stdout",
     "output_type": "stream",
     "text": [
      "4\n"
     ]
    },
    {
     "data": {
      "text/html": [
       "<style type=\"text/css\">\n",
       "#T_c4e85_row0_col0, #T_c4e85_row0_col1, #T_c4e85_row0_col2 {\n",
       "  background-color: white;\n",
       "}\n",
       "</style>\n",
       "<table id=\"T_c4e85_\">\n",
       "  <thead>\n",
       "    <tr>\n",
       "      <th class=\"blank level0\" >&nbsp;</th>\n",
       "      <th class=\"col_heading level0 col0\" >0</th>\n",
       "      <th class=\"col_heading level0 col1\" >1</th>\n",
       "      <th class=\"col_heading level0 col2\" >2</th>\n",
       "    </tr>\n",
       "  </thead>\n",
       "  <tbody>\n",
       "    <tr>\n",
       "      <th id=\"T_c4e85_level0_row0\" class=\"row_heading level0 row0\" >1</th>\n",
       "      <td id=\"T_c4e85_row0_col0\" class=\"data row0 col0\" >4</td>\n",
       "      <td id=\"T_c4e85_row0_col1\" class=\"data row0 col1\" >5</td>\n",
       "      <td id=\"T_c4e85_row0_col2\" class=\"data row0 col2\" >6</td>\n",
       "    </tr>\n",
       "  </tbody>\n",
       "</table>\n"
      ],
      "text/plain": [
       "<pandas.io.formats.style.Styler at 0x7fd480e81e80>"
      ]
     },
     "metadata": {},
     "output_type": "display_data"
    },
    {
     "name": "stdout",
     "output_type": "stream",
     "text": [
      "7\n"
     ]
    },
    {
     "data": {
      "text/html": [
       "<style type=\"text/css\">\n",
       "#T_b101f_row0_col0, #T_b101f_row0_col1, #T_b101f_row0_col2, #T_b101f_row1_col0, #T_b101f_row1_col1, #T_b101f_row1_col2, #T_b101f_row2_col0, #T_b101f_row2_col1, #T_b101f_row2_col2 {\n",
       "  background-color: white;\n",
       "}\n",
       "</style>\n",
       "<table id=\"T_b101f_\">\n",
       "  <thead>\n",
       "    <tr>\n",
       "      <th class=\"blank level0\" >&nbsp;</th>\n",
       "      <th class=\"col_heading level0 col0\" >0</th>\n",
       "      <th class=\"col_heading level0 col1\" >1</th>\n",
       "      <th class=\"col_heading level0 col2\" >2</th>\n",
       "    </tr>\n",
       "  </thead>\n",
       "  <tbody>\n",
       "    <tr>\n",
       "      <th id=\"T_b101f_level0_row0\" class=\"row_heading level0 row0\" >2</th>\n",
       "      <td id=\"T_b101f_row0_col0\" class=\"data row0 col0\" >7</td>\n",
       "      <td id=\"T_b101f_row0_col1\" class=\"data row0 col1\" >8</td>\n",
       "      <td id=\"T_b101f_row0_col2\" class=\"data row0 col2\" >9</td>\n",
       "    </tr>\n",
       "    <tr>\n",
       "      <th id=\"T_b101f_level0_row1\" class=\"row_heading level0 row1\" >3</th>\n",
       "      <td id=\"T_b101f_row1_col0\" class=\"data row1 col0\" >7</td>\n",
       "      <td id=\"T_b101f_row1_col1\" class=\"data row1 col1\" >8</td>\n",
       "      <td id=\"T_b101f_row1_col2\" class=\"data row1 col2\" >9</td>\n",
       "    </tr>\n",
       "    <tr>\n",
       "      <th id=\"T_b101f_level0_row2\" class=\"row_heading level0 row2\" >4</th>\n",
       "      <td id=\"T_b101f_row2_col0\" class=\"data row2 col0\" >7</td>\n",
       "      <td id=\"T_b101f_row2_col1\" class=\"data row2 col1\" >8</td>\n",
       "      <td id=\"T_b101f_row2_col2\" class=\"data row2 col2\" >9</td>\n",
       "    </tr>\n",
       "  </tbody>\n",
       "</table>\n"
      ],
      "text/plain": [
       "<pandas.io.formats.style.Styler at 0x7fd480e9a2e0>"
      ]
     },
     "metadata": {},
     "output_type": "display_data"
    }
   ],
   "source": [
    "new = pd.DataFrame()\n",
    "c = {} \n",
    "for attribute, group in a.groupby(0):\n",
    "    print(attribute)\n",
    "#     display(group)\n",
    "    new = new.append(group, ignore_index=True)\n",
    "    hello = group.style.apply(lambda row: [\"background-color: red\" if r == 1 else \"background-color: white\" for r in row ] if row[0]>0 else \"background-color: white\", axis=1)\n",
    "    c[attribute] = hello\n",
    "    display(hello)\n",
    "    "
   ]
  },
  {
   "cell_type": "code",
   "execution_count": 69,
   "id": "46218a20",
   "metadata": {
    "ExecuteTime": {
     "end_time": "2022-09-06T17:43:14.294102Z",
     "start_time": "2022-09-06T17:43:14.286849Z"
    }
   },
   "outputs": [
    {
     "data": {
      "text/html": [
       "<style type=\"text/css\">\n",
       "#T_723ce_row0_col0 {\n",
       "  background-color: red;\n",
       "}\n",
       "#T_723ce_row0_col1, #T_723ce_row0_col2 {\n",
       "  background-color: white;\n",
       "}\n",
       "</style>\n",
       "<table id=\"T_723ce_\">\n",
       "  <thead>\n",
       "    <tr>\n",
       "      <th class=\"blank level0\" >&nbsp;</th>\n",
       "      <th class=\"col_heading level0 col0\" >0</th>\n",
       "      <th class=\"col_heading level0 col1\" >1</th>\n",
       "      <th class=\"col_heading level0 col2\" >2</th>\n",
       "    </tr>\n",
       "  </thead>\n",
       "  <tbody>\n",
       "    <tr>\n",
       "      <th id=\"T_723ce_level0_row0\" class=\"row_heading level0 row0\" >0</th>\n",
       "      <td id=\"T_723ce_row0_col0\" class=\"data row0 col0\" >1</td>\n",
       "      <td id=\"T_723ce_row0_col1\" class=\"data row0 col1\" >2</td>\n",
       "      <td id=\"T_723ce_row0_col2\" class=\"data row0 col2\" >3</td>\n",
       "    </tr>\n",
       "  </tbody>\n",
       "</table>\n"
      ],
      "text/plain": [
       "<pandas.io.formats.style.Styler at 0x7fd480e13df0>"
      ]
     },
     "execution_count": 69,
     "metadata": {},
     "output_type": "execute_result"
    }
   ],
   "source": [
    "c[1]"
   ]
  },
  {
   "cell_type": "code",
   "execution_count": null,
   "id": "22db53db",
   "metadata": {},
   "outputs": [],
   "source": []
  },
  {
   "cell_type": "code",
   "execution_count": null,
   "id": "ee10ed72",
   "metadata": {},
   "outputs": [],
   "source": []
  },
  {
   "cell_type": "code",
   "execution_count": null,
   "id": "0ee073a5",
   "metadata": {},
   "outputs": [],
   "source": []
  }
 ],
 "metadata": {
  "kernelspec": {
   "display_name": "Python 3 (ipykernel)",
   "language": "python",
   "name": "python3"
  },
  "language_info": {
   "codemirror_mode": {
    "name": "ipython",
    "version": 3
   },
   "file_extension": ".py",
   "mimetype": "text/x-python",
   "name": "python",
   "nbconvert_exporter": "python",
   "pygments_lexer": "ipython3",
   "version": "3.8.12"
  },
  "toc": {
   "base_numbering": 1,
   "nav_menu": {},
   "number_sections": true,
   "sideBar": true,
   "skip_h1_title": false,
   "title_cell": "Table of Contents",
   "title_sidebar": "Contents",
   "toc_cell": false,
   "toc_position": {},
   "toc_section_display": true,
   "toc_window_display": false
  }
 },
 "nbformat": 4,
 "nbformat_minor": 5
}
