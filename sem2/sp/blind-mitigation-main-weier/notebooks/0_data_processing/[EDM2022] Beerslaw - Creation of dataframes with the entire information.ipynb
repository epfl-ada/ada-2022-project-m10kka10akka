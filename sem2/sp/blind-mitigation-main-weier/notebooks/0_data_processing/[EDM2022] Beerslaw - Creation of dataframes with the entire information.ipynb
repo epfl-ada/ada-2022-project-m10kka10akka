{
 "cells": [
  {
   "cell_type": "code",
   "execution_count": 1,
   "id": "88a7272e",
   "metadata": {
    "ExecuteTime": {
     "end_time": "2022-06-02T16:40:25.213577Z",
     "start_time": "2022-06-02T16:40:24.936661Z"
    }
   },
   "outputs": [],
   "source": [
    "import os\n",
    "import pickle\n",
    "import yaml\n",
    "\n",
    "import numpy as np\n",
    "import pandas as pd"
   ]
  },
  {
   "cell_type": "markdown",
   "id": "46159979",
   "metadata": {},
   "source": [
    "# Demographics"
   ]
  },
  {
   "cell_type": "code",
   "execution_count": 2,
   "id": "7e3a557d",
   "metadata": {
    "ExecuteTime": {
     "end_time": "2022-06-02T16:40:25.651362Z",
     "start_time": "2022-06-02T16:40:25.641556Z"
    }
   },
   "outputs": [],
   "source": [
    "with open('../../data/beerslaw/features/raw/rankings.pkl', 'rb') as fp:\n",
    "    ranks = pickle.load(fp)\n",
    "    \n",
    "demographics = ranks[[\n",
    "    'username', 'language', 'field', 'level', 'year', 'gender', 'ranking'\n",
    "]]\n",
    "demographics = demographics.set_index('username')"
   ]
  },
  {
   "cell_type": "code",
   "execution_count": 3,
   "id": "d285bbaf",
   "metadata": {
    "ExecuteTime": {
     "end_time": "2022-06-02T16:40:25.938026Z",
     "start_time": "2022-06-02T16:40:25.924549Z"
    }
   },
   "outputs": [],
   "source": [
    "with open('../../data/beerslaw/features/raw/labelmaps/nconcepts_binary.yaml', 'r') as fp:\n",
    "    binconcepts = yaml.load(fp, Loader=yaml.FullLoader)\n",
    "    \n",
    "with open('../../data/beerslaw/features/raw/labelmaps/vector_binary.yaml', 'r') as fp:\n",
    "    binvector = yaml.load(fp, Loader=yaml.FullLoader)"
   ]
  },
  {
   "cell_type": "markdown",
   "id": "cda2d707",
   "metadata": {
    "ExecuteTime": {
     "end_time": "2022-06-01T14:46:50.612869Z",
     "start_time": "2022-06-01T14:46:50.607815Z"
    }
   },
   "source": [
    "# Simple States"
   ]
  },
  {
   "cell_type": "code",
   "execution_count": 4,
   "id": "df8e44a5",
   "metadata": {
    "ExecuteTime": {
     "end_time": "2022-06-02T16:40:26.678879Z",
     "start_time": "2022-06-02T16:40:26.588388Z"
    }
   },
   "outputs": [],
   "source": [
    "folder = '../../data/beerslaw/features/raw/simplestates/'\n",
    "with open(folder + 'sequences.pkl', 'rb') as fp:\n",
    "    sequences = pickle.load(fp)\n",
    "    \n",
    "with open(folder + 'indices.pkl', 'rb') as fp:\n",
    "    indices = pickle.load(fp)\n",
    "    \n",
    "with open(folder + 'id_dictionary.pkl', 'rb') as fp:\n",
    "    idd = pickle.load(fp)"
   ]
  },
  {
   "cell_type": "code",
   "execution_count": 5,
   "id": "21f1fd10",
   "metadata": {
    "ExecuteTime": {
     "end_time": "2022-06-02T16:40:27.414070Z",
     "start_time": "2022-06-02T16:40:27.223315Z"
    }
   },
   "outputs": [],
   "source": [
    "full_data = {}\n",
    "\n",
    "j = 0\n",
    "for i, idx in enumerate(indices):\n",
    "    lid = idd['sequences'][idx]['learner_id']\n",
    "    \n",
    "    if demographics.loc[lid]['field'] == 'Fast track':\n",
    "        continue\n",
    "    binconcepts_label = binconcepts['map'][demographics.loc[lid]['ranking']]\n",
    "    binconcepts_label = binconcepts['target_index'][binconcepts_label]\n",
    "    \n",
    "    binvector_label = binvector['map'][demographics.loc[lid]['ranking']]\n",
    "    binvector_label = binvector['target_index'][binvector_label]\n",
    "    \n",
    "    student = {\n",
    "        'sequence': sequences[i],\n",
    "        'idx': idx,\n",
    "        'learner_id': lid,\n",
    "        'gender': demographics.loc[lid]['gender'],\n",
    "        'language': demographics.loc[lid]['language'],\n",
    "        'field': demographics.loc[lid]['field'],\n",
    "        'year': demographics.loc[lid]['year'],\n",
    "        'ranking': demographics.loc[lid]['ranking'],\n",
    "        'binconcepts': binconcepts_label,\n",
    "        'binvector': binvector_label\n",
    "    }\n",
    "    full_data[j] = student\n",
    "    j += 1\n",
    "    \n",
    "full_data['available_demographics'] = [\n",
    "    'language', 'gender', 'field', 'year'\n",
    "] "
   ]
  },
  {
   "cell_type": "code",
   "execution_count": 6,
   "id": "ce14bd5d",
   "metadata": {
    "ExecuteTime": {
     "end_time": "2022-06-02T16:40:30.437928Z",
     "start_time": "2022-06-02T16:40:29.984586Z"
    }
   },
   "outputs": [],
   "source": [
    "with open('../../data/beerslaw/features/simplestates_sequences.pkl', 'wb') as fp:\n",
    "    pickle.dump(full_data, fp)"
   ]
  },
  {
   "cell_type": "markdown",
   "id": "01543d10",
   "metadata": {},
   "source": [
    "# Simple More States"
   ]
  },
  {
   "cell_type": "code",
   "execution_count": 7,
   "id": "3fecb52a",
   "metadata": {
    "ExecuteTime": {
     "end_time": "2022-06-02T16:40:30.818625Z",
     "start_time": "2022-06-02T16:40:30.701195Z"
    }
   },
   "outputs": [],
   "source": [
    "folder = '../../data/beerslaw/features/raw/simplemorestates/'\n",
    "with open(folder + 'sequences.pkl', 'rb') as fp:\n",
    "    sequences = pickle.load(fp)\n",
    "    \n",
    "with open(folder + 'indices.pkl', 'rb') as fp:\n",
    "    indices = pickle.load(fp)\n",
    "    \n",
    "with open(folder + 'id_dictionary.pkl', 'rb') as fp:\n",
    "    idd = pickle.load(fp)"
   ]
  },
  {
   "cell_type": "code",
   "execution_count": 8,
   "id": "4173d0b7",
   "metadata": {
    "ExecuteTime": {
     "end_time": "2022-06-02T16:40:31.231860Z",
     "start_time": "2022-06-02T16:40:31.027852Z"
    }
   },
   "outputs": [],
   "source": [
    "full_data = {}\n",
    "j=0\n",
    "for i, idx in enumerate(indices):\n",
    "    lid = idd['sequences'][idx]['learner_id']\n",
    "    if demographics.loc[lid]['field'] == 'Fast track':\n",
    "        continue\n",
    "        \n",
    "    binconcepts_label = binconcepts['map'][demographics.loc[lid]['ranking']]\n",
    "    binconcepts_label = binconcepts['target_index'][binconcepts_label]\n",
    "    \n",
    "    binvector_label = binvector['map'][demographics.loc[lid]['ranking']]\n",
    "    binvector_label = binvector['target_index'][binvector_label]\n",
    "    \n",
    "    student = {\n",
    "        'sequence': sequences[i],\n",
    "        'idx': idx,\n",
    "        'learner_id': lid,\n",
    "        'gender': demographics.loc[lid]['gender'],\n",
    "        'language': demographics.loc[lid]['language'],\n",
    "        'field': demographics.loc[lid]['field'],\n",
    "        'year': demographics.loc[lid]['year'],\n",
    "        'ranking': demographics.loc[lid]['ranking'],\n",
    "        'binconcepts': binconcepts_label,\n",
    "        'binvector': binvector_label\n",
    "    }\n",
    "    full_data[j] = student\n",
    "    j+=1\n",
    "    \n",
    "full_data['available_demographics'] = [\n",
    "    'language', 'gender', 'field', 'year'\n",
    "] "
   ]
  },
  {
   "cell_type": "code",
   "execution_count": 9,
   "id": "f8d11aa9",
   "metadata": {
    "ExecuteTime": {
     "end_time": "2022-06-02T16:40:32.199275Z",
     "start_time": "2022-06-02T16:40:31.621255Z"
    }
   },
   "outputs": [],
   "source": [
    "with open('../../data/beerslaw/features/simplemorestates_sequences.pkl', 'wb') as fp:\n",
    "    pickle.dump(full_data, fp)"
   ]
  },
  {
   "cell_type": "code",
   "execution_count": 10,
   "id": "43432de9",
   "metadata": {
    "ExecuteTime": {
     "end_time": "2022-06-02T16:40:32.375015Z",
     "start_time": "2022-06-02T16:40:32.365314Z"
    }
   },
   "outputs": [
    {
     "data": {
      "text/plain": [
       "array(['Biology', 'Chemistry', 'Chemistry, Textiles', 'Pharma Chemistry'],\n",
       "      dtype='<U19')"
      ]
     },
     "execution_count": 10,
     "metadata": {},
     "output_type": "execute_result"
    }
   ],
   "source": [
    "genders = [full_data[idx]['field'] for idx in full_data if idx != 'available_demographics']\n",
    "np.unique(genders)"
   ]
  },
  {
   "cell_type": "code",
   "execution_count": null,
   "id": "ac759025",
   "metadata": {},
   "outputs": [],
   "source": []
  },
  {
   "cell_type": "code",
   "execution_count": null,
   "id": "be76864e",
   "metadata": {},
   "outputs": [],
   "source": []
  },
  {
   "cell_type": "code",
   "execution_count": null,
   "id": "e57d63b1",
   "metadata": {},
   "outputs": [],
   "source": []
  },
  {
   "cell_type": "code",
   "execution_count": null,
   "id": "a34162a0",
   "metadata": {},
   "outputs": [],
   "source": []
  },
  {
   "cell_type": "code",
   "execution_count": null,
   "id": "9cd2f801",
   "metadata": {},
   "outputs": [],
   "source": []
  },
  {
   "cell_type": "code",
   "execution_count": null,
   "id": "d1d4f0c6",
   "metadata": {},
   "outputs": [],
   "source": []
  },
  {
   "cell_type": "code",
   "execution_count": null,
   "id": "6bb8902c",
   "metadata": {},
   "outputs": [],
   "source": []
  },
  {
   "cell_type": "code",
   "execution_count": null,
   "id": "a7ba4b98",
   "metadata": {},
   "outputs": [],
   "source": []
  },
  {
   "cell_type": "code",
   "execution_count": null,
   "id": "f0c71899",
   "metadata": {},
   "outputs": [],
   "source": []
  },
  {
   "cell_type": "code",
   "execution_count": null,
   "id": "524a03ea",
   "metadata": {},
   "outputs": [],
   "source": []
  },
  {
   "cell_type": "code",
   "execution_count": null,
   "id": "453cae52",
   "metadata": {},
   "outputs": [],
   "source": []
  },
  {
   "cell_type": "code",
   "execution_count": null,
   "id": "16596f79",
   "metadata": {},
   "outputs": [],
   "source": []
  },
  {
   "cell_type": "code",
   "execution_count": null,
   "id": "90e5225a",
   "metadata": {},
   "outputs": [],
   "source": []
  }
 ],
 "metadata": {
  "kernelspec": {
   "display_name": "Python 3 (ipykernel)",
   "language": "python",
   "name": "python3"
  },
  "language_info": {
   "codemirror_mode": {
    "name": "ipython",
    "version": 3
   },
   "file_extension": ".py",
   "mimetype": "text/x-python",
   "name": "python",
   "nbconvert_exporter": "python",
   "pygments_lexer": "ipython3",
   "version": "3.8.12"
  },
  "toc": {
   "base_numbering": 1,
   "nav_menu": {},
   "number_sections": true,
   "sideBar": true,
   "skip_h1_title": false,
   "title_cell": "Table of Contents",
   "title_sidebar": "Contents",
   "toc_cell": false,
   "toc_position": {},
   "toc_section_display": true,
   "toc_window_display": false
  }
 },
 "nbformat": 4,
 "nbformat_minor": 5
}
