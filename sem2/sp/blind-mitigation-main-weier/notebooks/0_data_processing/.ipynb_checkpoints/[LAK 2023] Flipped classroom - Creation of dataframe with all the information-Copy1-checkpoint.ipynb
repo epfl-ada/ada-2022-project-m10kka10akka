{
 "cells": [
  {
   "cell_type": "code",
   "execution_count": 1,
   "id": "7e28d193",
   "metadata": {
    "ExecuteTime": {
     "end_time": "2022-08-30T09:32:31.741819Z",
     "start_time": "2022-08-30T09:32:21.320516Z"
    }
   },
   "outputs": [
    {
     "name": "stderr",
     "output_type": "stream",
     "text": [
      "/opt/anaconda3/envs/PhetGPU/lib/python3.8/site-packages/requests/__init__.py:102: RequestsDependencyWarning: urllib3 (1.26.7) or chardet (5.0.0)/charset_normalizer (2.0.7) doesn't match a supported version!\n",
      "  warnings.warn(\"urllib3 ({}) or chardet ({})/charset_normalizer ({}) doesn't match a supported \"\n"
     ]
    }
   ],
   "source": [
    "import os\n",
    "import ast\n",
    "import time\n",
    "import json\n",
    "import pickle\n",
    "\n",
    "import pandas as pd\n",
    "import numpy as np\n",
    "import tensorflow as tf\n",
    "\n",
    "from math import floor, ceil\n",
    "import matplotlib.pyplot as plt\n",
    "import seaborn as sns\n",
    "\n",
    "import warnings\n",
    "warnings.filterwarnings(\"ignore\")"
   ]
  },
  {
   "cell_type": "code",
   "execution_count": 2,
   "id": "41d3b5f3",
   "metadata": {
    "ExecuteTime": {
     "end_time": "2022-08-30T09:32:31.762090Z",
     "start_time": "2022-08-30T09:32:31.748504Z"
    }
   },
   "outputs": [
    {
     "data": {
      "text/plain": [
       "'/Users/cock/kDrive/PhD/Projects/Labs/blind-mitigation/notebooks/0_data_processing'"
      ]
     },
     "execution_count": 2,
     "metadata": {},
     "output_type": "execute_result"
    }
   ],
   "source": [
    "pwd"
   ]
  },
  {
   "cell_type": "code",
   "execution_count": 3,
   "id": "06250a0b",
   "metadata": {
    "ExecuteTime": {
     "end_time": "2022-08-30T09:32:31.778594Z",
     "start_time": "2022-08-30T09:32:31.767929Z"
    }
   },
   "outputs": [
    {
     "name": "stdout",
     "output_type": "stream",
     "text": [
      "/Users/cock/kDrive/PhD/Projects/Labs/blind-mitigation/data/flipped_classrooms/raw\n"
     ]
    }
   ],
   "source": [
    "cd ../../data/flipped_classrooms/raw"
   ]
  },
  {
   "cell_type": "markdown",
   "id": "cdb3ae70",
   "metadata": {},
   "source": [
    "# Roberta's data"
   ]
  },
  {
   "cell_type": "code",
   "execution_count": 4,
   "id": "8af2f3c4",
   "metadata": {
    "ExecuteTime": {
     "end_time": "2022-08-30T09:32:31.804677Z",
     "start_time": "2022-08-30T09:32:31.795783Z"
    }
   },
   "outputs": [],
   "source": [
    "with open('roberta_final_features.pkl', 'rb') as fp:\n",
    "    roberta_features = pickle.load(fp)"
   ]
  },
  {
   "cell_type": "code",
   "execution_count": 5,
   "id": "e3c2dbe4",
   "metadata": {
    "ExecuteTime": {
     "end_time": "2022-08-30T09:32:31.819199Z",
     "start_time": "2022-08-30T09:32:31.809659Z"
    }
   },
   "outputs": [],
   "source": [
    "with open('./vinitra_intermediate_features.pkl', 'rb') as fp:\n",
    "    vinitra_features = pickle.load(fp)"
   ]
  },
  {
   "cell_type": "code",
   "execution_count": 6,
   "id": "2f78663b",
   "metadata": {
    "ExecuteTime": {
     "end_time": "2022-08-30T09:32:31.833525Z",
     "start_time": "2022-08-30T09:32:31.824029Z"
    }
   },
   "outputs": [
    {
     "data": {
      "text/plain": [
       "(215, 14, 82)"
      ]
     },
     "execution_count": 6,
     "metadata": {},
     "output_type": "execute_result"
    }
   ],
   "source": [
    "roberta_features.shape"
   ]
  },
  {
   "cell_type": "code",
   "execution_count": 7,
   "id": "c2e31014",
   "metadata": {
    "ExecuteTime": {
     "end_time": "2022-08-30T09:32:31.849852Z",
     "start_time": "2022-08-30T09:32:31.839273Z"
    }
   },
   "outputs": [
    {
     "data": {
      "text/plain": [
       "(214, 14, 85)"
      ]
     },
     "execution_count": 7,
     "metadata": {},
     "output_type": "execute_result"
    }
   ],
   "source": [
    "vinitra_features[0].shape"
   ]
  },
  {
   "cell_type": "markdown",
   "id": "40a1f51e",
   "metadata": {},
   "source": [
    "Performed a check, and the users are the same or at least seem to be in both dataframes."
   ]
  },
  {
   "cell_type": "markdown",
   "id": "4adff67c",
   "metadata": {},
   "source": [
    "# Id Matching"
   ]
  },
  {
   "cell_type": "code",
   "execution_count": 10,
   "id": "e9abb08a",
   "metadata": {
    "ExecuteTime": {
     "end_time": "2022-08-30T09:32:46.965628Z",
     "start_time": "2022-08-30T09:32:46.959554Z"
    }
   },
   "outputs": [],
   "source": [
    "features = roberta_features[:-1]\n",
    "labels = vinitra_features[1]\n",
    "assert len(features) == 214\n",
    "assert len(labels) == 214\n",
    "# Last row is for the explainability network"
   ]
  },
  {
   "cell_type": "code",
   "execution_count": 33,
   "id": "ae1b1695",
   "metadata": {
    "ExecuteTime": {
     "end_time": "2022-08-30T09:39:34.510501Z",
     "start_time": "2022-08-30T09:39:34.365133Z"
    }
   },
   "outputs": [
    {
     "data": {
      "text/html": [
       "<div>\n",
       "<style scoped>\n",
       "    .dataframe tbody tr th:only-of-type {\n",
       "        vertical-align: middle;\n",
       "    }\n",
       "\n",
       "    .dataframe tbody tr th {\n",
       "        vertical-align: top;\n",
       "    }\n",
       "\n",
       "    .dataframe thead th {\n",
       "        text-align: right;\n",
       "    }\n",
       "</style>\n",
       "<table border=\"1\" class=\"dataframe\">\n",
       "  <thead>\n",
       "    <tr style=\"text-align: right;\">\n",
       "      <th></th>\n",
       "      <th>student</th>\n",
       "      <th>profile</th>\n",
       "      <th>a</th>\n",
       "      <th>b</th>\n",
       "      <th>c</th>\n",
       "      <th>d</th>\n",
       "      <th>user_id</th>\n",
       "      <th>f</th>\n",
       "      <th>g</th>\n",
       "      <th>h</th>\n",
       "      <th>i</th>\n",
       "      <th>j</th>\n",
       "      <th>gender</th>\n",
       "      <th>l</th>\n",
       "      <th>m</th>\n",
       "      <th>n</th>\n",
       "      <th>country_diploma</th>\n",
       "      <th>p</th>\n",
       "      <th>q</th>\n",
       "      <th>r</th>\n",
       "    </tr>\n",
       "  </thead>\n",
       "  <tbody>\n",
       "    <tr>\n",
       "      <th>0</th>\n",
       "      <td>0</td>\n",
       "      <td>B</td>\n",
       "      <td>4.50</td>\n",
       "      <td>0.0</td>\n",
       "      <td>0.0</td>\n",
       "      <td>13.0</td>\n",
       "      <td>ee38f02e4aefeea014b70358a50a3c42</td>\n",
       "      <td>46413</td>\n",
       "      <td>296767</td>\n",
       "      <td>Y2-2018-19</td>\n",
       "      <td>Flipped</td>\n",
       "      <td>4427T2597</td>\n",
       "      <td>NaN</td>\n",
       "      <td>NaN</td>\n",
       "      <td>NaN</td>\n",
       "      <td>NaN</td>\n",
       "      <td>NaN</td>\n",
       "      <td>NaN</td>\n",
       "      <td>NaN</td>\n",
       "      <td>Y2-2018-19</td>\n",
       "    </tr>\n",
       "    <tr>\n",
       "      <th>1</th>\n",
       "      <td>1</td>\n",
       "      <td>D</td>\n",
       "      <td>4.50</td>\n",
       "      <td>0.0</td>\n",
       "      <td>0.0</td>\n",
       "      <td>13.0</td>\n",
       "      <td>3a50861aa4ceb79eff4def23a39c6ec5</td>\n",
       "      <td>48558</td>\n",
       "      <td>301739</td>\n",
       "      <td>Y2-2018-19</td>\n",
       "      <td>Flipped</td>\n",
       "      <td>4297T2518</td>\n",
       "      <td>M</td>\n",
       "      <td>IN</td>\n",
       "      <td>Diplôme HES</td>\n",
       "      <td>Suisse.Autres</td>\n",
       "      <td>Suisse</td>\n",
       "      <td>1.0</td>\n",
       "      <td>15.0</td>\n",
       "      <td>Y2-2018-19</td>\n",
       "    </tr>\n",
       "    <tr>\n",
       "      <th>2</th>\n",
       "      <td>2</td>\n",
       "      <td>B</td>\n",
       "      <td>5.25</td>\n",
       "      <td>0.0</td>\n",
       "      <td>0.0</td>\n",
       "      <td>12.0</td>\n",
       "      <td>883d63120d49df4f3cd1eac85be24696</td>\n",
       "      <td>48666</td>\n",
       "      <td>300667</td>\n",
       "      <td>Y2-2018-19</td>\n",
       "      <td>Flipped</td>\n",
       "      <td>3935T2301</td>\n",
       "      <td>M</td>\n",
       "      <td>SIE</td>\n",
       "      <td>Mat.Opt.Physique.Math</td>\n",
       "      <td>Suisse.PAM</td>\n",
       "      <td>Suisse</td>\n",
       "      <td>1.0</td>\n",
       "      <td>54.0</td>\n",
       "      <td>Y2-2018-19</td>\n",
       "    </tr>\n",
       "    <tr>\n",
       "      <th>3</th>\n",
       "      <td>3</td>\n",
       "      <td>B</td>\n",
       "      <td>4.50</td>\n",
       "      <td>0.0</td>\n",
       "      <td>0.0</td>\n",
       "      <td>11.0</td>\n",
       "      <td>a9e4c75be2065bad69e5556da9159555</td>\n",
       "      <td>46476</td>\n",
       "      <td>303808</td>\n",
       "      <td>Y2-2018-19</td>\n",
       "      <td>Flipped</td>\n",
       "      <td>4646T2727</td>\n",
       "      <td>F</td>\n",
       "      <td>CGC</td>\n",
       "      <td>Autre.Suisse</td>\n",
       "      <td>Suisse.Autres</td>\n",
       "      <td>Suisse</td>\n",
       "      <td>1.0</td>\n",
       "      <td>56.0</td>\n",
       "      <td>Y2-2018-19</td>\n",
       "    </tr>\n",
       "    <tr>\n",
       "      <th>4</th>\n",
       "      <td>4</td>\n",
       "      <td>E</td>\n",
       "      <td>4.75</td>\n",
       "      <td>0.0</td>\n",
       "      <td>1.0</td>\n",
       "      <td>8.0</td>\n",
       "      <td>3c7045987cd5d98c1c9b8960eedd5943</td>\n",
       "      <td>48870</td>\n",
       "      <td>298071</td>\n",
       "      <td>Y2-2018-19</td>\n",
       "      <td>Flipped</td>\n",
       "      <td>951T511</td>\n",
       "      <td>F</td>\n",
       "      <td>SV</td>\n",
       "      <td>Bacc. étranger</td>\n",
       "      <td>France</td>\n",
       "      <td>France</td>\n",
       "      <td>1.0</td>\n",
       "      <td>53.0</td>\n",
       "      <td>Y2-2018-19</td>\n",
       "    </tr>\n",
       "  </tbody>\n",
       "</table>\n",
       "</div>"
      ],
      "text/plain": [
       "   student profile     a    b    c     d                           user_id  \\\n",
       "0        0       B  4.50  0.0  0.0  13.0  ee38f02e4aefeea014b70358a50a3c42   \n",
       "1        1       D  4.50  0.0  0.0  13.0  3a50861aa4ceb79eff4def23a39c6ec5   \n",
       "2        2       B  5.25  0.0  0.0  12.0  883d63120d49df4f3cd1eac85be24696   \n",
       "3        3       B  4.50  0.0  0.0  11.0  a9e4c75be2065bad69e5556da9159555   \n",
       "4        4       E  4.75  0.0  1.0   8.0  3c7045987cd5d98c1c9b8960eedd5943   \n",
       "\n",
       "       f       g           h        i          j gender    l  \\\n",
       "0  46413  296767  Y2-2018-19  Flipped  4427T2597    NaN  NaN   \n",
       "1  48558  301739  Y2-2018-19  Flipped  4297T2518      M   IN   \n",
       "2  48666  300667  Y2-2018-19  Flipped  3935T2301      M  SIE   \n",
       "3  46476  303808  Y2-2018-19  Flipped  4646T2727      F  CGC   \n",
       "4  48870  298071  Y2-2018-19  Flipped    951T511      F   SV   \n",
       "\n",
       "                       m              n country_diploma    p     q           r  \n",
       "0                    NaN            NaN             NaN  NaN   NaN  Y2-2018-19  \n",
       "1            Diplôme HES  Suisse.Autres          Suisse  1.0  15.0  Y2-2018-19  \n",
       "2  Mat.Opt.Physique.Math     Suisse.PAM          Suisse  1.0  54.0  Y2-2018-19  \n",
       "3           Autre.Suisse  Suisse.Autres          Suisse  1.0  56.0  Y2-2018-19  \n",
       "4         Bacc. étranger         France          France  1.0  53.0  Y2-2018-19  "
      ]
     },
     "metadata": {},
     "output_type": "display_data"
    },
    {
     "name": "stdout",
     "output_type": "stream",
     "text": [
      "214\n",
      "214\n"
     ]
    }
   ],
   "source": [
    "# Matching of ids between vinitra's features's row and the id with the demographics\n",
    "id_matching = pd.read_csv('./features/apr21-feature-mooc-flipped/user_id_mapping-epfl_algebrelineaire.csv')\n",
    "id_matching.columns = ['user_row', 'user_id']\n",
    "id_matching.head()\n",
    "\n",
    "# demographics information from Vinitra, in the mooc folder in the server\n",
    "demographics_all = pd.read_csv('./aied_flipped_paola_clusters.csv') \n",
    "demographics_all = demographics_all.rename(columns = {\n",
    "    'e': 'user_id', 'o': 'country_diploma', 'k': 'gender'\n",
    "})\n",
    "display(demographics_all.head())\n",
    "\n",
    "# Merging the row id, to the id, to the demographics data\n",
    "print(len(id_matching))\n",
    "demographics = id_matching.merge(demographics_all, how='left', on=['user_id'])\n",
    "print(len(id_matching))"
   ]
  },
  {
   "cell_type": "code",
   "execution_count": 36,
   "id": "65344038",
   "metadata": {
    "ExecuteTime": {
     "end_time": "2022-08-30T09:43:59.595731Z",
     "start_time": "2022-08-30T09:43:59.496075Z"
    }
   },
   "outputs": [
    {
     "data": {
      "text/html": [
       "<div>\n",
       "<style scoped>\n",
       "    .dataframe tbody tr th:only-of-type {\n",
       "        vertical-align: middle;\n",
       "    }\n",
       "\n",
       "    .dataframe tbody tr th {\n",
       "        vertical-align: top;\n",
       "    }\n",
       "\n",
       "    .dataframe thead th {\n",
       "        text-align: right;\n",
       "    }\n",
       "</style>\n",
       "<table border=\"1\" class=\"dataframe\">\n",
       "  <thead>\n",
       "    <tr style=\"text-align: right;\">\n",
       "      <th></th>\n",
       "      <th>user_row</th>\n",
       "      <th>user_id</th>\n",
       "      <th>student</th>\n",
       "      <th>profile</th>\n",
       "      <th>a</th>\n",
       "      <th>b</th>\n",
       "      <th>c</th>\n",
       "      <th>d</th>\n",
       "      <th>f</th>\n",
       "      <th>g</th>\n",
       "      <th>...</th>\n",
       "      <th>j</th>\n",
       "      <th>gender</th>\n",
       "      <th>l</th>\n",
       "      <th>m</th>\n",
       "      <th>n</th>\n",
       "      <th>country_diploma</th>\n",
       "      <th>p</th>\n",
       "      <th>q</th>\n",
       "      <th>r</th>\n",
       "      <th>nan_values</th>\n",
       "    </tr>\n",
       "  </thead>\n",
       "  <tbody>\n",
       "    <tr>\n",
       "      <th>5</th>\n",
       "      <td>5</td>\n",
       "      <td>bb60fce06db2f82cb6a91f0583cc9b02</td>\n",
       "      <td>NaN</td>\n",
       "      <td>NaN</td>\n",
       "      <td>NaN</td>\n",
       "      <td>NaN</td>\n",
       "      <td>NaN</td>\n",
       "      <td>NaN</td>\n",
       "      <td>NaN</td>\n",
       "      <td>NaN</td>\n",
       "      <td>...</td>\n",
       "      <td>NaN</td>\n",
       "      <td>NaN</td>\n",
       "      <td>NaN</td>\n",
       "      <td>NaN</td>\n",
       "      <td>NaN</td>\n",
       "      <td>NaN</td>\n",
       "      <td>NaN</td>\n",
       "      <td>NaN</td>\n",
       "      <td>NaN</td>\n",
       "      <td>2</td>\n",
       "    </tr>\n",
       "    <tr>\n",
       "      <th>14</th>\n",
       "      <td>14</td>\n",
       "      <td>991aeaa80650c5aa985698c5bfaae855</td>\n",
       "      <td>NaN</td>\n",
       "      <td>NaN</td>\n",
       "      <td>NaN</td>\n",
       "      <td>NaN</td>\n",
       "      <td>NaN</td>\n",
       "      <td>NaN</td>\n",
       "      <td>NaN</td>\n",
       "      <td>NaN</td>\n",
       "      <td>...</td>\n",
       "      <td>NaN</td>\n",
       "      <td>NaN</td>\n",
       "      <td>NaN</td>\n",
       "      <td>NaN</td>\n",
       "      <td>NaN</td>\n",
       "      <td>NaN</td>\n",
       "      <td>NaN</td>\n",
       "      <td>NaN</td>\n",
       "      <td>NaN</td>\n",
       "      <td>2</td>\n",
       "    </tr>\n",
       "    <tr>\n",
       "      <th>15</th>\n",
       "      <td>15</td>\n",
       "      <td>955b205d7facf24d870a70c8c6e41c2f</td>\n",
       "      <td>NaN</td>\n",
       "      <td>NaN</td>\n",
       "      <td>NaN</td>\n",
       "      <td>NaN</td>\n",
       "      <td>NaN</td>\n",
       "      <td>NaN</td>\n",
       "      <td>NaN</td>\n",
       "      <td>NaN</td>\n",
       "      <td>...</td>\n",
       "      <td>NaN</td>\n",
       "      <td>NaN</td>\n",
       "      <td>NaN</td>\n",
       "      <td>NaN</td>\n",
       "      <td>NaN</td>\n",
       "      <td>NaN</td>\n",
       "      <td>NaN</td>\n",
       "      <td>NaN</td>\n",
       "      <td>NaN</td>\n",
       "      <td>2</td>\n",
       "    </tr>\n",
       "    <tr>\n",
       "      <th>37</th>\n",
       "      <td>37</td>\n",
       "      <td>dbd27ac860fac8aea8b0de09d372a9aa</td>\n",
       "      <td>NaN</td>\n",
       "      <td>NaN</td>\n",
       "      <td>NaN</td>\n",
       "      <td>NaN</td>\n",
       "      <td>NaN</td>\n",
       "      <td>NaN</td>\n",
       "      <td>NaN</td>\n",
       "      <td>NaN</td>\n",
       "      <td>...</td>\n",
       "      <td>NaN</td>\n",
       "      <td>NaN</td>\n",
       "      <td>NaN</td>\n",
       "      <td>NaN</td>\n",
       "      <td>NaN</td>\n",
       "      <td>NaN</td>\n",
       "      <td>NaN</td>\n",
       "      <td>NaN</td>\n",
       "      <td>NaN</td>\n",
       "      <td>2</td>\n",
       "    </tr>\n",
       "    <tr>\n",
       "      <th>47</th>\n",
       "      <td>47</td>\n",
       "      <td>37daf51c8a25c5b1bae7614c31c66715</td>\n",
       "      <td>NaN</td>\n",
       "      <td>NaN</td>\n",
       "      <td>NaN</td>\n",
       "      <td>NaN</td>\n",
       "      <td>NaN</td>\n",
       "      <td>NaN</td>\n",
       "      <td>NaN</td>\n",
       "      <td>NaN</td>\n",
       "      <td>...</td>\n",
       "      <td>NaN</td>\n",
       "      <td>NaN</td>\n",
       "      <td>NaN</td>\n",
       "      <td>NaN</td>\n",
       "      <td>NaN</td>\n",
       "      <td>NaN</td>\n",
       "      <td>NaN</td>\n",
       "      <td>NaN</td>\n",
       "      <td>NaN</td>\n",
       "      <td>2</td>\n",
       "    </tr>\n",
       "    <tr>\n",
       "      <th>56</th>\n",
       "      <td>56</td>\n",
       "      <td>ffb1bae8630b206879f2000d82e389d5</td>\n",
       "      <td>NaN</td>\n",
       "      <td>NaN</td>\n",
       "      <td>NaN</td>\n",
       "      <td>NaN</td>\n",
       "      <td>NaN</td>\n",
       "      <td>NaN</td>\n",
       "      <td>NaN</td>\n",
       "      <td>NaN</td>\n",
       "      <td>...</td>\n",
       "      <td>NaN</td>\n",
       "      <td>NaN</td>\n",
       "      <td>NaN</td>\n",
       "      <td>NaN</td>\n",
       "      <td>NaN</td>\n",
       "      <td>NaN</td>\n",
       "      <td>NaN</td>\n",
       "      <td>NaN</td>\n",
       "      <td>NaN</td>\n",
       "      <td>2</td>\n",
       "    </tr>\n",
       "    <tr>\n",
       "      <th>58</th>\n",
       "      <td>58</td>\n",
       "      <td>b3a94d328838423f69a7117598b6f9e4</td>\n",
       "      <td>NaN</td>\n",
       "      <td>NaN</td>\n",
       "      <td>NaN</td>\n",
       "      <td>NaN</td>\n",
       "      <td>NaN</td>\n",
       "      <td>NaN</td>\n",
       "      <td>NaN</td>\n",
       "      <td>NaN</td>\n",
       "      <td>...</td>\n",
       "      <td>NaN</td>\n",
       "      <td>NaN</td>\n",
       "      <td>NaN</td>\n",
       "      <td>NaN</td>\n",
       "      <td>NaN</td>\n",
       "      <td>NaN</td>\n",
       "      <td>NaN</td>\n",
       "      <td>NaN</td>\n",
       "      <td>NaN</td>\n",
       "      <td>2</td>\n",
       "    </tr>\n",
       "    <tr>\n",
       "      <th>60</th>\n",
       "      <td>60</td>\n",
       "      <td>14a6546489cfed0b9690efb5c3bed269</td>\n",
       "      <td>80.0</td>\n",
       "      <td>D</td>\n",
       "      <td>3.25</td>\n",
       "      <td>1.0</td>\n",
       "      <td>0.0</td>\n",
       "      <td>12.0</td>\n",
       "      <td>46485.0</td>\n",
       "      <td>302150.0</td>\n",
       "      <td>...</td>\n",
       "      <td>1354T752</td>\n",
       "      <td>NaN</td>\n",
       "      <td>NaN</td>\n",
       "      <td>NaN</td>\n",
       "      <td>NaN</td>\n",
       "      <td>NaN</td>\n",
       "      <td>NaN</td>\n",
       "      <td>NaN</td>\n",
       "      <td>Y2-2018-19</td>\n",
       "      <td>2</td>\n",
       "    </tr>\n",
       "    <tr>\n",
       "      <th>77</th>\n",
       "      <td>77</td>\n",
       "      <td>c2d629e0fecc00783ff0f3279ad49d29</td>\n",
       "      <td>NaN</td>\n",
       "      <td>NaN</td>\n",
       "      <td>NaN</td>\n",
       "      <td>NaN</td>\n",
       "      <td>NaN</td>\n",
       "      <td>NaN</td>\n",
       "      <td>NaN</td>\n",
       "      <td>NaN</td>\n",
       "      <td>...</td>\n",
       "      <td>NaN</td>\n",
       "      <td>NaN</td>\n",
       "      <td>NaN</td>\n",
       "      <td>NaN</td>\n",
       "      <td>NaN</td>\n",
       "      <td>NaN</td>\n",
       "      <td>NaN</td>\n",
       "      <td>NaN</td>\n",
       "      <td>NaN</td>\n",
       "      <td>2</td>\n",
       "    </tr>\n",
       "    <tr>\n",
       "      <th>83</th>\n",
       "      <td>83</td>\n",
       "      <td>dd9a851385f54250aad7c7006fe381e4</td>\n",
       "      <td>NaN</td>\n",
       "      <td>NaN</td>\n",
       "      <td>NaN</td>\n",
       "      <td>NaN</td>\n",
       "      <td>NaN</td>\n",
       "      <td>NaN</td>\n",
       "      <td>NaN</td>\n",
       "      <td>NaN</td>\n",
       "      <td>...</td>\n",
       "      <td>NaN</td>\n",
       "      <td>NaN</td>\n",
       "      <td>NaN</td>\n",
       "      <td>NaN</td>\n",
       "      <td>NaN</td>\n",
       "      <td>NaN</td>\n",
       "      <td>NaN</td>\n",
       "      <td>NaN</td>\n",
       "      <td>NaN</td>\n",
       "      <td>2</td>\n",
       "    </tr>\n",
       "    <tr>\n",
       "      <th>85</th>\n",
       "      <td>85</td>\n",
       "      <td>ff468eaedb189f273bc0ce36af4e86cd</td>\n",
       "      <td>NaN</td>\n",
       "      <td>NaN</td>\n",
       "      <td>NaN</td>\n",
       "      <td>NaN</td>\n",
       "      <td>NaN</td>\n",
       "      <td>NaN</td>\n",
       "      <td>NaN</td>\n",
       "      <td>NaN</td>\n",
       "      <td>...</td>\n",
       "      <td>NaN</td>\n",
       "      <td>NaN</td>\n",
       "      <td>NaN</td>\n",
       "      <td>NaN</td>\n",
       "      <td>NaN</td>\n",
       "      <td>NaN</td>\n",
       "      <td>NaN</td>\n",
       "      <td>NaN</td>\n",
       "      <td>NaN</td>\n",
       "      <td>2</td>\n",
       "    </tr>\n",
       "    <tr>\n",
       "      <th>92</th>\n",
       "      <td>92</td>\n",
       "      <td>745ac40283147b090e957c8b9e47acb3</td>\n",
       "      <td>NaN</td>\n",
       "      <td>NaN</td>\n",
       "      <td>NaN</td>\n",
       "      <td>NaN</td>\n",
       "      <td>NaN</td>\n",
       "      <td>NaN</td>\n",
       "      <td>NaN</td>\n",
       "      <td>NaN</td>\n",
       "      <td>...</td>\n",
       "      <td>NaN</td>\n",
       "      <td>NaN</td>\n",
       "      <td>NaN</td>\n",
       "      <td>NaN</td>\n",
       "      <td>NaN</td>\n",
       "      <td>NaN</td>\n",
       "      <td>NaN</td>\n",
       "      <td>NaN</td>\n",
       "      <td>NaN</td>\n",
       "      <td>2</td>\n",
       "    </tr>\n",
       "    <tr>\n",
       "      <th>94</th>\n",
       "      <td>94</td>\n",
       "      <td>bbbc7f602d2e87c5be4278554f8e8ca3</td>\n",
       "      <td>NaN</td>\n",
       "      <td>NaN</td>\n",
       "      <td>NaN</td>\n",
       "      <td>NaN</td>\n",
       "      <td>NaN</td>\n",
       "      <td>NaN</td>\n",
       "      <td>NaN</td>\n",
       "      <td>NaN</td>\n",
       "      <td>...</td>\n",
       "      <td>NaN</td>\n",
       "      <td>NaN</td>\n",
       "      <td>NaN</td>\n",
       "      <td>NaN</td>\n",
       "      <td>NaN</td>\n",
       "      <td>NaN</td>\n",
       "      <td>NaN</td>\n",
       "      <td>NaN</td>\n",
       "      <td>NaN</td>\n",
       "      <td>2</td>\n",
       "    </tr>\n",
       "    <tr>\n",
       "      <th>108</th>\n",
       "      <td>108</td>\n",
       "      <td>59943a9bd11fb2e76c55bb8480fbb5d2</td>\n",
       "      <td>NaN</td>\n",
       "      <td>NaN</td>\n",
       "      <td>NaN</td>\n",
       "      <td>NaN</td>\n",
       "      <td>NaN</td>\n",
       "      <td>NaN</td>\n",
       "      <td>NaN</td>\n",
       "      <td>NaN</td>\n",
       "      <td>...</td>\n",
       "      <td>NaN</td>\n",
       "      <td>NaN</td>\n",
       "      <td>NaN</td>\n",
       "      <td>NaN</td>\n",
       "      <td>NaN</td>\n",
       "      <td>NaN</td>\n",
       "      <td>NaN</td>\n",
       "      <td>NaN</td>\n",
       "      <td>NaN</td>\n",
       "      <td>2</td>\n",
       "    </tr>\n",
       "    <tr>\n",
       "      <th>114</th>\n",
       "      <td>114</td>\n",
       "      <td>ec0e293b023e0ed7728c10b75fd61ad4</td>\n",
       "      <td>NaN</td>\n",
       "      <td>NaN</td>\n",
       "      <td>NaN</td>\n",
       "      <td>NaN</td>\n",
       "      <td>NaN</td>\n",
       "      <td>NaN</td>\n",
       "      <td>NaN</td>\n",
       "      <td>NaN</td>\n",
       "      <td>...</td>\n",
       "      <td>NaN</td>\n",
       "      <td>NaN</td>\n",
       "      <td>NaN</td>\n",
       "      <td>NaN</td>\n",
       "      <td>NaN</td>\n",
       "      <td>NaN</td>\n",
       "      <td>NaN</td>\n",
       "      <td>NaN</td>\n",
       "      <td>NaN</td>\n",
       "      <td>2</td>\n",
       "    </tr>\n",
       "    <tr>\n",
       "      <th>120</th>\n",
       "      <td>120</td>\n",
       "      <td>e662df714d485390971e18ec47a979f0</td>\n",
       "      <td>NaN</td>\n",
       "      <td>NaN</td>\n",
       "      <td>NaN</td>\n",
       "      <td>NaN</td>\n",
       "      <td>NaN</td>\n",
       "      <td>NaN</td>\n",
       "      <td>NaN</td>\n",
       "      <td>NaN</td>\n",
       "      <td>...</td>\n",
       "      <td>NaN</td>\n",
       "      <td>NaN</td>\n",
       "      <td>NaN</td>\n",
       "      <td>NaN</td>\n",
       "      <td>NaN</td>\n",
       "      <td>NaN</td>\n",
       "      <td>NaN</td>\n",
       "      <td>NaN</td>\n",
       "      <td>NaN</td>\n",
       "      <td>2</td>\n",
       "    </tr>\n",
       "    <tr>\n",
       "      <th>128</th>\n",
       "      <td>128</td>\n",
       "      <td>fa9cc7ec61456839a6834f0d303378cd</td>\n",
       "      <td>NaN</td>\n",
       "      <td>NaN</td>\n",
       "      <td>NaN</td>\n",
       "      <td>NaN</td>\n",
       "      <td>NaN</td>\n",
       "      <td>NaN</td>\n",
       "      <td>NaN</td>\n",
       "      <td>NaN</td>\n",
       "      <td>...</td>\n",
       "      <td>NaN</td>\n",
       "      <td>NaN</td>\n",
       "      <td>NaN</td>\n",
       "      <td>NaN</td>\n",
       "      <td>NaN</td>\n",
       "      <td>NaN</td>\n",
       "      <td>NaN</td>\n",
       "      <td>NaN</td>\n",
       "      <td>NaN</td>\n",
       "      <td>2</td>\n",
       "    </tr>\n",
       "    <tr>\n",
       "      <th>132</th>\n",
       "      <td>132</td>\n",
       "      <td>ab3fbf3ab5fa090d785d33f74d8772a4</td>\n",
       "      <td>180.0</td>\n",
       "      <td>E</td>\n",
       "      <td>5.75</td>\n",
       "      <td>0.0</td>\n",
       "      <td>0.0</td>\n",
       "      <td>13.0</td>\n",
       "      <td>91921.0</td>\n",
       "      <td>315807.0</td>\n",
       "      <td>...</td>\n",
       "      <td>4665T2736</td>\n",
       "      <td>NaN</td>\n",
       "      <td>NaN</td>\n",
       "      <td>NaN</td>\n",
       "      <td>NaN</td>\n",
       "      <td>NaN</td>\n",
       "      <td>NaN</td>\n",
       "      <td>NaN</td>\n",
       "      <td>Y3-2019-20</td>\n",
       "      <td>2</td>\n",
       "    </tr>\n",
       "    <tr>\n",
       "      <th>135</th>\n",
       "      <td>135</td>\n",
       "      <td>c87ed60c08613f6220d8547b2aabf2b0</td>\n",
       "      <td>NaN</td>\n",
       "      <td>NaN</td>\n",
       "      <td>NaN</td>\n",
       "      <td>NaN</td>\n",
       "      <td>NaN</td>\n",
       "      <td>NaN</td>\n",
       "      <td>NaN</td>\n",
       "      <td>NaN</td>\n",
       "      <td>...</td>\n",
       "      <td>NaN</td>\n",
       "      <td>NaN</td>\n",
       "      <td>NaN</td>\n",
       "      <td>NaN</td>\n",
       "      <td>NaN</td>\n",
       "      <td>NaN</td>\n",
       "      <td>NaN</td>\n",
       "      <td>NaN</td>\n",
       "      <td>NaN</td>\n",
       "      <td>2</td>\n",
       "    </tr>\n",
       "    <tr>\n",
       "      <th>160</th>\n",
       "      <td>160</td>\n",
       "      <td>8691836c96c86104900dac32038afff8</td>\n",
       "      <td>NaN</td>\n",
       "      <td>NaN</td>\n",
       "      <td>NaN</td>\n",
       "      <td>NaN</td>\n",
       "      <td>NaN</td>\n",
       "      <td>NaN</td>\n",
       "      <td>NaN</td>\n",
       "      <td>NaN</td>\n",
       "      <td>...</td>\n",
       "      <td>NaN</td>\n",
       "      <td>NaN</td>\n",
       "      <td>NaN</td>\n",
       "      <td>NaN</td>\n",
       "      <td>NaN</td>\n",
       "      <td>NaN</td>\n",
       "      <td>NaN</td>\n",
       "      <td>NaN</td>\n",
       "      <td>NaN</td>\n",
       "      <td>2</td>\n",
       "    </tr>\n",
       "    <tr>\n",
       "      <th>180</th>\n",
       "      <td>180</td>\n",
       "      <td>d94d7583cbc15e19e6df373fc8b1a312</td>\n",
       "      <td>NaN</td>\n",
       "      <td>NaN</td>\n",
       "      <td>NaN</td>\n",
       "      <td>NaN</td>\n",
       "      <td>NaN</td>\n",
       "      <td>NaN</td>\n",
       "      <td>NaN</td>\n",
       "      <td>NaN</td>\n",
       "      <td>...</td>\n",
       "      <td>NaN</td>\n",
       "      <td>NaN</td>\n",
       "      <td>NaN</td>\n",
       "      <td>NaN</td>\n",
       "      <td>NaN</td>\n",
       "      <td>NaN</td>\n",
       "      <td>NaN</td>\n",
       "      <td>NaN</td>\n",
       "      <td>NaN</td>\n",
       "      <td>2</td>\n",
       "    </tr>\n",
       "    <tr>\n",
       "      <th>190</th>\n",
       "      <td>190</td>\n",
       "      <td>7c40aea4842870fd43cac95c3285c8a7</td>\n",
       "      <td>NaN</td>\n",
       "      <td>NaN</td>\n",
       "      <td>NaN</td>\n",
       "      <td>NaN</td>\n",
       "      <td>NaN</td>\n",
       "      <td>NaN</td>\n",
       "      <td>NaN</td>\n",
       "      <td>NaN</td>\n",
       "      <td>...</td>\n",
       "      <td>NaN</td>\n",
       "      <td>NaN</td>\n",
       "      <td>NaN</td>\n",
       "      <td>NaN</td>\n",
       "      <td>NaN</td>\n",
       "      <td>NaN</td>\n",
       "      <td>NaN</td>\n",
       "      <td>NaN</td>\n",
       "      <td>NaN</td>\n",
       "      <td>2</td>\n",
       "    </tr>\n",
       "    <tr>\n",
       "      <th>200</th>\n",
       "      <td>200</td>\n",
       "      <td>e0d6f4d5fc066f4275f588565ef01092</td>\n",
       "      <td>NaN</td>\n",
       "      <td>NaN</td>\n",
       "      <td>NaN</td>\n",
       "      <td>NaN</td>\n",
       "      <td>NaN</td>\n",
       "      <td>NaN</td>\n",
       "      <td>NaN</td>\n",
       "      <td>NaN</td>\n",
       "      <td>...</td>\n",
       "      <td>NaN</td>\n",
       "      <td>NaN</td>\n",
       "      <td>NaN</td>\n",
       "      <td>NaN</td>\n",
       "      <td>NaN</td>\n",
       "      <td>NaN</td>\n",
       "      <td>NaN</td>\n",
       "      <td>NaN</td>\n",
       "      <td>NaN</td>\n",
       "      <td>2</td>\n",
       "    </tr>\n",
       "  </tbody>\n",
       "</table>\n",
       "<p>23 rows × 22 columns</p>\n",
       "</div>"
      ],
      "text/plain": [
       "     user_row                           user_id  student profile     a    b  \\\n",
       "5           5  bb60fce06db2f82cb6a91f0583cc9b02      NaN     NaN   NaN  NaN   \n",
       "14         14  991aeaa80650c5aa985698c5bfaae855      NaN     NaN   NaN  NaN   \n",
       "15         15  955b205d7facf24d870a70c8c6e41c2f      NaN     NaN   NaN  NaN   \n",
       "37         37  dbd27ac860fac8aea8b0de09d372a9aa      NaN     NaN   NaN  NaN   \n",
       "47         47  37daf51c8a25c5b1bae7614c31c66715      NaN     NaN   NaN  NaN   \n",
       "56         56  ffb1bae8630b206879f2000d82e389d5      NaN     NaN   NaN  NaN   \n",
       "58         58  b3a94d328838423f69a7117598b6f9e4      NaN     NaN   NaN  NaN   \n",
       "60         60  14a6546489cfed0b9690efb5c3bed269     80.0       D  3.25  1.0   \n",
       "77         77  c2d629e0fecc00783ff0f3279ad49d29      NaN     NaN   NaN  NaN   \n",
       "83         83  dd9a851385f54250aad7c7006fe381e4      NaN     NaN   NaN  NaN   \n",
       "85         85  ff468eaedb189f273bc0ce36af4e86cd      NaN     NaN   NaN  NaN   \n",
       "92         92  745ac40283147b090e957c8b9e47acb3      NaN     NaN   NaN  NaN   \n",
       "94         94  bbbc7f602d2e87c5be4278554f8e8ca3      NaN     NaN   NaN  NaN   \n",
       "108       108  59943a9bd11fb2e76c55bb8480fbb5d2      NaN     NaN   NaN  NaN   \n",
       "114       114  ec0e293b023e0ed7728c10b75fd61ad4      NaN     NaN   NaN  NaN   \n",
       "120       120  e662df714d485390971e18ec47a979f0      NaN     NaN   NaN  NaN   \n",
       "128       128  fa9cc7ec61456839a6834f0d303378cd      NaN     NaN   NaN  NaN   \n",
       "132       132  ab3fbf3ab5fa090d785d33f74d8772a4    180.0       E  5.75  0.0   \n",
       "135       135  c87ed60c08613f6220d8547b2aabf2b0      NaN     NaN   NaN  NaN   \n",
       "160       160  8691836c96c86104900dac32038afff8      NaN     NaN   NaN  NaN   \n",
       "180       180  d94d7583cbc15e19e6df373fc8b1a312      NaN     NaN   NaN  NaN   \n",
       "190       190  7c40aea4842870fd43cac95c3285c8a7      NaN     NaN   NaN  NaN   \n",
       "200       200  e0d6f4d5fc066f4275f588565ef01092      NaN     NaN   NaN  NaN   \n",
       "\n",
       "       c     d        f         g  ...          j gender    l    m    n  \\\n",
       "5    NaN   NaN      NaN       NaN  ...        NaN    NaN  NaN  NaN  NaN   \n",
       "14   NaN   NaN      NaN       NaN  ...        NaN    NaN  NaN  NaN  NaN   \n",
       "15   NaN   NaN      NaN       NaN  ...        NaN    NaN  NaN  NaN  NaN   \n",
       "37   NaN   NaN      NaN       NaN  ...        NaN    NaN  NaN  NaN  NaN   \n",
       "47   NaN   NaN      NaN       NaN  ...        NaN    NaN  NaN  NaN  NaN   \n",
       "56   NaN   NaN      NaN       NaN  ...        NaN    NaN  NaN  NaN  NaN   \n",
       "58   NaN   NaN      NaN       NaN  ...        NaN    NaN  NaN  NaN  NaN   \n",
       "60   0.0  12.0  46485.0  302150.0  ...   1354T752    NaN  NaN  NaN  NaN   \n",
       "77   NaN   NaN      NaN       NaN  ...        NaN    NaN  NaN  NaN  NaN   \n",
       "83   NaN   NaN      NaN       NaN  ...        NaN    NaN  NaN  NaN  NaN   \n",
       "85   NaN   NaN      NaN       NaN  ...        NaN    NaN  NaN  NaN  NaN   \n",
       "92   NaN   NaN      NaN       NaN  ...        NaN    NaN  NaN  NaN  NaN   \n",
       "94   NaN   NaN      NaN       NaN  ...        NaN    NaN  NaN  NaN  NaN   \n",
       "108  NaN   NaN      NaN       NaN  ...        NaN    NaN  NaN  NaN  NaN   \n",
       "114  NaN   NaN      NaN       NaN  ...        NaN    NaN  NaN  NaN  NaN   \n",
       "120  NaN   NaN      NaN       NaN  ...        NaN    NaN  NaN  NaN  NaN   \n",
       "128  NaN   NaN      NaN       NaN  ...        NaN    NaN  NaN  NaN  NaN   \n",
       "132  0.0  13.0  91921.0  315807.0  ...  4665T2736    NaN  NaN  NaN  NaN   \n",
       "135  NaN   NaN      NaN       NaN  ...        NaN    NaN  NaN  NaN  NaN   \n",
       "160  NaN   NaN      NaN       NaN  ...        NaN    NaN  NaN  NaN  NaN   \n",
       "180  NaN   NaN      NaN       NaN  ...        NaN    NaN  NaN  NaN  NaN   \n",
       "190  NaN   NaN      NaN       NaN  ...        NaN    NaN  NaN  NaN  NaN   \n",
       "200  NaN   NaN      NaN       NaN  ...        NaN    NaN  NaN  NaN  NaN   \n",
       "\n",
       "    country_diploma   p   q           r  nan_values  \n",
       "5               NaN NaN NaN         NaN           2  \n",
       "14              NaN NaN NaN         NaN           2  \n",
       "15              NaN NaN NaN         NaN           2  \n",
       "37              NaN NaN NaN         NaN           2  \n",
       "47              NaN NaN NaN         NaN           2  \n",
       "56              NaN NaN NaN         NaN           2  \n",
       "58              NaN NaN NaN         NaN           2  \n",
       "60              NaN NaN NaN  Y2-2018-19           2  \n",
       "77              NaN NaN NaN         NaN           2  \n",
       "83              NaN NaN NaN         NaN           2  \n",
       "85              NaN NaN NaN         NaN           2  \n",
       "92              NaN NaN NaN         NaN           2  \n",
       "94              NaN NaN NaN         NaN           2  \n",
       "108             NaN NaN NaN         NaN           2  \n",
       "114             NaN NaN NaN         NaN           2  \n",
       "120             NaN NaN NaN         NaN           2  \n",
       "128             NaN NaN NaN         NaN           2  \n",
       "132             NaN NaN NaN  Y3-2019-20           2  \n",
       "135             NaN NaN NaN         NaN           2  \n",
       "160             NaN NaN NaN         NaN           2  \n",
       "180             NaN NaN NaN         NaN           2  \n",
       "190             NaN NaN NaN         NaN           2  \n",
       "200             NaN NaN NaN         NaN           2  \n",
       "\n",
       "[23 rows x 22 columns]"
      ]
     },
     "execution_count": 36,
     "metadata": {},
     "output_type": "execute_result"
    }
   ],
   "source": [
    "# Check no demographics entries\n",
    "demographics['nan_values'] = demographics[['gender', 'country_diploma']].isnull().sum(axis=1).tolist()\n",
    "demographics[demographics['nan_values'] == 2]"
   ]
  },
  {
   "cell_type": "code",
   "execution_count": 37,
   "id": "7cb2b176",
   "metadata": {
    "ExecuteTime": {
     "end_time": "2022-08-30T09:44:27.693911Z",
     "start_time": "2022-08-30T09:44:27.685928Z"
    }
   },
   "outputs": [],
   "source": [
    "demographics = demographics.fillna(-1)"
   ]
  },
  {
   "cell_type": "markdown",
   "id": "f979fb6c",
   "metadata": {},
   "source": [
    "# Formatting of the data"
   ]
  },
  {
   "cell_type": "code",
   "execution_count": 28,
   "id": "f30c136f",
   "metadata": {
    "ExecuteTime": {
     "end_time": "2022-08-30T09:33:16.789036Z",
     "start_time": "2022-08-30T09:33:16.671713Z"
    }
   },
   "outputs": [],
   "source": [
    "full_data = {}\n",
    "\n",
    "j = 0\n",
    "for i, row in (demographics.iterrows()):\n",
    "    lid = row['user_id']\n",
    "    lrow = row['user_row']\n",
    "    target = labels[lrow]\n",
    "    \n",
    "    student = {\n",
    "        'sequence': features[lrow],\n",
    "        'idx': lrow,\n",
    "        'learner_id': lid,\n",
    "        'gender': row['gender'],\n",
    "        'country_diploma': row['country_diploma'],\n",
    "        'pass': target,\n",
    "        'cluster_aied_paola': row['profile']\n",
    "    }\n",
    "    full_data[j] = student\n",
    "    j += 1\n",
    "    \n",
    "full_data['available_demographics'] = [\n",
    "    'gender', 'country_diploma', 'cluster_aied_paola'\n",
    "] "
   ]
  },
  {
   "cell_type": "code",
   "execution_count": 29,
   "id": "bb4ec2da",
   "metadata": {
    "ExecuteTime": {
     "end_time": "2022-08-30T09:33:30.629072Z",
     "start_time": "2022-08-30T09:33:30.608094Z"
    }
   },
   "outputs": [],
   "source": [
    "with open('../features/roberta_vinitra_mirko_julien_features.pkl', 'wb') as fp:\n",
    "    pickle.dump(full_data, fp)"
   ]
  },
  {
   "cell_type": "code",
   "execution_count": 30,
   "id": "9b925c37",
   "metadata": {
    "ExecuteTime": {
     "end_time": "2022-08-30T09:33:32.061305Z",
     "start_time": "2022-08-30T09:33:32.051274Z"
    }
   },
   "outputs": [
    {
     "data": {
      "text/plain": [
       "196"
      ]
     },
     "execution_count": 30,
     "metadata": {},
     "output_type": "execute_result"
    }
   ],
   "source": [
    "len(full_data)"
   ]
  },
  {
   "cell_type": "markdown",
   "id": "61f658da",
   "metadata": {},
   "source": [
    "# EDA"
   ]
  },
  {
   "cell_type": "code",
   "execution_count": 30,
   "id": "a0a214fd",
   "metadata": {
    "ExecuteTime": {
     "end_time": "2022-08-25T11:35:38.198390Z",
     "start_time": "2022-08-25T11:35:38.195496Z"
    }
   },
   "outputs": [],
   "source": [
    "from collections import Counter"
   ]
  },
  {
   "cell_type": "code",
   "execution_count": 34,
   "id": "2d0bd1d3",
   "metadata": {
    "ExecuteTime": {
     "end_time": "2022-08-25T11:35:53.983211Z",
     "start_time": "2022-08-25T11:35:53.979052Z"
    }
   },
   "outputs": [],
   "source": [
    "fem = demographics[demographics['gender'] == 'F']"
   ]
  },
  {
   "cell_type": "code",
   "execution_count": 35,
   "id": "de2eebb1",
   "metadata": {
    "ExecuteTime": {
     "end_time": "2022-08-25T11:35:54.235092Z",
     "start_time": "2022-08-25T11:35:54.197444Z"
    }
   },
   "outputs": [
    {
     "data": {
      "text/html": [
       "<div>\n",
       "<style scoped>\n",
       "    .dataframe tbody tr th:only-of-type {\n",
       "        vertical-align: middle;\n",
       "    }\n",
       "\n",
       "    .dataframe tbody tr th {\n",
       "        vertical-align: top;\n",
       "    }\n",
       "\n",
       "    .dataframe thead th {\n",
       "        text-align: right;\n",
       "    }\n",
       "</style>\n",
       "<table border=\"1\" class=\"dataframe\">\n",
       "  <thead>\n",
       "    <tr style=\"text-align: right;\">\n",
       "      <th></th>\n",
       "      <th>user_row</th>\n",
       "      <th>user_id</th>\n",
       "      <th>gender</th>\n",
       "      <th>country_diploma</th>\n",
       "      <th>continent_diploma</th>\n",
       "      <th>year_diploma</th>\n",
       "      <th>title_diploma</th>\n",
       "      <th>avg_french_bac</th>\n",
       "      <th>rating_french</th>\n",
       "      <th>scale_french</th>\n",
       "      <th>...</th>\n",
       "      <th>scale_os</th>\n",
       "      <th>year</th>\n",
       "      <th>nan_values</th>\n",
       "      <th>profile</th>\n",
       "      <th>group_french</th>\n",
       "      <th>group_maths</th>\n",
       "      <th>group_physics</th>\n",
       "      <th>group_fixed_french</th>\n",
       "      <th>group_fixed_maths</th>\n",
       "      <th>group_fixed_physics</th>\n",
       "    </tr>\n",
       "  </thead>\n",
       "  <tbody>\n",
       "    <tr>\n",
       "      <th>3</th>\n",
       "      <td>3</td>\n",
       "      <td>3c7045987cd5d98c1c9b8960eedd5943</td>\n",
       "      <td>F</td>\n",
       "      <td>France</td>\n",
       "      <td>Europe</td>\n",
       "      <td>2018.0</td>\n",
       "      <td>Bacc. étranger</td>\n",
       "      <td>17.92</td>\n",
       "      <td>14.0</td>\n",
       "      <td>20.0</td>\n",
       "      <td>...</td>\n",
       "      <td>-1</td>\n",
       "      <td>2018</td>\n",
       "      <td>2</td>\n",
       "      <td>E</td>\n",
       "      <td>low</td>\n",
       "      <td>low</td>\n",
       "      <td>average</td>\n",
       "      <td>average</td>\n",
       "      <td>average</td>\n",
       "      <td>high</td>\n",
       "    </tr>\n",
       "    <tr>\n",
       "      <th>4</th>\n",
       "      <td>4</td>\n",
       "      <td>75db0b540bd2c2e3ad3fec50d918f16f</td>\n",
       "      <td>F</td>\n",
       "      <td>France</td>\n",
       "      <td>Europe</td>\n",
       "      <td>2018.0</td>\n",
       "      <td>Bacc. étranger</td>\n",
       "      <td>17.97</td>\n",
       "      <td>13.0</td>\n",
       "      <td>20.0</td>\n",
       "      <td>...</td>\n",
       "      <td>-1</td>\n",
       "      <td>2018</td>\n",
       "      <td>2</td>\n",
       "      <td>E</td>\n",
       "      <td>low</td>\n",
       "      <td>low</td>\n",
       "      <td>average</td>\n",
       "      <td>low</td>\n",
       "      <td>average</td>\n",
       "      <td>high</td>\n",
       "    </tr>\n",
       "    <tr>\n",
       "      <th>6</th>\n",
       "      <td>6</td>\n",
       "      <td>d53da91d46d51d081a09448a50f4045c</td>\n",
       "      <td>F</td>\n",
       "      <td>France</td>\n",
       "      <td>Europe</td>\n",
       "      <td>2017.0</td>\n",
       "      <td>Bacc. étranger</td>\n",
       "      <td>15.23</td>\n",
       "      <td>10.0</td>\n",
       "      <td>20.0</td>\n",
       "      <td>...</td>\n",
       "      <td>-1</td>\n",
       "      <td>2018</td>\n",
       "      <td>2</td>\n",
       "      <td>E</td>\n",
       "      <td>low</td>\n",
       "      <td>low</td>\n",
       "      <td>low</td>\n",
       "      <td>low</td>\n",
       "      <td>average</td>\n",
       "      <td>high</td>\n",
       "    </tr>\n",
       "    <tr>\n",
       "      <th>9</th>\n",
       "      <td>9</td>\n",
       "      <td>e809f679184ad432abd1de3a4b0aefdf</td>\n",
       "      <td>F</td>\n",
       "      <td>France</td>\n",
       "      <td>Europe</td>\n",
       "      <td>2017.0</td>\n",
       "      <td>Bacc. étranger</td>\n",
       "      <td>17.81</td>\n",
       "      <td>14.0</td>\n",
       "      <td>20.0</td>\n",
       "      <td>...</td>\n",
       "      <td>-1</td>\n",
       "      <td>2018</td>\n",
       "      <td>2</td>\n",
       "      <td>E</td>\n",
       "      <td>low</td>\n",
       "      <td>low</td>\n",
       "      <td>low</td>\n",
       "      <td>average</td>\n",
       "      <td>average</td>\n",
       "      <td>average</td>\n",
       "    </tr>\n",
       "    <tr>\n",
       "      <th>13</th>\n",
       "      <td>13</td>\n",
       "      <td>dcd9f53d88a345efeb8a58f5ec0d7265</td>\n",
       "      <td>F</td>\n",
       "      <td>France</td>\n",
       "      <td>Europe</td>\n",
       "      <td>2018.0</td>\n",
       "      <td>Bacc. étranger</td>\n",
       "      <td>16.57</td>\n",
       "      <td>13.0</td>\n",
       "      <td>20.0</td>\n",
       "      <td>...</td>\n",
       "      <td>-1</td>\n",
       "      <td>2018</td>\n",
       "      <td>2</td>\n",
       "      <td>D</td>\n",
       "      <td>low</td>\n",
       "      <td>average</td>\n",
       "      <td>low</td>\n",
       "      <td>low</td>\n",
       "      <td>high</td>\n",
       "      <td>high</td>\n",
       "    </tr>\n",
       "    <tr>\n",
       "      <th>...</th>\n",
       "      <td>...</td>\n",
       "      <td>...</td>\n",
       "      <td>...</td>\n",
       "      <td>...</td>\n",
       "      <td>...</td>\n",
       "      <td>...</td>\n",
       "      <td>...</td>\n",
       "      <td>...</td>\n",
       "      <td>...</td>\n",
       "      <td>...</td>\n",
       "      <td>...</td>\n",
       "      <td>...</td>\n",
       "      <td>...</td>\n",
       "      <td>...</td>\n",
       "      <td>...</td>\n",
       "      <td>...</td>\n",
       "      <td>...</td>\n",
       "      <td>...</td>\n",
       "      <td>...</td>\n",
       "      <td>...</td>\n",
       "      <td>...</td>\n",
       "    </tr>\n",
       "    <tr>\n",
       "      <th>181</th>\n",
       "      <td>181</td>\n",
       "      <td>efcbd6279d50724424c0914f6df6e48e</td>\n",
       "      <td>F</td>\n",
       "      <td>Suisse</td>\n",
       "      <td>Europe</td>\n",
       "      <td>2018.0</td>\n",
       "      <td>Mat. reconnue opt. biologie et chimie</td>\n",
       "      <td>-1.00</td>\n",
       "      <td>4.5</td>\n",
       "      <td>6.0</td>\n",
       "      <td>...</td>\n",
       "      <td>6.0</td>\n",
       "      <td>2019</td>\n",
       "      <td>1</td>\n",
       "      <td>D</td>\n",
       "      <td>average</td>\n",
       "      <td>high</td>\n",
       "      <td>average</td>\n",
       "      <td>low</td>\n",
       "      <td>average</td>\n",
       "      <td>average</td>\n",
       "    </tr>\n",
       "    <tr>\n",
       "      <th>182</th>\n",
       "      <td>182</td>\n",
       "      <td>fab9f6e3df86403ce47d5094a7718b4e</td>\n",
       "      <td>F</td>\n",
       "      <td>Suisse</td>\n",
       "      <td>Europe</td>\n",
       "      <td>2019.0</td>\n",
       "      <td>Mat. reconnue opt. physique et math</td>\n",
       "      <td>-1.00</td>\n",
       "      <td>5.0</td>\n",
       "      <td>6.0</td>\n",
       "      <td>...</td>\n",
       "      <td>6.0</td>\n",
       "      <td>2019</td>\n",
       "      <td>1</td>\n",
       "      <td>E</td>\n",
       "      <td>high</td>\n",
       "      <td>high</td>\n",
       "      <td>low</td>\n",
       "      <td>average</td>\n",
       "      <td>average</td>\n",
       "      <td>low</td>\n",
       "    </tr>\n",
       "    <tr>\n",
       "      <th>188</th>\n",
       "      <td>188</td>\n",
       "      <td>23c2ddf69a315eda78d763163bb76daf</td>\n",
       "      <td>F</td>\n",
       "      <td>Suisse</td>\n",
       "      <td>Europe</td>\n",
       "      <td>2018.0</td>\n",
       "      <td>Mat. reconnue opt. physique et math</td>\n",
       "      <td>-1.00</td>\n",
       "      <td>-1.0</td>\n",
       "      <td>-1.0</td>\n",
       "      <td>...</td>\n",
       "      <td>6.0</td>\n",
       "      <td>2019</td>\n",
       "      <td>3</td>\n",
       "      <td>B</td>\n",
       "      <td>low</td>\n",
       "      <td>high</td>\n",
       "      <td>low</td>\n",
       "      <td>low</td>\n",
       "      <td>low</td>\n",
       "      <td>low</td>\n",
       "    </tr>\n",
       "    <tr>\n",
       "      <th>192</th>\n",
       "      <td>192</td>\n",
       "      <td>928ff61330e23c386af6b9fb031de82b</td>\n",
       "      <td>F</td>\n",
       "      <td>Suisse</td>\n",
       "      <td>Europe</td>\n",
       "      <td>2019.0</td>\n",
       "      <td>Mat. reconnue opt. physique et math</td>\n",
       "      <td>-1.00</td>\n",
       "      <td>4.0</td>\n",
       "      <td>6.0</td>\n",
       "      <td>...</td>\n",
       "      <td>6.0</td>\n",
       "      <td>2019</td>\n",
       "      <td>1</td>\n",
       "      <td>B</td>\n",
       "      <td>low</td>\n",
       "      <td>high</td>\n",
       "      <td>high</td>\n",
       "      <td>low</td>\n",
       "      <td>average</td>\n",
       "      <td>average</td>\n",
       "    </tr>\n",
       "    <tr>\n",
       "      <th>206</th>\n",
       "      <td>206</td>\n",
       "      <td>e6c828b77e23158e4d835b20e566670c</td>\n",
       "      <td>F</td>\n",
       "      <td>Suisse</td>\n",
       "      <td>Europe</td>\n",
       "      <td>2019.0</td>\n",
       "      <td>Mat. reconnue opt. biologie et chimie</td>\n",
       "      <td>-1.00</td>\n",
       "      <td>4.5</td>\n",
       "      <td>6.0</td>\n",
       "      <td>...</td>\n",
       "      <td>6.0</td>\n",
       "      <td>2019</td>\n",
       "      <td>1</td>\n",
       "      <td>B</td>\n",
       "      <td>average</td>\n",
       "      <td>high</td>\n",
       "      <td>average</td>\n",
       "      <td>low</td>\n",
       "      <td>average</td>\n",
       "      <td>average</td>\n",
       "    </tr>\n",
       "  </tbody>\n",
       "</table>\n",
       "<p>70 rows × 25 columns</p>\n",
       "</div>"
      ],
      "text/plain": [
       "     user_row                           user_id gender country_diploma  \\\n",
       "3           3  3c7045987cd5d98c1c9b8960eedd5943      F          France   \n",
       "4           4  75db0b540bd2c2e3ad3fec50d918f16f      F          France   \n",
       "6           6  d53da91d46d51d081a09448a50f4045c      F          France   \n",
       "9           9  e809f679184ad432abd1de3a4b0aefdf      F          France   \n",
       "13         13  dcd9f53d88a345efeb8a58f5ec0d7265      F          France   \n",
       "..        ...                               ...    ...             ...   \n",
       "181       181  efcbd6279d50724424c0914f6df6e48e      F          Suisse   \n",
       "182       182  fab9f6e3df86403ce47d5094a7718b4e      F          Suisse   \n",
       "188       188  23c2ddf69a315eda78d763163bb76daf      F          Suisse   \n",
       "192       192  928ff61330e23c386af6b9fb031de82b      F          Suisse   \n",
       "206       206  e6c828b77e23158e4d835b20e566670c      F          Suisse   \n",
       "\n",
       "    continent_diploma  year_diploma                          title_diploma  \\\n",
       "3              Europe        2018.0                         Bacc. étranger   \n",
       "4              Europe        2018.0                         Bacc. étranger   \n",
       "6              Europe        2017.0                         Bacc. étranger   \n",
       "9              Europe        2017.0                         Bacc. étranger   \n",
       "13             Europe        2018.0                         Bacc. étranger   \n",
       "..                ...           ...                                    ...   \n",
       "181            Europe        2018.0  Mat. reconnue opt. biologie et chimie   \n",
       "182            Europe        2019.0    Mat. reconnue opt. physique et math   \n",
       "188            Europe        2018.0    Mat. reconnue opt. physique et math   \n",
       "192            Europe        2019.0    Mat. reconnue opt. physique et math   \n",
       "206            Europe        2019.0  Mat. reconnue opt. biologie et chimie   \n",
       "\n",
       "     avg_french_bac  rating_french  scale_french  ...  scale_os  year  \\\n",
       "3             17.92           14.0          20.0  ...        -1  2018   \n",
       "4             17.97           13.0          20.0  ...        -1  2018   \n",
       "6             15.23           10.0          20.0  ...        -1  2018   \n",
       "9             17.81           14.0          20.0  ...        -1  2018   \n",
       "13            16.57           13.0          20.0  ...        -1  2018   \n",
       "..              ...            ...           ...  ...       ...   ...   \n",
       "181           -1.00            4.5           6.0  ...       6.0  2019   \n",
       "182           -1.00            5.0           6.0  ...       6.0  2019   \n",
       "188           -1.00           -1.0          -1.0  ...       6.0  2019   \n",
       "192           -1.00            4.0           6.0  ...       6.0  2019   \n",
       "206           -1.00            4.5           6.0  ...       6.0  2019   \n",
       "\n",
       "     nan_values profile  group_french group_maths  group_physics  \\\n",
       "3             2       E           low         low        average   \n",
       "4             2       E           low         low        average   \n",
       "6             2       E           low         low            low   \n",
       "9             2       E           low         low            low   \n",
       "13            2       D           low     average            low   \n",
       "..          ...     ...           ...         ...            ...   \n",
       "181           1       D       average        high        average   \n",
       "182           1       E          high        high            low   \n",
       "188           3       B           low        high            low   \n",
       "192           1       B           low        high           high   \n",
       "206           1       B       average        high        average   \n",
       "\n",
       "     group_fixed_french group_fixed_maths group_fixed_physics  \n",
       "3               average           average                high  \n",
       "4                   low           average                high  \n",
       "6                   low           average                high  \n",
       "9               average           average             average  \n",
       "13                  low              high                high  \n",
       "..                  ...               ...                 ...  \n",
       "181                 low           average             average  \n",
       "182             average           average                 low  \n",
       "188                 low               low                 low  \n",
       "192                 low           average             average  \n",
       "206                 low           average             average  \n",
       "\n",
       "[70 rows x 25 columns]"
      ]
     },
     "execution_count": 35,
     "metadata": {},
     "output_type": "execute_result"
    }
   ],
   "source": [
    "c_gender = Counter(fem['gender'])\n",
    "c_gender = {k:v/len(fem) for k, v in c_gender.items()}\n",
    "plt.bar(x=range(len(c_gender)), height=c_gender.values(), color='dodgerblue', alpha=0.7)\n",
    "plt.xticks(list(range(len(c_gender))), list(c_gender.keys()))\n",
    "plt.show()"
   ]
  },
  {
   "cell_type": "code",
   "execution_count": 31,
   "id": "6e021c64",
   "metadata": {
    "ExecuteTime": {
     "end_time": "2022-08-25T11:35:38.534063Z",
     "start_time": "2022-08-25T11:35:38.396516Z"
    }
   },
   "outputs": [
    {
     "data": {
      "image/png": "[encoded data removed]",
      "text/plain": [
       "<Figure size 432x288 with 1 Axes>"
      ]
     },
     "metadata": {
      "needs_background": "light"
     },
     "output_type": "display_data"
    }
   ],
   "source": [
    "c_gender = Counter(demographics['gender'])\n",
    "c_gender = {k:v/len(demographics) for k, v in c_gender.items()}\n",
    "plt.bar(x=range(len(c_gender)), height=c_gender.values(), color='dodgerblue', alpha=0.7)\n",
    "plt.xticks(list(range(len(c_gender))), list(c_gender.keys()))\n",
    "plt.show()"
   ]
  },
  {
   "cell_type": "code",
   "execution_count": 32,
   "id": "d7c8192d",
   "metadata": {
    "ExecuteTime": {
     "end_time": "2022-08-23T17:02:35.375231Z",
     "start_time": "2022-08-23T17:02:35.060446Z"
    }
   },
   "outputs": [
    {
     "data": {
      "image/png": "[encoded data removed]",
      "text/plain": [
       "<Figure size 432x288 with 1 Axes>"
      ]
     },
     "metadata": {
      "needs_background": "light"
     },
     "output_type": "display_data"
    }
   ],
   "source": [
    "c_gender = Counter(cluster_file['gender'])\n",
    "c_gender = {k:v/len(cluster_file) for k, v in c_gender.items()}\n",
    "plt.bar(x=range(len(c_gender)), height=c_gender.values(), color='plum', alpha=0.7)\n",
    "plt.xticks(list(range(len(c_gender))), list(c_gender.keys()))\n",
    "plt.show()"
   ]
  },
  {
   "cell_type": "code",
   "execution_count": 33,
   "id": "254a9655",
   "metadata": {
    "ExecuteTime": {
     "end_time": "2022-08-23T17:02:35.706742Z",
     "start_time": "2022-08-23T17:02:35.380374Z"
    }
   },
   "outputs": [
    {
     "data": {
      "image/png": "[encoded data removed]",
      "text/plain": [
       "<Figure size 432x288 with 1 Axes>"
      ]
     },
     "metadata": {
      "needs_background": "light"
     },
     "output_type": "display_data"
    }
   ],
   "source": [
    "demographics['gap_year'] = demographics.apply(lambda row: gap_year(row), axis=1)\n",
    "c_gap = Counter(demographics['gap_year'])\n",
    "c_gap = {k:v/len(demographics) for k, v in c_gap.items()}\n",
    "plt.bar(x=range(len(c_gap)), height=c_gap.values(), color='dodgerblue', alpha=0.7)\n",
    "plt.xticks(list(range(len(c_gap))), list(c_gap.keys()))\n",
    "plt.show()"
   ]
  },
  {
   "cell_type": "code",
   "execution_count": 34,
   "id": "b07b831f",
   "metadata": {
    "ExecuteTime": {
     "end_time": "2022-08-23T17:02:36.056750Z",
     "start_time": "2022-08-23T17:02:35.719369Z"
    }
   },
   "outputs": [
    {
     "data": {
      "image/png": "[encoded data removed]",
      "text/plain": [
       "<Figure size 432x288 with 1 Axes>"
      ]
     },
     "metadata": {
      "needs_background": "light"
     },
     "output_type": "display_data"
    }
   ],
   "source": [
    "c_country = Counter(demographics['country_diploma'])\n",
    "c_country = {k:v/len(demographics) for k, v in c_country.items()}\n",
    "plt.bar(x=range(len(c_country)), height=c_country.values(), color='dodgerblue', alpha=0.7)\n",
    "plt.xticks(list(range(len(c_country))), list(c_country.keys()))\n",
    "plt.show()"
   ]
  },
  {
   "cell_type": "code",
   "execution_count": 35,
   "id": "cdd98004",
   "metadata": {
    "ExecuteTime": {
     "end_time": "2022-08-23T17:02:36.498660Z",
     "start_time": "2022-08-23T17:02:36.063106Z"
    }
   },
   "outputs": [
    {
     "data": {
      "image/png": "[encoded data removed]",
      "text/plain": [
       "<Figure size 432x288 with 1 Axes>"
      ]
     },
     "metadata": {
      "needs_background": "light"
     },
     "output_type": "display_data"
    }
   ],
   "source": [
    "c_country = Counter(cluster_file['country_diploma'])\n",
    "c_country = {k:v/len(demographics) for k, v in c_country.items()}\n",
    "plt.bar(x=range(len(c_country)), height=c_country.values(), color='plum', alpha=0.7)\n",
    "plt.xticks(list(range(len(c_country))), list(c_country.keys()))\n",
    "plt.show()"
   ]
  },
  {
   "cell_type": "code",
   "execution_count": 36,
   "id": "2d2ca713",
   "metadata": {
    "ExecuteTime": {
     "end_time": "2022-08-23T17:02:36.844252Z",
     "start_time": "2022-08-23T17:02:36.505945Z"
    }
   },
   "outputs": [
    {
     "data": {
      "image/png": "[encoded data removed]",
      "text/plain": [
       "<Figure size 432x288 with 1 Axes>"
      ]
     },
     "metadata": {
      "needs_background": "light"
     },
     "output_type": "display_data"
    }
   ],
   "source": [
    "c_french = Counter(demographics['group_french'])\n",
    "c_french = {k:v/len(demographics) for k, v in c_french.items()}\n",
    "plt.bar(x=range(len(c_french)), height=c_french.values(), color='dodgerblue', alpha=0.7)\n",
    "plt.xticks(list(range(len(c_french))), list(c_french.keys()))\n",
    "plt.show()"
   ]
  },
  {
   "cell_type": "code",
   "execution_count": 37,
   "id": "4ef82ef5",
   "metadata": {
    "ExecuteTime": {
     "end_time": "2022-08-23T17:02:37.176433Z",
     "start_time": "2022-08-23T17:02:36.852322Z"
    }
   },
   "outputs": [
    {
     "data": {
      "image/png": "[encoded data removed]",
      "text/plain": [
       "<Figure size 432x288 with 1 Axes>"
      ]
     },
     "metadata": {
      "needs_background": "light"
     },
     "output_type": "display_data"
    }
   ],
   "source": [
    "c_math = Counter(demographics['group_maths'])\n",
    "c_math = {k:v/len(demographics) for k, v in c_math.items()}\n",
    "plt.bar(x=range(len(c_math)), height=c_math.values(), color='dodgerblue', alpha=0.7)\n",
    "plt.xticks(list(range(len(c_math))), list(c_math.keys()))\n",
    "plt.show()"
   ]
  },
  {
   "cell_type": "code",
   "execution_count": 38,
   "id": "c5d756e1",
   "metadata": {
    "ExecuteTime": {
     "end_time": "2022-08-23T17:02:37.518602Z",
     "start_time": "2022-08-23T17:02:37.183645Z"
    }
   },
   "outputs": [
    {
     "data": {
      "image/png": "[encoded data removed]",
      "text/plain": [
       "<Figure size 432x288 with 1 Axes>"
      ]
     },
     "metadata": {
      "needs_background": "light"
     },
     "output_type": "display_data"
    }
   ],
   "source": [
    "c_physics = Counter(demographics['group_physics'])\n",
    "c_physics = {k:v/len(demographics) for k, v in c_physics.items()}\n",
    "plt.bar(x=range(len(c_physics)), height=c_physics.values(), color='dodgerblue', alpha=0.7)\n",
    "plt.xticks(list(range(len(c_physics))), list(c_physics.keys()))\n",
    "plt.show()"
   ]
  },
  {
   "cell_type": "code",
   "execution_count": null,
   "id": "6182211e",
   "metadata": {},
   "outputs": [],
   "source": []
  },
  {
   "cell_type": "code",
   "execution_count": null,
   "id": "2d3d983e",
   "metadata": {},
   "outputs": [],
   "source": []
  },
  {
   "cell_type": "code",
   "execution_count": null,
   "id": "f50af633",
   "metadata": {},
   "outputs": [],
   "source": []
  },
  {
   "cell_type": "code",
   "execution_count": null,
   "id": "d35dd8f9",
   "metadata": {},
   "outputs": [],
   "source": []
  },
  {
   "cell_type": "code",
   "execution_count": null,
   "id": "f4b5e9c2",
   "metadata": {},
   "outputs": [],
   "source": []
  },
  {
   "cell_type": "code",
   "execution_count": null,
   "id": "b25eed62",
   "metadata": {},
   "outputs": [],
   "source": []
  },
  {
   "cell_type": "code",
   "execution_count": null,
   "id": "cccf982d",
   "metadata": {},
   "outputs": [],
   "source": []
  },
  {
   "cell_type": "code",
   "execution_count": 39,
   "id": "dbfd25ec",
   "metadata": {
    "ExecuteTime": {
     "end_time": "2022-08-23T17:02:37.544996Z",
     "start_time": "2022-08-23T17:02:37.537007Z"
    }
   },
   "outputs": [],
   "source": [
    "a = 'hello.no'\n",
    "a = a.split('.')"
   ]
  },
  {
   "cell_type": "code",
   "execution_count": 40,
   "id": "45d98741",
   "metadata": {
    "ExecuteTime": {
     "end_time": "2022-08-23T17:02:37.563759Z",
     "start_time": "2022-08-23T17:02:37.551074Z"
    }
   },
   "outputs": [
    {
     "data": {
      "text/plain": [
       "['hello', 'no']"
      ]
     },
     "execution_count": 40,
     "metadata": {},
     "output_type": "execute_result"
    }
   ],
   "source": [
    "a"
   ]
  },
  {
   "cell_type": "code",
   "execution_count": 41,
   "id": "d1aac33f",
   "metadata": {
    "ExecuteTime": {
     "end_time": "2022-08-23T17:02:37.581827Z",
     "start_time": "2022-08-23T17:02:37.571041Z"
    }
   },
   "outputs": [
    {
     "data": {
      "text/plain": [
       "'hello_no'"
      ]
     },
     "execution_count": 41,
     "metadata": {},
     "output_type": "execute_result"
    }
   ],
   "source": [
    "'_'.join(a)"
   ]
  },
  {
   "cell_type": "code",
   "execution_count": null,
   "id": "08452c3e",
   "metadata": {},
   "outputs": [],
   "source": []
  },
  {
   "cell_type": "code",
   "execution_count": null,
   "id": "2e305fd5",
   "metadata": {},
   "outputs": [],
   "source": []
  },
  {
   "cell_type": "code",
   "execution_count": null,
   "id": "b1988b0e",
   "metadata": {},
   "outputs": [],
   "source": []
  }
 ],
 "metadata": {
  "kernelspec": {
   "display_name": "Python 3 (ipykernel)",
   "language": "python",
   "name": "python3"
  },
  "language_info": {
   "codemirror_mode": {
    "name": "ipython",
    "version": 3
   },
   "file_extension": ".py",
   "mimetype": "text/x-python",
   "name": "python",
   "nbconvert_exporter": "python",
   "pygments_lexer": "ipython3",
   "version": "3.8.12"
  },
  "toc": {
   "base_numbering": 1,
   "nav_menu": {},
   "number_sections": true,
   "sideBar": true,
   "skip_h1_title": false,
   "title_cell": "Table of Contents",
   "title_sidebar": "Contents",
   "toc_cell": false,
   "toc_position": {},
   "toc_section_display": true,
   "toc_window_display": true
  }
 },
 "nbformat": 4,
 "nbformat_minor": 5
}
