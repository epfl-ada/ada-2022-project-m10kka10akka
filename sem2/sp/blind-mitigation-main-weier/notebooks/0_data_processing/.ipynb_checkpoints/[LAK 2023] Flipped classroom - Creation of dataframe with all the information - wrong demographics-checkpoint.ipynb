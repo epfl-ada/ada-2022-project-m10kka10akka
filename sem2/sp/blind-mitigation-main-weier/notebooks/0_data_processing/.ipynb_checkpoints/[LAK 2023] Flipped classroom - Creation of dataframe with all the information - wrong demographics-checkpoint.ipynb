{
 "cells": [
  {
   "cell_type": "code",
   "execution_count": 1,
   "id": "7e28d193",
   "metadata": {
    "ExecuteTime": {
     "end_time": "2022-08-25T11:34:53.699917Z",
     "start_time": "2022-08-25T11:34:47.461993Z"
    }
   },
   "outputs": [
    {
     "name": "stderr",
     "output_type": "stream",
     "text": [
      "/opt/anaconda3/envs/PhetGPU/lib/python3.8/site-packages/requests/__init__.py:102: RequestsDependencyWarning: urllib3 (1.26.7) or chardet (5.0.0)/charset_normalizer (2.0.7) doesn't match a supported version!\n",
      "  warnings.warn(\"urllib3 ({}) or chardet ({})/charset_normalizer ({}) doesn't match a supported \"\n"
     ]
    }
   ],
   "source": [
    "import os\n",
    "import ast\n",
    "import time\n",
    "import json\n",
    "import pickle\n",
    "\n",
    "import pandas as pd\n",
    "import numpy as np\n",
    "import tensorflow as tf\n",
    "\n",
    "from math import floor, ceil\n",
    "import matplotlib.pyplot as plt\n",
    "import seaborn as sns\n",
    "\n",
    "import warnings\n",
    "warnings.filterwarnings(\"ignore\")"
   ]
  },
  {
   "cell_type": "code",
   "execution_count": 2,
   "id": "41d3b5f3",
   "metadata": {
    "ExecuteTime": {
     "end_time": "2022-08-25T11:35:01.398858Z",
     "start_time": "2022-08-25T11:35:01.388768Z"
    }
   },
   "outputs": [
    {
     "data": {
      "text/plain": [
       "'/Users/cock/kDrive/PhD/Projects/Labs/blind-mitigation/notebooks/0_data_processing'"
      ]
     },
     "execution_count": 2,
     "metadata": {},
     "output_type": "execute_result"
    }
   ],
   "source": [
    "pwd"
   ]
  },
  {
   "cell_type": "code",
   "execution_count": 3,
   "id": "06250a0b",
   "metadata": {
    "ExecuteTime": {
     "end_time": "2022-08-25T11:35:01.782308Z",
     "start_time": "2022-08-25T11:35:01.774431Z"
    }
   },
   "outputs": [
    {
     "name": "stdout",
     "output_type": "stream",
     "text": [
      "/Users/cock/kDrive/PhD/Projects/Labs/blind-mitigation/data/flipped_classrooms/raw\n"
     ]
    }
   ],
   "source": [
    "cd ../../data/flipped_classrooms/raw"
   ]
  },
  {
   "cell_type": "markdown",
   "id": "cdb3ae70",
   "metadata": {},
   "source": [
    "# Skye's code assembly"
   ]
  },
  {
   "cell_type": "code",
   "execution_count": 4,
   "id": "583bc5e5",
   "metadata": {
    "ExecuteTime": {
     "end_time": "2022-08-25T11:35:02.296192Z",
     "start_time": "2022-08-25T11:35:02.266638Z"
    }
   },
   "outputs": [],
   "source": [
    "def clean_name(feature):\n",
    "    id = feature.find('<')\n",
    "    if id==-1:\n",
    "        return feature\n",
    "    fct = feature[id+9:id+14].strip()\n",
    "    return feature[0:id]+fct\n",
    "\n",
    "def clean_akp_name(feature):\n",
    "    feature = feature.lower()\n",
    "    if feature.find(\"(\")!=-1:\n",
    "        feature = feature[1:-1]\n",
    "        feature = feature.replace(', ', '-')\n",
    "    return feature\n",
    "    \n",
    "def fillNaN(feature):\n",
    "    # fillNaN function replaces NaNs in each week with the minimum of the feature over all weeks\n",
    "    shape = feature.shape\n",
    "    feature_min = np.nanmin(feature.reshape(-1,shape[2]),axis=0)\n",
    "    feature = feature.reshape(-1,shape[2])\n",
    "    inds = np.where(np.isnan(feature))\n",
    "    feature[inds] = np.take(feature_min.reshape(-1), inds[1])\n",
    "    feature = feature.reshape(shape)\n",
    "    return feature\n",
    "# load data and normalize\n",
    "\n",
    "def load_labels(course):\n",
    "    feature_type = \"boroujeni_et_al\"\n",
    "    filepath = data_path + week_type + '-' + feature_type + '-' + course + '/feature_labels.csv'\n",
    "    labels = pd.read_csv(filepath)['label-pass-fail']\n",
    "    labels[labels.shape[0]] = 1\n",
    "    return labels.values\n",
    "\n",
    "def load_features(course):\n",
    "    feature_list = []\n",
    "    selected_features = []\n",
    "    total_features = set()\n",
    "    num_weeks = 0\n",
    "    num_features = 0\n",
    "    for i,feature_type in enumerate(feature_types):\n",
    "        try:\n",
    "            filepath = data_path + week_type + '-' + feature_type + '-' + course \n",
    "            feature_current = np.load(filepath+'/feature_values.npz')['feature_values']\n",
    "            print('Feature type: ', feature_type)\n",
    "            shape = feature_current.shape\n",
    "    #         print(shape)\n",
    "\n",
    "            if remove_obvious and feature_type=='marras_et_al':\n",
    "                feature_current = np.delete(feature_current, mr_mask, axis=2)\n",
    "\n",
    "            if feature_type=='akpinar_et_al':\n",
    "#                 print(akp_mask[0])\n",
    "                akp_mask_dl = np.delete(list(range(shape[2])), akp_mask[0])\n",
    "                feature_current = np.delete(feature_current, akp_mask_dl, axis=2)\n",
    "\n",
    "            shape = feature_current.shape\n",
    "    #         print(shape)\n",
    "            if i==0:\n",
    "                num_weeks = shape[1]\n",
    "\n",
    "            selected = np.arange(shape[2])\n",
    "            # drop existed features\n",
    "            exist_mask = []\n",
    "            for i, name in enumerate(feature_names[feature_type]):\n",
    "                if name in total_features:\n",
    "                    exist_mask.append(i)\n",
    "                else:\n",
    "                    total_features.add(name)\n",
    "    #         print(exist_mask, feature_current.shape)\n",
    "            feature_current = np.delete(feature_current, exist_mask, axis=2)\n",
    "            selected = np.delete(selected, exist_mask)\n",
    "\n",
    "#             print(feature_current.shape)\n",
    "            nonNaN = (shape[0]*shape[1] - np.isnan(feature_current.reshape(-1,feature_current.shape[2])).sum(axis=0) > 0)\n",
    "            feature_current = feature_current[:,:,nonNaN]\n",
    "            selected = selected[nonNaN]\n",
    "            feature_current = fillNaN(feature_current)\n",
    "            nonZero = (abs(feature_current.reshape(-1,feature_current.shape[2])).sum(axis=0)>0)\n",
    "            selected = selected[nonZero]\n",
    "            feature_current = feature_current[:,:,nonZero]\n",
    "\n",
    "\n",
    "    #         print(feature_type, feature_current.shape)\n",
    "            selected_features.append(np.array(feature_names[feature_type])[[selected]])\n",
    "\n",
    "            num_features += len(np.array(feature_names[feature_type])[[selected]])\n",
    "\n",
    "\n",
    "            ##### Normalization with min-max. Added the artifical 1.001 max row for solving the same min max problem\n",
    "            ##### for features with max=0 I added 1 instead of 1.001 of maximum\n",
    "\n",
    "            features_min = feature_current.min(axis=0).reshape(-1)\n",
    "            features_max = feature_current.max(axis=0)\n",
    "            features_max = np.where(features_max==0,np.ones(features_max.shape),features_max)\n",
    "            max_instance = 1.001*features_max\n",
    "            feature_current = np.vstack([feature_current,max_instance.reshape((1,)+max_instance.shape)])\n",
    "            features_max = features_max.reshape(-1)\n",
    "            feature_norm = (feature_current.reshape(shape[0]+1,-1)-features_min)/(1.001*features_max-features_min)\n",
    "            feature_current = feature_norm.reshape(-1,feature_current.shape[1],feature_current.shape[2] )\n",
    "            print('   shape of the feature:', feature_current.shape)\n",
    "            feature_list.append(feature_current)\n",
    "            print()\n",
    "        except ValueError:\n",
    "            print('{} is not valiad'.format(feature_type))\n",
    "        \n",
    "    print()\n",
    "    print('*' * 50)\n",
    "    non_flat_features = np.concatenate(feature_list, axis=2)\n",
    "    \n",
    "    features = non_flat_features.reshape(non_flat_features.shape[0],-1)\n",
    "#     features = pd.DataFrame(features, columns=total_features)\n",
    "    \n",
    "    SHAPE = features.shape\n",
    "    # print(np.isnan(features[0,0,-1]))\n",
    "    print('concatenated feature shape: ', non_flat_features.shape)\n",
    "    print('final features shape:', features.shape)\n",
    "    print('course: ', course)\n",
    "    print('week_type: ', week_type)\n",
    "    print('feature_type: ', feature_types)\n",
    "    print(selected_features)\n",
    "    return features, selected_features, num_weeks, num_features, non_flat_features"
   ]
  },
  {
   "cell_type": "code",
   "execution_count": 5,
   "id": "4719c60c",
   "metadata": {
    "ExecuteTime": {
     "end_time": "2022-08-25T11:35:02.568528Z",
     "start_time": "2022-08-25T11:35:02.560362Z"
    }
   },
   "outputs": [],
   "source": [
    "data_path = './features/apr21-feature-mooc-flipped/'\n",
    "\n",
    "# set week type, feature types, and courses here\n",
    "week_type = 'eq_week'\n",
    "feature_types = ['akpinar_et_al', 'boroujeni_et_al', \n",
    "                 'chen_cui', 'he_et_al', 'lalle_conati','lemay_doleck', \n",
    "                 'marras_et_al', 'mbouzao_et_al', 'mubarak_et_al', 'wan_et_al']\n",
    "marras_et_al_id = feature_types.index('marras_et_al')\n",
    "akpinar_et_al_id = feature_types.index('akpinar_et_al')\n",
    "courses = ['epfl_algebrelineaire']\n",
    "\n",
    "# boolean: if True, remove features directly related to student success in weekly quizzes:\n",
    "# student shape, competency alignment, competency strength\n",
    "remove_obvious = True\n",
    "\n",
    "# set number of epochs to train models for each course:\n",
    "params = {}\n",
    "for course in courses:\n",
    "    params[course] = {'num_epochs':12}"
   ]
  },
  {
   "cell_type": "code",
   "execution_count": 6,
   "id": "867cc1cb",
   "metadata": {
    "ExecuteTime": {
     "end_time": "2022-08-25T11:35:02.873194Z",
     "start_time": "2022-08-25T11:35:02.792575Z"
    }
   },
   "outputs": [
    {
     "name": "stdout",
     "output_type": "stream",
     "text": [
      "akpinar_et_al (214, 14, 347)\n",
      "4513\n",
      "boroujeni_et_al (214, 14, 3)\n",
      "40\n",
      "chen_cui (214, 14, 13)\n",
      "173\n",
      "he_et_al (214, 14, 3)\n",
      "41\n",
      "lalle_conati (214, 14, 22)\n",
      "293\n",
      "lemay_doleck (214, 14, 10)\n",
      "135\n",
      "marras_et_al (214, 14, 12)\n",
      "118\n",
      "mbouzao_et_al (214, 14, 3)\n",
      "41\n",
      "mubarak_et_al (214, 14, 13)\n",
      "176\n",
      "wan_et_al (214, 14, 14)\n",
      "191\n",
      "course:  ['epfl_algebrelineaire']\n",
      "week_type:  eq_week\n",
      "feature_type:  ['akpinar_et_al', 'boroujeni_et_al', 'chen_cui', 'he_et_al', 'lalle_conati', 'lemay_doleck', 'marras_et_al', 'mbouzao_et_al', 'mubarak_et_al', 'wan_et_al']\n"
     ]
    }
   ],
   "source": [
    "# Loading the features\n",
    "feature_list = {}\n",
    "\n",
    "for course in courses:\n",
    "    feature_type_list = []\n",
    "    for feature_type in feature_types:\n",
    "    \n",
    "        filepath = data_path + week_type + '-' + feature_type + '-' + course\n",
    "        feature_current = np.load(filepath+'/feature_values.npz')['feature_values']\n",
    "        print(feature_type, feature_current.shape)\n",
    "        print(np.count_nonzero(np.isnan(feature_current).any(axis=0)))\n",
    "        feature_norm = feature_current.reshape(-1,feature_current.shape[2] )\n",
    "#         print(feature_norm.shape)\n",
    "        feature_type_list.append(pd.DataFrame(feature_norm))\n",
    "    feature_list[course] = feature_type_list\n",
    "\n",
    "print('course: ', courses)\n",
    "print('week_type: ', week_type)\n",
    "print('feature_type: ', feature_types)"
   ]
  },
  {
   "cell_type": "code",
   "execution_count": 7,
   "id": "ef61470e",
   "metadata": {
    "ExecuteTime": {
     "end_time": "2022-08-25T11:35:03.119695Z",
     "start_time": "2022-08-25T11:35:03.090971Z"
    }
   },
   "outputs": [
    {
     "name": "stdout",
     "output_type": "stream",
     "text": [
      "(array([ 41, 103, 118, 132, 150, 217, 243, 341, 346]),)\n",
      "akpinar_et_al 9\n",
      "boroujeni_et_al 9\n",
      "chen_cui 13\n",
      "he_et_al 3\n",
      "lalle_conati 22\n",
      "lemay_doleck 10\n",
      "marras_et_al 12\n",
      "mbouzao_et_al 3\n",
      "mubarak_et_al 14\n",
      "wan_et_al 14\n"
     ]
    }
   ],
   "source": [
    "# Loading feature names\n",
    "feature_names= dict()\n",
    "\n",
    "for feature_type in feature_types:\n",
    "    \n",
    "    filepath = data_path + week_type + '-' + feature_type + '-' + course + '/settings.txt'\n",
    "    file = open(filepath, \"r\")\n",
    "    contents = file.read()\n",
    "    dictionary = ast.literal_eval(contents)\n",
    "    file.close()\n",
    "    \n",
    "    feature_type_name = dictionary['feature_names']\n",
    "    \n",
    "    # reformat feature names\n",
    "    # ex: time_sessions_<function sum at 0x7f3bd02cc9d0> -> time_sessions_sum\n",
    "    feature_type_name = [clean_name(x) for x in feature_type_name]\n",
    "    \n",
    "    # for akpinar_et_al, just use the features listed below\n",
    "    if feature_type == 'akpinar_et_al': \n",
    "        feature_type_name = [clean_akp_name(x) for x in feature_type_name]\n",
    "        akp_mask = np.where(np.isin(feature_type_name, \n",
    "                 [\"total_clicks\", \"number_sessions\", \"time_in__video_sum\", \"time_in__problem_sum\",\n",
    "                  'problem.check-problem.check-problem.check', \n",
    "                  'problem.check-problem.check-video.load', \n",
    "                  'video.play-video.play-video.play',\n",
    "                  'video.play-video.pause-video.load',\n",
    "                  'video.play-problem.check-problem.check',\n",
    "                  'video.play-video.stop-video.play',\n",
    "                  'video.pause-video.speedchange-video.play',\n",
    "                  'video.stop-video.play-video.seek',\n",
    "                  'video.stop-problem.check-video.load']))\n",
    "        print(akp_mask)\n",
    "        feature_type_name = list(np.array(feature_type_name)[akp_mask[0]])\n",
    "        feature_list[course][akpinar_et_al_id] = feature_list[course][akpinar_et_al_id][akp_mask[0]]\n",
    "        \n",
    "        \n",
    "    feature_names[feature_type] = feature_type_name\n",
    "    print(feature_type, len(feature_type_name))\n",
    "\n",
    "if remove_obvious: \n",
    "    # drop 'student shape', 'competency strength', 'competency alignment' in marras at al\n",
    "    \n",
    "    mr_mask = np.where(np.isin(feature_names['marras_et_al'], \n",
    "                 ['student_shape', 'competency_strength', 'competency_alignment']))\n",
    "    \n",
    "    new_marras = np.delete(np.array(feature_names['marras_et_al']), mr_mask[0])\n",
    "    feature_names['marras_et_al'] = new_marras\n",
    "    \n",
    "    for course in courses: \n",
    "        new_features = feature_list[course][marras_et_al_id].drop(mr_mask[0], axis=1)\n",
    "        feature_list[course][marras_et_al_id] = new_features"
   ]
  },
  {
   "cell_type": "code",
   "execution_count": 8,
   "id": "77b21c25",
   "metadata": {
    "ExecuteTime": {
     "end_time": "2022-08-25T11:35:03.438758Z",
     "start_time": "2022-08-25T11:35:03.342437Z"
    }
   },
   "outputs": [
    {
     "name": "stdout",
     "output_type": "stream",
     "text": [
      "epfl_algebrelineaire\n",
      "Feature type:  akpinar_et_al\n",
      "   shape of the feature: (215, 14, 9)\n",
      "\n",
      "Feature type:  boroujeni_et_al\n",
      "   shape of the feature: (215, 14, 3)\n",
      "\n",
      "Feature type:  chen_cui\n",
      "   shape of the feature: (215, 14, 11)\n",
      "\n",
      "Feature type:  he_et_al\n",
      "   shape of the feature: (215, 14, 3)\n",
      "\n",
      "Feature type:  lalle_conati\n",
      "   shape of the feature: (215, 14, 17)\n",
      "\n",
      "Feature type:  lemay_doleck\n",
      "   shape of the feature: (215, 14, 10)\n",
      "\n",
      "Feature type:  marras_et_al\n",
      "   shape of the feature: (215, 14, 12)\n",
      "\n",
      "Feature type:  mbouzao_et_al\n",
      "   shape of the feature: (215, 14, 1)\n",
      "\n",
      "Feature type:  mubarak_et_al\n",
      "   shape of the feature: (215, 14, 7)\n",
      "\n",
      "Feature type:  wan_et_al\n",
      "   shape of the feature: (215, 14, 12)\n",
      "\n",
      "\n",
      "**************************************************\n",
      "concatenated feature shape:  (215, 14, 85)\n",
      "final features shape: (215, 1190)\n",
      "course:  epfl_algebrelineaire\n",
      "week_type:  eq_week\n",
      "feature_type:  ['akpinar_et_al', 'boroujeni_et_al', 'chen_cui', 'he_et_al', 'lalle_conati', 'lemay_doleck', 'marras_et_al', 'mbouzao_et_al', 'mubarak_et_al', 'wan_et_al']\n",
      "[array(['video.pause-video.speedchange-video.play',\n",
      "       'video.play-video.pause-video.load',\n",
      "       'video.play-video.play-video.play',\n",
      "       'video.play-video.stop-video.play',\n",
      "       'video.play-problem.check-problem.check',\n",
      "       'video.stop-video.play-video.seek',\n",
      "       'video.stop-problem.check-video.load',\n",
      "       'problem.check-problem.check-video.load',\n",
      "       'problem.check-problem.check-problem.check'], dtype='<U41'), array(['RegPeakTime-m1', 'RegPeriodicity-m1', 'DelayLecture'],\n",
      "      dtype='<U17'), array(['TotalClicks', 'NumberSessions', 'TimeSessions-sum',\n",
      "       'TimeSessions-mean', 'TimeBetweenSessions-std', 'TimeSessions-std',\n",
      "       'TotalClicks-weekday', 'TotalClicks-weekend',\n",
      "       'RatioClicksWeekendDay', 'Time-problem-sum', 'Time-video-sum'],\n",
      "      dtype='<U23'), array(['AttendanceRate', 'UtilizationRate', 'WatchingRatio'], dtype='<U15'), array(['TotalClicks-video.load', 'WeeklyProp-watched-mean',\n",
      "       'WeeklyProp-replayed-mean', 'WeeklyProp-interrupted-mean',\n",
      "       'FrequencyEvent-video', 'FrequencyEvent-video.load',\n",
      "       'FrequencyEvent-video.play', 'FrequencyEvent-video.pause',\n",
      "       'FrequencyEvent-video.stop', 'FrequencyEvent-video.seekbackward',\n",
      "       'FrequencyEvent-video.seekforward', 'SeekLength-mean',\n",
      "       'SeekLength-std', 'PauseDuration-mean', 'PauseDuration-std',\n",
      "       'TimeSpeedingUp-mean', 'TimeSpeedingUp-std'], dtype='<U33'), array(['FractionSpent-video.play', 'FractionSpent-video.play-completed',\n",
      "       'FractionSpent-video.play-played',\n",
      "       'FrequencyEvent-video.pause-total', 'FractionSpent-video.pause',\n",
      "       'SpeedPlayback-mean', 'SpeedPlayback-std',\n",
      "       'FrequencyEvent-video.seekbackward-total',\n",
      "       'FrequencyEvent-video.seekforward-total',\n",
      "       'CountUniqueElement-video'], dtype='<U39'), array(['CompetencyStrength', 'CompetencyAlignment', 'CompetencyCoverage',\n",
      "       'CompetencyAnticipation', 'ContentAlignment', 'ContentCoverage',\n",
      "       'ContentAnticipation', 'StudentSpeed', 'StudentShape',\n",
      "       'StudentActiveness', 'StudentThoughtfulness',\n",
      "       'StudentWeeklyActiveness'], dtype='<U23'), array(['WatchingIndex'], dtype='<U15'), array(['FrequencyEvent-video.play-played',\n",
      "       'FrequencyEvent-video.play-relative',\n",
      "       'FrequencyEvent-video.pause-relative',\n",
      "       'FractionSpent-video.seek-time-backward',\n",
      "       'FractionSpent-video.seek-time-forward',\n",
      "       'FrequencyEvent-video.seelforward-total',\n",
      "       'FrequencyEvent-video.load-relative'], dtype='<U39'), array(['NumberSubmissions-distinct', 'NumberSubmissions',\n",
      "       'NumberSubmissions-distinct_correct', 'NumberSubmissions-avg',\n",
      "       'NumberSubmissions-avg_time', 'ObsDurationProblem',\n",
      "       'NumberSubmissions-perc_correct', 'TimeSolveProblem',\n",
      "       'ObsDurationProblem-var', 'ObsDurationProblem-max',\n",
      "       'TimeSessions-length', 'NumberSubmissions-correct'], dtype='<U34')]\n"
     ]
    }
   ],
   "source": [
    "labels = {}\n",
    "features = {}\n",
    "selected_features = {}\n",
    "\n",
    "for course in courses:\n",
    "    print(course)\n",
    "    labels[course] = load_labels(course)\n",
    "    feats, sel_feats, num_weeks, num_features, non_flat = load_features(course)\n",
    "    features['flat_{}'.format(course)] = feats\n",
    "    features['non_flat_{}'.format(course)] = non_flat # adding the non-flat version of the network\n",
    "    selected_features[course] = sel_feats\n",
    "    params[course]['num_weeks'] = num_weeks\n",
    "    params[course]['num_features'] = num_features"
   ]
  },
  {
   "cell_type": "code",
   "execution_count": 9,
   "id": "6fa54a95",
   "metadata": {
    "ExecuteTime": {
     "end_time": "2022-08-25T11:35:03.624327Z",
     "start_time": "2022-08-25T11:35:03.618030Z"
    }
   },
   "outputs": [
    {
     "name": "stdout",
     "output_type": "stream",
     "text": [
      "{'akpinar_et_al': ['video.pause-video.speedchange-video.play', 'video.play-video.pause-video.load', 'video.play-video.play-video.play', 'video.play-video.stop-video.play', 'video.play-problem.check-problem.check', 'video.stop-video.play-video.seek', 'video.stop-problem.check-video.load', 'problem.check-problem.check-video.load', 'problem.check-problem.check-problem.check'], 'boroujeni_et_al': ['RegPeakTime-m1', 'RegPeriodicity-m1', 'DelayLecture'], 'chen_cui': ['TotalClicks', 'NumberSessions', 'TimeSessions-sum', 'TimeSessions-mean', 'TimeBetweenSessions-std', 'TimeSessions-std', 'TotalClicks-weekday', 'TotalClicks-weekend', 'RatioClicksWeekendDay', 'Time-problem-sum', 'Time-video-sum'], 'he_et_al': ['AttendanceRate', 'UtilizationRate', 'WatchingRatio'], 'lalle_conati': ['TotalClicks-video.load', 'WeeklyProp-watched-mean', 'WeeklyProp-replayed-mean', 'WeeklyProp-interrupted-mean', 'FrequencyEvent-video', 'FrequencyEvent-video.load', 'FrequencyEvent-video.play', 'FrequencyEvent-video.pause', 'FrequencyEvent-video.stop', 'FrequencyEvent-video.seekbackward', 'FrequencyEvent-video.seekforward', 'SeekLength-mean', 'SeekLength-std', 'PauseDuration-mean', 'PauseDuration-std', 'TimeSpeedingUp-mean', 'TimeSpeedingUp-std'], 'lemay_doleck': ['FractionSpent-video.play', 'FractionSpent-video.play-completed', 'FractionSpent-video.play-played', 'FrequencyEvent-video.pause-total', 'FractionSpent-video.pause', 'SpeedPlayback-mean', 'SpeedPlayback-std', 'FrequencyEvent-video.seekbackward-total', 'FrequencyEvent-video.seekforward-total', 'CountUniqueElement-video'], 'marras_et_al': ['CompetencyStrength', 'CompetencyAlignment', 'CompetencyCoverage', 'CompetencyAnticipation', 'ContentAlignment', 'ContentCoverage', 'ContentAnticipation', 'StudentSpeed', 'StudentShape', 'StudentActiveness', 'StudentThoughtfulness', 'StudentWeeklyActiveness'], 'mbouzao_et_al': ['WatchingIndex'], 'mubarak_et_al': ['FrequencyEvent-video.play-played', 'FrequencyEvent-video.play-relative', 'FrequencyEvent-video.pause-relative', 'FractionSpent-video.seek-time-backward', 'FractionSpent-video.seek-time-forward', 'FrequencyEvent-video.seelforward-total', 'FrequencyEvent-video.load-relative'], 'wan_et_al': ['NumberSubmissions-distinct', 'NumberSubmissions', 'NumberSubmissions-distinct_correct', 'NumberSubmissions-avg', 'NumberSubmissions-avg_time', 'ObsDurationProblem', 'NumberSubmissions-perc_correct', 'TimeSolveProblem', 'ObsDurationProblem-var', 'ObsDurationProblem-max', 'TimeSessions-length', 'NumberSubmissions-correct']}\n"
     ]
    }
   ],
   "source": [
    "course = 'epfl_algebrelineaire'\n",
    "final_features = dict()\n",
    "\n",
    "for i, feature_type in enumerate(feature_types):\n",
    "    final_features[feature_type] = list(selected_features[course][i])\n",
    "    \n",
    "print(final_features)"
   ]
  },
  {
   "cell_type": "markdown",
   "id": "4adff67c",
   "metadata": {},
   "source": [
    "# Id Matching"
   ]
  },
  {
   "cell_type": "code",
   "execution_count": 10,
   "id": "e9abb08a",
   "metadata": {
    "ExecuteTime": {
     "end_time": "2022-08-25T11:35:04.025548Z",
     "start_time": "2022-08-25T11:35:04.020981Z"
    }
   },
   "outputs": [],
   "source": [
    "features = features['non_flat_epfl_algebrelineaire'][:-1]\n",
    "labels = labels['epfl_algebrelineaire'][:-1]\n",
    "assert len(features) == 214\n",
    "assert len(labels) == 214\n",
    "# Last row is for the explainability network"
   ]
  },
  {
   "cell_type": "code",
   "execution_count": 11,
   "id": "ae1b1695",
   "metadata": {
    "ExecuteTime": {
     "end_time": "2022-08-25T11:35:04.331832Z",
     "start_time": "2022-08-25T11:35:04.295627Z"
    }
   },
   "outputs": [
    {
     "name": "stdout",
     "output_type": "stream",
     "text": [
      "214\n",
      "214\n"
     ]
    }
   ],
   "source": [
    "# Matching of ids between vinitra's features's row and the id with the demographics\n",
    "id_matching = pd.read_csv('./features/apr21-feature-mooc-flipped/user_id_mapping-epfl_algebrelineaire.csv')\n",
    "id_matching.columns = ['user_row', 'user_id']\n",
    "id_matching.head()\n",
    "\n",
    "# demographics information from Vinitra, in the mooc folder in the server\n",
    "demographics18 = pd.read_csv('./demographics/EPFL-AlgebreLineaire-2018.csv') \n",
    "demographics19 = pd.read_csv('./demographics/EPFL-AlgebreLineaire-2019.csv')\n",
    "demographics18['year'] = 2018\n",
    "demographics19['year'] = 2019\n",
    "demographics_all = pd.concat([demographics18, demographics19])\n",
    "demographics_all.head()\n",
    "\n",
    "# Merging the row id, to the id, to the demographics data\n",
    "print(len(id_matching))\n",
    "demographics = id_matching.merge(demographics_all, how='left', on=['user_id'])\n",
    "print(len(id_matching))"
   ]
  },
  {
   "cell_type": "code",
   "execution_count": 12,
   "id": "65344038",
   "metadata": {
    "ExecuteTime": {
     "end_time": "2022-08-25T11:35:04.686315Z",
     "start_time": "2022-08-25T11:35:04.643240Z"
    }
   },
   "outputs": [
    {
     "data": {
      "text/html": [
       "<div>\n",
       "<style scoped>\n",
       "    .dataframe tbody tr th:only-of-type {\n",
       "        vertical-align: middle;\n",
       "    }\n",
       "\n",
       "    .dataframe tbody tr th {\n",
       "        vertical-align: top;\n",
       "    }\n",
       "\n",
       "    .dataframe thead th {\n",
       "        text-align: right;\n",
       "    }\n",
       "</style>\n",
       "<table border=\"1\" class=\"dataframe\">\n",
       "  <thead>\n",
       "    <tr style=\"text-align: right;\">\n",
       "      <th></th>\n",
       "      <th>user_row</th>\n",
       "      <th>user_id</th>\n",
       "      <th>gender</th>\n",
       "      <th>country_diploma</th>\n",
       "      <th>continent_diploma</th>\n",
       "      <th>year_diploma</th>\n",
       "      <th>title_diploma</th>\n",
       "      <th>avg_french_bac</th>\n",
       "      <th>rating_french</th>\n",
       "      <th>scale_french</th>\n",
       "      <th>rating_maths</th>\n",
       "      <th>scale_maths</th>\n",
       "      <th>rating_physics</th>\n",
       "      <th>scale_physics</th>\n",
       "      <th>rating_os</th>\n",
       "      <th>scale_os</th>\n",
       "      <th>year</th>\n",
       "      <th>nan_values</th>\n",
       "    </tr>\n",
       "  </thead>\n",
       "  <tbody>\n",
       "    <tr>\n",
       "      <th>2</th>\n",
       "      <td>2</td>\n",
       "      <td>a9e4c75be2065bad69e5556da9159555</td>\n",
       "      <td>NaN</td>\n",
       "      <td>NaN</td>\n",
       "      <td>NaN</td>\n",
       "      <td>NaN</td>\n",
       "      <td>NaN</td>\n",
       "      <td>NaN</td>\n",
       "      <td>NaN</td>\n",
       "      <td>NaN</td>\n",
       "      <td>NaN</td>\n",
       "      <td>NaN</td>\n",
       "      <td>NaN</td>\n",
       "      <td>NaN</td>\n",
       "      <td>NaN</td>\n",
       "      <td>NaN</td>\n",
       "      <td>2018</td>\n",
       "      <td>14</td>\n",
       "    </tr>\n",
       "    <tr>\n",
       "      <th>14</th>\n",
       "      <td>14</td>\n",
       "      <td>991aeaa80650c5aa985698c5bfaae855</td>\n",
       "      <td>NaN</td>\n",
       "      <td>NaN</td>\n",
       "      <td>NaN</td>\n",
       "      <td>NaN</td>\n",
       "      <td>NaN</td>\n",
       "      <td>NaN</td>\n",
       "      <td>NaN</td>\n",
       "      <td>NaN</td>\n",
       "      <td>NaN</td>\n",
       "      <td>NaN</td>\n",
       "      <td>NaN</td>\n",
       "      <td>NaN</td>\n",
       "      <td>NaN</td>\n",
       "      <td>NaN</td>\n",
       "      <td>2018</td>\n",
       "      <td>14</td>\n",
       "    </tr>\n",
       "    <tr>\n",
       "      <th>16</th>\n",
       "      <td>16</td>\n",
       "      <td>db0e44f5c42767a8fdd9fdead3c63918</td>\n",
       "      <td>NaN</td>\n",
       "      <td>NaN</td>\n",
       "      <td>NaN</td>\n",
       "      <td>NaN</td>\n",
       "      <td>NaN</td>\n",
       "      <td>NaN</td>\n",
       "      <td>NaN</td>\n",
       "      <td>NaN</td>\n",
       "      <td>NaN</td>\n",
       "      <td>NaN</td>\n",
       "      <td>NaN</td>\n",
       "      <td>NaN</td>\n",
       "      <td>NaN</td>\n",
       "      <td>NaN</td>\n",
       "      <td>2018</td>\n",
       "      <td>14</td>\n",
       "    </tr>\n",
       "    <tr>\n",
       "      <th>17</th>\n",
       "      <td>17</td>\n",
       "      <td>4856bc21902b77c64b65834f7bb76484</td>\n",
       "      <td>NaN</td>\n",
       "      <td>NaN</td>\n",
       "      <td>NaN</td>\n",
       "      <td>NaN</td>\n",
       "      <td>NaN</td>\n",
       "      <td>NaN</td>\n",
       "      <td>NaN</td>\n",
       "      <td>NaN</td>\n",
       "      <td>NaN</td>\n",
       "      <td>NaN</td>\n",
       "      <td>NaN</td>\n",
       "      <td>NaN</td>\n",
       "      <td>NaN</td>\n",
       "      <td>NaN</td>\n",
       "      <td>2018</td>\n",
       "      <td>14</td>\n",
       "    </tr>\n",
       "    <tr>\n",
       "      <th>22</th>\n",
       "      <td>22</td>\n",
       "      <td>643b970d6b6222a650ff94df948da5b4</td>\n",
       "      <td>NaN</td>\n",
       "      <td>NaN</td>\n",
       "      <td>NaN</td>\n",
       "      <td>NaN</td>\n",
       "      <td>NaN</td>\n",
       "      <td>NaN</td>\n",
       "      <td>NaN</td>\n",
       "      <td>NaN</td>\n",
       "      <td>NaN</td>\n",
       "      <td>NaN</td>\n",
       "      <td>NaN</td>\n",
       "      <td>NaN</td>\n",
       "      <td>NaN</td>\n",
       "      <td>NaN</td>\n",
       "      <td>2018</td>\n",
       "      <td>14</td>\n",
       "    </tr>\n",
       "    <tr>\n",
       "      <th>25</th>\n",
       "      <td>25</td>\n",
       "      <td>070cfff1bd82c4b3d9a7878f35c7641b</td>\n",
       "      <td>NaN</td>\n",
       "      <td>NaN</td>\n",
       "      <td>NaN</td>\n",
       "      <td>NaN</td>\n",
       "      <td>NaN</td>\n",
       "      <td>NaN</td>\n",
       "      <td>NaN</td>\n",
       "      <td>NaN</td>\n",
       "      <td>NaN</td>\n",
       "      <td>NaN</td>\n",
       "      <td>NaN</td>\n",
       "      <td>NaN</td>\n",
       "      <td>NaN</td>\n",
       "      <td>NaN</td>\n",
       "      <td>2018</td>\n",
       "      <td>14</td>\n",
       "    </tr>\n",
       "    <tr>\n",
       "      <th>49</th>\n",
       "      <td>49</td>\n",
       "      <td>2bcf86eebdafa76f7dd40420d4e77bba</td>\n",
       "      <td>NaN</td>\n",
       "      <td>NaN</td>\n",
       "      <td>NaN</td>\n",
       "      <td>NaN</td>\n",
       "      <td>NaN</td>\n",
       "      <td>NaN</td>\n",
       "      <td>NaN</td>\n",
       "      <td>NaN</td>\n",
       "      <td>NaN</td>\n",
       "      <td>NaN</td>\n",
       "      <td>NaN</td>\n",
       "      <td>NaN</td>\n",
       "      <td>NaN</td>\n",
       "      <td>NaN</td>\n",
       "      <td>2018</td>\n",
       "      <td>14</td>\n",
       "    </tr>\n",
       "    <tr>\n",
       "      <th>64</th>\n",
       "      <td>64</td>\n",
       "      <td>12bb10caa6b811a817e7e330644dad8b</td>\n",
       "      <td>NaN</td>\n",
       "      <td>NaN</td>\n",
       "      <td>NaN</td>\n",
       "      <td>NaN</td>\n",
       "      <td>NaN</td>\n",
       "      <td>NaN</td>\n",
       "      <td>NaN</td>\n",
       "      <td>NaN</td>\n",
       "      <td>NaN</td>\n",
       "      <td>NaN</td>\n",
       "      <td>NaN</td>\n",
       "      <td>NaN</td>\n",
       "      <td>NaN</td>\n",
       "      <td>NaN</td>\n",
       "      <td>2018</td>\n",
       "      <td>14</td>\n",
       "    </tr>\n",
       "    <tr>\n",
       "      <th>83</th>\n",
       "      <td>83</td>\n",
       "      <td>dd9a851385f54250aad7c7006fe381e4</td>\n",
       "      <td>NaN</td>\n",
       "      <td>NaN</td>\n",
       "      <td>NaN</td>\n",
       "      <td>NaN</td>\n",
       "      <td>NaN</td>\n",
       "      <td>NaN</td>\n",
       "      <td>NaN</td>\n",
       "      <td>NaN</td>\n",
       "      <td>NaN</td>\n",
       "      <td>NaN</td>\n",
       "      <td>NaN</td>\n",
       "      <td>NaN</td>\n",
       "      <td>NaN</td>\n",
       "      <td>NaN</td>\n",
       "      <td>2018</td>\n",
       "      <td>14</td>\n",
       "    </tr>\n",
       "    <tr>\n",
       "      <th>87</th>\n",
       "      <td>87</td>\n",
       "      <td>3dddf0c3c4a32f241841fe7e7cef5425</td>\n",
       "      <td>NaN</td>\n",
       "      <td>NaN</td>\n",
       "      <td>NaN</td>\n",
       "      <td>NaN</td>\n",
       "      <td>NaN</td>\n",
       "      <td>NaN</td>\n",
       "      <td>NaN</td>\n",
       "      <td>NaN</td>\n",
       "      <td>NaN</td>\n",
       "      <td>NaN</td>\n",
       "      <td>NaN</td>\n",
       "      <td>NaN</td>\n",
       "      <td>NaN</td>\n",
       "      <td>NaN</td>\n",
       "      <td>2018</td>\n",
       "      <td>14</td>\n",
       "    </tr>\n",
       "    <tr>\n",
       "      <th>90</th>\n",
       "      <td>90</td>\n",
       "      <td>a072b0a4e1ed35ae190324f925a580a3</td>\n",
       "      <td>NaN</td>\n",
       "      <td>NaN</td>\n",
       "      <td>NaN</td>\n",
       "      <td>NaN</td>\n",
       "      <td>NaN</td>\n",
       "      <td>NaN</td>\n",
       "      <td>NaN</td>\n",
       "      <td>NaN</td>\n",
       "      <td>NaN</td>\n",
       "      <td>NaN</td>\n",
       "      <td>NaN</td>\n",
       "      <td>NaN</td>\n",
       "      <td>NaN</td>\n",
       "      <td>NaN</td>\n",
       "      <td>2018</td>\n",
       "      <td>14</td>\n",
       "    </tr>\n",
       "    <tr>\n",
       "      <th>91</th>\n",
       "      <td>91</td>\n",
       "      <td>7062438e48ee64193e0a8134c714955f</td>\n",
       "      <td>NaN</td>\n",
       "      <td>NaN</td>\n",
       "      <td>NaN</td>\n",
       "      <td>NaN</td>\n",
       "      <td>NaN</td>\n",
       "      <td>NaN</td>\n",
       "      <td>NaN</td>\n",
       "      <td>NaN</td>\n",
       "      <td>NaN</td>\n",
       "      <td>NaN</td>\n",
       "      <td>NaN</td>\n",
       "      <td>NaN</td>\n",
       "      <td>NaN</td>\n",
       "      <td>NaN</td>\n",
       "      <td>2018</td>\n",
       "      <td>14</td>\n",
       "    </tr>\n",
       "    <tr>\n",
       "      <th>94</th>\n",
       "      <td>94</td>\n",
       "      <td>bbbc7f602d2e87c5be4278554f8e8ca3</td>\n",
       "      <td>NaN</td>\n",
       "      <td>NaN</td>\n",
       "      <td>NaN</td>\n",
       "      <td>NaN</td>\n",
       "      <td>NaN</td>\n",
       "      <td>NaN</td>\n",
       "      <td>NaN</td>\n",
       "      <td>NaN</td>\n",
       "      <td>NaN</td>\n",
       "      <td>NaN</td>\n",
       "      <td>NaN</td>\n",
       "      <td>NaN</td>\n",
       "      <td>NaN</td>\n",
       "      <td>NaN</td>\n",
       "      <td>2018</td>\n",
       "      <td>14</td>\n",
       "    </tr>\n",
       "    <tr>\n",
       "      <th>102</th>\n",
       "      <td>102</td>\n",
       "      <td>93306a5a0a8f11c1131c700556d1ccf6</td>\n",
       "      <td>NaN</td>\n",
       "      <td>NaN</td>\n",
       "      <td>NaN</td>\n",
       "      <td>NaN</td>\n",
       "      <td>NaN</td>\n",
       "      <td>NaN</td>\n",
       "      <td>NaN</td>\n",
       "      <td>NaN</td>\n",
       "      <td>NaN</td>\n",
       "      <td>NaN</td>\n",
       "      <td>NaN</td>\n",
       "      <td>NaN</td>\n",
       "      <td>NaN</td>\n",
       "      <td>NaN</td>\n",
       "      <td>2018</td>\n",
       "      <td>14</td>\n",
       "    </tr>\n",
       "    <tr>\n",
       "      <th>128</th>\n",
       "      <td>128</td>\n",
       "      <td>fa9cc7ec61456839a6834f0d303378cd</td>\n",
       "      <td>NaN</td>\n",
       "      <td>NaN</td>\n",
       "      <td>NaN</td>\n",
       "      <td>NaN</td>\n",
       "      <td>NaN</td>\n",
       "      <td>NaN</td>\n",
       "      <td>NaN</td>\n",
       "      <td>NaN</td>\n",
       "      <td>NaN</td>\n",
       "      <td>NaN</td>\n",
       "      <td>NaN</td>\n",
       "      <td>NaN</td>\n",
       "      <td>NaN</td>\n",
       "      <td>NaN</td>\n",
       "      <td>2019</td>\n",
       "      <td>14</td>\n",
       "    </tr>\n",
       "    <tr>\n",
       "      <th>141</th>\n",
       "      <td>141</td>\n",
       "      <td>d6be50f05085b3fc415d536fad299dc7</td>\n",
       "      <td>NaN</td>\n",
       "      <td>NaN</td>\n",
       "      <td>NaN</td>\n",
       "      <td>NaN</td>\n",
       "      <td>NaN</td>\n",
       "      <td>NaN</td>\n",
       "      <td>NaN</td>\n",
       "      <td>NaN</td>\n",
       "      <td>NaN</td>\n",
       "      <td>NaN</td>\n",
       "      <td>NaN</td>\n",
       "      <td>NaN</td>\n",
       "      <td>NaN</td>\n",
       "      <td>NaN</td>\n",
       "      <td>2019</td>\n",
       "      <td>14</td>\n",
       "    </tr>\n",
       "    <tr>\n",
       "      <th>197</th>\n",
       "      <td>197</td>\n",
       "      <td>c795ad7ac4c606a55a3cce737d6e49e6</td>\n",
       "      <td>NaN</td>\n",
       "      <td>NaN</td>\n",
       "      <td>NaN</td>\n",
       "      <td>NaN</td>\n",
       "      <td>NaN</td>\n",
       "      <td>NaN</td>\n",
       "      <td>NaN</td>\n",
       "      <td>NaN</td>\n",
       "      <td>NaN</td>\n",
       "      <td>NaN</td>\n",
       "      <td>NaN</td>\n",
       "      <td>NaN</td>\n",
       "      <td>NaN</td>\n",
       "      <td>NaN</td>\n",
       "      <td>2019</td>\n",
       "      <td>14</td>\n",
       "    </tr>\n",
       "    <tr>\n",
       "      <th>203</th>\n",
       "      <td>203</td>\n",
       "      <td>cde42a5655cddfef4b059acb102afc48</td>\n",
       "      <td>NaN</td>\n",
       "      <td>NaN</td>\n",
       "      <td>NaN</td>\n",
       "      <td>NaN</td>\n",
       "      <td>NaN</td>\n",
       "      <td>NaN</td>\n",
       "      <td>NaN</td>\n",
       "      <td>NaN</td>\n",
       "      <td>NaN</td>\n",
       "      <td>NaN</td>\n",
       "      <td>NaN</td>\n",
       "      <td>NaN</td>\n",
       "      <td>NaN</td>\n",
       "      <td>NaN</td>\n",
       "      <td>2019</td>\n",
       "      <td>14</td>\n",
       "    </tr>\n",
       "    <tr>\n",
       "      <th>213</th>\n",
       "      <td>213</td>\n",
       "      <td>f277a5952e53418436ee04507c12faa0</td>\n",
       "      <td>NaN</td>\n",
       "      <td>NaN</td>\n",
       "      <td>NaN</td>\n",
       "      <td>NaN</td>\n",
       "      <td>NaN</td>\n",
       "      <td>NaN</td>\n",
       "      <td>NaN</td>\n",
       "      <td>NaN</td>\n",
       "      <td>NaN</td>\n",
       "      <td>NaN</td>\n",
       "      <td>NaN</td>\n",
       "      <td>NaN</td>\n",
       "      <td>NaN</td>\n",
       "      <td>NaN</td>\n",
       "      <td>2019</td>\n",
       "      <td>14</td>\n",
       "    </tr>\n",
       "  </tbody>\n",
       "</table>\n",
       "</div>"
      ],
      "text/plain": [
       "     user_row                           user_id gender country_diploma  \\\n",
       "2           2  a9e4c75be2065bad69e5556da9159555    NaN             NaN   \n",
       "14         14  991aeaa80650c5aa985698c5bfaae855    NaN             NaN   \n",
       "16         16  db0e44f5c42767a8fdd9fdead3c63918    NaN             NaN   \n",
       "17         17  4856bc21902b77c64b65834f7bb76484    NaN             NaN   \n",
       "22         22  643b970d6b6222a650ff94df948da5b4    NaN             NaN   \n",
       "25         25  070cfff1bd82c4b3d9a7878f35c7641b    NaN             NaN   \n",
       "49         49  2bcf86eebdafa76f7dd40420d4e77bba    NaN             NaN   \n",
       "64         64  12bb10caa6b811a817e7e330644dad8b    NaN             NaN   \n",
       "83         83  dd9a851385f54250aad7c7006fe381e4    NaN             NaN   \n",
       "87         87  3dddf0c3c4a32f241841fe7e7cef5425    NaN             NaN   \n",
       "90         90  a072b0a4e1ed35ae190324f925a580a3    NaN             NaN   \n",
       "91         91  7062438e48ee64193e0a8134c714955f    NaN             NaN   \n",
       "94         94  bbbc7f602d2e87c5be4278554f8e8ca3    NaN             NaN   \n",
       "102       102  93306a5a0a8f11c1131c700556d1ccf6    NaN             NaN   \n",
       "128       128  fa9cc7ec61456839a6834f0d303378cd    NaN             NaN   \n",
       "141       141  d6be50f05085b3fc415d536fad299dc7    NaN             NaN   \n",
       "197       197  c795ad7ac4c606a55a3cce737d6e49e6    NaN             NaN   \n",
       "203       203  cde42a5655cddfef4b059acb102afc48    NaN             NaN   \n",
       "213       213  f277a5952e53418436ee04507c12faa0    NaN             NaN   \n",
       "\n",
       "    continent_diploma  year_diploma title_diploma  avg_french_bac  \\\n",
       "2                 NaN           NaN           NaN             NaN   \n",
       "14                NaN           NaN           NaN             NaN   \n",
       "16                NaN           NaN           NaN             NaN   \n",
       "17                NaN           NaN           NaN             NaN   \n",
       "22                NaN           NaN           NaN             NaN   \n",
       "25                NaN           NaN           NaN             NaN   \n",
       "49                NaN           NaN           NaN             NaN   \n",
       "64                NaN           NaN           NaN             NaN   \n",
       "83                NaN           NaN           NaN             NaN   \n",
       "87                NaN           NaN           NaN             NaN   \n",
       "90                NaN           NaN           NaN             NaN   \n",
       "91                NaN           NaN           NaN             NaN   \n",
       "94                NaN           NaN           NaN             NaN   \n",
       "102               NaN           NaN           NaN             NaN   \n",
       "128               NaN           NaN           NaN             NaN   \n",
       "141               NaN           NaN           NaN             NaN   \n",
       "197               NaN           NaN           NaN             NaN   \n",
       "203               NaN           NaN           NaN             NaN   \n",
       "213               NaN           NaN           NaN             NaN   \n",
       "\n",
       "     rating_french  scale_french  rating_maths  scale_maths  rating_physics  \\\n",
       "2              NaN           NaN           NaN          NaN             NaN   \n",
       "14             NaN           NaN           NaN          NaN             NaN   \n",
       "16             NaN           NaN           NaN          NaN             NaN   \n",
       "17             NaN           NaN           NaN          NaN             NaN   \n",
       "22             NaN           NaN           NaN          NaN             NaN   \n",
       "25             NaN           NaN           NaN          NaN             NaN   \n",
       "49             NaN           NaN           NaN          NaN             NaN   \n",
       "64             NaN           NaN           NaN          NaN             NaN   \n",
       "83             NaN           NaN           NaN          NaN             NaN   \n",
       "87             NaN           NaN           NaN          NaN             NaN   \n",
       "90             NaN           NaN           NaN          NaN             NaN   \n",
       "91             NaN           NaN           NaN          NaN             NaN   \n",
       "94             NaN           NaN           NaN          NaN             NaN   \n",
       "102            NaN           NaN           NaN          NaN             NaN   \n",
       "128            NaN           NaN           NaN          NaN             NaN   \n",
       "141            NaN           NaN           NaN          NaN             NaN   \n",
       "197            NaN           NaN           NaN          NaN             NaN   \n",
       "203            NaN           NaN           NaN          NaN             NaN   \n",
       "213            NaN           NaN           NaN          NaN             NaN   \n",
       "\n",
       "    scale_physics  rating_os scale_os  year  nan_values  \n",
       "2             NaN        NaN      NaN  2018          14  \n",
       "14            NaN        NaN      NaN  2018          14  \n",
       "16            NaN        NaN      NaN  2018          14  \n",
       "17            NaN        NaN      NaN  2018          14  \n",
       "22            NaN        NaN      NaN  2018          14  \n",
       "25            NaN        NaN      NaN  2018          14  \n",
       "49            NaN        NaN      NaN  2018          14  \n",
       "64            NaN        NaN      NaN  2018          14  \n",
       "83            NaN        NaN      NaN  2018          14  \n",
       "87            NaN        NaN      NaN  2018          14  \n",
       "90            NaN        NaN      NaN  2018          14  \n",
       "91            NaN        NaN      NaN  2018          14  \n",
       "94            NaN        NaN      NaN  2018          14  \n",
       "102           NaN        NaN      NaN  2018          14  \n",
       "128           NaN        NaN      NaN  2019          14  \n",
       "141           NaN        NaN      NaN  2019          14  \n",
       "197           NaN        NaN      NaN  2019          14  \n",
       "203           NaN        NaN      NaN  2019          14  \n",
       "213           NaN        NaN      NaN  2019          14  "
      ]
     },
     "execution_count": 12,
     "metadata": {},
     "output_type": "execute_result"
    }
   ],
   "source": [
    "# Check no demographics entries\n",
    "demographics['nan_values'] = demographics.isnull().sum(axis=1).tolist()\n",
    "demographics[demographics['nan_values'] == 14]"
   ]
  },
  {
   "cell_type": "code",
   "execution_count": 13,
   "id": "7cb2b176",
   "metadata": {
    "ExecuteTime": {
     "end_time": "2022-08-25T11:35:05.170706Z",
     "start_time": "2022-08-25T11:35:05.165053Z"
    }
   },
   "outputs": [],
   "source": [
    "demographics = demographics.fillna(-1)"
   ]
  },
  {
   "cell_type": "markdown",
   "id": "ce26cddc",
   "metadata": {},
   "source": [
    "# Cluster matching"
   ]
  },
  {
   "cell_type": "code",
   "execution_count": 14,
   "id": "1f1a6159",
   "metadata": {
    "ExecuteTime": {
     "end_time": "2022-08-25T11:35:05.535962Z",
     "start_time": "2022-08-25T11:35:05.500296Z"
    }
   },
   "outputs": [
    {
     "data": {
      "text/html": [
       "<div>\n",
       "<style scoped>\n",
       "    .dataframe tbody tr th:only-of-type {\n",
       "        vertical-align: middle;\n",
       "    }\n",
       "\n",
       "    .dataframe tbody tr th {\n",
       "        vertical-align: top;\n",
       "    }\n",
       "\n",
       "    .dataframe thead th {\n",
       "        text-align: right;\n",
       "    }\n",
       "</style>\n",
       "<table border=\"1\" class=\"dataframe\">\n",
       "  <thead>\n",
       "    <tr style=\"text-align: right;\">\n",
       "      <th></th>\n",
       "      <th>student</th>\n",
       "      <th>profile</th>\n",
       "      <th>label_grade</th>\n",
       "      <th>label_pass_fail</th>\n",
       "      <th>label_dropout</th>\n",
       "      <th>label_stopout</th>\n",
       "      <th>user_id</th>\n",
       "      <th>account_user_id</th>\n",
       "      <th>sciper_text</th>\n",
       "      <th>round_id</th>\n",
       "      <th>condition</th>\n",
       "      <th>id_anon</th>\n",
       "      <th>gender</th>\n",
       "      <th>section</th>\n",
       "      <th>diploma</th>\n",
       "      <th>category</th>\n",
       "      <th>country_diploma</th>\n",
       "      <th>exam_present</th>\n",
       "      <th>final_grade</th>\n",
       "      <th>total_score</th>\n",
       "    </tr>\n",
       "  </thead>\n",
       "  <tbody>\n",
       "    <tr>\n",
       "      <th>0</th>\n",
       "      <td>0</td>\n",
       "      <td>B</td>\n",
       "      <td>4.50</td>\n",
       "      <td>0.0</td>\n",
       "      <td>0.0</td>\n",
       "      <td>13.0</td>\n",
       "      <td>ee38f02e4aefeea014b70358a50a3c42</td>\n",
       "      <td>46413</td>\n",
       "      <td>296767</td>\n",
       "      <td>Y2-2018-19</td>\n",
       "      <td>Flipped</td>\n",
       "      <td>4427T2597</td>\n",
       "      <td>NaN</td>\n",
       "      <td>NaN</td>\n",
       "      <td>NaN</td>\n",
       "      <td>NaN</td>\n",
       "      <td>NaN</td>\n",
       "      <td>NaN</td>\n",
       "      <td>NaN</td>\n",
       "      <td>Y2-2018-19</td>\n",
       "    </tr>\n",
       "    <tr>\n",
       "      <th>1</th>\n",
       "      <td>1</td>\n",
       "      <td>D</td>\n",
       "      <td>4.50</td>\n",
       "      <td>0.0</td>\n",
       "      <td>0.0</td>\n",
       "      <td>13.0</td>\n",
       "      <td>3a50861aa4ceb79eff4def23a39c6ec5</td>\n",
       "      <td>48558</td>\n",
       "      <td>301739</td>\n",
       "      <td>Y2-2018-19</td>\n",
       "      <td>Flipped</td>\n",
       "      <td>4297T2518</td>\n",
       "      <td>M</td>\n",
       "      <td>IN</td>\n",
       "      <td>Diplôme HES</td>\n",
       "      <td>Suisse.Autres</td>\n",
       "      <td>Suisse</td>\n",
       "      <td>1.0</td>\n",
       "      <td>15.0</td>\n",
       "      <td>Y2-2018-19</td>\n",
       "    </tr>\n",
       "    <tr>\n",
       "      <th>2</th>\n",
       "      <td>2</td>\n",
       "      <td>B</td>\n",
       "      <td>5.25</td>\n",
       "      <td>0.0</td>\n",
       "      <td>0.0</td>\n",
       "      <td>12.0</td>\n",
       "      <td>883d63120d49df4f3cd1eac85be24696</td>\n",
       "      <td>48666</td>\n",
       "      <td>300667</td>\n",
       "      <td>Y2-2018-19</td>\n",
       "      <td>Flipped</td>\n",
       "      <td>3935T2301</td>\n",
       "      <td>M</td>\n",
       "      <td>SIE</td>\n",
       "      <td>Mat.Opt.Physique.Math</td>\n",
       "      <td>Suisse.PAM</td>\n",
       "      <td>Suisse</td>\n",
       "      <td>1.0</td>\n",
       "      <td>54.0</td>\n",
       "      <td>Y2-2018-19</td>\n",
       "    </tr>\n",
       "    <tr>\n",
       "      <th>3</th>\n",
       "      <td>3</td>\n",
       "      <td>B</td>\n",
       "      <td>4.50</td>\n",
       "      <td>0.0</td>\n",
       "      <td>0.0</td>\n",
       "      <td>11.0</td>\n",
       "      <td>a9e4c75be2065bad69e5556da9159555</td>\n",
       "      <td>46476</td>\n",
       "      <td>303808</td>\n",
       "      <td>Y2-2018-19</td>\n",
       "      <td>Flipped</td>\n",
       "      <td>4646T2727</td>\n",
       "      <td>F</td>\n",
       "      <td>CGC</td>\n",
       "      <td>Autre.Suisse</td>\n",
       "      <td>Suisse.Autres</td>\n",
       "      <td>Suisse</td>\n",
       "      <td>1.0</td>\n",
       "      <td>56.0</td>\n",
       "      <td>Y2-2018-19</td>\n",
       "    </tr>\n",
       "    <tr>\n",
       "      <th>4</th>\n",
       "      <td>4</td>\n",
       "      <td>E</td>\n",
       "      <td>4.75</td>\n",
       "      <td>0.0</td>\n",
       "      <td>1.0</td>\n",
       "      <td>8.0</td>\n",
       "      <td>3c7045987cd5d98c1c9b8960eedd5943</td>\n",
       "      <td>48870</td>\n",
       "      <td>298071</td>\n",
       "      <td>Y2-2018-19</td>\n",
       "      <td>Flipped</td>\n",
       "      <td>951T511</td>\n",
       "      <td>F</td>\n",
       "      <td>SV</td>\n",
       "      <td>Bacc. étranger</td>\n",
       "      <td>France</td>\n",
       "      <td>France</td>\n",
       "      <td>1.0</td>\n",
       "      <td>53.0</td>\n",
       "      <td>Y2-2018-19</td>\n",
       "    </tr>\n",
       "  </tbody>\n",
       "</table>\n",
       "</div>"
      ],
      "text/plain": [
       "   student profile  label_grade  label_pass_fail  label_dropout  \\\n",
       "0        0       B         4.50              0.0            0.0   \n",
       "1        1       D         4.50              0.0            0.0   \n",
       "2        2       B         5.25              0.0            0.0   \n",
       "3        3       B         4.50              0.0            0.0   \n",
       "4        4       E         4.75              0.0            1.0   \n",
       "\n",
       "   label_stopout                           user_id  account_user_id  \\\n",
       "0           13.0  ee38f02e4aefeea014b70358a50a3c42            46413   \n",
       "1           13.0  3a50861aa4ceb79eff4def23a39c6ec5            48558   \n",
       "2           12.0  883d63120d49df4f3cd1eac85be24696            48666   \n",
       "3           11.0  a9e4c75be2065bad69e5556da9159555            46476   \n",
       "4            8.0  3c7045987cd5d98c1c9b8960eedd5943            48870   \n",
       "\n",
       "   sciper_text    round_id condition    id_anon gender section  \\\n",
       "0       296767  Y2-2018-19   Flipped  4427T2597    NaN     NaN   \n",
       "1       301739  Y2-2018-19   Flipped  4297T2518      M      IN   \n",
       "2       300667  Y2-2018-19   Flipped  3935T2301      M     SIE   \n",
       "3       303808  Y2-2018-19   Flipped  4646T2727      F     CGC   \n",
       "4       298071  Y2-2018-19   Flipped    951T511      F      SV   \n",
       "\n",
       "                 diploma       category country_diploma  exam_present  \\\n",
       "0                    NaN            NaN             NaN           NaN   \n",
       "1            Diplôme HES  Suisse.Autres          Suisse           1.0   \n",
       "2  Mat.Opt.Physique.Math     Suisse.PAM          Suisse           1.0   \n",
       "3           Autre.Suisse  Suisse.Autres          Suisse           1.0   \n",
       "4         Bacc. étranger         France          France           1.0   \n",
       "\n",
       "   final_grade total_score  \n",
       "0          NaN  Y2-2018-19  \n",
       "1         15.0  Y2-2018-19  \n",
       "2         54.0  Y2-2018-19  \n",
       "3         56.0  Y2-2018-19  \n",
       "4         53.0  Y2-2018-19  "
      ]
     },
     "execution_count": 14,
     "metadata": {},
     "output_type": "execute_result"
    }
   ],
   "source": [
    "cluster_file = pd.read_csv('./aied_flipped_paola_clusters.csv')\n",
    "cluster_file.columns = [\n",
    "    'student', 'profile', 'label_grade', 'label_pass_fail', 'label_dropout', 'label_stopout',\n",
    "    'user_id', 'account_user_id', 'sciper_text', 'round_id', 'condition', 'id_anon',\n",
    "    'gender', 'section', 'diploma', 'category', 'country_diploma', 'exam_present', 'final_grade', \n",
    "    'total_score'\n",
    "]\n",
    "cluster_file.head()\n",
    "\n",
    "# Look into demographics\n",
    "## temp = cluster_file.merge(demographics, on='user_id')\n",
    "## tempp = temp[temp['country_diploma_x']!= temp['country_diploma_y']]\n",
    "## tempp[['country_diploma_x', 'country_diploma_y']]"
   ]
  },
  {
   "cell_type": "code",
   "execution_count": 15,
   "id": "932691db",
   "metadata": {
    "ExecuteTime": {
     "end_time": "2022-08-25T11:35:06.034066Z",
     "start_time": "2022-08-25T11:35:06.021498Z"
    }
   },
   "outputs": [],
   "source": [
    "demographics = demographics.merge(cluster_file[['user_id', 'profile']], on='user_id', how='left')"
   ]
  },
  {
   "cell_type": "code",
   "execution_count": 16,
   "id": "da815dc4",
   "metadata": {
    "ExecuteTime": {
     "end_time": "2022-08-25T11:35:07.683788Z",
     "start_time": "2022-08-25T11:35:07.675927Z"
    }
   },
   "outputs": [],
   "source": [
    "demographics['profile'] = demographics['profile'].fillna(-1)"
   ]
  },
  {
   "cell_type": "markdown",
   "id": "2691894e",
   "metadata": {},
   "source": [
    "# Grade processing\n",
    "Swiss students can be admitted with failing grades, while french students cannot. That said, from the range of concrete grades, the distribution of points among the french and swiss is similar on their own range. Therefore we come up with the following scheme:\n",
    "    \n",
    "1. any failing grade is low.\n",
    "2. from the non failing, the 25% lowest grades will be put into low.\n",
    "3. from the non failing, the 25% highest grades will be put into high"
   ]
  },
  {
   "cell_type": "code",
   "execution_count": 17,
   "id": "58ada781",
   "metadata": {
    "ExecuteTime": {
     "end_time": "2022-08-25T11:35:08.125982Z",
     "start_time": "2022-08-25T11:35:08.118638Z"
    }
   },
   "outputs": [],
   "source": [
    "# Separating the students into low, average or great\n",
    "def get_thresholds(grades:list, failing_threshold:float):\n",
    "    new_grades = [ng for ng in grades if ng >= failing_threshold]\n",
    "    \n",
    "    low_threshold_index = int(len(new_grades) * 0.25)\n",
    "    low_threshold = new_grades[low_threshold_index]\n",
    "    \n",
    "    high_threshold_index = int(len(new_grades) * 0.75)\n",
    "    high_threshold = new_grades[high_threshold_index]\n",
    "    return low_threshold, high_threshold\n",
    "\n",
    "def determine_category(grade:float, low_threshold:float, high_threshold:float):\n",
    "    if grade <= low_threshold:\n",
    "        return 'low'\n",
    "    elif grade > high_threshold:\n",
    "        return 'high'\n",
    "    else:\n",
    "        return 'average'\n",
    "    "
   ]
  },
  {
   "cell_type": "code",
   "execution_count": 18,
   "id": "222a2e3d",
   "metadata": {
    "ExecuteTime": {
     "end_time": "2022-08-25T11:35:27.618608Z",
     "start_time": "2022-08-25T11:35:27.610532Z"
    }
   },
   "outputs": [
    {
     "data": {
      "text/plain": [
       "array(['France', 'Suisse', -1], dtype=object)"
      ]
     },
     "execution_count": 18,
     "metadata": {},
     "output_type": "execute_result"
    }
   ],
   "source": [
    "demographics['country_diploma'].unique()"
   ]
  },
  {
   "cell_type": "code",
   "execution_count": 19,
   "id": "415fbfb4",
   "metadata": {
    "ExecuteTime": {
     "end_time": "2022-08-25T11:35:28.034768Z",
     "start_time": "2022-08-25T11:35:28.026573Z"
    }
   },
   "outputs": [],
   "source": [
    "french = demographics[demographics['country_diploma'] == 'France']\n",
    "swiss = demographics[demographics['country_diploma'] == 'Suisse']"
   ]
  },
  {
   "cell_type": "code",
   "execution_count": 20,
   "id": "e523952a",
   "metadata": {
    "ExecuteTime": {
     "end_time": "2022-08-25T11:35:28.793491Z",
     "start_time": "2022-08-25T11:35:28.217898Z"
    }
   },
   "outputs": [
    {
     "data": {
      "image/png": "[encoded data removed]",
      "text/plain": [
       "<Figure size 576x144 with 1 Axes>"
      ]
     },
     "metadata": {
      "needs_background": "light"
     },
     "output_type": "display_data"
    },
    {
     "data": {
      "image/png": "[encoded data removed]",
      "text/plain": [
       "<Figure size 576x144 with 1 Axes>"
      ]
     },
     "metadata": {
      "needs_background": "light"
     },
     "output_type": "display_data"
    }
   ],
   "source": [
    "plt.figure(figsize=(8, 2))\n",
    "sns.countplot(x=french['rating_french'], color='#15616d', alpha=0.3)\n",
    "plt.title('distribution of grades for french students on french topic')\n",
    "plt.show()\n",
    "\n",
    "plt.figure(figsize=(8, 2))\n",
    "sns.countplot(x=swiss['rating_french'], color='#78290f', alpha=0.3)\n",
    "plt.title('distribution of grades for swiss students on french topic')\n",
    "plt.show()"
   ]
  },
  {
   "cell_type": "code",
   "execution_count": 21,
   "id": "d1a1024f",
   "metadata": {
    "ExecuteTime": {
     "end_time": "2022-08-25T11:35:29.200042Z",
     "start_time": "2022-08-25T11:35:28.797257Z"
    }
   },
   "outputs": [
    {
     "data": {
      "image/png": "[encoded data removed]",
      "text/plain": [
       "<Figure size 576x144 with 1 Axes>"
      ]
     },
     "metadata": {
      "needs_background": "light"
     },
     "output_type": "display_data"
    },
    {
     "data": {
      "image/png": "[encoded data removed]",
      "text/plain": [
       "<Figure size 576x144 with 1 Axes>"
      ]
     },
     "metadata": {
      "needs_background": "light"
     },
     "output_type": "display_data"
    }
   ],
   "source": [
    "plt.figure(figsize=(8, 2))\n",
    "sns.countplot(x=french['rating_maths'], color='#15616d', alpha=0.3)\n",
    "plt.title('distribution of grades for french students on french topic')\n",
    "plt.show()\n",
    "\n",
    "plt.figure(figsize=(8, 2))\n",
    "sns.countplot(x=swiss['rating_maths'], color='#78290f', alpha=0.3)\n",
    "plt.title('distribution of grades for swiss students on french topic')\n",
    "plt.show()"
   ]
  },
  {
   "cell_type": "code",
   "execution_count": 22,
   "id": "a22e67ee",
   "metadata": {
    "ExecuteTime": {
     "end_time": "2022-08-25T11:35:29.638551Z",
     "start_time": "2022-08-25T11:35:29.203647Z"
    }
   },
   "outputs": [
    {
     "data": {
      "image/png": "[encoded data removed]",
      "text/plain": [
       "<Figure size 576x144 with 1 Axes>"
      ]
     },
     "metadata": {
      "needs_background": "light"
     },
     "output_type": "display_data"
    },
    {
     "data": {
      "image/png": "[encoded data removed]",
      "text/plain": [
       "<Figure size 576x144 with 1 Axes>"
      ]
     },
     "metadata": {
      "needs_background": "light"
     },
     "output_type": "display_data"
    }
   ],
   "source": [
    "plt.figure(figsize=(8, 2))\n",
    "sns.countplot(x=french['rating_physics'], color='#15616d', alpha=0.3)\n",
    "plt.title('distribution of grades for french students on french topic')\n",
    "plt.show()\n",
    "\n",
    "plt.figure(figsize=(8, 2))\n",
    "sns.countplot(x=swiss['rating_physics'], color='#78290f', alpha=0.3)\n",
    "plt.title('distribution of grades for swiss students on french topic')\n",
    "plt.show()"
   ]
  },
  {
   "cell_type": "code",
   "execution_count": 23,
   "id": "a50abb14",
   "metadata": {
    "ExecuteTime": {
     "end_time": "2022-08-25T11:35:29.650139Z",
     "start_time": "2022-08-25T11:35:29.644159Z"
    }
   },
   "outputs": [],
   "source": [
    "# french topic\n",
    "french_french_low, french_french_high = get_thresholds(french['rating_french'], 12)\n",
    "swiss_french_low, swiss_french_high = get_thresholds(swiss['rating_french'], 4)\n",
    "\n",
    "# maths topic\n",
    "french_maths_low, french_maths_high = get_thresholds(french['rating_maths'], 12)\n",
    "swiss_maths_low, swiss_maths_high = get_thresholds(swiss['rating_maths'], 4)\n",
    "\n",
    "# physics topic\n",
    "french_physics_low, french_physics_high = get_thresholds(french['rating_physics'], 12)\n",
    "swiss_physics_low, swiss_physics_high = get_thresholds(swiss['rating_physics'], 4)"
   ]
  },
  {
   "cell_type": "code",
   "execution_count": 24,
   "id": "9161e9c1",
   "metadata": {
    "ExecuteTime": {
     "end_time": "2022-08-25T11:35:29.685168Z",
     "start_time": "2022-08-25T11:35:29.652552Z"
    }
   },
   "outputs": [],
   "source": [
    "french['group_french'] = french.apply(\n",
    "    lambda row: determine_category(row['rating_french'], french_french_low, french_french_high), axis=1\n",
    ")\n",
    "\n",
    "french['group_maths'] = french.apply(\n",
    "    lambda row: determine_category(row['rating_maths'], french_maths_low, french_maths_high), axis=1\n",
    ")\n",
    "\n",
    "french['group_physics'] = french.apply(\n",
    "    lambda row: determine_category(row['rating_physics'], french_physics_low, french_physics_high), axis=1\n",
    ")\n",
    "\n",
    "swiss['group_french'] = swiss.apply(\n",
    "    lambda row: determine_category(row['rating_french'], swiss_french_low, swiss_french_high), axis=1\n",
    ")\n",
    "\n",
    "swiss['group_maths'] = swiss.apply(\n",
    "    lambda row: determine_category(row['rating_maths'], swiss_maths_low, swiss_maths_high), axis=1\n",
    ")\n",
    "\n",
    "swiss['group_physics'] = swiss.apply(\n",
    "    lambda row: determine_category(row['rating_physics'], swiss_physics_low, swiss_physics_high), axis=1\n",
    ")"
   ]
  },
  {
   "cell_type": "code",
   "execution_count": 25,
   "id": "1687feb7",
   "metadata": {
    "ExecuteTime": {
     "end_time": "2022-08-25T11:35:29.716571Z",
     "start_time": "2022-08-25T11:35:29.688115Z"
    }
   },
   "outputs": [],
   "source": [
    "french['group_fixed_french'] = french.apply(\n",
    "    lambda row: determine_category(row['rating_french'], 13, 17), axis=1\n",
    ")\n",
    "\n",
    "french['group_fixed_maths'] = french.apply(\n",
    "    lambda row: determine_category(row['rating_maths'], 13, 17), axis=1\n",
    ")\n",
    "\n",
    "french['group_fixed_physics'] = french.apply(\n",
    "    lambda row: determine_category(row['rating_physics'], 13, 17), axis=1\n",
    ")\n",
    "\n",
    "swiss['group_fixed_french'] = swiss.apply(\n",
    "    lambda row: determine_category(row['rating_french'], 4.5, 5.5), axis=1\n",
    ")\n",
    "\n",
    "swiss['group_fixed_maths'] = swiss.apply(\n",
    "    lambda row: determine_category(row['rating_maths'], 4.5, 5.5), axis=1\n",
    ")\n",
    "\n",
    "swiss['group_fixed_physics'] = swiss.apply(\n",
    "    lambda row: determine_category(row['rating_physics'], 4.5, 5.5), axis=1\n",
    ")"
   ]
  },
  {
   "cell_type": "code",
   "execution_count": 26,
   "id": "371d1fa7",
   "metadata": {
    "ExecuteTime": {
     "end_time": "2022-08-25T11:35:30.392040Z",
     "start_time": "2022-08-25T11:35:30.381935Z"
    }
   },
   "outputs": [],
   "source": [
    "demographics = pd.concat([french, swiss])"
   ]
  },
  {
   "cell_type": "markdown",
   "id": "f979fb6c",
   "metadata": {},
   "source": [
    "# Formatting of the data"
   ]
  },
  {
   "cell_type": "code",
   "execution_count": 27,
   "id": "ca71289b",
   "metadata": {
    "ExecuteTime": {
     "end_time": "2022-08-25T11:35:31.056608Z",
     "start_time": "2022-08-25T11:35:31.052524Z"
    }
   },
   "outputs": [],
   "source": [
    "# Inferring whether the students were right out of high school or not\n",
    "def gap_year(row:dict):\n",
    "    assert int(row['year_diploma']) <= row['year']\n",
    "    if row['year_diploma'] == row['year']:\n",
    "        return 'no_gap'\n",
    "    \n",
    "    elif row['year_diploma'] < row['year']:\n",
    "        return 'gap'\n",
    "    \n",
    "    else:\n",
    "        return 'error'\n",
    "    \n"
   ]
  },
  {
   "cell_type": "code",
   "execution_count": 28,
   "id": "f30c136f",
   "metadata": {
    "ExecuteTime": {
     "end_time": "2022-08-25T11:35:31.456940Z",
     "start_time": "2022-08-25T11:35:31.406522Z"
    }
   },
   "outputs": [],
   "source": [
    "full_data = {}\n",
    "\n",
    "j = 0\n",
    "for i, row in (demographics.iterrows()):\n",
    "    lid = row['user_id']\n",
    "    lrow = row['user_row']\n",
    "    target = labels[lrow]\n",
    "    \n",
    "    student = {\n",
    "        'sequence': features[lrow],\n",
    "        'idx': lrow,\n",
    "        'learner_id': lid,\n",
    "        'gender': row['gender'],\n",
    "        'country_diploma': row['country_diploma'],\n",
    "        'continent_diploma': row['continent_diploma'],\n",
    "        'year_diploma': row['year_diploma'],\n",
    "        'gap_year': gap_year(row),\n",
    "        'title_diploma': row['title_diploma'],\n",
    "        'avg_french_bac': row['avg_french_bac'],\n",
    "        'rating_french': row['rating_french'],\n",
    "        'scale_french': row['scale_french'],\n",
    "        'group_french': row['group_french'],\n",
    "        'group_fixed_french': row['group_fixed_french'],\n",
    "        'rating_maths': row['rating_maths'],\n",
    "        'scale_maths': row['scale_maths'],\n",
    "        'group_maths': row['group_maths'],\n",
    "        'group_fixed_maths': row['group_fixed_maths'],\n",
    "        'rating_physics': row['rating_physics'],\n",
    "        'scale_physics': row['scale_physics'],\n",
    "        'group_physics': row['group_physics'],\n",
    "        'group_fixed_physics': row['group_fixed_physics'],\n",
    "        'rating_os': row['rating_os'],\n",
    "        'scale_os': row['scale_os'],\n",
    "        'pass': target,\n",
    "        'cluster_aied_paola': row['profile']\n",
    "    }\n",
    "    full_data[j] = student\n",
    "    j += 1\n",
    "    \n",
    "full_data['available_demographics'] = [\n",
    "    'gender', 'country_diploma', 'continent_diploma', 'year_diploma', 'gap_year', 'title_diploma', \n",
    "    'avg_french_bac', 'rating_french', 'rating_maths', 'rating_physics', 'rating_os', 'scale_os',\n",
    "    'group_french', 'group_maths', 'group_physics',\n",
    "    'group_fixed_french', 'group_fixed_maths', 'group_fixed_physics'\n",
    "] "
   ]
  },
  {
   "cell_type": "code",
   "execution_count": 29,
   "id": "bb4ec2da",
   "metadata": {
    "ExecuteTime": {
     "end_time": "2022-08-23T17:02:34.747474Z",
     "start_time": "2022-08-23T17:02:34.727271Z"
    }
   },
   "outputs": [],
   "source": [
    "with open('../features/vinitra_ensemble_but_mirko.pkl', 'wb') as fp:\n",
    "    pickle.dump(full_data, fp)"
   ]
  },
  {
   "cell_type": "markdown",
   "id": "61f658da",
   "metadata": {},
   "source": [
    "# EDA"
   ]
  },
  {
   "cell_type": "code",
   "execution_count": 30,
   "id": "a0a214fd",
   "metadata": {
    "ExecuteTime": {
     "end_time": "2022-08-25T11:35:38.198390Z",
     "start_time": "2022-08-25T11:35:38.195496Z"
    }
   },
   "outputs": [],
   "source": [
    "from collections import Counter"
   ]
  },
  {
   "cell_type": "code",
   "execution_count": 34,
   "id": "64319485",
   "metadata": {
    "ExecuteTime": {
     "end_time": "2022-08-25T11:35:53.983211Z",
     "start_time": "2022-08-25T11:35:53.979052Z"
    }
   },
   "outputs": [],
   "source": [
    "fem = demographics[demographics['gender'] == 'F']"
   ]
  },
  {
   "cell_type": "code",
   "execution_count": 35,
   "id": "0ff80b2c",
   "metadata": {
    "ExecuteTime": {
     "end_time": "2022-08-25T11:35:54.235092Z",
     "start_time": "2022-08-25T11:35:54.197444Z"
    }
   },
   "outputs": [
    {
     "data": {
      "text/html": [
       "<div>\n",
       "<style scoped>\n",
       "    .dataframe tbody tr th:only-of-type {\n",
       "        vertical-align: middle;\n",
       "    }\n",
       "\n",
       "    .dataframe tbody tr th {\n",
       "        vertical-align: top;\n",
       "    }\n",
       "\n",
       "    .dataframe thead th {\n",
       "        text-align: right;\n",
       "    }\n",
       "</style>\n",
       "<table border=\"1\" class=\"dataframe\">\n",
       "  <thead>\n",
       "    <tr style=\"text-align: right;\">\n",
       "      <th></th>\n",
       "      <th>user_row</th>\n",
       "      <th>user_id</th>\n",
       "      <th>gender</th>\n",
       "      <th>country_diploma</th>\n",
       "      <th>continent_diploma</th>\n",
       "      <th>year_diploma</th>\n",
       "      <th>title_diploma</th>\n",
       "      <th>avg_french_bac</th>\n",
       "      <th>rating_french</th>\n",
       "      <th>scale_french</th>\n",
       "      <th>...</th>\n",
       "      <th>scale_os</th>\n",
       "      <th>year</th>\n",
       "      <th>nan_values</th>\n",
       "      <th>profile</th>\n",
       "      <th>group_french</th>\n",
       "      <th>group_maths</th>\n",
       "      <th>group_physics</th>\n",
       "      <th>group_fixed_french</th>\n",
       "      <th>group_fixed_maths</th>\n",
       "      <th>group_fixed_physics</th>\n",
       "    </tr>\n",
       "  </thead>\n",
       "  <tbody>\n",
       "    <tr>\n",
       "      <th>3</th>\n",
       "      <td>3</td>\n",
       "      <td>3c7045987cd5d98c1c9b8960eedd5943</td>\n",
       "      <td>F</td>\n",
       "      <td>France</td>\n",
       "      <td>Europe</td>\n",
       "      <td>2018.0</td>\n",
       "      <td>Bacc. étranger</td>\n",
       "      <td>17.92</td>\n",
       "      <td>14.0</td>\n",
       "      <td>20.0</td>\n",
       "      <td>...</td>\n",
       "      <td>-1</td>\n",
       "      <td>2018</td>\n",
       "      <td>2</td>\n",
       "      <td>E</td>\n",
       "      <td>low</td>\n",
       "      <td>low</td>\n",
       "      <td>average</td>\n",
       "      <td>average</td>\n",
       "      <td>average</td>\n",
       "      <td>high</td>\n",
       "    </tr>\n",
       "    <tr>\n",
       "      <th>4</th>\n",
       "      <td>4</td>\n",
       "      <td>75db0b540bd2c2e3ad3fec50d918f16f</td>\n",
       "      <td>F</td>\n",
       "      <td>France</td>\n",
       "      <td>Europe</td>\n",
       "      <td>2018.0</td>\n",
       "      <td>Bacc. étranger</td>\n",
       "      <td>17.97</td>\n",
       "      <td>13.0</td>\n",
       "      <td>20.0</td>\n",
       "      <td>...</td>\n",
       "      <td>-1</td>\n",
       "      <td>2018</td>\n",
       "      <td>2</td>\n",
       "      <td>E</td>\n",
       "      <td>low</td>\n",
       "      <td>low</td>\n",
       "      <td>average</td>\n",
       "      <td>low</td>\n",
       "      <td>average</td>\n",
       "      <td>high</td>\n",
       "    </tr>\n",
       "    <tr>\n",
       "      <th>6</th>\n",
       "      <td>6</td>\n",
       "      <td>d53da91d46d51d081a09448a50f4045c</td>\n",
       "      <td>F</td>\n",
       "      <td>France</td>\n",
       "      <td>Europe</td>\n",
       "      <td>2017.0</td>\n",
       "      <td>Bacc. étranger</td>\n",
       "      <td>15.23</td>\n",
       "      <td>10.0</td>\n",
       "      <td>20.0</td>\n",
       "      <td>...</td>\n",
       "      <td>-1</td>\n",
       "      <td>2018</td>\n",
       "      <td>2</td>\n",
       "      <td>E</td>\n",
       "      <td>low</td>\n",
       "      <td>low</td>\n",
       "      <td>low</td>\n",
       "      <td>low</td>\n",
       "      <td>average</td>\n",
       "      <td>high</td>\n",
       "    </tr>\n",
       "    <tr>\n",
       "      <th>9</th>\n",
       "      <td>9</td>\n",
       "      <td>e809f679184ad432abd1de3a4b0aefdf</td>\n",
       "      <td>F</td>\n",
       "      <td>France</td>\n",
       "      <td>Europe</td>\n",
       "      <td>2017.0</td>\n",
       "      <td>Bacc. étranger</td>\n",
       "      <td>17.81</td>\n",
       "      <td>14.0</td>\n",
       "      <td>20.0</td>\n",
       "      <td>...</td>\n",
       "      <td>-1</td>\n",
       "      <td>2018</td>\n",
       "      <td>2</td>\n",
       "      <td>E</td>\n",
       "      <td>low</td>\n",
       "      <td>low</td>\n",
       "      <td>low</td>\n",
       "      <td>average</td>\n",
       "      <td>average</td>\n",
       "      <td>average</td>\n",
       "    </tr>\n",
       "    <tr>\n",
       "      <th>13</th>\n",
       "      <td>13</td>\n",
       "      <td>dcd9f53d88a345efeb8a58f5ec0d7265</td>\n",
       "      <td>F</td>\n",
       "      <td>France</td>\n",
       "      <td>Europe</td>\n",
       "      <td>2018.0</td>\n",
       "      <td>Bacc. étranger</td>\n",
       "      <td>16.57</td>\n",
       "      <td>13.0</td>\n",
       "      <td>20.0</td>\n",
       "      <td>...</td>\n",
       "      <td>-1</td>\n",
       "      <td>2018</td>\n",
       "      <td>2</td>\n",
       "      <td>D</td>\n",
       "      <td>low</td>\n",
       "      <td>average</td>\n",
       "      <td>low</td>\n",
       "      <td>low</td>\n",
       "      <td>high</td>\n",
       "      <td>high</td>\n",
       "    </tr>\n",
       "    <tr>\n",
       "      <th>...</th>\n",
       "      <td>...</td>\n",
       "      <td>...</td>\n",
       "      <td>...</td>\n",
       "      <td>...</td>\n",
       "      <td>...</td>\n",
       "      <td>...</td>\n",
       "      <td>...</td>\n",
       "      <td>...</td>\n",
       "      <td>...</td>\n",
       "      <td>...</td>\n",
       "      <td>...</td>\n",
       "      <td>...</td>\n",
       "      <td>...</td>\n",
       "      <td>...</td>\n",
       "      <td>...</td>\n",
       "      <td>...</td>\n",
       "      <td>...</td>\n",
       "      <td>...</td>\n",
       "      <td>...</td>\n",
       "      <td>...</td>\n",
       "      <td>...</td>\n",
       "    </tr>\n",
       "    <tr>\n",
       "      <th>181</th>\n",
       "      <td>181</td>\n",
       "      <td>efcbd6279d50724424c0914f6df6e48e</td>\n",
       "      <td>F</td>\n",
       "      <td>Suisse</td>\n",
       "      <td>Europe</td>\n",
       "      <td>2018.0</td>\n",
       "      <td>Mat. reconnue opt. biologie et chimie</td>\n",
       "      <td>-1.00</td>\n",
       "      <td>4.5</td>\n",
       "      <td>6.0</td>\n",
       "      <td>...</td>\n",
       "      <td>6.0</td>\n",
       "      <td>2019</td>\n",
       "      <td>1</td>\n",
       "      <td>D</td>\n",
       "      <td>average</td>\n",
       "      <td>high</td>\n",
       "      <td>average</td>\n",
       "      <td>low</td>\n",
       "      <td>average</td>\n",
       "      <td>average</td>\n",
       "    </tr>\n",
       "    <tr>\n",
       "      <th>182</th>\n",
       "      <td>182</td>\n",
       "      <td>fab9f6e3df86403ce47d5094a7718b4e</td>\n",
       "      <td>F</td>\n",
       "      <td>Suisse</td>\n",
       "      <td>Europe</td>\n",
       "      <td>2019.0</td>\n",
       "      <td>Mat. reconnue opt. physique et math</td>\n",
       "      <td>-1.00</td>\n",
       "      <td>5.0</td>\n",
       "      <td>6.0</td>\n",
       "      <td>...</td>\n",
       "      <td>6.0</td>\n",
       "      <td>2019</td>\n",
       "      <td>1</td>\n",
       "      <td>E</td>\n",
       "      <td>high</td>\n",
       "      <td>high</td>\n",
       "      <td>low</td>\n",
       "      <td>average</td>\n",
       "      <td>average</td>\n",
       "      <td>low</td>\n",
       "    </tr>\n",
       "    <tr>\n",
       "      <th>188</th>\n",
       "      <td>188</td>\n",
       "      <td>23c2ddf69a315eda78d763163bb76daf</td>\n",
       "      <td>F</td>\n",
       "      <td>Suisse</td>\n",
       "      <td>Europe</td>\n",
       "      <td>2018.0</td>\n",
       "      <td>Mat. reconnue opt. physique et math</td>\n",
       "      <td>-1.00</td>\n",
       "      <td>-1.0</td>\n",
       "      <td>-1.0</td>\n",
       "      <td>...</td>\n",
       "      <td>6.0</td>\n",
       "      <td>2019</td>\n",
       "      <td>3</td>\n",
       "      <td>B</td>\n",
       "      <td>low</td>\n",
       "      <td>high</td>\n",
       "      <td>low</td>\n",
       "      <td>low</td>\n",
       "      <td>low</td>\n",
       "      <td>low</td>\n",
       "    </tr>\n",
       "    <tr>\n",
       "      <th>192</th>\n",
       "      <td>192</td>\n",
       "      <td>928ff61330e23c386af6b9fb031de82b</td>\n",
       "      <td>F</td>\n",
       "      <td>Suisse</td>\n",
       "      <td>Europe</td>\n",
       "      <td>2019.0</td>\n",
       "      <td>Mat. reconnue opt. physique et math</td>\n",
       "      <td>-1.00</td>\n",
       "      <td>4.0</td>\n",
       "      <td>6.0</td>\n",
       "      <td>...</td>\n",
       "      <td>6.0</td>\n",
       "      <td>2019</td>\n",
       "      <td>1</td>\n",
       "      <td>B</td>\n",
       "      <td>low</td>\n",
       "      <td>high</td>\n",
       "      <td>high</td>\n",
       "      <td>low</td>\n",
       "      <td>average</td>\n",
       "      <td>average</td>\n",
       "    </tr>\n",
       "    <tr>\n",
       "      <th>206</th>\n",
       "      <td>206</td>\n",
       "      <td>e6c828b77e23158e4d835b20e566670c</td>\n",
       "      <td>F</td>\n",
       "      <td>Suisse</td>\n",
       "      <td>Europe</td>\n",
       "      <td>2019.0</td>\n",
       "      <td>Mat. reconnue opt. biologie et chimie</td>\n",
       "      <td>-1.00</td>\n",
       "      <td>4.5</td>\n",
       "      <td>6.0</td>\n",
       "      <td>...</td>\n",
       "      <td>6.0</td>\n",
       "      <td>2019</td>\n",
       "      <td>1</td>\n",
       "      <td>B</td>\n",
       "      <td>average</td>\n",
       "      <td>high</td>\n",
       "      <td>average</td>\n",
       "      <td>low</td>\n",
       "      <td>average</td>\n",
       "      <td>average</td>\n",
       "    </tr>\n",
       "  </tbody>\n",
       "</table>\n",
       "<p>70 rows × 25 columns</p>\n",
       "</div>"
      ],
      "text/plain": [
       "     user_row                           user_id gender country_diploma  \\\n",
       "3           3  3c7045987cd5d98c1c9b8960eedd5943      F          France   \n",
       "4           4  75db0b540bd2c2e3ad3fec50d918f16f      F          France   \n",
       "6           6  d53da91d46d51d081a09448a50f4045c      F          France   \n",
       "9           9  e809f679184ad432abd1de3a4b0aefdf      F          France   \n",
       "13         13  dcd9f53d88a345efeb8a58f5ec0d7265      F          France   \n",
       "..        ...                               ...    ...             ...   \n",
       "181       181  efcbd6279d50724424c0914f6df6e48e      F          Suisse   \n",
       "182       182  fab9f6e3df86403ce47d5094a7718b4e      F          Suisse   \n",
       "188       188  23c2ddf69a315eda78d763163bb76daf      F          Suisse   \n",
       "192       192  928ff61330e23c386af6b9fb031de82b      F          Suisse   \n",
       "206       206  e6c828b77e23158e4d835b20e566670c      F          Suisse   \n",
       "\n",
       "    continent_diploma  year_diploma                          title_diploma  \\\n",
       "3              Europe        2018.0                         Bacc. étranger   \n",
       "4              Europe        2018.0                         Bacc. étranger   \n",
       "6              Europe        2017.0                         Bacc. étranger   \n",
       "9              Europe        2017.0                         Bacc. étranger   \n",
       "13             Europe        2018.0                         Bacc. étranger   \n",
       "..                ...           ...                                    ...   \n",
       "181            Europe        2018.0  Mat. reconnue opt. biologie et chimie   \n",
       "182            Europe        2019.0    Mat. reconnue opt. physique et math   \n",
       "188            Europe        2018.0    Mat. reconnue opt. physique et math   \n",
       "192            Europe        2019.0    Mat. reconnue opt. physique et math   \n",
       "206            Europe        2019.0  Mat. reconnue opt. biologie et chimie   \n",
       "\n",
       "     avg_french_bac  rating_french  scale_french  ...  scale_os  year  \\\n",
       "3             17.92           14.0          20.0  ...        -1  2018   \n",
       "4             17.97           13.0          20.0  ...        -1  2018   \n",
       "6             15.23           10.0          20.0  ...        -1  2018   \n",
       "9             17.81           14.0          20.0  ...        -1  2018   \n",
       "13            16.57           13.0          20.0  ...        -1  2018   \n",
       "..              ...            ...           ...  ...       ...   ...   \n",
       "181           -1.00            4.5           6.0  ...       6.0  2019   \n",
       "182           -1.00            5.0           6.0  ...       6.0  2019   \n",
       "188           -1.00           -1.0          -1.0  ...       6.0  2019   \n",
       "192           -1.00            4.0           6.0  ...       6.0  2019   \n",
       "206           -1.00            4.5           6.0  ...       6.0  2019   \n",
       "\n",
       "     nan_values profile  group_french group_maths  group_physics  \\\n",
       "3             2       E           low         low        average   \n",
       "4             2       E           low         low        average   \n",
       "6             2       E           low         low            low   \n",
       "9             2       E           low         low            low   \n",
       "13            2       D           low     average            low   \n",
       "..          ...     ...           ...         ...            ...   \n",
       "181           1       D       average        high        average   \n",
       "182           1       E          high        high            low   \n",
       "188           3       B           low        high            low   \n",
       "192           1       B           low        high           high   \n",
       "206           1       B       average        high        average   \n",
       "\n",
       "     group_fixed_french group_fixed_maths group_fixed_physics  \n",
       "3               average           average                high  \n",
       "4                   low           average                high  \n",
       "6                   low           average                high  \n",
       "9               average           average             average  \n",
       "13                  low              high                high  \n",
       "..                  ...               ...                 ...  \n",
       "181                 low           average             average  \n",
       "182             average           average                 low  \n",
       "188                 low               low                 low  \n",
       "192                 low           average             average  \n",
       "206                 low           average             average  \n",
       "\n",
       "[70 rows x 25 columns]"
      ]
     },
     "execution_count": 35,
     "metadata": {},
     "output_type": "execute_result"
    }
   ],
   "source": [
    "c_gender = Counter(fem['gender'])\n",
    "c_gender = {k:v/len(fem) for k, v in c_gender.items()}\n",
    "plt.bar(x=range(len(c_gender)), height=c_gender.values(), color='dodgerblue', alpha=0.7)\n",
    "plt.xticks(list(range(len(c_gender))), list(c_gender.keys()))\n",
    "plt.show()"
   ]
  },
  {
   "cell_type": "code",
   "execution_count": 31,
   "id": "6e021c64",
   "metadata": {
    "ExecuteTime": {
     "end_time": "2022-08-25T11:35:38.534063Z",
     "start_time": "2022-08-25T11:35:38.396516Z"
    }
   },
   "outputs": [
    {
     "data": {
      "image/png": "[encoded data removed]",
      "text/plain": [
       "<Figure size 432x288 with 1 Axes>"
      ]
     },
     "metadata": {
      "needs_background": "light"
     },
     "output_type": "display_data"
    }
   ],
   "source": [
    "c_gender = Counter(demographics['gender'])\n",
    "c_gender = {k:v/len(demographics) for k, v in c_gender.items()}\n",
    "plt.bar(x=range(len(c_gender)), height=c_gender.values(), color='dodgerblue', alpha=0.7)\n",
    "plt.xticks(list(range(len(c_gender))), list(c_gender.keys()))\n",
    "plt.show()"
   ]
  },
  {
   "cell_type": "code",
   "execution_count": 32,
   "id": "d7c8192d",
   "metadata": {
    "ExecuteTime": {
     "end_time": "2022-08-23T17:02:35.375231Z",
     "start_time": "2022-08-23T17:02:35.060446Z"
    }
   },
   "outputs": [
    {
     "data": {
      "image/png": "[encoded data removed]",
      "text/plain": [
       "<Figure size 432x288 with 1 Axes>"
      ]
     },
     "metadata": {
      "needs_background": "light"
     },
     "output_type": "display_data"
    }
   ],
   "source": [
    "c_gender = Counter(cluster_file['gender'])\n",
    "c_gender = {k:v/len(cluster_file) for k, v in c_gender.items()}\n",
    "plt.bar(x=range(len(c_gender)), height=c_gender.values(), color='plum', alpha=0.7)\n",
    "plt.xticks(list(range(len(c_gender))), list(c_gender.keys()))\n",
    "plt.show()"
   ]
  },
  {
   "cell_type": "code",
   "execution_count": 33,
   "id": "254a9655",
   "metadata": {
    "ExecuteTime": {
     "end_time": "2022-08-23T17:02:35.706742Z",
     "start_time": "2022-08-23T17:02:35.380374Z"
    }
   },
   "outputs": [
    {
     "data": {
      "image/png": "[encoded data removed]",
      "text/plain": [
       "<Figure size 432x288 with 1 Axes>"
      ]
     },
     "metadata": {
      "needs_background": "light"
     },
     "output_type": "display_data"
    }
   ],
   "source": [
    "demographics['gap_year'] = demographics.apply(lambda row: gap_year(row), axis=1)\n",
    "c_gap = Counter(demographics['gap_year'])\n",
    "c_gap = {k:v/len(demographics) for k, v in c_gap.items()}\n",
    "plt.bar(x=range(len(c_gap)), height=c_gap.values(), color='dodgerblue', alpha=0.7)\n",
    "plt.xticks(list(range(len(c_gap))), list(c_gap.keys()))\n",
    "plt.show()"
   ]
  },
  {
   "cell_type": "code",
   "execution_count": 34,
   "id": "b07b831f",
   "metadata": {
    "ExecuteTime": {
     "end_time": "2022-08-23T17:02:36.056750Z",
     "start_time": "2022-08-23T17:02:35.719369Z"
    }
   },
   "outputs": [
    {
     "data": {
      "image/png": "[encoded data removed]",
      "text/plain": [
       "<Figure size 432x288 with 1 Axes>"
      ]
     },
     "metadata": {
      "needs_background": "light"
     },
     "output_type": "display_data"
    }
   ],
   "source": [
    "c_country = Counter(demographics['country_diploma'])\n",
    "c_country = {k:v/len(demographics) for k, v in c_country.items()}\n",
    "plt.bar(x=range(len(c_country)), height=c_country.values(), color='dodgerblue', alpha=0.7)\n",
    "plt.xticks(list(range(len(c_country))), list(c_country.keys()))\n",
    "plt.show()"
   ]
  },
  {
   "cell_type": "code",
   "execution_count": 35,
   "id": "cdd98004",
   "metadata": {
    "ExecuteTime": {
     "end_time": "2022-08-23T17:02:36.498660Z",
     "start_time": "2022-08-23T17:02:36.063106Z"
    }
   },
   "outputs": [
    {
     "data": {
      "image/png": "[encoded data removed]",
      "text/plain": [
       "<Figure size 432x288 with 1 Axes>"
      ]
     },
     "metadata": {
      "needs_background": "light"
     },
     "output_type": "display_data"
    }
   ],
   "source": [
    "c_country = Counter(cluster_file['country_diploma'])\n",
    "c_country = {k:v/len(demographics) for k, v in c_country.items()}\n",
    "plt.bar(x=range(len(c_country)), height=c_country.values(), color='plum', alpha=0.7)\n",
    "plt.xticks(list(range(len(c_country))), list(c_country.keys()))\n",
    "plt.show()"
   ]
  },
  {
   "cell_type": "code",
   "execution_count": 36,
   "id": "2d2ca713",
   "metadata": {
    "ExecuteTime": {
     "end_time": "2022-08-23T17:02:36.844252Z",
     "start_time": "2022-08-23T17:02:36.505945Z"
    }
   },
   "outputs": [
    {
     "data": {
      "image/png": "[encoded data removed]",
      "text/plain": [
       "<Figure size 432x288 with 1 Axes>"
      ]
     },
     "metadata": {
      "needs_background": "light"
     },
     "output_type": "display_data"
    }
   ],
   "source": [
    "c_french = Counter(demographics['group_french'])\n",
    "c_french = {k:v/len(demographics) for k, v in c_french.items()}\n",
    "plt.bar(x=range(len(c_french)), height=c_french.values(), color='dodgerblue', alpha=0.7)\n",
    "plt.xticks(list(range(len(c_french))), list(c_french.keys()))\n",
    "plt.show()"
   ]
  },
  {
   "cell_type": "code",
   "execution_count": 37,
   "id": "4ef82ef5",
   "metadata": {
    "ExecuteTime": {
     "end_time": "2022-08-23T17:02:37.176433Z",
     "start_time": "2022-08-23T17:02:36.852322Z"
    }
   },
   "outputs": [
    {
     "data": {
      "image/png": "[encoded data removed]",
      "text/plain": [
       "<Figure size 432x288 with 1 Axes>"
      ]
     },
     "metadata": {
      "needs_background": "light"
     },
     "output_type": "display_data"
    }
   ],
   "source": [
    "c_math = Counter(demographics['group_maths'])\n",
    "c_math = {k:v/len(demographics) for k, v in c_math.items()}\n",
    "plt.bar(x=range(len(c_math)), height=c_math.values(), color='dodgerblue', alpha=0.7)\n",
    "plt.xticks(list(range(len(c_math))), list(c_math.keys()))\n",
    "plt.show()"
   ]
  },
  {
   "cell_type": "code",
   "execution_count": 38,
   "id": "c5d756e1",
   "metadata": {
    "ExecuteTime": {
     "end_time": "2022-08-23T17:02:37.518602Z",
     "start_time": "2022-08-23T17:02:37.183645Z"
    }
   },
   "outputs": [
    {
     "data": {
      "image/png": "[encoded data removed]",
      "text/plain": [
       "<Figure size 432x288 with 1 Axes>"
      ]
     },
     "metadata": {
      "needs_background": "light"
     },
     "output_type": "display_data"
    }
   ],
   "source": [
    "c_physics = Counter(demographics['group_physics'])\n",
    "c_physics = {k:v/len(demographics) for k, v in c_physics.items()}\n",
    "plt.bar(x=range(len(c_physics)), height=c_physics.values(), color='dodgerblue', alpha=0.7)\n",
    "plt.xticks(list(range(len(c_physics))), list(c_physics.keys()))\n",
    "plt.show()"
   ]
  },
  {
   "cell_type": "code",
   "execution_count": null,
   "id": "6182211e",
   "metadata": {},
   "outputs": [],
   "source": []
  },
  {
   "cell_type": "code",
   "execution_count": null,
   "id": "2d3d983e",
   "metadata": {},
   "outputs": [],
   "source": []
  },
  {
   "cell_type": "code",
   "execution_count": null,
   "id": "f50af633",
   "metadata": {},
   "outputs": [],
   "source": []
  },
  {
   "cell_type": "code",
   "execution_count": null,
   "id": "d35dd8f9",
   "metadata": {},
   "outputs": [],
   "source": []
  },
  {
   "cell_type": "code",
   "execution_count": null,
   "id": "f4b5e9c2",
   "metadata": {},
   "outputs": [],
   "source": []
  },
  {
   "cell_type": "code",
   "execution_count": null,
   "id": "b25eed62",
   "metadata": {},
   "outputs": [],
   "source": []
  },
  {
   "cell_type": "code",
   "execution_count": null,
   "id": "cccf982d",
   "metadata": {},
   "outputs": [],
   "source": []
  },
  {
   "cell_type": "code",
   "execution_count": 39,
   "id": "dbfd25ec",
   "metadata": {
    "ExecuteTime": {
     "end_time": "2022-08-23T17:02:37.544996Z",
     "start_time": "2022-08-23T17:02:37.537007Z"
    }
   },
   "outputs": [],
   "source": [
    "a = 'hello.no'\n",
    "a = a.split('.')"
   ]
  },
  {
   "cell_type": "code",
   "execution_count": 40,
   "id": "45d98741",
   "metadata": {
    "ExecuteTime": {
     "end_time": "2022-08-23T17:02:37.563759Z",
     "start_time": "2022-08-23T17:02:37.551074Z"
    }
   },
   "outputs": [
    {
     "data": {
      "text/plain": [
       "['hello', 'no']"
      ]
     },
     "execution_count": 40,
     "metadata": {},
     "output_type": "execute_result"
    }
   ],
   "source": [
    "a"
   ]
  },
  {
   "cell_type": "code",
   "execution_count": 41,
   "id": "d1aac33f",
   "metadata": {
    "ExecuteTime": {
     "end_time": "2022-08-23T17:02:37.581827Z",
     "start_time": "2022-08-23T17:02:37.571041Z"
    }
   },
   "outputs": [
    {
     "data": {
      "text/plain": [
       "'hello_no'"
      ]
     },
     "execution_count": 41,
     "metadata": {},
     "output_type": "execute_result"
    }
   ],
   "source": [
    "'_'.join(a)"
   ]
  },
  {
   "cell_type": "code",
   "execution_count": null,
   "id": "08452c3e",
   "metadata": {},
   "outputs": [],
   "source": []
  },
  {
   "cell_type": "code",
   "execution_count": null,
   "id": "2e305fd5",
   "metadata": {},
   "outputs": [],
   "source": []
  },
  {
   "cell_type": "code",
   "execution_count": null,
   "id": "b1988b0e",
   "metadata": {},
   "outputs": [],
   "source": []
  }
 ],
 "metadata": {
  "kernelspec": {
   "display_name": "Python 3 (ipykernel)",
   "language": "python",
   "name": "python3"
  },
  "language_info": {
   "codemirror_mode": {
    "name": "ipython",
    "version": 3
   },
   "file_extension": ".py",
   "mimetype": "text/x-python",
   "name": "python",
   "nbconvert_exporter": "python",
   "pygments_lexer": "ipython3",
   "version": "3.8.12"
  },
  "toc": {
   "base_numbering": 1,
   "nav_menu": {},
   "number_sections": true,
   "sideBar": true,
   "skip_h1_title": false,
   "title_cell": "Table of Contents",
   "title_sidebar": "Contents",
   "toc_cell": false,
   "toc_position": {},
   "toc_section_display": true,
   "toc_window_display": true
  }
 },
 "nbformat": 4,
 "nbformat_minor": 5
}
