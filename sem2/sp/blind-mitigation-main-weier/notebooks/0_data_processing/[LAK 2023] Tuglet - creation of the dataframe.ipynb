{
 "cells": [
  {
   "cell_type": "code",
   "execution_count": 1,
   "id": "c3f9aa09",
   "metadata": {
    "ExecuteTime": {
     "end_time": "2022-08-31T09:36:05.750128Z",
     "start_time": "2022-08-31T09:36:03.892973Z"
    }
   },
   "outputs": [],
   "source": [
    "import os\n",
    "import pickle\n",
    "\n",
    "import numpy as np\n",
    "import pandas as pd\n",
    "pd.options.display.max_columns = None\n",
    "\n",
    "from matplotlib import pyplot as plt\n",
    "import seaborn as sns\n",
    "\n",
    "import warnings\n",
    "warnings.filterwarnings(\"ignore\")"
   ]
  },
  {
   "cell_type": "code",
   "execution_count": 2,
   "id": "914457bf",
   "metadata": {
    "ExecuteTime": {
     "end_time": "2022-08-31T09:36:05.758988Z",
     "start_time": "2022-08-31T09:36:05.752752Z"
    }
   },
   "outputs": [
    {
     "data": {
      "text/plain": [
       "'/Users/cock/kDrive/PhD/Projects/Labs/blind-mitigation/notebooks/0_data_processing'"
      ]
     },
     "execution_count": 2,
     "metadata": {},
     "output_type": "execute_result"
    }
   ],
   "source": [
    "pwd"
   ]
  },
  {
   "cell_type": "code",
   "execution_count": 3,
   "id": "507e9e20",
   "metadata": {
    "ExecuteTime": {
     "end_time": "2022-08-31T09:36:05.766981Z",
     "start_time": "2022-08-31T09:36:05.761209Z"
    }
   },
   "outputs": [
    {
     "name": "stdout",
     "output_type": "stream",
     "text": [
      "/Users/cock/kDrive/PhD/Projects/Labs/blind-mitigation/data/tuglet/raw\n"
     ]
    }
   ],
   "source": [
    "cd ../../data/tuglet/raw/"
   ]
  },
  {
   "cell_type": "code",
   "execution_count": 4,
   "id": "62a9225e",
   "metadata": {
    "ExecuteTime": {
     "end_time": "2022-08-31T09:36:11.276208Z",
     "start_time": "2022-08-31T09:36:05.770407Z"
    }
   },
   "outputs": [],
   "source": [
    "from bilalcode.utils.load_data import load_data, load_posttest\n",
    "from bilalcode.utils.preprocess import preprocess"
   ]
  },
  {
   "cell_type": "markdown",
   "id": "e518c146",
   "metadata": {},
   "source": [
    "# Data"
   ]
  },
  {
   "cell_type": "markdown",
   "id": "09a73754",
   "metadata": {},
   "source": [
    "## demographics"
   ]
  },
  {
   "cell_type": "code",
   "execution_count": 5,
   "id": "4bebd87a",
   "metadata": {
    "ExecuteTime": {
     "end_time": "2022-08-31T09:36:11.353116Z",
     "start_time": "2022-08-31T09:36:11.278339Z"
    }
   },
   "outputs": [
    {
     "name": "stdout",
     "output_type": "stream",
     "text": [
      "before merge: 135\n",
      "after merge: 135\n"
     ]
    },
    {
     "data": {
      "text/html": [
       "<div>\n",
       "<style scoped>\n",
       "    .dataframe tbody tr th:only-of-type {\n",
       "        vertical-align: middle;\n",
       "    }\n",
       "\n",
       "    .dataframe tbody tr th {\n",
       "        vertical-align: top;\n",
       "    }\n",
       "\n",
       "    .dataframe thead th {\n",
       "        text-align: right;\n",
       "    }\n",
       "</style>\n",
       "<table border=\"1\" class=\"dataframe\">\n",
       "  <thead>\n",
       "    <tr style=\"text-align: right;\">\n",
       "      <th></th>\n",
       "      <th>username</th>\n",
       "      <th>learner_id</th>\n",
       "      <th>gender</th>\n",
       "      <th>passed_game</th>\n",
       "      <th>cluster</th>\n",
       "      <th>posttest_score</th>\n",
       "    </tr>\n",
       "  </thead>\n",
       "  <tbody>\n",
       "    <tr>\n",
       "      <th>0</th>\n",
       "      <td>abigailv</td>\n",
       "      <td>81692</td>\n",
       "      <td>F</td>\n",
       "      <td>passed</td>\n",
       "      <td>1.0</td>\n",
       "      <td>4.0</td>\n",
       "    </tr>\n",
       "    <tr>\n",
       "      <th>1</th>\n",
       "      <td>alaind</td>\n",
       "      <td>62469</td>\n",
       "      <td>M</td>\n",
       "      <td>passed</td>\n",
       "      <td>2.0</td>\n",
       "      <td>3.0</td>\n",
       "    </tr>\n",
       "    <tr>\n",
       "      <th>2</th>\n",
       "      <td>alyssah</td>\n",
       "      <td>63404</td>\n",
       "      <td>F</td>\n",
       "      <td>failed</td>\n",
       "      <td>3.0</td>\n",
       "      <td>-1.0</td>\n",
       "    </tr>\n",
       "    <tr>\n",
       "      <th>3</th>\n",
       "      <td>alyssat</td>\n",
       "      <td>65083</td>\n",
       "      <td>F</td>\n",
       "      <td>passed</td>\n",
       "      <td>3.0</td>\n",
       "      <td>2.0</td>\n",
       "    </tr>\n",
       "    <tr>\n",
       "      <th>4</th>\n",
       "      <td>amyr</td>\n",
       "      <td>62200</td>\n",
       "      <td>F</td>\n",
       "      <td>NaN</td>\n",
       "      <td>NaN</td>\n",
       "      <td>NaN</td>\n",
       "    </tr>\n",
       "  </tbody>\n",
       "</table>\n",
       "</div>"
      ],
      "text/plain": [
       "   username  learner_id gender passed_game  cluster  posttest_score\n",
       "0  abigailv       81692      F      passed      1.0             4.0\n",
       "1    alaind       62469      M      passed      2.0             3.0\n",
       "2   alyssah       63404      F      failed      3.0            -1.0\n",
       "3   alyssat       65083      F      passed      3.0             2.0\n",
       "4      amyr       62200      F         NaN      NaN             NaN"
      ]
     },
     "execution_count": 5,
     "metadata": {},
     "output_type": "execute_result"
    }
   ],
   "source": [
    "demographics_rancho = pd.read_csv('./demographics_rancho.csv', encoding='Windows-1252', header=None, index_col=None)\n",
    "rancho_columns_of_interest = {\n",
    "    10: 'username', 11: 'learner_id', 12: 'gender'\n",
    "}\n",
    "demographics_rancho = demographics_rancho.rename(columns=rancho_columns_of_interest)\n",
    "demographics_rancho = demographics_rancho[rancho_columns_of_interest.values()]\n",
    "\n",
    "demographics_rancho_bis = pd.read_csv('./studentInfo_rancho.csv', encoding='Windows-1252', header=0, index_col=None)\n",
    "rancho_bis_columns_of_interest = {\n",
    "    'Student Id': 'username', 'Passed Game?': 'passed_game', 'Cluster Label': 'cluster', \n",
    "    'Posttest Score': 'posttest_score'\n",
    "}\n",
    "demographics_rancho_bis = demographics_rancho_bis.rename(columns=rancho_bis_columns_of_interest)\n",
    "demographics_rancho_bis = demographics_rancho_bis[rancho_bis_columns_of_interest.values()]\n",
    "\n",
    "print('before merge: {}'.format(len(demographics_rancho)))\n",
    "demographics_rancho = demographics_rancho.merge(demographics_rancho_bis, how='left', on='username')\n",
    "print('after merge: {}'.format(len(demographics_rancho)))\n",
    "\n",
    "\n",
    "demographics_rancho.head()"
   ]
  },
  {
   "cell_type": "code",
   "execution_count": 6,
   "id": "13de559a",
   "metadata": {
    "ExecuteTime": {
     "end_time": "2022-08-31T09:36:11.387392Z",
     "start_time": "2022-08-31T09:36:11.355239Z"
    }
   },
   "outputs": [
    {
     "name": "stdout",
     "output_type": "stream",
     "text": [
      "before merge: 153\n",
      "after merge: 153\n"
     ]
    },
    {
     "data": {
      "text/html": [
       "<div>\n",
       "<style scoped>\n",
       "    .dataframe tbody tr th:only-of-type {\n",
       "        vertical-align: middle;\n",
       "    }\n",
       "\n",
       "    .dataframe tbody tr th {\n",
       "        vertical-align: top;\n",
       "    }\n",
       "\n",
       "    .dataframe thead th {\n",
       "        text-align: right;\n",
       "    }\n",
       "</style>\n",
       "<table border=\"1\" class=\"dataframe\">\n",
       "  <thead>\n",
       "    <tr style=\"text-align: right;\">\n",
       "      <th></th>\n",
       "      <th>username</th>\n",
       "      <th>gender</th>\n",
       "      <th>passed_game</th>\n",
       "      <th>cluster</th>\n",
       "      <th>posttest_score</th>\n",
       "    </tr>\n",
       "  </thead>\n",
       "  <tbody>\n",
       "    <tr>\n",
       "      <th>0</th>\n",
       "      <td>amberf1</td>\n",
       "      <td>f</td>\n",
       "      <td>passed</td>\n",
       "      <td>1.0</td>\n",
       "      <td>4.0</td>\n",
       "    </tr>\n",
       "    <tr>\n",
       "      <th>1</th>\n",
       "      <td>avasina1</td>\n",
       "      <td>f</td>\n",
       "      <td>passed</td>\n",
       "      <td>2.0</td>\n",
       "      <td>4.0</td>\n",
       "    </tr>\n",
       "    <tr>\n",
       "      <th>2</th>\n",
       "      <td>devinc1</td>\n",
       "      <td>m</td>\n",
       "      <td>passed</td>\n",
       "      <td>1.0</td>\n",
       "      <td>0.0</td>\n",
       "    </tr>\n",
       "    <tr>\n",
       "      <th>3</th>\n",
       "      <td>emilyl1</td>\n",
       "      <td>f</td>\n",
       "      <td>passed</td>\n",
       "      <td>6.0</td>\n",
       "      <td>0.0</td>\n",
       "    </tr>\n",
       "    <tr>\n",
       "      <th>4</th>\n",
       "      <td>eoinc1</td>\n",
       "      <td>m</td>\n",
       "      <td>passed</td>\n",
       "      <td>1.0</td>\n",
       "      <td>3.0</td>\n",
       "    </tr>\n",
       "  </tbody>\n",
       "</table>\n",
       "</div>"
      ],
      "text/plain": [
       "   username gender passed_game  cluster  posttest_score\n",
       "0   amberf1      f      passed      1.0             4.0\n",
       "1  avasina1      f      passed      2.0             4.0\n",
       "2   devinc1      m      passed      1.0             0.0\n",
       "3   emilyl1      f      passed      6.0             0.0\n",
       "4    eoinc1      m      passed      1.0             3.0"
      ]
     },
     "execution_count": 6,
     "metadata": {},
     "output_type": "execute_result"
    }
   ],
   "source": [
    "demographics_tierra = pd.read_csv('./demographics_tierra.csv', encoding='Windows-1252', header=None, index_col=None)\n",
    "tierra_columns_of_interest = {\n",
    "    0: 'username', 4: 'gender'\n",
    "}\n",
    "demographics_tierra = demographics_tierra.rename(columns=tierra_columns_of_interest)\n",
    "demographics_tierra = demographics_tierra[tierra_columns_of_interest.values()]\n",
    "\n",
    "demographics_tierra_bis = pd.read_csv('./studentInfo_tl.csv', encoding='Windows-1252', header=0, index_col=None)\n",
    "tierra_bis_columns_of_interest = {\n",
    "    'Student Id': 'username', 'Passed Game?': 'passed_game', 'Cluster Label': 'cluster', \n",
    "    'Posttest Score': 'posttest_score'\n",
    "}\n",
    "demographics_tierra_bis = demographics_tierra_bis.rename(columns=tierra_bis_columns_of_interest)\n",
    "demographics_tierra_bis = demographics_tierra_bis[tierra_bis_columns_of_interest.values()]\n",
    "\n",
    "print('before merge: {}'.format(len(demographics_tierra)))\n",
    "demographics_tierra = demographics_tierra.merge(demographics_tierra_bis, how='left', on='username')\n",
    "print('after merge: {}'.format(len(demographics_tierra)))\n",
    "\n",
    "demographics_tierra.head()"
   ]
  },
  {
   "cell_type": "code",
   "execution_count": 7,
   "id": "057a5850",
   "metadata": {
    "ExecuteTime": {
     "end_time": "2022-08-31T09:36:11.398499Z",
     "start_time": "2022-08-31T09:36:11.389458Z"
    }
   },
   "outputs": [
    {
     "name": "stdout",
     "output_type": "stream",
     "text": [
      "4 students in the rancho group were not assigned a cluster, while that number is 6 for tierra linda\n",
      "0 students in the rancho group did not contain gender information, while that number is 0 for tierra linda\n"
     ]
    }
   ],
   "source": [
    "na_rancho = demographics_rancho[demographics_rancho['cluster'].isna()]\n",
    "na_tl = demographics_tierra[demographics_tierra['cluster'].isna()]\n",
    "print(\n",
    "    '{} students in the rancho group were not assigned a cluster, while that number is {} for tierra linda'.format(\n",
    "    len(na_rancho), len(na_tl)\n",
    "    )\n",
    ")\n",
    "\n",
    "na_rancho = demographics_rancho[demographics_rancho['gender'].isna()]\n",
    "na_tl = demographics_tierra[demographics_tierra['gender'].isna()]\n",
    "print(\n",
    "    '{} students in the rancho group did not contain gender information, while that number is {} for tierra linda'.format(\n",
    "    len(na_rancho), len(na_tl)\n",
    "    )\n",
    ")"
   ]
  },
  {
   "cell_type": "code",
   "execution_count": 8,
   "id": "a6dd3154",
   "metadata": {
    "ExecuteTime": {
     "end_time": "2022-08-31T09:36:11.426999Z",
     "start_time": "2022-08-31T09:36:11.402299Z"
    }
   },
   "outputs": [
    {
     "data": {
      "text/html": [
       "<div>\n",
       "<style scoped>\n",
       "    .dataframe tbody tr th:only-of-type {\n",
       "        vertical-align: middle;\n",
       "    }\n",
       "\n",
       "    .dataframe tbody tr th {\n",
       "        vertical-align: top;\n",
       "    }\n",
       "\n",
       "    .dataframe thead th {\n",
       "        text-align: right;\n",
       "    }\n",
       "</style>\n",
       "<table border=\"1\" class=\"dataframe\">\n",
       "  <thead>\n",
       "    <tr style=\"text-align: right;\">\n",
       "      <th></th>\n",
       "      <th>username</th>\n",
       "      <th>learner_id</th>\n",
       "      <th>gender</th>\n",
       "      <th>passed_game</th>\n",
       "      <th>cluster</th>\n",
       "      <th>posttest_score</th>\n",
       "      <th>area</th>\n",
       "    </tr>\n",
       "  </thead>\n",
       "  <tbody>\n",
       "    <tr>\n",
       "      <th>0</th>\n",
       "      <td>abigailv</td>\n",
       "      <td>81692.0</td>\n",
       "      <td>F</td>\n",
       "      <td>passed</td>\n",
       "      <td>1.0</td>\n",
       "      <td>4.0</td>\n",
       "      <td>rancho</td>\n",
       "    </tr>\n",
       "    <tr>\n",
       "      <th>1</th>\n",
       "      <td>alaind</td>\n",
       "      <td>62469.0</td>\n",
       "      <td>M</td>\n",
       "      <td>passed</td>\n",
       "      <td>2.0</td>\n",
       "      <td>3.0</td>\n",
       "      <td>rancho</td>\n",
       "    </tr>\n",
       "    <tr>\n",
       "      <th>2</th>\n",
       "      <td>alyssah</td>\n",
       "      <td>63404.0</td>\n",
       "      <td>F</td>\n",
       "      <td>failed</td>\n",
       "      <td>3.0</td>\n",
       "      <td>-1.0</td>\n",
       "      <td>rancho</td>\n",
       "    </tr>\n",
       "    <tr>\n",
       "      <th>3</th>\n",
       "      <td>alyssat</td>\n",
       "      <td>65083.0</td>\n",
       "      <td>F</td>\n",
       "      <td>passed</td>\n",
       "      <td>3.0</td>\n",
       "      <td>2.0</td>\n",
       "      <td>rancho</td>\n",
       "    </tr>\n",
       "    <tr>\n",
       "      <th>5</th>\n",
       "      <td>angelm</td>\n",
       "      <td>62787.0</td>\n",
       "      <td>M</td>\n",
       "      <td>passed</td>\n",
       "      <td>5.0</td>\n",
       "      <td>1.0</td>\n",
       "      <td>rancho</td>\n",
       "    </tr>\n",
       "  </tbody>\n",
       "</table>\n",
       "</div>"
      ],
      "text/plain": [
       "   username  learner_id gender passed_game  cluster  posttest_score    area\n",
       "0  abigailv     81692.0      F      passed      1.0             4.0  rancho\n",
       "1    alaind     62469.0      M      passed      2.0             3.0  rancho\n",
       "2   alyssah     63404.0      F      failed      3.0            -1.0  rancho\n",
       "3   alyssat     65083.0      F      passed      3.0             2.0  rancho\n",
       "5    angelm     62787.0      M      passed      5.0             1.0  rancho"
      ]
     },
     "execution_count": 8,
     "metadata": {},
     "output_type": "execute_result"
    }
   ],
   "source": [
    "demographics_rancho = demographics_rancho.dropna(axis=0, subset=['cluster'])\n",
    "demographics_tierra = demographics_tierra.dropna(axis=0, subset=['cluster'])\n",
    "\n",
    "demographics_rancho['area'] = ['rancho' for row in range(len(demographics_rancho))]\n",
    "demographics_tierra['area'] = ['tierra_linda' for row in range(len(demographics_tierra))]\n",
    "\n",
    "demographics = pd.concat([demographics_rancho, demographics_tierra])\n",
    "\n",
    "usernames_demographics = demographics['username']\n",
    "\n",
    "demographics.head()"
   ]
  },
  {
   "cell_type": "markdown",
   "id": "207a2372",
   "metadata": {},
   "source": [
    "## behavioural data\n",
    "For this part of the pre-processing, we're using Bilal's code (summer 2021) available here:https://github.com/epfl-ml4ed/tuglet-student-modelling/blob/main/utils/load_data.py"
   ]
  },
  {
   "cell_type": "code",
   "execution_count": 9,
   "id": "b167ad3d",
   "metadata": {
    "ExecuteTime": {
     "end_time": "2022-08-31T09:36:16.315299Z",
     "start_time": "2022-08-31T09:36:16.254817Z"
    }
   },
   "outputs": [
    {
     "data": {
      "text/html": [
       "<div>\n",
       "<style scoped>\n",
       "    .dataframe tbody tr th:only-of-type {\n",
       "        vertical-align: middle;\n",
       "    }\n",
       "\n",
       "    .dataframe tbody tr th {\n",
       "        vertical-align: top;\n",
       "    }\n",
       "\n",
       "    .dataframe thead th {\n",
       "        text-align: right;\n",
       "    }\n",
       "</style>\n",
       "<table border=\"1\" class=\"dataframe\">\n",
       "  <thead>\n",
       "    <tr style=\"text-align: right;\">\n",
       "      <th></th>\n",
       "      <th>0</th>\n",
       "      <th>1</th>\n",
       "      <th>2</th>\n",
       "      <th>3</th>\n",
       "      <th>4</th>\n",
       "      <th>5</th>\n",
       "      <th>6</th>\n",
       "      <th>7</th>\n",
       "      <th>8</th>\n",
       "      <th>9</th>\n",
       "      <th>10</th>\n",
       "      <th>11</th>\n",
       "      <th>12</th>\n",
       "    </tr>\n",
       "  </thead>\n",
       "  <tbody>\n",
       "    <tr>\n",
       "      <th>0</th>\n",
       "      <td>amberf1</td>\n",
       "      <td>Intro</td>\n",
       "      <td>Enter</td>\n",
       "      <td>0</td>\n",
       "      <td>0.0</td>\n",
       "      <td>0.0</td>\n",
       "      <td>0.0</td>\n",
       "      <td>0.0</td>\n",
       "      <td>0.0</td>\n",
       "      <td>0.0</td>\n",
       "      <td>0.0</td>\n",
       "      <td>0.0</td>\n",
       "      <td>0</td>\n",
       "    </tr>\n",
       "    <tr>\n",
       "      <th>1</th>\n",
       "      <td>amberf1</td>\n",
       "      <td>Intro</td>\n",
       "      <td>Hypothesis</td>\n",
       "      <td>10204</td>\n",
       "      <td>0.0</td>\n",
       "      <td>0.0</td>\n",
       "      <td>0.0</td>\n",
       "      <td>0.0</td>\n",
       "      <td>0.0</td>\n",
       "      <td>0.0</td>\n",
       "      <td>0.0</td>\n",
       "      <td>0.0</td>\n",
       "      <td>0</td>\n",
       "    </tr>\n",
       "    <tr>\n",
       "      <th>2</th>\n",
       "      <td>amberf1</td>\n",
       "      <td>Intro</td>\n",
       "      <td>Hypothesis</td>\n",
       "      <td>25326</td>\n",
       "      <td>0.0</td>\n",
       "      <td>0.0</td>\n",
       "      <td>0.0</td>\n",
       "      <td>0.0</td>\n",
       "      <td>0.0</td>\n",
       "      <td>0.0</td>\n",
       "      <td>0.0</td>\n",
       "      <td>0.0</td>\n",
       "      <td>0</td>\n",
       "    </tr>\n",
       "    <tr>\n",
       "      <th>3</th>\n",
       "      <td>amberf1</td>\n",
       "      <td>Intro</td>\n",
       "      <td>Cleared</td>\n",
       "      <td>30566</td>\n",
       "      <td>0.0</td>\n",
       "      <td>0.0</td>\n",
       "      <td>0.0</td>\n",
       "      <td>0.0</td>\n",
       "      <td>0.0</td>\n",
       "      <td>0.0</td>\n",
       "      <td>0.0</td>\n",
       "      <td>0.0</td>\n",
       "      <td>0</td>\n",
       "    </tr>\n",
       "    <tr>\n",
       "      <th>4</th>\n",
       "      <td>amberf1</td>\n",
       "      <td>Intro</td>\n",
       "      <td>Hypothesis</td>\n",
       "      <td>43449</td>\n",
       "      <td>1.5</td>\n",
       "      <td>0.5</td>\n",
       "      <td>0.0</td>\n",
       "      <td>0.0</td>\n",
       "      <td>0.0</td>\n",
       "      <td>0.0</td>\n",
       "      <td>0.5</td>\n",
       "      <td>1.5</td>\n",
       "      <td>0</td>\n",
       "    </tr>\n",
       "  </tbody>\n",
       "</table>\n",
       "</div>"
      ],
      "text/plain": [
       "        0      1           2      3    4    5    6    7    8    9    10   11  \\\n",
       "0  amberf1  Intro       Enter      0  0.0  0.0  0.0  0.0  0.0  0.0  0.0  0.0   \n",
       "1  amberf1  Intro  Hypothesis  10204  0.0  0.0  0.0  0.0  0.0  0.0  0.0  0.0   \n",
       "2  amberf1  Intro  Hypothesis  25326  0.0  0.0  0.0  0.0  0.0  0.0  0.0  0.0   \n",
       "3  amberf1  Intro     Cleared  30566  0.0  0.0  0.0  0.0  0.0  0.0  0.0  0.0   \n",
       "4  amberf1  Intro  Hypothesis  43449  1.5  0.5  0.0  0.0  0.0  0.0  0.5  1.5   \n",
       "\n",
       "   12  \n",
       "0   0  \n",
       "1   0  \n",
       "2   0  \n",
       "3   0  \n",
       "4   0  "
      ]
     },
     "execution_count": 9,
     "metadata": {},
     "output_type": "execute_result"
    }
   ],
   "source": [
    "bilal_combined = pd.read_csv('./bilalcode/data/tuglet_combined.csv', header=None)\n",
    "bilal_combined.head()"
   ]
  },
  {
   "cell_type": "code",
   "execution_count": null,
   "id": "e2649fe3",
   "metadata": {},
   "outputs": [],
   "source": [
    "# # with open('../features/bilal_explore_challenge_rules_setup_time_label_tuglet.pkl', 'wb') as fp:\n",
    "# #     pickle.dump(full_data, fp)\n",
    "\n",
    "# # Load data \n",
    "# args = {\n",
    "#     'explore': True,\n",
    "#     'challenge': True,\n",
    "#     'rules': True,\n",
    "#     'setup': True,\n",
    "#     'time': True,\n",
    "#     'label': True,\n",
    "#     'old_score': False\n",
    "# }\n",
    "# data = load_data(args['explore'], args['challenge'], args['rules'], args['setup'], args['time'], args['label'])\n",
    "# posttest_data = load_posttest(args['old_score'])\n",
    "\n",
    "# # filter data with cluster and demographics information\n",
    "# data = data[data['user_id'].isin(usernames_demographics)]\n",
    "# final_usernames = list(data['user_id'])\n",
    "\n",
    "# # Pre-processing the data\n",
    "# (x, y), preprocessed_usernames = preprocess(data, posttest_data, args['old_score'])\n",
    "# y = [yy[0]*10 for yy in y]"
   ]
  },
  {
   "cell_type": "code",
   "execution_count": 10,
   "id": "01822f67",
   "metadata": {
    "ExecuteTime": {
     "end_time": "2022-08-24T09:24:32.165838Z",
     "start_time": "2022-08-24T09:24:31.996005Z"
    }
   },
   "outputs": [],
   "source": [
    "# with open('../features/bilal_explore_challenge_setup_time_tuglet_old.pkl', 'wb') as fp:\n",
    "#     pickle.dump(full_data, fp)\n",
    "# Load data \n",
    "args = {\n",
    "    'explore': True,\n",
    "    'challenge': True,\n",
    "    'rules': False,\n",
    "    'setup': True,\n",
    "    'time': True,\n",
    "    'label': False,\n",
    "    'old_score': True\n",
    "}\n",
    "data = load_data(args['explore'], args['challenge'], args['rules'], args['setup'], args['time'], args['label'])\n",
    "posttest_data = load_posttest(args['old_score'])\n",
    "\n",
    "# filter data with cluster and demographics information\n",
    "data = data[data['user_id'].isin(usernames_demographics)]\n",
    "final_usernames = list(data['user_id'])\n",
    "\n",
    "# Pre-processing the data\n",
    "(x, y), preprocessed_usernames = preprocess(data, posttest_data, args['old_score'])\n",
    "y = [yy[0]*4 for yy in y]"
   ]
  },
  {
   "cell_type": "code",
   "execution_count": 10,
   "id": "f63a2ffd",
   "metadata": {
    "ExecuteTime": {
     "end_time": "2022-08-24T10:08:56.314576Z",
     "start_time": "2022-08-24T10:08:56.015402Z"
    }
   },
   "outputs": [],
   "source": [
    "# with open('../features/bilal_explore_challenge_rules_setup_time_old_tuglet.pkl', 'wb') as fp:\n",
    "#     pickle.dump(full_data, fp)\n",
    "# Load data \n",
    "args = {\n",
    "    'explore': True,\n",
    "    'challenge': True,\n",
    "    'rules': True,\n",
    "    'setup': True,\n",
    "    'time': True,\n",
    "    'label': False,\n",
    "    'old_score': True\n",
    "}\n",
    "data = load_data(args['explore'], args['challenge'], args['rules'], args['setup'], args['time'], args['label'])\n",
    "posttest_data = load_posttest(args['old_score'])\n",
    "\n",
    "# filter data with cluster and demographics information\n",
    "data = data[data['user_id'].isin(usernames_demographics)]\n",
    "final_usernames = list(data['user_id'])\n",
    "\n",
    "# Pre-processing the data\n",
    "(x, y), preprocessed_usernames = preprocess(data, posttest_data, args['old_score'])\n",
    "y = [yy[0]*4 for yy in y]"
   ]
  },
  {
   "cell_type": "code",
   "execution_count": 10,
   "id": "e608e923",
   "metadata": {
    "ExecuteTime": {
     "end_time": "2022-08-31T09:36:21.863349Z",
     "start_time": "2022-08-31T09:36:21.595129Z"
    }
   },
   "outputs": [],
   "source": [
    "# with open('../features/bilal_explore_challenge_rules_setup_time_label_old_tuglet.pkl', 'wb') as fp:\n",
    "#     pickle.dump(full_data, fp)\n",
    "# Load data \n",
    "args = {\n",
    "    'explore': True,\n",
    "    'challenge': True,\n",
    "    'rules': True,\n",
    "    'setup': True,\n",
    "    'time': True,\n",
    "    'label': True,\n",
    "    'old_score': True\n",
    "}\n",
    "data = load_data(args['explore'], args['challenge'], args['rules'], args['setup'], args['time'], args['label'])\n",
    "posttest_data = load_posttest(args['old_score'])\n",
    "\n",
    "# filter data with cluster and demographics information\n",
    "data = data[data['user_id'].isin(usernames_demographics)]\n",
    "final_usernames = list(data['user_id'])\n",
    "\n",
    "# Pre-processing the data\n",
    "(x, y), preprocessed_usernames = preprocess(data, posttest_data, args['old_score'])\n",
    "y = [yy[0]*4 for yy in y]"
   ]
  },
  {
   "cell_type": "code",
   "execution_count": 10,
   "id": "63d5738e",
   "metadata": {
    "ExecuteTime": {
     "end_time": "2022-08-24T10:24:27.830075Z",
     "start_time": "2022-08-24T10:24:27.825833Z"
    }
   },
   "outputs": [
    {
     "name": "stdout",
     "output_type": "stream",
     "text": [
      "278 students have demographics information.\n",
      "     input shape: (264, 152, 12)\n",
      "     output shape: (264,)\n"
     ]
    }
   ],
   "source": [
    "print('{} students have demographics information.'.format(len(usernames_demographics)))\n",
    "print('     input shape: {}'.format(x.shape))\n",
    "print('     output shape: {}'.format(np.array(y).shape))"
   ]
  },
  {
   "cell_type": "markdown",
   "id": "239b7cc8",
   "metadata": {},
   "source": [
    "# Create Data "
   ]
  },
  {
   "cell_type": "code",
   "execution_count": 12,
   "id": "90ef5af0",
   "metadata": {
    "ExecuteTime": {
     "end_time": "2022-08-24T10:09:00.273467Z",
     "start_time": "2022-08-24T10:09:00.256662Z"
    }
   },
   "outputs": [
    {
     "data": {
      "text/html": [
       "<div>\n",
       "<style scoped>\n",
       "    .dataframe tbody tr th:only-of-type {\n",
       "        vertical-align: middle;\n",
       "    }\n",
       "\n",
       "    .dataframe tbody tr th {\n",
       "        vertical-align: top;\n",
       "    }\n",
       "\n",
       "    .dataframe thead th {\n",
       "        text-align: right;\n",
       "    }\n",
       "</style>\n",
       "<table border=\"1\" class=\"dataframe\">\n",
       "  <thead>\n",
       "    <tr style=\"text-align: right;\">\n",
       "      <th></th>\n",
       "      <th>username</th>\n",
       "      <th>learner_id</th>\n",
       "      <th>gender</th>\n",
       "      <th>passed_game</th>\n",
       "      <th>cluster</th>\n",
       "      <th>posttest_score</th>\n",
       "      <th>area</th>\n",
       "    </tr>\n",
       "  </thead>\n",
       "  <tbody>\n",
       "    <tr>\n",
       "      <th>0</th>\n",
       "      <td>abigailv</td>\n",
       "      <td>81692.0</td>\n",
       "      <td>F</td>\n",
       "      <td>passed</td>\n",
       "      <td>1.0</td>\n",
       "      <td>4.0</td>\n",
       "      <td>rancho</td>\n",
       "    </tr>\n",
       "    <tr>\n",
       "      <th>1</th>\n",
       "      <td>alaind</td>\n",
       "      <td>62469.0</td>\n",
       "      <td>M</td>\n",
       "      <td>passed</td>\n",
       "      <td>2.0</td>\n",
       "      <td>3.0</td>\n",
       "      <td>rancho</td>\n",
       "    </tr>\n",
       "    <tr>\n",
       "      <th>2</th>\n",
       "      <td>alyssah</td>\n",
       "      <td>63404.0</td>\n",
       "      <td>F</td>\n",
       "      <td>failed</td>\n",
       "      <td>3.0</td>\n",
       "      <td>-1.0</td>\n",
       "      <td>rancho</td>\n",
       "    </tr>\n",
       "    <tr>\n",
       "      <th>3</th>\n",
       "      <td>alyssat</td>\n",
       "      <td>65083.0</td>\n",
       "      <td>F</td>\n",
       "      <td>passed</td>\n",
       "      <td>3.0</td>\n",
       "      <td>2.0</td>\n",
       "      <td>rancho</td>\n",
       "    </tr>\n",
       "    <tr>\n",
       "      <th>5</th>\n",
       "      <td>angelm</td>\n",
       "      <td>62787.0</td>\n",
       "      <td>M</td>\n",
       "      <td>passed</td>\n",
       "      <td>5.0</td>\n",
       "      <td>1.0</td>\n",
       "      <td>rancho</td>\n",
       "    </tr>\n",
       "  </tbody>\n",
       "</table>\n",
       "</div>"
      ],
      "text/plain": [
       "   username  learner_id gender passed_game  cluster  posttest_score    area\n",
       "0  abigailv     81692.0      F      passed      1.0             4.0  rancho\n",
       "1    alaind     62469.0      M      passed      2.0             3.0  rancho\n",
       "2   alyssah     63404.0      F      failed      3.0            -1.0  rancho\n",
       "3   alyssat     65083.0      F      passed      3.0             2.0  rancho\n",
       "5    angelm     62787.0      M      passed      5.0             1.0  rancho"
      ]
     },
     "execution_count": 12,
     "metadata": {},
     "output_type": "execute_result"
    }
   ],
   "source": [
    "demographics.head()"
   ]
  },
  {
   "cell_type": "code",
   "execution_count": 11,
   "id": "927b5391",
   "metadata": {
    "ExecuteTime": {
     "end_time": "2022-08-31T09:36:24.799718Z",
     "start_time": "2022-08-31T09:36:24.608142Z"
    }
   },
   "outputs": [],
   "source": [
    "full_data = {}\n",
    "\n",
    "j = 0\n",
    "for i, lid in enumerate(preprocessed_usernames):\n",
    "    \n",
    "    try:\n",
    "    \n",
    "        row = demographics[demographics['username'] == lid]\n",
    "        assert len(row) == 1\n",
    "        \n",
    "        row = dict(row.iloc[0])\n",
    "    except AssertionError:\n",
    "        if lid == 'carolynw5' or lid == 'dogukank3' or lid == 'meeraj1':\n",
    "            row = dict(row.iloc[0])\n",
    "            row['gender'] = 'na'\n",
    "            \n",
    "        elif lid == 'garrettm2' or lid == 'jessicak6' or lid == 'reidr2':\n",
    "            row = dict(row.iloc[0])\n",
    "            \n",
    "        else:\n",
    "            print(lid)\n",
    "            print('*')\n",
    "            print(row)\n",
    "            print('  _. ')\n",
    "    \n",
    "    \n",
    "    student = {\n",
    "        'sequence': x[i],\n",
    "        'idx': j,\n",
    "        'learner_id': lid,\n",
    "        'gender': row['gender'].lower(),\n",
    "        'passed_game': row['passed_game'],\n",
    "        'cluster': row['cluster'],\n",
    "        'posttest_score': row['posttest_score'],\n",
    "        'area': row['area'],\n",
    "        'label': y[i],\n",
    "    }\n",
    "    full_data[j] = student\n",
    "    j += 1\n",
    "    \n",
    "full_data['available_demographics'] = [\n",
    "    'gender', 'passed_game', 'cluster', 'posttest_score', 'area'\n",
    "] "
   ]
  },
  {
   "cell_type": "code",
   "execution_count": 12,
   "id": "ba403364",
   "metadata": {
    "ExecuteTime": {
     "end_time": "2022-08-31T09:36:30.098438Z",
     "start_time": "2022-08-31T09:36:30.093183Z"
    }
   },
   "outputs": [
    {
     "data": {
      "text/plain": [
       "265"
      ]
     },
     "execution_count": 12,
     "metadata": {},
     "output_type": "execute_result"
    }
   ],
   "source": [
    "len(full_data)"
   ]
  },
  {
   "cell_type": "code",
   "execution_count": 12,
   "id": "332f1d6e",
   "metadata": {
    "ExecuteTime": {
     "end_time": "2022-08-24T10:24:44.609881Z",
     "start_time": "2022-08-24T10:24:44.598420Z"
    }
   },
   "outputs": [],
   "source": [
    "with open('../features/bilal_explore_challenge_rules_setup_time_label_oldposttest_tuglet.pkl', 'wb') as fp:\n",
    "    pickle.dump(full_data, fp)"
   ]
  },
  {
   "cell_type": "code",
   "execution_count": 13,
   "id": "da66a5e9",
   "metadata": {
    "ExecuteTime": {
     "end_time": "2022-08-24T10:24:45.464559Z",
     "start_time": "2022-08-24T10:24:45.288981Z"
    }
   },
   "outputs": [],
   "source": [
    "full_data = {}\n",
    "\n",
    "j = 0\n",
    "for i, lid in enumerate(preprocessed_usernames):\n",
    "    \n",
    "    try:\n",
    "    \n",
    "        row = demographics[demographics['username'] == lid]\n",
    "        assert len(row) == 1\n",
    "        \n",
    "        row = dict(row.iloc[0])\n",
    "    except AssertionError:\n",
    "        if lid == 'carolynw5' or lid == 'dogukank3' or lid == 'meeraj1':\n",
    "            row = dict(row.iloc[0])\n",
    "            row['gender'] = 'na'\n",
    "            \n",
    "        elif lid == 'garrettm2' or lid == 'jessicak6' or lid == 'reidr2':\n",
    "            row = dict(row.iloc[0])\n",
    "            \n",
    "        else:\n",
    "            print(lid)\n",
    "            print('*')\n",
    "            print(row)\n",
    "            print('  _. ')\n",
    "    \n",
    "    \n",
    "    student = {\n",
    "        'sequence': x[i],\n",
    "        'idx': j,\n",
    "        'learner_id': lid,\n",
    "        'gender': row['gender'].lower(),\n",
    "        'passed_game': row['passed_game'],\n",
    "        'cluster': row['cluster'],\n",
    "        'posttest_score': row['posttest_score'],\n",
    "        'area': row['area'],\n",
    "        'label': int(y[i] > 2),\n",
    "    }\n",
    "    full_data[j] = student\n",
    "    j += 1\n",
    "    \n",
    "full_data['available_demographics'] = [\n",
    "    'gender', 'passed_game', 'cluster', 'posttest_score', 'area'\n",
    "] "
   ]
  },
  {
   "cell_type": "code",
   "execution_count": 14,
   "id": "b9afa0dd",
   "metadata": {
    "ExecuteTime": {
     "end_time": "2022-08-24T10:24:49.297608Z",
     "start_time": "2022-08-24T10:24:49.287864Z"
    }
   },
   "outputs": [],
   "source": [
    "with open('../features/bilal_explore_challenge_rules_setup_time_label_oldposttest_binary_tuglet.pkl', 'wb') as fp:\n",
    "    pickle.dump(full_data, fp)"
   ]
  },
  {
   "cell_type": "markdown",
   "id": "8d96fb49",
   "metadata": {
    "ExecuteTime": {
     "end_time": "2022-08-15T16:05:39.555059Z",
     "start_time": "2022-08-15T16:05:39.543383Z"
    }
   },
   "source": [
    "# EDA"
   ]
  },
  {
   "cell_type": "code",
   "execution_count": 13,
   "id": "ce18128b",
   "metadata": {
    "ExecuteTime": {
     "end_time": "2022-08-31T09:37:47.125867Z",
     "start_time": "2022-08-31T09:37:47.108875Z"
    }
   },
   "outputs": [
    {
     "data": {
      "text/html": [
       "<div>\n",
       "<style scoped>\n",
       "    .dataframe tbody tr th:only-of-type {\n",
       "        vertical-align: middle;\n",
       "    }\n",
       "\n",
       "    .dataframe tbody tr th {\n",
       "        vertical-align: top;\n",
       "    }\n",
       "\n",
       "    .dataframe thead th {\n",
       "        text-align: right;\n",
       "    }\n",
       "</style>\n",
       "<table border=\"1\" class=\"dataframe\">\n",
       "  <thead>\n",
       "    <tr style=\"text-align: right;\">\n",
       "      <th></th>\n",
       "      <th>username</th>\n",
       "      <th>learner_id</th>\n",
       "      <th>gender</th>\n",
       "      <th>passed_game</th>\n",
       "      <th>cluster</th>\n",
       "      <th>posttest_score</th>\n",
       "      <th>area</th>\n",
       "    </tr>\n",
       "  </thead>\n",
       "  <tbody>\n",
       "    <tr>\n",
       "      <th>0</th>\n",
       "      <td>abigailv</td>\n",
       "      <td>81692.0</td>\n",
       "      <td>F</td>\n",
       "      <td>passed</td>\n",
       "      <td>1.0</td>\n",
       "      <td>4.0</td>\n",
       "      <td>rancho</td>\n",
       "    </tr>\n",
       "    <tr>\n",
       "      <th>1</th>\n",
       "      <td>alaind</td>\n",
       "      <td>62469.0</td>\n",
       "      <td>M</td>\n",
       "      <td>passed</td>\n",
       "      <td>2.0</td>\n",
       "      <td>3.0</td>\n",
       "      <td>rancho</td>\n",
       "    </tr>\n",
       "    <tr>\n",
       "      <th>3</th>\n",
       "      <td>alyssat</td>\n",
       "      <td>65083.0</td>\n",
       "      <td>F</td>\n",
       "      <td>passed</td>\n",
       "      <td>3.0</td>\n",
       "      <td>2.0</td>\n",
       "      <td>rancho</td>\n",
       "    </tr>\n",
       "    <tr>\n",
       "      <th>5</th>\n",
       "      <td>angelm</td>\n",
       "      <td>62787.0</td>\n",
       "      <td>M</td>\n",
       "      <td>passed</td>\n",
       "      <td>5.0</td>\n",
       "      <td>1.0</td>\n",
       "      <td>rancho</td>\n",
       "    </tr>\n",
       "    <tr>\n",
       "      <th>6</th>\n",
       "      <td>angelinaz</td>\n",
       "      <td>83364.0</td>\n",
       "      <td>F</td>\n",
       "      <td>passed</td>\n",
       "      <td>6.0</td>\n",
       "      <td>0.0</td>\n",
       "      <td>rancho</td>\n",
       "    </tr>\n",
       "  </tbody>\n",
       "</table>\n",
       "</div>"
      ],
      "text/plain": [
       "    username  learner_id gender passed_game  cluster  posttest_score    area\n",
       "0   abigailv     81692.0      F      passed      1.0             4.0  rancho\n",
       "1     alaind     62469.0      M      passed      2.0             3.0  rancho\n",
       "3    alyssat     65083.0      F      passed      3.0             2.0  rancho\n",
       "5     angelm     62787.0      M      passed      5.0             1.0  rancho\n",
       "6  angelinaz     83364.0      F      passed      6.0             0.0  rancho"
      ]
     },
     "execution_count": 13,
     "metadata": {},
     "output_type": "execute_result"
    }
   ],
   "source": [
    "eda_demographics = demographics[demographics['username'].isin(final_usernames)]\n",
    "eda_demographics.head()"
   ]
  },
  {
   "cell_type": "code",
   "execution_count": 15,
   "id": "6e2039b8",
   "metadata": {
    "ExecuteTime": {
     "end_time": "2022-08-31T09:38:16.973401Z",
     "start_time": "2022-08-31T09:38:16.967513Z"
    }
   },
   "outputs": [
    {
     "data": {
      "text/plain": [
       "array(['rancho', 'tierra_linda'], dtype=object)"
      ]
     },
     "execution_count": 15,
     "metadata": {},
     "output_type": "execute_result"
    }
   ],
   "source": [
    "eda_demographics['area'].unique()"
   ]
  },
  {
   "cell_type": "code",
   "execution_count": 16,
   "id": "fa5be62d",
   "metadata": {
    "ExecuteTime": {
     "end_time": "2022-08-31T09:38:22.696454Z",
     "start_time": "2022-08-31T09:38:22.473666Z"
    }
   },
   "outputs": [
    {
     "data": {
      "image/png": "[encoded data removed]",
      "text/plain": [
       "<Figure size 288x216 with 1 Axes>"
      ]
     },
     "metadata": {
      "needs_background": "light"
     },
     "output_type": "display_data"
    }
   ],
   "source": [
    "eda_demographics['area'] = eda_demographics.apply(lambda row: row['area'].lower(), axis=1)\n",
    "plt.figure(figsize=(4, 3))\n",
    "sns.countplot(\n",
    "    eda_demographics['area'],\n",
    "    palette = {'rancho': '#ffbf69', 'tierra_linda': '#cbf3f0'}\n",
    ")\n",
    "plt.title('distribution of area in the data')\n",
    "plt.show()"
   ]
  },
  {
   "cell_type": "code",
   "execution_count": 17,
   "id": "7bd327b5",
   "metadata": {
    "ExecuteTime": {
     "end_time": "2022-08-18T12:12:05.556730Z",
     "start_time": "2022-08-18T12:12:05.439064Z"
    }
   },
   "outputs": [
    {
     "data": {
      "image/png": "[encoded data removed]",
      "text/plain": [
       "<Figure size 288x216 with 1 Axes>"
      ]
     },
     "metadata": {
      "needs_background": "light"
     },
     "output_type": "display_data"
    }
   ],
   "source": [
    "eda_demographics['gender'] = eda_demographics.apply(lambda row: row['gender'].lower(), axis=1)\n",
    "plt.figure(figsize=(4, 3))\n",
    "sns.countplot(\n",
    "    eda_demographics['gender'],\n",
    "    palette = {'f': '#ffbf69', 'm': '#cbf3f0'}\n",
    ")\n",
    "plt.title('distribution of gender in the data')\n",
    "plt.show()"
   ]
  },
  {
   "cell_type": "code",
   "execution_count": 18,
   "id": "9997514c",
   "metadata": {
    "ExecuteTime": {
     "end_time": "2022-08-18T11:08:54.292014Z",
     "start_time": "2022-08-18T11:08:54.287562Z"
    }
   },
   "outputs": [
    {
     "data": {
      "text/plain": [
       "array([1., 2., 3., 5., 6., 4.])"
      ]
     },
     "execution_count": 18,
     "metadata": {},
     "output_type": "execute_result"
    }
   ],
   "source": [
    "eda_demographics['cluster'].unique()"
   ]
  },
  {
   "cell_type": "code",
   "execution_count": 19,
   "id": "db0eccc5",
   "metadata": {
    "ExecuteTime": {
     "end_time": "2022-08-18T11:08:54.900038Z",
     "start_time": "2022-08-18T11:08:54.806693Z"
    }
   },
   "outputs": [
    {
     "data": {
      "image/png": "[encoded data removed]",
      "text/plain": [
       "<Figure size 288x216 with 1 Axes>"
      ]
     },
     "metadata": {
      "needs_background": "light"
     },
     "output_type": "display_data"
    }
   ],
   "source": [
    "eda_demographics['passed_game'] = eda_demographics.apply(lambda row: row['passed_game'].lower(), axis=1)\n",
    "plt.figure(figsize=(4, 3))\n",
    "sns.countplot(\n",
    "    eda_demographics['passed_game'],\n",
    "    palette = {' passed': '#335c67', ' failed': '#9e2a2b'}\n",
    ")\n",
    "plt.title('distribution of game success in the data')\n",
    "plt.show()"
   ]
  },
  {
   "cell_type": "code",
   "execution_count": 20,
   "id": "37a88cd2",
   "metadata": {
    "ExecuteTime": {
     "end_time": "2022-08-18T11:08:55.239300Z",
     "start_time": "2022-08-18T11:08:55.127305Z"
    }
   },
   "outputs": [
    {
     "data": {
      "image/png": "[encoded data removed]",
      "text/plain": [
       "<Figure size 576x216 with 1 Axes>"
      ]
     },
     "metadata": {
      "needs_background": "light"
     },
     "output_type": "display_data"
    }
   ],
   "source": [
    "eda_demographics['cluster'] = eda_demographics.apply(lambda row: str(int(row['cluster'])), axis=1)\n",
    "eda_demographics = eda_demographics.sort_values('cluster')\n",
    "plt.figure(figsize=(8, 3))\n",
    "sns.countplot(\n",
    "    eda_demographics['cluster'],\n",
    "    palette = {\n",
    "        '0': '#27187e', '1': '#758bfd', '2': '#aeb8fe', '3': '#f1f2f6', \n",
    "        '4': '#bfdbf7', '5': '#1f7a8c', '6': '#bee9e8'\n",
    "    }\n",
    ")\n",
    "plt.title('distribution of clusters in the data')\n",
    "plt.show()"
   ]
  },
  {
   "cell_type": "code",
   "execution_count": null,
   "id": "297899f7",
   "metadata": {},
   "outputs": [],
   "source": []
  },
  {
   "cell_type": "code",
   "execution_count": null,
   "id": "309be63f",
   "metadata": {},
   "outputs": [],
   "source": []
  },
  {
   "cell_type": "code",
   "execution_count": null,
   "id": "9e8c500f",
   "metadata": {},
   "outputs": [],
   "source": []
  },
  {
   "cell_type": "code",
   "execution_count": null,
   "id": "91f5b034",
   "metadata": {},
   "outputs": [],
   "source": []
  },
  {
   "cell_type": "code",
   "execution_count": null,
   "id": "a97f5277",
   "metadata": {},
   "outputs": [],
   "source": []
  },
  {
   "cell_type": "code",
   "execution_count": null,
   "id": "881d00d9",
   "metadata": {},
   "outputs": [],
   "source": []
  },
  {
   "cell_type": "code",
   "execution_count": null,
   "id": "4dae764f",
   "metadata": {},
   "outputs": [],
   "source": []
  },
  {
   "cell_type": "code",
   "execution_count": 19,
   "id": "bf8d2863",
   "metadata": {
    "ExecuteTime": {
     "end_time": "2022-08-18T12:08:55.075210Z",
     "start_time": "2022-08-18T12:08:55.071967Z"
    }
   },
   "outputs": [],
   "source": [
    "from tensorflow.keras.utils import to_categorical"
   ]
  },
  {
   "cell_type": "code",
   "execution_count": 18,
   "id": "ab03cc91",
   "metadata": {
    "ExecuteTime": {
     "end_time": "2022-08-18T12:08:43.908575Z",
     "start_time": "2022-08-18T12:08:43.905823Z"
    }
   },
   "outputs": [],
   "source": [
    "a = [3, 4, 5, 4, 4, 4]"
   ]
  },
  {
   "cell_type": "code",
   "execution_count": 18,
   "id": "654d662f",
   "metadata": {
    "ExecuteTime": {
     "end_time": "2022-08-18T12:12:08.195888Z",
     "start_time": "2022-08-18T12:12:08.191944Z"
    }
   },
   "outputs": [
    {
     "data": {
      "text/plain": [
       "array([0., 1., 2., 3., 4., 5., 6., 7., 8.])"
      ]
     },
     "execution_count": 18,
     "metadata": {},
     "output_type": "execute_result"
    }
   ],
   "source": [
    "np.unique(y)"
   ]
  },
  {
   "cell_type": "code",
   "execution_count": null,
   "id": "c32e5d8e",
   "metadata": {},
   "outputs": [],
   "source": []
  },
  {
   "cell_type": "code",
   "execution_count": null,
   "id": "9580f751",
   "metadata": {},
   "outputs": [],
   "source": []
  },
  {
   "cell_type": "code",
   "execution_count": null,
   "id": "2847bcfb",
   "metadata": {},
   "outputs": [],
   "source": []
  },
  {
   "cell_type": "code",
   "execution_count": null,
   "id": "7a0a068b",
   "metadata": {},
   "outputs": [],
   "source": []
  },
  {
   "cell_type": "code",
   "execution_count": null,
   "id": "efc8e886",
   "metadata": {},
   "outputs": [],
   "source": []
  },
  {
   "cell_type": "code",
   "execution_count": null,
   "id": "a29d105c",
   "metadata": {},
   "outputs": [],
   "source": []
  },
  {
   "cell_type": "code",
   "execution_count": null,
   "id": "89ad92a3",
   "metadata": {},
   "outputs": [],
   "source": []
  }
 ],
 "metadata": {
  "kernelspec": {
   "display_name": "Python 3 (ipykernel)",
   "language": "python",
   "name": "python3"
  },
  "language_info": {
   "codemirror_mode": {
    "name": "ipython",
    "version": 3
   },
   "file_extension": ".py",
   "mimetype": "text/x-python",
   "name": "python",
   "nbconvert_exporter": "python",
   "pygments_lexer": "ipython3",
   "version": "3.8.12"
  },
  "toc": {
   "base_numbering": 1,
   "nav_menu": {},
   "number_sections": true,
   "sideBar": true,
   "skip_h1_title": false,
   "title_cell": "Table of Contents",
   "title_sidebar": "Contents",
   "toc_cell": false,
   "toc_position": {},
   "toc_section_display": true,
   "toc_window_display": false
  }
 },
 "nbformat": 4,
 "nbformat_minor": 5
}
