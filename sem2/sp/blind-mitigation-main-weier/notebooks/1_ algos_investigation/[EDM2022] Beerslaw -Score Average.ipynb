{
 "cells": [
  {
   "cell_type": "code",
   "execution_count": 1,
   "id": "3723b8eb",
   "metadata": {
    "ExecuteTime": {
     "end_time": "2022-06-04T14:10:36.592814Z",
     "start_time": "2022-06-04T14:10:35.388442Z"
    }
   },
   "outputs": [],
   "source": [
    "import os \n",
    "import re\n",
    "import pickle\n",
    "\n",
    "import numpy as np\n",
    "import pandas as pd\n",
    "\n",
    "from sklearn.metrics import roc_auc_score"
   ]
  },
  {
   "cell_type": "markdown",
   "id": "d02c5d83",
   "metadata": {},
   "source": [
    "# Utils"
   ]
  },
  {
   "cell_type": "code",
   "execution_count": 2,
   "id": "62a6ffa6",
   "metadata": {
    "ExecuteTime": {
     "end_time": "2022-06-04T14:10:37.602829Z",
     "start_time": "2022-06-04T14:10:37.594467Z"
    }
   },
   "outputs": [],
   "source": [
    "def crawl_paths(experiment_name):\n",
    "    \"\"\"\n",
    "    Crawls the paths and gathers the configuration and results files created from the \n",
    "    \"\"\"\n",
    "    paths = []\n",
    "    for (dirpath, dirnames, filenames) in os.walk(experiment_name):\n",
    "        files = [os.path.join(dirpath, file) for file in filenames]\n",
    "        paths.extend(files)\n",
    "    configs = [path for path in paths if 'config.yaml' in path]\n",
    "    xvals = [path for path in paths if 'xval' in path and 'results' in path]\n",
    "\n",
    "    full_paths = {}        \n",
    "    date_re = re.compile('(.*202[0-9]_[0-9]+_[0-9]+_[0-9]+/)')\n",
    "    model_re = re.compile('.*logger/(.*)/')\n",
    "    fold_re = re.compile('.*f([\\-0-9]+)')\n",
    "    for config_path in configs:\n",
    "        try:\n",
    "            experiment_date_path = date_re.findall(config_path)[0]\n",
    "            exp_xvals = [xval for xval in xvals if experiment_date_path in xval]\n",
    "            full_paths[experiment_date_path] = {\n",
    "                'config': config_path,\n",
    "                'xval': exp_xvals[0],\n",
    "            }\n",
    "        except IndexError:\n",
    "            continue\n",
    "\n",
    "    return full_paths"
   ]
  },
  {
   "cell_type": "code",
   "execution_count": 3,
   "id": "1440c81f",
   "metadata": {
    "ExecuteTime": {
     "end_time": "2022-06-04T14:10:38.785283Z",
     "start_time": "2022-06-04T14:10:38.770484Z"
    }
   },
   "outputs": [],
   "source": [
    "def look_demographics(path):\n",
    "    paths_lstm = crawl_paths(path)\n",
    "\n",
    "    with open('../../data/beerslaw/features/raw/rankings.pkl', 'rb') as fp:\n",
    "        post_test = pickle.load(fp)\n",
    "        post_test = post_test.set_index('username')\n",
    "    demographics = ['gender', 'language', 'field', 'year']\n",
    "    scores = {dem: {} for dem in demographics}\n",
    "    \n",
    "    seed = re.compile('raw_full/([0-9]+\\_[0-9]+\\_[0-9]+\\_[0-9]+)/')\n",
    "    cluster_iter = re.compile('/([0-9]+\\_[0-9]+)/')\n",
    "    seed_data = {}\n",
    "    \n",
    "    for token in paths_lstm:\n",
    "        with open(paths_lstm[token]['xval'], 'rb') as fp:\n",
    "            res = pickle.load(fp)\n",
    "        try:\n",
    "            with open(paths_lstm[token]['config'], 'rb') as fp:\n",
    "                config = pickle.load(fp)\n",
    "        except pickle.UnpicklingError:\n",
    "            with open(paths_lstm[token]['config'], 'r') as fp:\n",
    "                config = yaml.load(fp, Loader=yaml.FullLoader)\n",
    "            \n",
    "        path_seed = seed.findall(token)[0] + '_' + cluster_iter.findall(token)[0]\n",
    "            \n",
    "        idd = config['id_dictionary']\n",
    "\n",
    "        test_indices = []\n",
    "        test_indexes = []\n",
    "        y_truths = []\n",
    "        y_preds = []\n",
    "        y_probas = []\n",
    "        learner_ids = []\n",
    "        genders = []\n",
    "        languages = []\n",
    "        fields = []\n",
    "        years = []\n",
    "        for fold in range(10):\n",
    "            test_indix = list(res[fold]['test_indices'])\n",
    "            test_index = list(res[fold]['test_index'])\n",
    "            x_test = [res['x'][idx] for idx in test_index]\n",
    "            longenough = [i for i in range(len(x_test)) if len(x_test[i]) > 10]\n",
    "            test_index = [test_index[i] for i in longenough]\n",
    "            \n",
    "            y_truth = [res['y'][idx] for idx in test_index]\n",
    "            y_pred = list(res[fold]['y_pred'])\n",
    "            y_pred = [y_pred[idx] for idx in longenough]\n",
    "            y_proba = list(res[fold]['y_proba'])\n",
    "            y_proba = [y_proba[idx] for idx in longenough]\n",
    "            lid = [idd['sequences'][idx]['learner_id'] for idx in test_indix]\n",
    "            lid = [lid[idx] for idx in longenough]\n",
    "            gender = [post_test.loc[liid]['gender'] for liid in lid]\n",
    "            language = [post_test.loc[liid]['language'] for liid in lid]\n",
    "            field = [post_test.loc[liid]['field'] for liid in lid]\n",
    "            year = [post_test.loc[liid]['year'] for liid in lid]\n",
    "\n",
    "            test_indices = test_indices + test_indix\n",
    "            test_indexes = test_indexes + test_index\n",
    "            y_truths = y_truths + y_truth\n",
    "            y_preds = y_preds + y_pred\n",
    "            y_probas = y_probas + y_proba\n",
    "            learner_ids = learner_ids + lid\n",
    "            genders = genders + gender\n",
    "            languages = languages + language\n",
    "            fields = fields + field\n",
    "            years = years + year\n",
    "\n",
    "        data = {\n",
    "            'y_test': y_truths,\n",
    "            'y_pred': y_preds,\n",
    "            'y_proba': y_probas,\n",
    "            'learner_ids': learner_ids,\n",
    "            'gender': genders, \n",
    "            'language': languages,\n",
    "            'field': fields,\n",
    "            'year': years\n",
    "        }\n",
    "        \n",
    "        seed_data[path_seed] = data\n",
    "    return seed_data"
   ]
  },
  {
   "cell_type": "code",
   "execution_count": 4,
   "id": "f94c163e",
   "metadata": {
    "ExecuteTime": {
     "end_time": "2022-06-04T14:10:39.732907Z",
     "start_time": "2022-06-04T14:10:39.698361Z"
    }
   },
   "outputs": [],
   "source": [
    "def true_positive(y_test, y_pred):\n",
    "    positive = [i for i in range(len(y_test)) if y_test[i] == 1]\n",
    "    yt = np.array([y_test[i] for i in positive])\n",
    "    yp = np.array([y_pred[i] for i in positive])\n",
    "    return sum(yt == yp) / len(positive)\n",
    "\n",
    "def false_positive(y_test, y_pred):\n",
    "    fpositive = [i for i in range(len(y_test)) if y_test[i] == 0]\n",
    "    yt = np.array([y_test[i] for i in fpositive])\n",
    "    yp = np.array([y_pred[i] for i in fpositive])\n",
    "    return sum(yt != yp) / len(fpositive)\n",
    "\n",
    "def pred_positive(y_test, y_pred):\n",
    "    positive = [yy for yy in y_pred if yy == 1]\n",
    "    return len(positive) / len(y_test)\n",
    "\n",
    "def pred_roc(y_test, y_pred):\n",
    "    return roc_auc_score(y_test, y_pred)\n",
    "    \n",
    "def print_equalised_odds_summary_per_demo(seed_data, demographics): \n",
    "    seed_list = list(seed_data.keys())\n",
    "    demographics_list = np.unique(seed_data[seed_list[0]][demographics])\n",
    "    \n",
    "    demo_seeds = {}\n",
    "    demos = []\n",
    "    for demo in demographics_list:\n",
    "        demos.append(demo)\n",
    "        demo_seeds[demo] = {}\n",
    "        seed_tps = []\n",
    "        seed_fps = []\n",
    "        seed_pps = []\n",
    "        seed_rocs = []\n",
    "        for seed in seed_data:\n",
    "            demo_indices = [i for i in range(len(seed_data[seed][demographics])) if seed_data[seed][demographics][i] == demo]\n",
    "            demo_ytest = [seed_data[seed]['y_test'][i] for i in demo_indices]\n",
    "            demo_ypred = [seed_data[seed]['y_pred'][i] for i in demo_indices]\n",
    "            tp = true_positive(demo_ytest, demo_ypred)\n",
    "            fp = false_positive(demo_ytest, demo_ypred)\n",
    "            pp = pred_positive(demo_ytest, demo_ypred)\n",
    "            roc = pred_roc(demo_ytest, demo_ypred)\n",
    "            seed_tps.append(tp)\n",
    "            seed_fps.append(fp)\n",
    "            seed_pps.append(pp)\n",
    "            seed_rocs.append(roc)\n",
    "            \n",
    "            demo_seeds[demo][seed] = {\n",
    "                'tp': tp,\n",
    "                'fp': fp,\n",
    "                'pp': pp,\n",
    "                'roc': roc\n",
    "            }\n",
    "\n",
    "        demo_seeds[demo]['tps'] = np.mean(seed_tps)\n",
    "        demo_seeds[demo]['fps'] = np.mean(seed_fps)\n",
    "        demo_seeds[demo]['pps'] = np.mean(seed_pps)\n",
    "        demo_seeds[demo]['rocs'] = np.mean(seed_rocs)\n",
    "        \n",
    "    demos, tps, fps, pps, rocs = [], [], [], [], []\n",
    "    for demo in demo_seeds:\n",
    "        demos.append(demo)\n",
    "        tps.append(demo_seeds[demo]['tps'])\n",
    "        fps.append(demo_seeds[demo]['fps'])\n",
    "        pps.append(demo_seeds[demo]['pps'])\n",
    "        rocs.append(demo_seeds[demo]['rocs'])\n",
    "        print('  attribute: {} ({})'.format(demo, len(demo_indices)))\n",
    "        print('      tp: {}\\n      fp: {}\\n      pp: {}\\n      roc: {}\\n'.format(\n",
    "            demo_seeds[demo]['tps'],\n",
    "            demo_seeds[demo]['fps'],\n",
    "            demo_seeds[demo]['pps'],\n",
    "            demo_seeds[demo]['rocs']\n",
    "        ))\n",
    "            \n",
    "        \n",
    "        \n",
    "    print('  Sorted by True Positive')\n",
    "    pos_indices = np.argsort(tps)\n",
    "    demos = [demos[idx] for idx in pos_indices]\n",
    "    sorted_tps = [tps[idx] for idx in pos_indices]\n",
    "    print_tps = ['{} ({})'.format(demos[i], sorted_tps[i]) for i in range(len(demos))]\n",
    "    print('     ', print_tps)\n",
    "    print()\n",
    "    \n",
    "    print('  Sorted by False Positives')\n",
    "    neg_indices = np.argsort(fps)\n",
    "    demos = [demos[idx] for idx in neg_indices]\n",
    "    sorted_tns = [tps[idx] for idx in neg_indices]\n",
    "    print_tps = ['{} ({})'.format(demos[i], sorted_tps[i]) for i in range(len(demos))]\n",
    "    print('     ', print_tps)\n",
    "    print()\n",
    "    \n",
    "    print('  Sorted by Predicted Positive')\n",
    "    pps_indices = np.argsort(pps)\n",
    "    demos = [demos[idx] for idx in pps_indices]\n",
    "    sorted_pps = [pps[idx] for idx in pps_indices]\n",
    "    print_pps = ['{} ({})'.format(demos[i], sorted_pps[i]) for i in range(len(demos))]\n",
    "    print('     ', print_pps)\n",
    "    print()\n",
    "    \n",
    "    print('  Sorted by ROC')\n",
    "    rocs_indices = np.argsort(rocs)\n",
    "    demos = [demos[idx] for idx in rocs_indices]\n",
    "    sorted_rocs = [rocs[idx] for idx in rocs_indices]\n",
    "    print_rocs = ['{} ({})'.format(demos[i], sorted_rocs[i]) for i in range(len(demos))]\n",
    "    print('     ', print_rocs)\n",
    "    print()\n",
    "    \n",
    "def print_equalised_odds_summary(seed_data):\n",
    "    for demographics in ['gender', 'language', 'field', 'year']:\n",
    "        print('='*100)\n",
    "        print('ATTRIBUTE: {}'.format(demographics))\n",
    "        print_equalised_odds_summary_per_demo(seed_data, demographics)\n",
    "        print()\n",
    "        print()\n",
    "        \n",
    "def average_across_seeds(seed_data):\n",
    "    seeds = list(seed_data.keys())\n",
    "    ypreds = []\n",
    "    yprobas = []\n",
    "    ytests = []\n",
    "    genders = []\n",
    "    languages = []\n",
    "    fields = []\n",
    "    years = []\n",
    "    lids = []\n",
    "    for learner_id in seed_data[seeds[0]]['learner_ids']:\n",
    "        ypred = np.sum([seed_data[seed]['y_pred'][seed_data[seed]['learner_ids'].index(learner_id)] for seed in seeds])\n",
    "        ypred /= len(seeds)\n",
    "        ypred = int(ypred)\n",
    "        ypreds.append(ypred)\n",
    "        \n",
    "        yproba = np.sum([seed_data[seed]['y_proba'][seed_data[seed]['learner_ids'].index(learner_id)] for seed in seeds])\n",
    "        yproba /= len(seeds)\n",
    "        yprobas.append(yproba)\n",
    "        \n",
    "        ytests.append(seed_data[seeds[0]]['y_test'][seed_data[seeds[0]]['learner_ids'].index(learner_id)])\n",
    "        genders.append(seed_data[seeds[0]]['gender'][seed_data[seeds[0]]['learner_ids'].index(learner_id)])\n",
    "        languages.append(seed_data[seeds[0]]['language'][seed_data[seeds[0]]['learner_ids'].index(learner_id)])\n",
    "        fields.append(seed_data[seeds[0]]['field'][seed_data[seeds[0]]['learner_ids'].index(learner_id)])\n",
    "        years.append(seed_data[seeds[0]]['year'][seed_data[seeds[0]]['learner_ids'].index(learner_id)])\n",
    "        lids.append(learner_id)\n",
    "        \n",
    "    seed_data['all_data'] = {\n",
    "        'y_test': ytests,\n",
    "        'y_pred': ypreds,\n",
    "        'y_proba': yprobas,\n",
    "        'learner_ids': lids,\n",
    "        'gender': genders, \n",
    "        'language': languages,\n",
    "        'field': fields,\n",
    "        'year': years\n",
    "    }\n",
    "    return seed_data\n",
    "        \n",
    "        \n",
    "\n"
   ]
  },
  {
   "cell_type": "code",
   "execution_count": 7,
   "id": "4dc97cac",
   "metadata": {
    "ExecuteTime": {
     "end_time": "2022-06-02T14:36:49.901976Z",
     "start_time": "2022-06-02T14:36:37.037920Z"
    },
    "scrolled": false
   },
   "outputs": [
    {
     "name": "stdout",
     "output_type": "stream",
     "text": [
      "====================================================================================================\n",
      "ATTRIBUTE: gender\n",
      "  attribute: 1 (7)\n",
      "      tp: 0.613030303030303\n",
      "      fp: 0.16437500000000002\n",
      "      pp: 0.3471604938271605\n",
      "      roc: 0.7243276515151515\n",
      "\n",
      "  attribute: 2 (7)\n",
      "      tp: 0.6028301886792452\n",
      "      fp: 0.24545454545454543\n",
      "      pp: 0.4208333333333334\n",
      "      roc: 0.6786878216123499\n",
      "\n",
      "  attribute: 3 (7)\n",
      "      tp: 0.0\n",
      "      fp: 0.10555555555555554\n",
      "      pp: 0.07916666666666666\n",
      "      roc: 0.44722222222222224\n",
      "\n",
      "  attribute: 4 (7)\n",
      "      tp: 0.5166666666666667\n",
      "      fp: 0.046666666666666676\n",
      "      pp: 0.18095238095238095\n",
      "      roc: 0.735\n",
      "\n",
      "  Sorted by True Positive\n",
      "      ['3 (0.0)', '4 (0.5166666666666667)', '2 (0.6028301886792452)', '1 (0.613030303030303)']\n",
      "\n",
      "  Sorted by False Positives\n",
      "      ['1 (0.0)', '2 (0.5166666666666667)', '3 (0.6028301886792452)', '4 (0.613030303030303)']\n",
      "\n",
      "  Sorted by Predicted Positive\n",
      "      ['3 (0.07916666666666666)', '4 (0.18095238095238095)', '1 (0.3471604938271605)', '2 (0.4208333333333334)']\n",
      "\n",
      "  Sorted by ROC\n",
      "      ['1 (0.44722222222222224)', '4 (0.6786878216123499)', '3 (0.7243276515151515)', '2 (0.735)']\n",
      "\n",
      "\n",
      "\n",
      "====================================================================================================\n",
      "ATTRIBUTE: language\n",
      "  attribute: Deutsch (76)\n",
      "      tp: 0.6376016260162601\n",
      "      fp: 0.1756944444444445\n",
      "      pp: 0.38848314606741574\n",
      "      roc: 0.7309535907859079\n",
      "\n",
      "  attribute: Français (76)\n",
      "      tp: 0.49712643678160917\n",
      "      fp: 0.21985815602836883\n",
      "      pp: 0.32565789473684215\n",
      "      roc: 0.6386341403766203\n",
      "\n",
      "  Sorted by True Positive\n",
      "      ['Français (0.49712643678160917)', 'Deutsch (0.6376016260162601)']\n",
      "\n",
      "  Sorted by False Positives\n",
      "      ['Français (0.49712643678160917)', 'Deutsch (0.6376016260162601)']\n",
      "\n",
      "  Sorted by Predicted Positive\n",
      "      ['Deutsch (0.32565789473684215)', 'Français (0.38848314606741574)']\n",
      "\n",
      "  Sorted by ROC\n",
      "      ['Français (0.6386341403766203)', 'Deutsch (0.7309535907859079)']\n",
      "\n",
      "\n",
      "\n",
      "====================================================================================================\n",
      "ATTRIBUTE: field\n",
      "  attribute: Biology (12)\n",
      "      tp: 0.838095238095238\n",
      "      fp: 0.11944444444444444\n",
      "      pp: 0.3206666666666667\n",
      "      roc: 0.859325396825397\n",
      "\n",
      "  attribute: Chemistry (12)\n",
      "      tp: 0.546\n",
      "      fp: 0.188235294117647\n",
      "      pp: 0.35593749999999996\n",
      "      roc: 0.6788823529411765\n",
      "\n",
      "  attribute: Chemistry, Textiles (12)\n",
      "      tp: 0.6993827160493827\n",
      "      fp: 0.32133333333333336\n",
      "      pp: 0.5176282051282052\n",
      "      roc: 0.6890246913580248\n",
      "\n",
      "  attribute: Fast track (12)\n",
      "      tp: 0.0\n",
      "      fp: 0.25416666666666665\n",
      "      pp: 0.2033333333333333\n",
      "      roc: 0.3729166666666667\n",
      "\n",
      "  attribute: Pharma Chemistry (12)\n",
      "      tp: 1.0\n",
      "      fp: 0.0\n",
      "      pp: 0.0833333333333333\n",
      "      roc: 1.0\n",
      "\n",
      "  Sorted by True Positive\n",
      "      ['Fast track (0.0)', 'Chemistry (0.546)', 'Chemistry, Textiles (0.6993827160493827)', 'Biology (0.838095238095238)', 'Pharma Chemistry (1.0)']\n",
      "\n",
      "  Sorted by False Positives\n",
      "      ['Pharma Chemistry (0.0)', 'Fast track (0.546)', 'Chemistry (0.6993827160493827)', 'Biology (0.838095238095238)', 'Chemistry, Textiles (1.0)']\n",
      "\n",
      "  Sorted by Predicted Positive\n",
      "      ['Chemistry, Textiles (0.0833333333333333)', 'Biology (0.2033333333333333)', 'Pharma Chemistry (0.3206666666666667)', 'Fast track (0.35593749999999996)', 'Chemistry (0.5176282051282052)']\n",
      "\n",
      "  Sorted by ROC\n",
      "      ['Fast track (0.3729166666666667)', 'Biology (0.6788823529411765)', 'Pharma Chemistry (0.6890246913580248)', 'Chemistry, Textiles (0.859325396825397)', 'Chemistry (1.0)']\n",
      "\n",
      "\n",
      "\n",
      "====================================================================================================\n",
      "ATTRIBUTE: year\n",
      "  attribute: 1st (49)\n",
      "      tp: 0.5632352941176472\n",
      "      fp: 0.2195767195767195\n",
      "      pp: 0.34003436426116834\n",
      "      roc: 0.6718292872704639\n",
      "\n",
      "  attribute: 2nd (49)\n",
      "      tp: 0.5722222222222222\n",
      "      fp: 0.2011111111111111\n",
      "      pp: 0.36604938271604937\n",
      "      roc: 0.6855555555555556\n",
      "\n",
      "  attribute: 3rd (49)\n",
      "      tp: 0.692528735632184\n",
      "      fp: 0.06499999999999999\n",
      "      pp: 0.4363945578231292\n",
      "      roc: 0.8137643678160918\n",
      "\n",
      "  Sorted by True Positive\n",
      "      ['1st (0.5632352941176472)', '2nd (0.5722222222222222)', '3rd (0.692528735632184)']\n",
      "\n",
      "  Sorted by False Positives\n",
      "      ['3rd (0.5632352941176472)', '2nd (0.5722222222222222)', '1st (0.692528735632184)']\n",
      "\n",
      "  Sorted by Predicted Positive\n",
      "      ['3rd (0.34003436426116834)', '2nd (0.36604938271604937)', '1st (0.4363945578231292)']\n",
      "\n",
      "  Sorted by ROC\n",
      "      ['3rd (0.6718292872704639)', '2nd (0.6855555555555556)', '1st (0.8137643678160918)']\n",
      "\n",
      "\n",
      "\n"
     ]
    }
   ],
   "source": [
    "path = '../../data/beerslaw/algos_results/lstm'\n",
    "seed_data = look_demographics(path)\n",
    "eo = print_equalised_odds_summary(seed_data)"
   ]
  },
  {
   "cell_type": "code",
   "execution_count": 12,
   "id": "b0a30223",
   "metadata": {
    "ExecuteTime": {
     "end_time": "2022-06-02T14:42:49.401991Z",
     "start_time": "2022-06-02T14:42:49.336243Z"
    }
   },
   "outputs": [
    {
     "name": "stdout",
     "output_type": "stream",
     "text": [
      "0.7587874587874589\n"
     ]
    }
   ],
   "source": [
    "rocs = []\n",
    "for key in seed_data:\n",
    "    r = roc_auc_score(seed_data[key]['y_test'], [rr[1] for rr in seed_data[key]['y_proba']])\n",
    "    rocs.append(r)\n",
    "print(np.mean(rocs))"
   ]
  },
  {
   "cell_type": "code",
   "execution_count": 13,
   "id": "16aa9c5f",
   "metadata": {
    "ExecuteTime": {
     "end_time": "2022-06-02T14:43:44.532574Z",
     "start_time": "2022-06-02T14:43:32.066068Z"
    },
    "scrolled": false
   },
   "outputs": [
    {
     "name": "stdout",
     "output_type": "stream",
     "text": [
      "====================================================================================================\n",
      "ATTRIBUTE: gender\n",
      "  attribute: 1 (7)\n",
      "      tp: 0.6057575757575756\n",
      "      fp: 0.21187499999999998\n",
      "      pp: 0.37234567901234567\n",
      "      roc: 0.6969412878787878\n",
      "\n",
      "  attribute: 2 (7)\n",
      "      tp: 0.6069182389937107\n",
      "      fp: 0.27909090909090906\n",
      "      pp: 0.4399691358024692\n",
      "      roc: 0.663913664951401\n",
      "\n",
      "  attribute: 3 (7)\n",
      "      tp: 0.0\n",
      "      fp: 0.5777777777777776\n",
      "      pp: 0.43333333333333335\n",
      "      roc: 0.2111111111111111\n",
      "\n",
      "  attribute: 4 (7)\n",
      "      tp: 0.625\n",
      "      fp: 0.09333333333333334\n",
      "      pp: 0.24523809523809523\n",
      "      roc: 0.7658333333333334\n",
      "\n",
      "  Sorted by True Positive\n",
      "      ['3 (0.0)', '1 (0.6057575757575756)', '2 (0.6069182389937107)', '4 (0.625)']\n",
      "\n",
      "  Sorted by False Positives\n",
      "      ['4 (0.0)', '3 (0.6057575757575756)', '1 (0.6069182389937107)', '2 (0.625)']\n",
      "\n",
      "  Sorted by Predicted Positive\n",
      "      ['2 (0.24523809523809523)', '4 (0.37234567901234567)', '1 (0.43333333333333335)', '3 (0.4399691358024692)']\n",
      "\n",
      "  Sorted by ROC\n",
      "      ['1 (0.2111111111111111)', '4 (0.663913664951401)', '2 (0.6969412878787878)', '3 (0.7658333333333334)']\n",
      "\n",
      "\n",
      "\n",
      "====================================================================================================\n",
      "ATTRIBUTE: language\n",
      "  attribute: Deutsch (76)\n",
      "      tp: 0.6302845528455284\n",
      "      fp: 0.20399305555555555\n",
      "      pp: 0.40037453183520594\n",
      "      roc: 0.7131457486449866\n",
      "\n",
      "  attribute: Français (76)\n",
      "      tp: 0.5189655172413794\n",
      "      fp: 0.3173758865248227\n",
      "      pp: 0.3942982456140351\n",
      "      roc: 0.6007948153582781\n",
      "\n",
      "  Sorted by True Positive\n",
      "      ['Français (0.5189655172413794)', 'Deutsch (0.6302845528455284)']\n",
      "\n",
      "  Sorted by False Positives\n",
      "      ['Français (0.5189655172413794)', 'Deutsch (0.6302845528455284)']\n",
      "\n",
      "  Sorted by Predicted Positive\n",
      "      ['Deutsch (0.3942982456140351)', 'Français (0.40037453183520594)']\n",
      "\n",
      "  Sorted by ROC\n",
      "      ['Français (0.6007948153582781)', 'Deutsch (0.7131457486449866)']\n",
      "\n",
      "\n",
      "\n",
      "====================================================================================================\n",
      "ATTRIBUTE: field\n",
      "  attribute: Biology (12)\n",
      "      tp: 0.8380952380952377\n",
      "      fp: 0.20092592592592587\n",
      "      pp: 0.3793333333333333\n",
      "      roc: 0.8185846560846559\n",
      "\n",
      "  attribute: Chemistry (12)\n",
      "      tp: 0.5366666666666666\n",
      "      fp: 0.22725490196078427\n",
      "      pp: 0.3722916666666667\n",
      "      roc: 0.654705882352941\n",
      "\n",
      "  attribute: Chemistry, Textiles (12)\n",
      "      tp: 0.7265432098765431\n",
      "      fp: 0.39999999999999997\n",
      "      pp: 0.569551282051282\n",
      "      roc: 0.6632716049382716\n",
      "\n",
      "  attribute: Fast track (12)\n",
      "      tp: 0.0\n",
      "      fp: 0.39166666666666666\n",
      "      pp: 0.31333333333333324\n",
      "      roc: 0.30416666666666664\n",
      "\n",
      "  attribute: Pharma Chemistry (12)\n",
      "      tp: 1.0\n",
      "      fp: 0.0\n",
      "      pp: 0.0833333333333333\n",
      "      roc: 1.0\n",
      "\n",
      "  Sorted by True Positive\n",
      "      ['Fast track (0.0)', 'Chemistry (0.5366666666666666)', 'Chemistry, Textiles (0.7265432098765431)', 'Biology (0.8380952380952377)', 'Pharma Chemistry (1.0)']\n",
      "\n",
      "  Sorted by False Positives\n",
      "      ['Pharma Chemistry (0.0)', 'Fast track (0.5366666666666666)', 'Chemistry (0.7265432098765431)', 'Biology (0.8380952380952377)', 'Chemistry, Textiles (1.0)']\n",
      "\n",
      "  Sorted by Predicted Positive\n",
      "      ['Chemistry, Textiles (0.0833333333333333)', 'Biology (0.31333333333333324)', 'Fast track (0.3722916666666667)', 'Pharma Chemistry (0.3793333333333333)', 'Chemistry (0.569551282051282)']\n",
      "\n",
      "  Sorted by ROC\n",
      "      ['Pharma Chemistry (0.30416666666666664)', 'Biology (0.654705882352941)', 'Fast track (0.6632716049382716)', 'Chemistry, Textiles (0.8185846560846559)', 'Chemistry (1.0)']\n",
      "\n",
      "\n",
      "\n",
      "====================================================================================================\n",
      "ATTRIBUTE: year\n",
      "  attribute: 1st (49)\n",
      "      tp: 0.5504901960784314\n",
      "      fp: 0.2568783068783068\n",
      "      pp: 0.3597938144329896\n",
      "      roc: 0.6468059446000624\n",
      "\n",
      "  attribute: 2nd (49)\n",
      "      tp: 0.5815972222222221\n",
      "      fp: 0.2652777777777778\n",
      "      pp: 0.40586419753086417\n",
      "      roc: 0.6581597222222224\n",
      "\n",
      "  attribute: 3rd (49)\n",
      "      tp: 0.6931034482758621\n",
      "      fp: 0.12000000000000002\n",
      "      pp: 0.45918367346938777\n",
      "      roc: 0.7865517241379311\n",
      "\n",
      "  Sorted by True Positive\n",
      "      ['1st (0.5504901960784314)', '2nd (0.5815972222222221)', '3rd (0.6931034482758621)']\n",
      "\n",
      "  Sorted by False Positives\n",
      "      ['3rd (0.5504901960784314)', '1st (0.5815972222222221)', '2nd (0.6931034482758621)']\n",
      "\n",
      "  Sorted by Predicted Positive\n",
      "      ['3rd (0.3597938144329896)', '1st (0.40586419753086417)', '2nd (0.45918367346938777)']\n",
      "\n",
      "  Sorted by ROC\n",
      "      ['3rd (0.6468059446000624)', '1st (0.6581597222222224)', '2nd (0.7865517241379311)']\n",
      "\n",
      "\n",
      "\n"
     ]
    }
   ],
   "source": [
    "path = '../../data/beerslaw/algos_results/ts_attention/'\n",
    "seed_data = look_demographics(path)\n",
    "eo = print_equalised_odds_summary(seed_data)"
   ]
  },
  {
   "cell_type": "code",
   "execution_count": 15,
   "id": "d85a640e",
   "metadata": {
    "ExecuteTime": {
     "end_time": "2022-06-02T14:44:48.959532Z",
     "start_time": "2022-06-02T14:44:48.895752Z"
    }
   },
   "outputs": [
    {
     "name": "stdout",
     "output_type": "stream",
     "text": [
      "0.7519414519414519\n"
     ]
    }
   ],
   "source": [
    "rocs = []\n",
    "for key in seed_data:\n",
    "    r = roc_auc_score(seed_data[key]['y_test'], [rr[1] for rr in seed_data[key]['y_proba']])\n",
    "    rocs.append(r)\n",
    "print(np.mean(rocs))"
   ]
  },
  {
   "cell_type": "code",
   "execution_count": 14,
   "id": "066d0bae",
   "metadata": {
    "ExecuteTime": {
     "end_time": "2022-06-02T14:43:44.564754Z",
     "start_time": "2022-06-02T14:43:44.535347Z"
    }
   },
   "outputs": [
    {
     "ename": "FileNotFoundError",
     "evalue": "[Errno 2] No such file or directory: '../../data/beerslaw/algos_results/ts_attention/simplestate_secondslstm/binconcepts/ts_attention/raw_full/2022_03_02_0/config.yaml'",
     "output_type": "error",
     "traceback": [
      "\u001b[0;31m---------------------------------------------------------------------------\u001b[0m",
      "\u001b[0;31mFileNotFoundError\u001b[0m                         Traceback (most recent call last)",
      "\u001b[0;32m/var/folders/jy/0pp1md9x1358dt8g8k69srhr0000gp/T/ipykernel_59871/1266518200.py\u001b[0m in \u001b[0;36m<module>\u001b[0;34m\u001b[0m\n\u001b[1;32m      1\u001b[0m \u001b[0;32mimport\u001b[0m \u001b[0myaml\u001b[0m\u001b[0;34m\u001b[0m\u001b[0;34m\u001b[0m\u001b[0m\n\u001b[1;32m      2\u001b[0m \u001b[0myaml_path\u001b[0m \u001b[0;34m=\u001b[0m \u001b[0;34m'../../data/beerslaw/algos_results/ts_attention/simplestate_secondslstm/binconcepts/ts_attention/raw_full/2022_03_02_0/config.yaml'\u001b[0m\u001b[0;34m\u001b[0m\u001b[0;34m\u001b[0m\u001b[0m\n\u001b[0;32m----> 3\u001b[0;31m \u001b[0;32mwith\u001b[0m \u001b[0mopen\u001b[0m\u001b[0;34m(\u001b[0m\u001b[0myaml_path\u001b[0m\u001b[0;34m,\u001b[0m \u001b[0;34m'r'\u001b[0m\u001b[0;34m)\u001b[0m \u001b[0;32mas\u001b[0m \u001b[0mfp\u001b[0m\u001b[0;34m:\u001b[0m\u001b[0;34m\u001b[0m\u001b[0;34m\u001b[0m\u001b[0m\n\u001b[0m\u001b[1;32m      4\u001b[0m     \u001b[0myy\u001b[0m \u001b[0;34m=\u001b[0m \u001b[0myaml\u001b[0m\u001b[0;34m.\u001b[0m\u001b[0mload\u001b[0m\u001b[0;34m(\u001b[0m\u001b[0mfp\u001b[0m\u001b[0;34m,\u001b[0m \u001b[0mLoader\u001b[0m\u001b[0;34m=\u001b[0m\u001b[0myaml\u001b[0m\u001b[0;34m.\u001b[0m\u001b[0mFullLoader\u001b[0m\u001b[0;34m)\u001b[0m\u001b[0;34m\u001b[0m\u001b[0;34m\u001b[0m\u001b[0m\n",
      "\u001b[0;31mFileNotFoundError\u001b[0m: [Errno 2] No such file or directory: '../../data/beerslaw/algos_results/ts_attention/simplestate_secondslstm/binconcepts/ts_attention/raw_full/2022_03_02_0/config.yaml'"
     ]
    }
   ],
   "source": [
    "import yaml\n",
    "yaml_path = '../../data/beerslaw/algos_results/ts_attention/simplestate_secondslstm/binconcepts/ts_attention/raw_full/2022_03_02_0/config.yaml'\n",
    "with open(yaml_path, 'r') as fp:\n",
    "    yy = yaml.load(fp, Loader=yaml.FullLoader)"
   ]
  },
  {
   "cell_type": "code",
   "execution_count": 38,
   "id": "3dcca49f",
   "metadata": {
    "ExecuteTime": {
     "end_time": "2022-05-26T22:56:20.157119Z",
     "start_time": "2022-05-26T22:56:20.153443Z"
    }
   },
   "outputs": [
    {
     "data": {
      "text/plain": [
       "dict_keys(['2022_03_03_7_15_30', '2022_03_03_0_15_30', '2022_03_03_9_15_30', '2022_03_03_11_15_30', '2022_03_03_8_15_30', '2022_03_03_1_15_30', '2022_03_03_6_15_30', '2022_03_03_10_15_30', '2022_03_03_12_15_30', '2022_03_03_3_15_30', '2022_03_03_4_15_30', '2022_03_03_14_15_30', '2022_03_03_13_15_30', '2022_03_03_5_15_30', '2022_03_03_2_15_30', '2022_03_03_7_45_61', '2022_03_03_0_45_61', '2022_03_03_9_45_61', '2022_03_03_11_45_61', '2022_03_03_8_45_61', '2022_03_03_1_45_61', '2022_03_03_6_45_61', '2022_03_03_10_45_61', '2022_03_03_12_45_61', '2022_03_03_15_45_61', '2022_03_03_3_45_61', '2022_03_03_4_45_61', '2022_03_03_14_45_61', '2022_03_03_13_45_61', '2022_03_03_5_45_61', '2022_03_03_2_45_61', '2022_03_03_7_30_45', '2022_03_03_0_30_45', '2022_03_03_9_30_45', '2022_03_03_11_30_45', '2022_03_03_8_30_45', '2022_03_03_1_30_45', '2022_03_03_6_30_45', '2022_03_03_10_30_45', '2022_03_03_12_30_45', '2022_03_03_3_30_45', '2022_03_03_4_30_45', '2022_03_03_14_30_45', '2022_03_03_13_30_45', '2022_03_03_5_30_45', '2022_03_03_2_30_45', '2022_03_03_7_1_15', '2022_03_03_0_1_15', '2022_03_03_9_1_15', '2022_03_03_11_1_15', '2022_03_03_8_1_15', '2022_03_03_1_1_15', '2022_03_03_6_1_15', '2022_03_03_10_1_15', '2022_03_03_12_1_15', '2022_03_03_3_1_15', '2022_03_03_4_1_15', '2022_03_03_13_1_15', '2022_03_03_5_1_15', '2022_03_03_2_1_15', 'all_data'])"
      ]
     },
     "execution_count": 38,
     "metadata": {},
     "output_type": "execute_result"
    }
   ],
   "source": [
    "seed_data.keys()"
   ]
  },
  {
   "cell_type": "code",
   "execution_count": 37,
   "id": "0685a8d9",
   "metadata": {
    "ExecuteTime": {
     "end_time": "2022-05-26T22:55:56.372755Z",
     "start_time": "2022-05-26T22:55:56.367372Z"
    }
   },
   "outputs": [
    {
     "data": {
      "text/plain": [
       "0.5035595035595035"
      ]
     },
     "execution_count": 37,
     "metadata": {},
     "output_type": "execute_result"
    }
   ],
   "source": [
    "roc_auc_score(seed_data['all_data']['y_test'], seed_data['all_data']['y_proba'])"
   ]
  },
  {
   "cell_type": "code",
   "execution_count": 40,
   "id": "fa87f88b",
   "metadata": {
    "ExecuteTime": {
     "end_time": "2022-05-26T22:56:58.479122Z",
     "start_time": "2022-05-26T22:56:58.473730Z"
    }
   },
   "outputs": [
    {
     "data": {
      "text/plain": [
       "0.7484407484407485"
      ]
     },
     "execution_count": 40,
     "metadata": {},
     "output_type": "execute_result"
    }
   ],
   "source": [
    "roc_auc_score(seed_data['2022_03_03_7_15_30']['y_test'], [yp[1] for yp in seed_data['2022_03_03_7_15_30']['y_proba']])"
   ]
  },
  {
   "cell_type": "code",
   "execution_count": 6,
   "id": "e44f56ba",
   "metadata": {
    "ExecuteTime": {
     "end_time": "2022-05-17T11:32:22.009312Z",
     "start_time": "2022-05-17T11:32:22.005624Z"
    }
   },
   "outputs": [
    {
     "data": {
      "text/plain": [
       "dict_keys(['60', '69', '5', '3', '75', '16', '64', '0', '96'])"
      ]
     },
     "execution_count": 6,
     "metadata": {},
     "output_type": "execute_result"
    }
   ],
   "source": [
    "seed_data.keys()"
   ]
  },
  {
   "cell_type": "code",
   "execution_count": 7,
   "id": "084e26bf",
   "metadata": {
    "ExecuteTime": {
     "end_time": "2022-05-17T11:32:27.008053Z",
     "start_time": "2022-05-17T11:32:27.004000Z"
    }
   },
   "outputs": [
    {
     "data": {
      "text/plain": [
       "dict_keys(['y_test', 'y_pred', 'y_proba', 'learner_ids', 'gender', 'language', 'field', 'year'])"
      ]
     },
     "execution_count": 7,
     "metadata": {},
     "output_type": "execute_result"
    }
   ],
   "source": [
    "seed_data['60'].keys()"
   ]
  },
  {
   "cell_type": "code",
   "execution_count": 69,
   "id": "cd800bf3",
   "metadata": {
    "ExecuteTime": {
     "end_time": "2022-05-17T12:13:57.586136Z",
     "start_time": "2022-05-17T12:13:57.582247Z"
    }
   },
   "outputs": [
    {
     "data": {
      "text/plain": [
       "3"
      ]
     },
     "execution_count": 69,
     "metadata": {},
     "output_type": "execute_result"
    }
   ],
   "source": [
    "seed_data['60']['learner_ids'].index('2hr6mkdc')"
   ]
  },
  {
   "cell_type": "code",
   "execution_count": 5,
   "id": "b2474339",
   "metadata": {
    "ExecuteTime": {
     "end_time": "2022-06-04T14:50:44.599404Z",
     "start_time": "2022-06-04T14:50:44.596878Z"
    }
   },
   "outputs": [],
   "source": [
    "a = ['1', 3, 4]"
   ]
  },
  {
   "cell_type": "code",
   "execution_count": 7,
   "id": "daff3291",
   "metadata": {
    "ExecuteTime": {
     "end_time": "2022-06-04T14:50:51.207944Z",
     "start_time": "2022-06-04T14:50:51.205687Z"
    }
   },
   "outputs": [],
   "source": [
    "a.remove(3)"
   ]
  },
  {
   "cell_type": "code",
   "execution_count": 8,
   "id": "477cb154",
   "metadata": {
    "ExecuteTime": {
     "end_time": "2022-06-04T14:50:52.066825Z",
     "start_time": "2022-06-04T14:50:52.059074Z"
    }
   },
   "outputs": [
    {
     "data": {
      "text/plain": [
       "['1', 4]"
      ]
     },
     "execution_count": 8,
     "metadata": {},
     "output_type": "execute_result"
    }
   ],
   "source": [
    "a"
   ]
  },
  {
   "cell_type": "code",
   "execution_count": null,
   "id": "1a6bba3e",
   "metadata": {},
   "outputs": [],
   "source": []
  },
  {
   "cell_type": "code",
   "execution_count": null,
   "id": "71ed6f96",
   "metadata": {},
   "outputs": [],
   "source": []
  },
  {
   "cell_type": "code",
   "execution_count": null,
   "id": "c158e19a",
   "metadata": {},
   "outputs": [],
   "source": []
  },
  {
   "cell_type": "code",
   "execution_count": null,
   "id": "79a366b3",
   "metadata": {},
   "outputs": [],
   "source": []
  },
  {
   "cell_type": "code",
   "execution_count": null,
   "id": "116c442b",
   "metadata": {},
   "outputs": [],
   "source": []
  },
  {
   "cell_type": "code",
   "execution_count": null,
   "id": "cdd6f49d",
   "metadata": {},
   "outputs": [],
   "source": []
  },
  {
   "cell_type": "code",
   "execution_count": null,
   "id": "7b17ed94",
   "metadata": {},
   "outputs": [],
   "source": []
  },
  {
   "cell_type": "code",
   "execution_count": null,
   "id": "2b4662e0",
   "metadata": {},
   "outputs": [],
   "source": []
  },
  {
   "cell_type": "code",
   "execution_count": null,
   "id": "9ae5140e",
   "metadata": {},
   "outputs": [],
   "source": []
  },
  {
   "cell_type": "code",
   "execution_count": null,
   "id": "5421cf39",
   "metadata": {},
   "outputs": [],
   "source": []
  },
  {
   "cell_type": "code",
   "execution_count": null,
   "id": "bed65d3e",
   "metadata": {},
   "outputs": [],
   "source": []
  },
  {
   "cell_type": "code",
   "execution_count": null,
   "id": "600ca199",
   "metadata": {},
   "outputs": [],
   "source": []
  },
  {
   "cell_type": "code",
   "execution_count": null,
   "id": "5619ea35",
   "metadata": {},
   "outputs": [],
   "source": []
  },
  {
   "cell_type": "code",
   "execution_count": null,
   "id": "c0cde101",
   "metadata": {},
   "outputs": [],
   "source": []
  },
  {
   "cell_type": "code",
   "execution_count": null,
   "id": "e14fb965",
   "metadata": {},
   "outputs": [],
   "source": []
  },
  {
   "cell_type": "code",
   "execution_count": null,
   "id": "ceb96e2a",
   "metadata": {},
   "outputs": [],
   "source": []
  },
  {
   "cell_type": "code",
   "execution_count": null,
   "id": "01366cce",
   "metadata": {},
   "outputs": [],
   "source": []
  },
  {
   "cell_type": "code",
   "execution_count": null,
   "id": "40ab81d2",
   "metadata": {},
   "outputs": [],
   "source": []
  },
  {
   "cell_type": "code",
   "execution_count": null,
   "id": "82d2141d",
   "metadata": {},
   "outputs": [],
   "source": []
  },
  {
   "cell_type": "code",
   "execution_count": null,
   "id": "cdc3301e",
   "metadata": {},
   "outputs": [],
   "source": []
  }
 ],
 "metadata": {
  "kernelspec": {
   "display_name": "Python 3 (ipykernel)",
   "language": "python",
   "name": "python3"
  },
  "language_info": {
   "codemirror_mode": {
    "name": "ipython",
    "version": 3
   },
   "file_extension": ".py",
   "mimetype": "text/x-python",
   "name": "python",
   "nbconvert_exporter": "python",
   "pygments_lexer": "ipython3",
   "version": "3.8.12"
  },
  "toc": {
   "base_numbering": 1,
   "nav_menu": {},
   "number_sections": true,
   "sideBar": true,
   "skip_h1_title": false,
   "title_cell": "Table of Contents",
   "title_sidebar": "Contents",
   "toc_cell": false,
   "toc_position": {},
   "toc_section_display": true,
   "toc_window_display": false
  }
 },
 "nbformat": 4,
 "nbformat_minor": 5
}
