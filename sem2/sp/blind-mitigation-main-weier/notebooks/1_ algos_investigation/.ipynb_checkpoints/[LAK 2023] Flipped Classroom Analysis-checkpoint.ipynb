{
 "cells": [
  {
   "cell_type": "code",
   "execution_count": 1,
   "id": "d3138ecb",
   "metadata": {
    "ExecuteTime": {
     "end_time": "2022-08-31T15:04:00.196840Z",
     "start_time": "2022-08-31T15:03:59.712798Z"
    }
   },
   "outputs": [],
   "source": [
    "import os\n",
    "import pickle\n",
    "\n",
    "\n",
    "import numpy as np\n",
    "import pandas as pd\n",
    "\n",
    "from matplotlib import pyplot as plt"
   ]
  },
  {
   "cell_type": "code",
   "execution_count": 2,
   "id": "0566adfe",
   "metadata": {
    "ExecuteTime": {
     "end_time": "2022-08-31T15:04:00.205410Z",
     "start_time": "2022-08-31T15:04:00.198716Z"
    }
   },
   "outputs": [
    {
     "data": {
      "text/plain": [
       "'/Users/cock/kDrive/PhD/Projects/Labs/blind-mitigation/notebooks/1_ algos_investigation'"
      ]
     },
     "execution_count": 2,
     "metadata": {},
     "output_type": "execute_result"
    }
   ],
   "source": [
    "pwd"
   ]
  },
  {
   "cell_type": "code",
   "execution_count": 3,
   "id": "3eda319f",
   "metadata": {
    "ExecuteTime": {
     "end_time": "2022-08-31T15:04:00.823247Z",
     "start_time": "2022-08-31T15:04:00.819307Z"
    }
   },
   "outputs": [
    {
     "name": "stdout",
     "output_type": "stream",
     "text": [
      "/Users/cock/kDrive/PhD/Projects/Labs/blind-mitigation/src\n"
     ]
    }
   ],
   "source": [
    "cd ../../src"
   ]
  },
  {
   "cell_type": "code",
   "execution_count": 4,
   "id": "58ed5ebe",
   "metadata": {
    "ExecuteTime": {
     "end_time": "2022-08-31T15:04:22.569704Z",
     "start_time": "2022-08-31T15:04:19.628820Z"
    }
   },
   "outputs": [
    {
     "name": "stderr",
     "output_type": "stream",
     "text": [
      "/opt/anaconda3/envs/PhetGPU/lib/python3.8/site-packages/requests/__init__.py:102: RequestsDependencyWarning: urllib3 (1.26.7) or chardet (5.0.0)/charset_normalizer (2.0.7) doesn't match a supported version!\n",
      "  warnings.warn(\"urllib3 ({}) or chardet ({})/charset_normalizer ({}) doesn't match a supported \"\n"
     ]
    }
   ],
   "source": [
    "from ml.models.flipped_bilstm import FlippedBiLSTMModel"
   ]
  },
  {
   "cell_type": "markdown",
   "id": "480385fa",
   "metadata": {},
   "source": [
    "# Read Data and results"
   ]
  },
  {
   "cell_type": "code",
   "execution_count": 9,
   "id": "98eb5747",
   "metadata": {
    "ExecuteTime": {
     "end_time": "2022-08-31T16:03:58.883456Z",
     "start_time": "2022-08-31T16:03:58.873139Z"
    }
   },
   "outputs": [],
   "source": [
    "vinitra_data_path = '../data/flipped_classrooms/features/roberta_vinitra_mirko_julien_features.pkl'\n",
    "results_path = '../experiments/no_os/flipped/pass/flipped/cluster_demo_features/flipped_bilstm/pass/2022_08_31_0/results/nonnested_cval_mfcbilstm_lx.pkl'\n",
    "config_path = '../experiments/no_os/flipped/pass/flipped/cluster_demo_features/flipped_bilstm/pass/2022_08_31_0/config.yaml'\n",
    "\n",
    "\n",
    "with open(vinitra_data_path, 'rb') as fp:\n",
    "    flipped = pickle.load(fp)\n",
    "    \n",
    "with open(results_path, 'rb') as fp:\n",
    "    baseline = pickle.load(fp)\n",
    "    \n",
    "with open(config_path, 'rb') as fp:\n",
    "    config_file = pickle.load(fp)"
   ]
  },
  {
   "cell_type": "markdown",
   "id": "1c0aff94",
   "metadata": {},
   "source": [
    "# Functions"
   ]
  },
  {
   "cell_type": "code",
   "execution_count": 10,
   "id": "91f25a1c",
   "metadata": {
    "ExecuteTime": {
     "end_time": "2022-08-31T16:04:00.904249Z",
     "start_time": "2022-08-31T16:04:00.901032Z"
    }
   },
   "outputs": [],
   "source": [
    "# aesthetic\n",
    "\n",
    "def choose_colours(n=1):\n",
    "    palette = [\n",
    "        '#E5F9F8', '#F92A82', '#FF9F1C', '#FFBF69', '#CBF3F0', '#2EC4B6'\n",
    "    ]\n",
    "    if n>6:\n",
    "        replace = True\n",
    "    else:\n",
    "        replace=False\n",
    "    return np.random.choice(palette, n, replace=replace)\n",
    "\n",
    "palette = {\n",
    "    'tp': '#FF9F1C',\n",
    "    'fp': '#cbf3f0',\n",
    "    'fn': '#F92A82'\n",
    "}"
   ]
  },
  {
   "cell_type": "code",
   "execution_count": 11,
   "id": "a3f2cc61",
   "metadata": {
    "ExecuteTime": {
     "end_time": "2022-08-31T16:04:02.759975Z",
     "start_time": "2022-08-31T16:04:02.754539Z"
    }
   },
   "outputs": [],
   "source": [
    "# Compute Rates\n",
    "\n",
    "def compute_tp(ypred, ytrue):\n",
    "    assert len(ypred) == len(ytrue)\n",
    "    pos_idx = [i for i in range(len(ytrue)) if ytrue[i] == 1]\n",
    "    ps = len(pos_idx)\n",
    "    tps = len([ypred[idx] for idx in pos_idx if ypred[idx] == 1])\n",
    "    return tps / ps\n",
    "\n",
    "def compute_fp(ypred, ytrue):\n",
    "    assert len(ypred) == len(ytrue)\n",
    "    neg_idx = [i for i in range(len(ytrue)) if ytrue[i] == 0]\n",
    "    fps = len([ypred[idx] for idx in neg_idx if ypred[idx] == 1])\n",
    "    tns = len(neg_idx) - fps\n",
    "    return fps / (fps + tns)\n",
    "\n",
    "def compute_fn(ypred, ytrue):\n",
    "    assert len(ypred) == len(ytrue)\n",
    "    pos_idx = [i for i in range(len(ytrue)) if ytrue[i] == 1]\n",
    "    ps = len(pos_idx)\n",
    "    tps = len([ypred[idx] for idx in pos_idx if ypred[idx] == 1])\n",
    "    fns = ps - tps\n",
    "    return fns / (fns + tps)\n",
    "    \n",
    "    "
   ]
  },
  {
   "cell_type": "code",
   "execution_count": 12,
   "id": "2e44c063",
   "metadata": {
    "ExecuteTime": {
     "end_time": "2022-08-31T16:04:03.019130Z",
     "start_time": "2022-08-31T16:04:03.010460Z"
    }
   },
   "outputs": [],
   "source": [
    "# Cluster functions\n",
    "def compute_rates(ytrues, ypreds, associated_clusters, cluster):\n",
    "    assert len(ytrues) == len(ypreds) and len(ypreds) == len(associated_clusters)\n",
    "    cluster_idx = [i for i in range(len(associated_clusters)) if associated_clusters[i] == cluster]\n",
    "    yt = [ytrues[idx] for idx in cluster_idx]\n",
    "    yps = [ypreds[idx] for idx in cluster_idx]\n",
    "    \n",
    "    tp = compute_tp(yps, yt)\n",
    "    fp = compute_fp(yps, yt)\n",
    "    fn = compute_fn(yps, yt)\n",
    "    \n",
    "    return tp, fp, fn\n",
    "\n",
    "def plot_rates(ytrues, ypreds, associated_clusters, dataset):\n",
    "    unique_clusters = np.unique(associated_clusters)\n",
    "    colours = choose_colours(len(unique_clusters))\n",
    "    \n",
    "    for m, metric in enumerate(['tp', 'fp', 'fn']):\n",
    "        ms = []\n",
    "        for c, cluster in enumerate(unique_clusters):\n",
    "            cluster_tp, cluster_fp, cluster_fn = compute_rates(ytrues, ypreds, associated_clusters, cluster)\n",
    "            metrics = [cluster_tp, cluster_fp, cluster_fn]\n",
    "            ms.append(metrics[m])\n",
    "        plt.figure(figsize=(5, 3))\n",
    "        plt.bar(range(len(ms)), ms, color=palette[metric])\n",
    "        plt.ylim([0, 1])\n",
    "        plt.xlim([-0.5, len(ms) -0.5])\n",
    "\n",
    "        plt.xticks(range(len(ms)), unique_clusters)\n",
    "        plt.title('{} rates for all clusters [{}]'.format(metric, dataset))\n",
    "        plt.savefig('../reports/flipped/cluster_{}_rates_{}'.format(metric, dataset))\n",
    "        plt.show()\n"
   ]
  },
  {
   "cell_type": "markdown",
   "id": "c3f51ce5",
   "metadata": {},
   "source": [
    "# Test set plot\n"
   ]
  },
  {
   "cell_type": "code",
   "execution_count": 14,
   "id": "34feb01c",
   "metadata": {
    "ExecuteTime": {
     "end_time": "2022-08-31T16:04:39.938931Z",
     "start_time": "2022-08-31T16:04:39.542824Z"
    }
   },
   "outputs": [
    {
     "data": {
      "image/png": "[encoded data removed]",
      "text/plain": [
       "<Figure size 360x216 with 1 Axes>"
      ]
     },
     "metadata": {
      "needs_background": "light"
     },
     "output_type": "display_data"
    },
    {
     "data": {
      "image/png": "[encoded data removed]",
      "text/plain": [
       "<Figure size 360x216 with 1 Axes>"
      ]
     },
     "metadata": {
      "needs_background": "light"
     },
     "output_type": "display_data"
    },
    {
     "data": {
      "image/png": "[encoded data removed]",
      "text/plain": [
       "<Figure size 360x216 with 1 Axes>"
      ]
     },
     "metadata": {
      "needs_background": "light"
     },
     "output_type": "display_data"
    }
   ],
   "source": [
    "y_trues = []\n",
    "y_probas = []\n",
    "y_preds = []\n",
    "associated_clusters = []\n",
    "for fold in range(10):\n",
    "    yts = [baseline['y'][test_idx] for test_idx in baseline[fold]['test_index']]\n",
    "    ypbs = [yp for yp in baseline[fold]['y_proba']]\n",
    "    ypds = [ypp for ypp in baseline[fold]['y_pred']]\n",
    "    acs = [\n",
    "        baseline['demographics']['cluster_aied_paola'][test_idx] for test_idx in baseline[fold]['test_index']\n",
    "    ]\n",
    "    y_trues = [*y_trues, *yts]\n",
    "    y_probas = [*y_probas, *ypbs]\n",
    "    y_preds = [*y_preds, *ypds]\n",
    "    associated_clusters = [*associated_clusters, *acs]\n",
    "plot_rates(y_trues, y_preds, associated_clusters, 'test')"
   ]
  },
  {
   "cell_type": "markdown",
   "id": "f3e974ad",
   "metadata": {},
   "source": [
    "# Train set"
   ]
  },
  {
   "cell_type": "code",
   "execution_count": 15,
   "id": "1becec56",
   "metadata": {
    "ExecuteTime": {
     "end_time": "2022-08-31T16:10:48.114959Z",
     "start_time": "2022-08-31T16:10:48.110786Z"
    }
   },
   "outputs": [
    {
     "data": {
      "text/plain": [
       "dict_keys([0, 1, 2, 3, 4, 5, 6, 7, 8, 9, 10, 11, 12, 13, 14, 15, 16, 17, 18, 19, 20, 21, 22, 23, 24, 25, 26, 27, 28, 29, 30, 31, 32, 33, 34, 35, 36, 37, 38, 39, 40, 41, 42, 43, 44, 45, 46, 47, 48, 49, 50, 51, 52, 53, 54, 55, 56, 57, 58, 59, 60, 61, 62, 63, 64, 65, 66, 67, 68, 69, 70, 71, 72, 73, 74, 75, 76, 77, 78, 79, 80, 81, 82, 83, 84, 85, 86, 87, 88, 89, 90, 91, 92, 93, 94, 95, 96, 97, 98, 99, 100, 101, 102, 103, 104, 105, 106, 107, 108, 109, 110, 111, 112, 113, 114, 115, 116, 117, 118, 119, 120, 121, 122, 123, 124, 125, 126, 127, 128, 129, 130, 131, 132, 133, 134, 135, 136, 137, 138, 139, 140, 141, 142, 143, 144, 145, 146, 147, 148, 149, 150, 151, 152, 153, 154, 155, 156, 157, 158, 159, 160, 161, 162, 163, 164, 165, 166, 167, 168, 169, 170, 171, 172, 173, 174, 175, 176, 177, 178, 179, 180, 181, 182, 183, 184, 185, 186, 187, 188, 189, 190, 'available_demographics'])"
      ]
     },
     "execution_count": 15,
     "metadata": {},
     "output_type": "execute_result"
    }
   ],
   "source": [
    "flipped.keys()"
   ]
  },
  {
   "cell_type": "code",
   "execution_count": 16,
   "id": "3c979bdd",
   "metadata": {
    "ExecuteTime": {
     "end_time": "2022-08-31T16:11:40.899712Z",
     "start_time": "2022-08-31T16:11:40.142346Z"
    },
    "scrolled": false
   },
   "outputs": [
    {
     "name": "stderr",
     "output_type": "stream",
     "text": [
      "2022-08-31 18:11:40.152389: I tensorflow/core/platform/cpu_feature_guard.cc:151] This TensorFlow binary is optimized with oneAPI Deep Neural Network Library (oneDNN) to use the following CPU instructions in performance-critical operations:  AVX2 FMA\n",
      "To enable them in other operations, rebuild TensorFlow with the appropriate compiler flags.\n"
     ]
    },
    {
     "name": "stdout",
     "output_type": "stream",
     "text": [
      "Model: \"sequential\"\n",
      "_________________________________________________________________\n",
      " Layer (type)                Output Shape              Param #   \n",
      "=================================================================\n",
      " reshape (Reshape)           (None, 14, 82)            0         \n",
      "                                                                 \n",
      " bidirectional (Bidirectiona  (None, 14, 16)           5824      \n",
      " l)                                                              \n",
      "                                                                 \n",
      " bidirectional_1 (Bidirectio  (None, 16)               1600      \n",
      " nal)                                                            \n",
      "                                                                 \n",
      " dense (Dense)               (None, 1)                 17        \n",
      "                                                                 \n",
      "=================================================================\n",
      "Total params: 7,441\n",
      "Trainable params: 7,441\n",
      "Non-trainable params: 0\n",
      "_________________________________________________________________\n",
      "None\n"
     ]
    },
    {
     "ename": "NameError",
     "evalue": "name 'model_tuglet' is not defined",
     "output_type": "error",
     "traceback": [
      "\u001b[0;31m---------------------------------------------------------------------------\u001b[0m",
      "\u001b[0;31mNameError\u001b[0m                                 Traceback (most recent call last)",
      "\u001b[0;32m/var/folders/jy/0pp1md9x1358dt8g8k69srhr0000gp/T/ipykernel_34892/3991658418.py\u001b[0m in \u001b[0;36m<module>\u001b[0;34m\u001b[0m\n\u001b[1;32m     15\u001b[0m     \u001b[0mmodel_flipped\u001b[0m\u001b[0;34m.\u001b[0m\u001b[0mload_model_weights\u001b[0m\u001b[0;34m(\u001b[0m\u001b[0mx\u001b[0m\u001b[0;34m,\u001b[0m \u001b[0;34m'{}{}'\u001b[0m\u001b[0;34m.\u001b[0m\u001b[0mformat\u001b[0m\u001b[0;34m(\u001b[0m\u001b[0mroot\u001b[0m\u001b[0;34m,\u001b[0m \u001b[0mfold\u001b[0m\u001b[0;34m)\u001b[0m\u001b[0;34m)\u001b[0m\u001b[0;34m\u001b[0m\u001b[0;34m\u001b[0m\u001b[0m\n\u001b[1;32m     16\u001b[0m \u001b[0;34m\u001b[0m\u001b[0m\n\u001b[0;32m---> 17\u001b[0;31m     \u001b[0mypds\u001b[0m \u001b[0;34m=\u001b[0m \u001b[0mmodel_tuglet\u001b[0m\u001b[0;34m.\u001b[0m\u001b[0mpredict\u001b[0m\u001b[0;34m(\u001b[0m\u001b[0mxs\u001b[0m\u001b[0;34m)\u001b[0m\u001b[0;34m\u001b[0m\u001b[0;34m\u001b[0m\u001b[0m\n\u001b[0m\u001b[1;32m     18\u001b[0m \u001b[0;34m\u001b[0m\u001b[0m\n\u001b[1;32m     19\u001b[0m     acs = [\n",
      "\u001b[0;31mNameError\u001b[0m: name 'model_tuglet' is not defined"
     ]
    }
   ],
   "source": [
    "x = [flipped[idx]['sequence'] for idx in range(191)]\n",
    "\n",
    "root = '../experiments/no_os/flipped/pass/flipped/cluster_demo_features/flipped_bilstm/pass/2022_08_31_0/models/fcbilstm_f'\n",
    "model_flipped = FlippedBiLSTMModel(config_file)\n",
    "\n",
    "y_trues = []\n",
    "y_probas = []\n",
    "y_preds = []\n",
    "associated_clusters = []\n",
    "for fold in range(10):\n",
    "    xs = [baseline['x'][train_idx] for train_idx in baseline[fold]['train_index']]\n",
    "    yts = [baseline['y'][train_idx] for train_idx in baseline[fold]['train_index']]\n",
    "    \n",
    "    model_flipped.set_outer_fold(fold)\n",
    "    model_flipped.load_model_weights(x, '{}{}'.format(root, fold))\n",
    "    \n",
    "    ypds = model_flipped.predict(xs)\n",
    "    \n",
    "    acs = [\n",
    "        baseline['demographics']['cluster_aied_paola'][train_idx] for train_idx in baseline[fold]['train_index']\n",
    "    ]\n",
    "    \n",
    "    y_trues = [*y_trues, *yts]\n",
    "    y_preds = [*y_preds, *ypds]\n",
    "    associated_clusters = [*associated_clusters, *acs]\n",
    "    \n",
    "plot_rates(y_trues, y_preds, associated_clusters, 'train')\n"
   ]
  },
  {
   "cell_type": "code",
   "execution_count": null,
   "id": "54465fb0",
   "metadata": {},
   "outputs": [],
   "source": []
  },
  {
   "cell_type": "code",
   "execution_count": null,
   "id": "54a8f909",
   "metadata": {},
   "outputs": [],
   "source": []
  },
  {
   "cell_type": "code",
   "execution_count": null,
   "id": "edeeafe4",
   "metadata": {},
   "outputs": [],
   "source": []
  },
  {
   "cell_type": "code",
   "execution_count": null,
   "id": "8c4a1941",
   "metadata": {},
   "outputs": [],
   "source": []
  },
  {
   "cell_type": "code",
   "execution_count": null,
   "id": "3f1756ac",
   "metadata": {},
   "outputs": [],
   "source": []
  },
  {
   "cell_type": "code",
   "execution_count": null,
   "id": "9733e6a1",
   "metadata": {},
   "outputs": [],
   "source": []
  },
  {
   "cell_type": "code",
   "execution_count": null,
   "id": "2e71d529",
   "metadata": {},
   "outputs": [],
   "source": []
  },
  {
   "cell_type": "code",
   "execution_count": null,
   "id": "d4a54403",
   "metadata": {},
   "outputs": [],
   "source": []
  },
  {
   "cell_type": "code",
   "execution_count": null,
   "id": "7b9f1e89",
   "metadata": {},
   "outputs": [],
   "source": []
  }
 ],
 "metadata": {
  "kernelspec": {
   "display_name": "Python 3 (ipykernel)",
   "language": "python",
   "name": "python3"
  },
  "language_info": {
   "codemirror_mode": {
    "name": "ipython",
    "version": 3
   },
   "file_extension": ".py",
   "mimetype": "text/x-python",
   "name": "python",
   "nbconvert_exporter": "python",
   "pygments_lexer": "ipython3",
   "version": "3.8.12"
  },
  "toc": {
   "base_numbering": 1,
   "nav_menu": {},
   "number_sections": true,
   "sideBar": true,
   "skip_h1_title": false,
   "title_cell": "Table of Contents",
   "title_sidebar": "Contents",
   "toc_cell": false,
   "toc_position": {},
   "toc_section_display": true,
   "toc_window_display": false
  }
 },
 "nbformat": 4,
 "nbformat_minor": 5
}
