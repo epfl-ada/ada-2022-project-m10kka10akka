{
 "cells": [
  {
   "cell_type": "code",
   "execution_count": 1,
   "id": "791a705a",
   "metadata": {
    "ExecuteTime": {
     "end_time": "2022-08-31T14:12:04.715858Z",
     "start_time": "2022-08-31T14:12:03.886880Z"
    }
   },
   "outputs": [
    {
     "ename": "ModuleNotFoundError",
     "evalue": "No module named 'ml'",
     "output_type": "error",
     "traceback": [
      "\u001b[0;31m---------------------------------------------------------------------------\u001b[0m",
      "\u001b[0;31mModuleNotFoundError\u001b[0m                       Traceback (most recent call last)",
      "\u001b[0;32m/var/folders/jy/0pp1md9x1358dt8g8k69srhr0000gp/T/ipykernel_34250/2319724278.py\u001b[0m in \u001b[0;36m<module>\u001b[0;34m\u001b[0m\n\u001b[1;32m      8\u001b[0m \u001b[0;32mfrom\u001b[0m \u001b[0mmatplotlib\u001b[0m \u001b[0;32mimport\u001b[0m \u001b[0mpyplot\u001b[0m \u001b[0;32mas\u001b[0m \u001b[0mplt\u001b[0m\u001b[0;34m\u001b[0m\u001b[0;34m\u001b[0m\u001b[0m\n\u001b[1;32m      9\u001b[0m \u001b[0;34m\u001b[0m\u001b[0m\n\u001b[0;32m---> 10\u001b[0;31m \u001b[0;32mfrom\u001b[0m \u001b[0mml\u001b[0m\u001b[0;34m.\u001b[0m\u001b[0mmodels\u001b[0m\u001b[0;34m.\u001b[0m\u001b[0mtuglet_lstm\u001b[0m \u001b[0;32mimport\u001b[0m \u001b[0mTugletLSTMModel\u001b[0m\u001b[0;34m\u001b[0m\u001b[0;34m\u001b[0m\u001b[0m\n\u001b[0m",
      "\u001b[0;31mModuleNotFoundError\u001b[0m: No module named 'ml'"
     ]
    }
   ],
   "source": [
    "import os\n",
    "import pickle\n",
    "\n",
    "\n",
    "import numpy as np\n",
    "import pandas as pd\n",
    "\n",
    "from matplotlib import pyplot as plt"
   ]
  },
  {
   "cell_type": "code",
   "execution_count": null,
   "id": "05d96c9a",
   "metadata": {
    "ExecuteTime": {
     "end_time": "2022-08-31T14:12:04.717509Z",
     "start_time": "2022-08-31T14:12:04.717493Z"
    }
   },
   "outputs": [],
   "source": [
    "pwd"
   ]
  },
  {
   "cell_type": "code",
   "execution_count": null,
   "id": "770fe429",
   "metadata": {
    "ExecuteTime": {
     "end_time": "2022-08-31T14:12:04.718629Z",
     "start_time": "2022-08-31T14:12:04.718616Z"
    }
   },
   "outputs": [],
   "source": [
    "cd ../../src"
   ]
  },
  {
   "cell_type": "code",
   "execution_count": null,
   "id": "a7becac0",
   "metadata": {},
   "outputs": [],
   "source": [
    "from ml.models.tuglet_lstm import TugletLSTMModel"
   ]
  },
  {
   "cell_type": "markdown",
   "id": "060665ac",
   "metadata": {},
   "source": [
    "# Read Data and results"
   ]
  },
  {
   "cell_type": "code",
   "execution_count": null,
   "id": "2f083b7a",
   "metadata": {
    "ExecuteTime": {
     "end_time": "2022-08-31T14:12:04.721340Z",
     "start_time": "2022-08-31T14:12:04.721327Z"
    }
   },
   "outputs": [],
   "source": [
    "tuglet_data_path = '../data/tuglet/features/bilal_explore_challenge_rules_setup_time_oldposttest_binary_tuglet.pkl'\n",
    "results_path = '../experiments/no_os/tuglet/label/tuglet/bilal_allincluded_binary/tuglet_lstm/label/2022_08_24_0/results/nonnested_cval_mtuglstm_lx.pkl'\n",
    "config_path = '../experiments/oversample/no_os/tuglet/label/tuglet/bilal_allincluded_binary/tuglet_lstm/label/2022_08_24_0/config.yaml'\n",
    "\n",
    "with open(tuglet_data_path, 'rb') as fp:\n",
    "    tuglet = pickle.load(fp)\n",
    "    \n",
    "with open(results_path, 'rb') as fp:\n",
    "    baseline = pickle.load(fp)\n",
    "    \n",
    "with open(config_path, 'rb') as fp:\n",
    "    config_file = pickle.load(fp)"
   ]
  },
  {
   "cell_type": "markdown",
   "id": "6ef16873",
   "metadata": {},
   "source": [
    "# Functions"
   ]
  },
  {
   "cell_type": "code",
   "execution_count": 3,
   "id": "dfd49172",
   "metadata": {
    "ExecuteTime": {
     "end_time": "2022-08-31T14:12:17.927707Z",
     "start_time": "2022-08-31T14:12:17.924459Z"
    }
   },
   "outputs": [],
   "source": [
    "# aesthetic\n",
    "\n",
    "def choose_colours(n=1):\n",
    "    palette = [\n",
    "        '#E5F9F8', '#F92A82', '#FF9F1C', '#FFBF69', '#CBF3F0', '#2EC4B6'\n",
    "    ]\n",
    "    if n>6:\n",
    "        replace = True\n",
    "    else:\n",
    "        replace=False\n",
    "    return np.random.choice(palette, n, replace=replace)\n",
    "\n",
    "palette = {\n",
    "    'tp': '#FF9F1C',\n",
    "    'fp': '#2EC4B6',\n",
    "    'fn': '#E5F9F8'\n",
    "}"
   ]
  },
  {
   "cell_type": "code",
   "execution_count": 4,
   "id": "0f0dafa4",
   "metadata": {
    "ExecuteTime": {
     "end_time": "2022-08-31T14:12:18.255161Z",
     "start_time": "2022-08-31T14:12:18.248672Z"
    }
   },
   "outputs": [],
   "source": [
    "# Compute Rates\n",
    "\n",
    "def compute_tp(ypred, ytrue):\n",
    "    assert len(ypred) == len(ytrue)\n",
    "    pos_idx = [i for i in range(len(ytrue)) if ytrue[i] == 1]\n",
    "    ps = len(pos_idx)\n",
    "    tps = len([ypred[idx] for idx in pos_idx if ypred[idx] == 1])\n",
    "    return tps / ps\n",
    "\n",
    "def compute_fp(ypred, ytrue):\n",
    "    assert len(ypred) == len(ytrue)\n",
    "    neg_idx = [i for i in range(len(ytrue)) if ytrue[i] == 0]\n",
    "    fps = len([ypred[idx] for idx in neg_idx if ypred[idx] == 1])\n",
    "    tns = len(neg_idx) - fps\n",
    "    return fps / (fps + tns)\n",
    "\n",
    "def compute_fn(ypred, ytrue):\n",
    "    assert len(ypred) == len(ytrue)\n",
    "    pos_idx = [i for i in range(len(ytrue)) if ytrue[i] == 1]\n",
    "    ps = len(pos_idx)\n",
    "    tps = len([ypred[idx] for idx in pos_idx if ypred[idx] == 1])\n",
    "    fns = ps - tps\n",
    "    return fns / (fns + tps)\n",
    "    \n",
    "    "
   ]
  },
  {
   "cell_type": "code",
   "execution_count": 2,
   "id": "bfce77b1",
   "metadata": {
    "ExecuteTime": {
     "end_time": "2022-08-31T14:12:05.295620Z",
     "start_time": "2022-08-31T14:12:05.253957Z"
    }
   },
   "outputs": [],
   "source": [
    "# Cluster functions\n",
    "def compute_rates(ytrues, ypreds, associated_clusters, cluster):\n",
    "    assert len(ytrues) == len(ypreds) and len(ypreds) == len(associated_clusters)\n",
    "    cluster_idx = [i for i in range(len(associated_clusters)) if associated_clusters[i] == cluster]\n",
    "    yt = [ytrues[idx] for idx in cluster_idx]\n",
    "    yps = [ypreds[idx] for idx in cluster_idx]\n",
    "    \n",
    "    tp = compute_tp(yps, yt)\n",
    "    fp = compute_fp(yps, yt)\n",
    "    fn = compute_fn(yps, yt)\n",
    "    \n",
    "    return tp, fp, fn\n",
    "\n",
    "def plot_rates(ytrues, ypreds, associated_clusters, dataset):\n",
    "    unique_clusters = np.unique(associated_clusters)\n",
    "    colours = choose_colours(len(unique_clusters))\n",
    "    \n",
    "    for m, metric in enumerate(['tp', 'fp', 'fn']):\n",
    "        ms = []\n",
    "        for c, cluster in enumerate(unique_clusters):\n",
    "            cluster_tp, cluster_fp, cluster_fn = compute_rates(ytrues, ypreds, associated_clusters, cluster)\n",
    "            metrics = [cluster_tp, cluster_fp, cluster_fn]\n",
    "            ms.append(metrics[m])\n",
    "        plt.figure(figsize=(5, 3))\n",
    "        plt.bar(range(len(ms)), ms, color=colours[m])\n",
    "        plt.ylim([0, 1])\n",
    "        plt.xlim([-0.5, len(ms) -0.5])\n",
    "\n",
    "        plt.xticks(range(len(ms)), unique_clusters)\n",
    "        plt.title('{} rates for all clusters [{}]'.format(metric, dataset))\n",
    "        plt.show()\n"
   ]
  },
  {
   "cell_type": "markdown",
   "id": "ee909ede",
   "metadata": {},
   "source": [
    "# Test set plot\n"
   ]
  },
  {
   "cell_type": "code",
   "execution_count": 56,
   "id": "862f5d97",
   "metadata": {
    "ExecuteTime": {
     "end_time": "2022-08-31T13:41:15.001626Z",
     "start_time": "2022-08-31T13:41:14.718219Z"
    }
   },
   "outputs": [
    {
     "data": {
      "image/png": "[encoded data removed]",
      "text/plain": [
       "<Figure size 360x216 with 1 Axes>"
      ]
     },
     "metadata": {
      "needs_background": "light"
     },
     "output_type": "display_data"
    },
    {
     "data": {
      "image/png": "[encoded data removed]",
      "text/plain": [
       "<Figure size 360x216 with 1 Axes>"
      ]
     },
     "metadata": {
      "needs_background": "light"
     },
     "output_type": "display_data"
    },
    {
     "data": {
      "image/png": "[encoded data removed]",
      "text/plain": [
       "<Figure size 360x216 with 1 Axes>"
      ]
     },
     "metadata": {
      "needs_background": "light"
     },
     "output_type": "display_data"
    }
   ],
   "source": [
    "y_trues = []\n",
    "y_probas = []\n",
    "y_preds = []\n",
    "associated_clusters = []\n",
    "for fold in range(10):\n",
    "    yts = [baseline['y'][test_idx] for test_idx in baseline[fold]['test_index']]\n",
    "    ypbs = [yp for yp in baseline[fold]['y_proba']]\n",
    "    ypds = [ypp for ypp in baseline[fold]['y_pred']]\n",
    "    acs = [\n",
    "        baseline['demographics']['cluster'][test_idx] for test_idx in baseline[fold]['test_index']\n",
    "    ]\n",
    "    y_trues = [*y_trues, *yts]\n",
    "    y_probas = [*y_probas, *ypbs]\n",
    "    y_preds = [*y_preds, *ypds]\n",
    "    associated_clusters = [*associated_clusters, *acs]\n",
    "plot_rates(y_trues, y_preds, associated_clusters, 'test')"
   ]
  },
  {
   "cell_type": "markdown",
   "id": "4bd0d3fb",
   "metadata": {},
   "source": [
    "# Train set"
   ]
  },
  {
   "cell_type": "code",
   "execution_count": 83,
   "id": "545b5338",
   "metadata": {
    "ExecuteTime": {
     "end_time": "2022-08-31T14:11:48.414686Z",
     "start_time": "2022-08-31T14:11:48.123879Z"
    }
   },
   "outputs": [
    {
     "data": {
      "image/png": "[encoded data removed]",
      "text/plain": [
       "<Figure size 360x216 with 1 Axes>"
      ]
     },
     "metadata": {
      "needs_background": "light"
     },
     "output_type": "display_data"
    },
    {
     "data": {
      "image/png": "[encoded data removed]",
      "text/plain": [
       "<Figure size 360x216 with 1 Axes>"
      ]
     },
     "metadata": {
      "needs_background": "light"
     },
     "output_type": "display_data"
    },
    {
     "data": {
      "image/png": "[encoded data removed]",
      "text/plain": [
       "<Figure size 360x216 with 1 Axes>"
      ]
     },
     "metadata": {
      "needs_background": "light"
     },
     "output_type": "display_data"
    }
   ],
   "source": [
    "x = [tuglet[idx]['sequence'] for idx in range(263)]\n",
    "\n",
    "root = '../experiments/oversample/no_os/tuglet/label/tuglet/bilal_allincluded_binary/tuglet_lstm/label/2022_08_24_0/models/tuglstm_f'\n",
    "model_tuglet = TugletLSTMModel(config_file)\n",
    "\n",
    "y_trues = []\n",
    "y_probas = []\n",
    "y_preds = []\n",
    "associated_clusters = []\n",
    "for fold in range(10):\n",
    "    xs = [baseline['x'][train_idx] for train_idx in baseline[fold]['train_index']]\n",
    "    yts = [baseline['y'][train_idx] for train_idx in baseline[fold]['train_index']]\n",
    "    \n",
    "    model_tuglet.set_outer_fold(fold)\n",
    "    model_tuglet.load_model_weights(x, '{}{}'.format(root, fold))\n",
    "    \n",
    "    ypds = model_tuglet.predict(xs)\n",
    "    \n",
    "    acs = [\n",
    "        baseline['demographics']['cluster'][train_idx] for train_idx in baseline[fold]['train_index']\n",
    "    ]\n",
    "    \n",
    "    y_trues = [*y_trues, *yts]\n",
    "    y_preds = [*y_preds, *ypds]\n",
    "    associated_clusters = [*associated_clusters, *acs]\n",
    "    \n",
    "plot_rates(y_trues, y_preds, associated_clusters, 'train')\n"
   ]
  },
  {
   "cell_type": "code",
   "execution_count": 76,
   "id": "d588ca79",
   "metadata": {
    "ExecuteTime": {
     "end_time": "2022-08-31T14:03:22.439809Z",
     "start_time": "2022-08-31T14:03:22.436717Z"
    }
   },
   "outputs": [
    {
     "data": {
      "text/plain": [
       "dict_keys(['train_index', 'test_index', 'oversample_indexes', 'x_resampled', 'y_resampled', 'x_resampled_train', 'y_resampled_train', 'x_resampled_val', 'y_resampled_val', 'best_params', 'gender', 'passed_game', 'cluster', 'posttest_score', 'area', 'y_pred', 'y_proba', 'accuracy', 'balanced_accuracy', 'precision', 'recall', 'roc'])"
      ]
     },
     "execution_count": 76,
     "metadata": {},
     "output_type": "execute_result"
    }
   ],
   "source": [
    "baseline[0].keys()"
   ]
  },
  {
   "cell_type": "code",
   "execution_count": 69,
   "id": "ebf6d50e",
   "metadata": {
    "ExecuteTime": {
     "end_time": "2022-08-31T13:52:40.639286Z",
     "start_time": "2022-08-31T13:52:40.636976Z"
    }
   },
   "outputs": [],
   "source": []
  },
  {
   "cell_type": "code",
   "execution_count": 73,
   "id": "da9b8988",
   "metadata": {
    "ExecuteTime": {
     "end_time": "2022-08-31T13:53:37.265733Z",
     "start_time": "2022-08-31T13:53:36.486333Z"
    }
   },
   "outputs": [
    {
     "name": "stdout",
     "output_type": "stream",
     "text": [
      "Model: \"sequential_2\"\n",
      "_________________________________________________________________\n",
      " Layer (type)                Output Shape              Param #   \n",
      "=================================================================\n",
      " masking_2 (Masking)         (None, None, 9)           0         \n",
      "                                                                 \n",
      " lstm_2 (LSTM)               (None, 32)                5376      \n",
      "                                                                 \n",
      " dense_2 (Dense)             (None, 2)                 66        \n",
      "                                                                 \n",
      "=================================================================\n",
      "Total params: 5,442\n",
      "Trainable params: 5,442\n",
      "Non-trainable params: 0\n",
      "_________________________________________________________________\n",
      "None\n"
     ]
    }
   ],
   "source": []
  },
  {
   "cell_type": "code",
   "execution_count": 74,
   "id": "83058a2a",
   "metadata": {
    "ExecuteTime": {
     "end_time": "2022-08-31T14:02:29.078309Z",
     "start_time": "2022-08-31T14:02:27.737675Z"
    }
   },
   "outputs": [
    {
     "data": {
      "text/plain": [
       "[1,\n",
       " 1,\n",
       " 0,\n",
       " 1,\n",
       " 1,\n",
       " 0,\n",
       " 1,\n",
       " 0,\n",
       " 1,\n",
       " 1,\n",
       " 1,\n",
       " 1,\n",
       " 1,\n",
       " 0,\n",
       " 1,\n",
       " 1,\n",
       " 1,\n",
       " 1,\n",
       " 0,\n",
       " 1,\n",
       " 1,\n",
       " 1,\n",
       " 1,\n",
       " 0,\n",
       " 1,\n",
       " 1,\n",
       " 1,\n",
       " 1,\n",
       " 1,\n",
       " 0,\n",
       " 0,\n",
       " 1,\n",
       " 1,\n",
       " 1,\n",
       " 1,\n",
       " 1,\n",
       " 1,\n",
       " 1,\n",
       " 0,\n",
       " 0,\n",
       " 0,\n",
       " 1,\n",
       " 1,\n",
       " 1,\n",
       " 1,\n",
       " 0,\n",
       " 1,\n",
       " 1,\n",
       " 1,\n",
       " 1,\n",
       " 1,\n",
       " 0,\n",
       " 1,\n",
       " 1,\n",
       " 0,\n",
       " 1,\n",
       " 1,\n",
       " 1,\n",
       " 0,\n",
       " 1,\n",
       " 1,\n",
       " 0,\n",
       " 1,\n",
       " 0,\n",
       " 1,\n",
       " 0,\n",
       " 0,\n",
       " 1,\n",
       " 1,\n",
       " 1,\n",
       " 1,\n",
       " 0,\n",
       " 0,\n",
       " 0,\n",
       " 0,\n",
       " 1,\n",
       " 0,\n",
       " 1,\n",
       " 1,\n",
       " 0,\n",
       " 1,\n",
       " 0,\n",
       " 1,\n",
       " 1,\n",
       " 0,\n",
       " 1,\n",
       " 0,\n",
       " 0,\n",
       " 1,\n",
       " 1,\n",
       " 1,\n",
       " 1,\n",
       " 1,\n",
       " 1,\n",
       " 1,\n",
       " 1,\n",
       " 0,\n",
       " 1,\n",
       " 1,\n",
       " 1,\n",
       " 1,\n",
       " 1,\n",
       " 1,\n",
       " 1,\n",
       " 1,\n",
       " 0,\n",
       " 1,\n",
       " 1,\n",
       " 1,\n",
       " 0,\n",
       " 0,\n",
       " 1,\n",
       " 1,\n",
       " 1,\n",
       " 0,\n",
       " 1,\n",
       " 1,\n",
       " 1,\n",
       " 0,\n",
       " 0,\n",
       " 0,\n",
       " 1,\n",
       " 0,\n",
       " 1,\n",
       " 1,\n",
       " 1,\n",
       " 0,\n",
       " 0,\n",
       " 0,\n",
       " 1,\n",
       " 1,\n",
       " 0,\n",
       " 1,\n",
       " 0,\n",
       " 1,\n",
       " 1,\n",
       " 0,\n",
       " 1,\n",
       " 0,\n",
       " 1,\n",
       " 1,\n",
       " 1,\n",
       " 1,\n",
       " 1,\n",
       " 0,\n",
       " 1,\n",
       " 1,\n",
       " 1,\n",
       " 1,\n",
       " 1,\n",
       " 0,\n",
       " 1,\n",
       " 1,\n",
       " 1,\n",
       " 1,\n",
       " 1,\n",
       " 0,\n",
       " 1,\n",
       " 1,\n",
       " 0,\n",
       " 0,\n",
       " 1,\n",
       " 1,\n",
       " 0,\n",
       " 1,\n",
       " 0,\n",
       " 1,\n",
       " 1,\n",
       " 1,\n",
       " 1,\n",
       " 1,\n",
       " 1,\n",
       " 0,\n",
       " 1,\n",
       " 1,\n",
       " 1,\n",
       " 0,\n",
       " 1,\n",
       " 0,\n",
       " 1,\n",
       " 1,\n",
       " 1,\n",
       " 1,\n",
       " 1,\n",
       " 1,\n",
       " 1,\n",
       " 0,\n",
       " 0,\n",
       " 1,\n",
       " 1,\n",
       " 1,\n",
       " 1,\n",
       " 1,\n",
       " 1,\n",
       " 1,\n",
       " 1,\n",
       " 0,\n",
       " 1,\n",
       " 0,\n",
       " 1,\n",
       " 0,\n",
       " 0,\n",
       " 0,\n",
       " 1,\n",
       " 1,\n",
       " 1,\n",
       " 1,\n",
       " 1,\n",
       " 1,\n",
       " 1,\n",
       " 1,\n",
       " 1,\n",
       " 1,\n",
       " 1,\n",
       " 1,\n",
       " 0,\n",
       " 1,\n",
       " 1,\n",
       " 1,\n",
       " 1,\n",
       " 1,\n",
       " 1,\n",
       " 1,\n",
       " 1,\n",
       " 1,\n",
       " 1,\n",
       " 1,\n",
       " 1,\n",
       " 1,\n",
       " 0,\n",
       " 0,\n",
       " 1,\n",
       " 1,\n",
       " 1,\n",
       " 1,\n",
       " 1,\n",
       " 1,\n",
       " 1,\n",
       " 1,\n",
       " 1,\n",
       " 1,\n",
       " 1,\n",
       " 1,\n",
       " 1,\n",
       " 1,\n",
       " 0,\n",
       " 1,\n",
       " 1,\n",
       " 1,\n",
       " 1,\n",
       " 0,\n",
       " 1,\n",
       " 0,\n",
       " 0,\n",
       " 1,\n",
       " 1,\n",
       " 0,\n",
       " 1,\n",
       " 1,\n",
       " 1,\n",
       " 1,\n",
       " 1,\n",
       " 0]"
      ]
     },
     "execution_count": 74,
     "metadata": {},
     "output_type": "execute_result"
    }
   ],
   "source": []
  },
  {
   "cell_type": "code",
   "execution_count": null,
   "id": "66831cb4",
   "metadata": {},
   "outputs": [],
   "source": []
  },
  {
   "cell_type": "code",
   "execution_count": null,
   "id": "cd21d908",
   "metadata": {},
   "outputs": [],
   "source": []
  },
  {
   "cell_type": "code",
   "execution_count": null,
   "id": "a9b19c6c",
   "metadata": {},
   "outputs": [],
   "source": []
  },
  {
   "cell_type": "code",
   "execution_count": null,
   "id": "423d8a79",
   "metadata": {},
   "outputs": [],
   "source": []
  },
  {
   "cell_type": "code",
   "execution_count": null,
   "id": "19e0a24f",
   "metadata": {},
   "outputs": [],
   "source": []
  },
  {
   "cell_type": "code",
   "execution_count": null,
   "id": "c789944d",
   "metadata": {},
   "outputs": [],
   "source": []
  },
  {
   "cell_type": "code",
   "execution_count": null,
   "id": "75d72391",
   "metadata": {},
   "outputs": [],
   "source": []
  },
  {
   "cell_type": "code",
   "execution_count": null,
   "id": "c01615f6",
   "metadata": {},
   "outputs": [],
   "source": [
    "clusters = np.unique(baseline['demographics']['cluster'])\n"
   ]
  },
  {
   "cell_type": "code",
   "execution_count": 10,
   "id": "d293f629",
   "metadata": {
    "ExecuteTime": {
     "end_time": "2022-08-31T12:50:22.719108Z",
     "start_time": "2022-08-31T12:50:22.715549Z"
    }
   },
   "outputs": [
    {
     "data": {
      "text/plain": [
       "dict_keys(['train_index', 'test_index', 'oversample_indexes', 'x_resampled', 'y_resampled', 'x_resampled_train', 'y_resampled_train', 'x_resampled_val', 'y_resampled_val', 'best_params', 'gender', 'passed_game', 'cluster', 'posttest_score', 'area', 'y_pred', 'y_proba', 'accuracy', 'balanced_accuracy', 'precision', 'recall', 'roc'])"
      ]
     },
     "execution_count": 10,
     "metadata": {},
     "output_type": "execute_result"
    }
   ],
   "source": [
    "baseline[0].keys()"
   ]
  },
  {
   "cell_type": "code",
   "execution_count": 6,
   "id": "20f9d34f",
   "metadata": {
    "ExecuteTime": {
     "end_time": "2022-08-31T12:49:21.280444Z",
     "start_time": "2022-08-31T12:49:21.277035Z"
    }
   },
   "outputs": [
    {
     "data": {
      "text/plain": [
       "dict_keys(['x', 'y', 'demographics', 'optim_scoring', 0, 1, 2, 3, 4, 5, 6, 7, 8, 9])"
      ]
     },
     "execution_count": 6,
     "metadata": {},
     "output_type": "execute_result"
    }
   ],
   "source": [
    "baseline.keys()"
   ]
  },
  {
   "cell_type": "code",
   "execution_count": 7,
   "id": "28733c40",
   "metadata": {
    "ExecuteTime": {
     "end_time": "2022-08-31T12:49:29.541923Z",
     "start_time": "2022-08-31T12:49:29.538792Z"
    }
   },
   "outputs": [
    {
     "data": {
      "text/plain": [
       "dict_keys(['gender', 'passed_game', 'cluster', 'posttest_score', 'area', 'stratifier_col', 'oversampler_col'])"
      ]
     },
     "execution_count": 7,
     "metadata": {},
     "output_type": "execute_result"
    }
   ],
   "source": [
    "baseline['demographics'].keys()"
   ]
  },
  {
   "cell_type": "code",
   "execution_count": 31,
   "id": "183ffd05",
   "metadata": {
    "ExecuteTime": {
     "end_time": "2022-08-31T13:11:32.749037Z",
     "start_time": "2022-08-31T13:11:32.742388Z"
    }
   },
   "outputs": [
    {
     "data": {
      "text/plain": [
       "['2.0',\n",
       " '1.0',\n",
       " '1.0',\n",
       " '5.0',\n",
       " '1.0',\n",
       " '5.0',\n",
       " '2.0',\n",
       " '3.0',\n",
       " '3.0',\n",
       " '2.0',\n",
       " '3.0',\n",
       " '2.0',\n",
       " '3.0',\n",
       " '4.0',\n",
       " '4.0',\n",
       " '2.0',\n",
       " '1.0',\n",
       " '5.0',\n",
       " '5.0',\n",
       " '3.0',\n",
       " '1.0',\n",
       " '3.0',\n",
       " '3.0',\n",
       " '6.0',\n",
       " '3.0',\n",
       " '1.0',\n",
       " '3.0',\n",
       " '1.0',\n",
       " '2.0',\n",
       " '6.0',\n",
       " '6.0',\n",
       " '5.0',\n",
       " '5.0',\n",
       " '3.0',\n",
       " '2.0',\n",
       " '2.0',\n",
       " '1.0',\n",
       " '2.0',\n",
       " '6.0',\n",
       " '6.0',\n",
       " '3.0',\n",
       " '3.0',\n",
       " '2.0',\n",
       " '3.0',\n",
       " '2.0',\n",
       " '5.0',\n",
       " '3.0',\n",
       " '2.0',\n",
       " '3.0',\n",
       " '1.0',\n",
       " '3.0',\n",
       " '6.0',\n",
       " '2.0',\n",
       " '2.0',\n",
       " '6.0',\n",
       " '2.0',\n",
       " '1.0',\n",
       " '3.0',\n",
       " '6.0',\n",
       " '3.0',\n",
       " '2.0',\n",
       " '3.0',\n",
       " '5.0',\n",
       " '5.0',\n",
       " '3.0',\n",
       " '5.0',\n",
       " '6.0',\n",
       " '1.0',\n",
       " '3.0',\n",
       " '3.0',\n",
       " '2.0',\n",
       " '3.0',\n",
       " '4.0',\n",
       " '1.0',\n",
       " '6.0',\n",
       " '2.0',\n",
       " '3.0',\n",
       " '2.0',\n",
       " '5.0',\n",
       " '6.0',\n",
       " '2.0',\n",
       " '5.0',\n",
       " '1.0',\n",
       " '1.0',\n",
       " '6.0',\n",
       " '3.0',\n",
       " '3.0',\n",
       " '6.0',\n",
       " '2.0',\n",
       " '1.0',\n",
       " '2.0',\n",
       " '2.0',\n",
       " '3.0',\n",
       " '2.0',\n",
       " '5.0',\n",
       " '5.0',\n",
       " '3.0',\n",
       " '2.0',\n",
       " '3.0',\n",
       " '2.0',\n",
       " '4.0',\n",
       " '3.0',\n",
       " '3.0',\n",
       " '1.0',\n",
       " '2.0',\n",
       " '3.0',\n",
       " '2.0',\n",
       " '4.0',\n",
       " '3.0',\n",
       " '5.0',\n",
       " '6.0',\n",
       " '3.0',\n",
       " '1.0',\n",
       " '2.0',\n",
       " '6.0',\n",
       " '3.0',\n",
       " '3.0',\n",
       " '2.0',\n",
       " '5.0',\n",
       " '5.0',\n",
       " '5.0',\n",
       " '3.0',\n",
       " '5.0',\n",
       " '3.0',\n",
       " '5.0',\n",
       " '2.0',\n",
       " '1.0',\n",
       " '3.0',\n",
       " '3.0',\n",
       " '3.0',\n",
       " '2.0',\n",
       " '3.0',\n",
       " '3.0',\n",
       " '5.0',\n",
       " '1.0',\n",
       " '3.0',\n",
       " '6.0',\n",
       " '3.0',\n",
       " '6.0',\n",
       " '6.0',\n",
       " '1.0',\n",
       " '4.0',\n",
       " '5.0',\n",
       " '3.0',\n",
       " '3.0',\n",
       " '3.0',\n",
       " '2.0',\n",
       " '3.0',\n",
       " '3.0',\n",
       " '3.0',\n",
       " '6.0',\n",
       " '1.0',\n",
       " '5.0',\n",
       " '3.0',\n",
       " '1.0',\n",
       " '3.0',\n",
       " '6.0',\n",
       " '2.0',\n",
       " '1.0',\n",
       " '5.0',\n",
       " '5.0',\n",
       " '2.0',\n",
       " '3.0',\n",
       " '6.0',\n",
       " '1.0',\n",
       " '6.0',\n",
       " '3.0',\n",
       " '3.0',\n",
       " '3.0',\n",
       " '1.0',\n",
       " '3.0',\n",
       " '2.0',\n",
       " '6.0',\n",
       " '3.0',\n",
       " '2.0',\n",
       " '2.0',\n",
       " '5.0',\n",
       " '2.0',\n",
       " '2.0',\n",
       " '3.0',\n",
       " '1.0',\n",
       " '3.0',\n",
       " '1.0',\n",
       " '5.0',\n",
       " '3.0',\n",
       " '2.0',\n",
       " '6.0',\n",
       " '5.0',\n",
       " '3.0',\n",
       " '1.0',\n",
       " '3.0',\n",
       " '1.0',\n",
       " '2.0',\n",
       " '2.0',\n",
       " '4.0',\n",
       " '5.0',\n",
       " '3.0',\n",
       " '3.0',\n",
       " '6.0',\n",
       " '2.0',\n",
       " '1.0',\n",
       " '6.0',\n",
       " '4.0',\n",
       " '1.0',\n",
       " '3.0',\n",
       " '4.0',\n",
       " '2.0',\n",
       " '5.0',\n",
       " '2.0',\n",
       " '1.0',\n",
       " '1.0',\n",
       " '2.0',\n",
       " '3.0',\n",
       " '3.0',\n",
       " '3.0',\n",
       " '3.0',\n",
       " '2.0',\n",
       " '6.0',\n",
       " '3.0',\n",
       " '2.0',\n",
       " '5.0',\n",
       " '2.0',\n",
       " '2.0',\n",
       " '3.0',\n",
       " '1.0',\n",
       " '2.0',\n",
       " '3.0',\n",
       " '3.0',\n",
       " '3.0',\n",
       " '6.0',\n",
       " '3.0',\n",
       " '3.0',\n",
       " '2.0',\n",
       " '3.0',\n",
       " '2.0',\n",
       " '3.0',\n",
       " '2.0',\n",
       " '2.0',\n",
       " '5.0',\n",
       " '3.0',\n",
       " '3.0',\n",
       " '2.0',\n",
       " '5.0',\n",
       " '2.0',\n",
       " '3.0',\n",
       " '3.0',\n",
       " '3.0',\n",
       " '2.0',\n",
       " '3.0',\n",
       " '3.0',\n",
       " '6.0',\n",
       " '3.0',\n",
       " '2.0',\n",
       " '6.0',\n",
       " '1.0',\n",
       " '2.0',\n",
       " '1.0',\n",
       " '4.0',\n",
       " '3.0',\n",
       " '5.0',\n",
       " '3.0',\n",
       " '1.0',\n",
       " '5.0',\n",
       " '6.0']"
      ]
     },
     "execution_count": 31,
     "metadata": {},
     "output_type": "execute_result"
    }
   ],
   "source": [
    "baseline['demographics']['cluster']"
   ]
  },
  {
   "cell_type": "code",
   "execution_count": null,
   "id": "b47b3002",
   "metadata": {},
   "outputs": [],
   "source": []
  },
  {
   "cell_type": "code",
   "execution_count": null,
   "id": "a37614cd",
   "metadata": {},
   "outputs": [],
   "source": []
  },
  {
   "cell_type": "code",
   "execution_count": null,
   "id": "afb96029",
   "metadata": {},
   "outputs": [],
   "source": []
  },
  {
   "cell_type": "code",
   "execution_count": null,
   "id": "af46da0c",
   "metadata": {},
   "outputs": [],
   "source": []
  },
  {
   "cell_type": "code",
   "execution_count": null,
   "id": "68f0b636",
   "metadata": {},
   "outputs": [],
   "source": []
  },
  {
   "cell_type": "code",
   "execution_count": null,
   "id": "d00ffc2d",
   "metadata": {},
   "outputs": [],
   "source": []
  },
  {
   "cell_type": "code",
   "execution_count": null,
   "id": "87981e90",
   "metadata": {},
   "outputs": [],
   "source": []
  },
  {
   "cell_type": "code",
   "execution_count": null,
   "id": "6d74f4ad",
   "metadata": {},
   "outputs": [],
   "source": []
  },
  {
   "cell_type": "code",
   "execution_count": null,
   "id": "5378c239",
   "metadata": {},
   "outputs": [],
   "source": []
  }
 ],
 "metadata": {
  "kernelspec": {
   "display_name": "Python 3 (ipykernel)",
   "language": "python",
   "name": "python3"
  },
  "language_info": {
   "codemirror_mode": {
    "name": "ipython",
    "version": 3
   },
   "file_extension": ".py",
   "mimetype": "text/x-python",
   "name": "python",
   "nbconvert_exporter": "python",
   "pygments_lexer": "ipython3",
   "version": "3.8.12"
  },
  "toc": {
   "base_numbering": 1,
   "nav_menu": {},
   "number_sections": true,
   "sideBar": true,
   "skip_h1_title": false,
   "title_cell": "Table of Contents",
   "title_sidebar": "Contents",
   "toc_cell": false,
   "toc_position": {},
   "toc_section_display": true,
   "toc_window_display": false
  }
 },
 "nbformat": 4,
 "nbformat_minor": 5
}
