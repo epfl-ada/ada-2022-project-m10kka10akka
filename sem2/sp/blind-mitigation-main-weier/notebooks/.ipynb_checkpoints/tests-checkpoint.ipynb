{
 "cells": [
  {
   "cell_type": "code",
   "execution_count": 1,
   "id": "10d0a8fc",
   "metadata": {
    "ExecuteTime": {
     "end_time": "2022-09-06T13:19:44.471117Z",
     "start_time": "2022-09-06T13:19:44.041266Z"
    }
   },
   "outputs": [],
   "source": [
    "import os\n",
    "import pickle\n",
    "\n",
    "import numpy as np\n",
    "import pandas as pd\n",
    "from matplotlib import pyplot as plt"
   ]
  },
  {
   "cell_type": "code",
   "execution_count": 25,
   "id": "86896b7c",
   "metadata": {
    "ExecuteTime": {
     "end_time": "2022-06-02T08:44:08.410723Z",
     "start_time": "2022-06-02T08:44:08.402614Z"
    }
   },
   "outputs": [],
   "source": [
    "results_files = []\n",
    "experiment_path = '../experiments/oversample/language_label/'\n",
    "for (dirpath, dirnames, filenames) in os.walk(experiment_path):\n",
    "    files = [os.path.join(dirpath, file) for file in filenames]\n",
    "    results_files.extend(files)\n",
    "    \n",
    "\n",
    "results_files = [f for f in results_files if 'results' in f]"
   ]
  },
  {
   "cell_type": "code",
   "execution_count": 26,
   "id": "bca33cb3",
   "metadata": {
    "ExecuteTime": {
     "end_time": "2022-06-02T08:44:12.516592Z",
     "start_time": "2022-06-02T08:44:12.511675Z"
    }
   },
   "outputs": [
    {
     "data": {
      "text/plain": [
       "['../experiments/oversample/language_label/beerslaw/simplestates/ts_attention/binconcepts/2022_06_02_0/config.yaml']"
      ]
     },
     "execution_count": 26,
     "metadata": {},
     "output_type": "execute_result"
    }
   ],
   "source": [
    "configs_files"
   ]
  },
  {
   "cell_type": "code",
   "execution_count": 21,
   "id": "e5852bad",
   "metadata": {
    "ExecuteTime": {
     "end_time": "2022-06-02T08:39:38.163743Z",
     "start_time": "2022-06-02T08:39:38.071131Z"
    }
   },
   "outputs": [],
   "source": [
    "with open(results_files[0], 'rb') as fp:\n",
    "    results = pickle.load(fp)"
   ]
  },
  {
   "cell_type": "code",
   "execution_count": 23,
   "id": "01b02354",
   "metadata": {
    "ExecuteTime": {
     "end_time": "2022-06-02T08:39:46.732211Z",
     "start_time": "2022-06-02T08:39:46.728037Z"
    }
   },
   "outputs": [
    {
     "data": {
      "text/plain": [
       "dict_keys(['train_index', 'test_index', 'oversample_indexes', 'x_resampled', 'y_resampled', 'x_resampled_train', 'y_resampled_train', 'x_resampled_val', 'y_resampled_val', 'best_params', 'y_pred', 'y_proba', 'accuracy', 'balanced_accuracy', 'precision', 'recall', 'roc'])"
      ]
     },
     "execution_count": 23,
     "metadata": {},
     "output_type": "execute_result"
    }
   ],
   "source": [
    "results[0].keys()"
   ]
  },
  {
   "cell_type": "code",
   "execution_count": 24,
   "id": "13095db3",
   "metadata": {
    "ExecuteTime": {
     "end_time": "2022-06-02T08:39:58.555982Z",
     "start_time": "2022-06-02T08:39:58.551459Z"
    }
   },
   "outputs": [
    {
     "data": {
      "text/plain": [
       "dict_keys(['x', 'y', 'demographics', 'optim_scoring', 0, 1, 2, 3, 4, 5, 6, 7, 8, 9])"
      ]
     },
     "execution_count": 24,
     "metadata": {},
     "output_type": "execute_result"
    }
   ],
   "source": [
    "results.keys()"
   ]
  },
  {
   "cell_type": "code",
   "execution_count": 1,
   "id": "c317ec96",
   "metadata": {
    "ExecuteTime": {
     "end_time": "2022-08-29T13:06:59.821786Z",
     "start_time": "2022-08-29T13:06:59.814071Z"
    }
   },
   "outputs": [],
   "source": [
    "import random"
   ]
  },
  {
   "cell_type": "code",
   "execution_count": 13,
   "id": "a0571d5e",
   "metadata": {
    "ExecuteTime": {
     "end_time": "2022-08-29T13:08:07.868756Z",
     "start_time": "2022-08-29T13:08:07.864723Z"
    }
   },
   "outputs": [],
   "source": [
    "def shuffle(sequence):\n",
    "    chunks_breaking_points = range(3, len(sequence), 3)\n",
    "    chunks = []\n",
    "    curr_breaking_point = 0\n",
    "    for bp in chunks_breaking_points[:-1]:\n",
    "        chunks.append([sequence[i] for i in range(curr_breaking_point, bp)])\n",
    "        curr_breaking_point = bp\n",
    "    chunks.append([s for s in sequence[bp:]])\n",
    "    random.shuffle(chunks)\n",
    "    new_sequence = []\n",
    "    for chunk in chunks:\n",
    "        new_sequence = new_sequence + chunk\n",
    "\n",
    "    return new_sequence"
   ]
  },
  {
   "cell_type": "code",
   "execution_count": 14,
   "id": "2d8935d5",
   "metadata": {
    "ExecuteTime": {
     "end_time": "2022-08-29T13:08:08.274052Z",
     "start_time": "2022-08-29T13:08:08.271602Z"
    }
   },
   "outputs": [],
   "source": [
    "sequence = [\n",
    "    1, 2, 3,\n",
    "    4, 5, 6,\n",
    "    7, 8, 9\n",
    "]"
   ]
  },
  {
   "cell_type": "code",
   "execution_count": 27,
   "id": "6b26415a",
   "metadata": {
    "ExecuteTime": {
     "end_time": "2022-08-29T13:08:38.135739Z",
     "start_time": "2022-08-29T13:08:38.131893Z"
    }
   },
   "outputs": [
    {
     "data": {
      "text/plain": [
       "[1, 2, 3, 4, 5, 6, 7, 8, 9]"
      ]
     },
     "execution_count": 27,
     "metadata": {},
     "output_type": "execute_result"
    }
   ],
   "source": [
    "shuffle(sequence)"
   ]
  },
  {
   "cell_type": "code",
   "execution_count": 14,
   "id": "378f3c7c",
   "metadata": {
    "ExecuteTime": {
     "end_time": "2022-09-06T14:13:26.820104Z",
     "start_time": "2022-09-06T14:13:26.817403Z"
    }
   },
   "outputs": [],
   "source": [
    "sequence = [\n",
    "    [1, 2, 3],\n",
    "    [4, 5, 6],\n",
    "    [7, 8, 9],\n",
    "    [7, 8, 9],\n",
    "    [7, 8, 9]\n",
    "]"
   ]
  },
  {
   "cell_type": "code",
   "execution_count": 15,
   "id": "a4c319a6",
   "metadata": {
    "ExecuteTime": {
     "end_time": "2022-09-06T14:13:27.719673Z",
     "start_time": "2022-09-06T14:13:27.716720Z"
    }
   },
   "outputs": [],
   "source": [
    "a = pd.DataFrame(sequence)"
   ]
  },
  {
   "cell_type": "code",
   "execution_count": 4,
   "id": "7dbd67c1",
   "metadata": {
    "ExecuteTime": {
     "end_time": "2022-09-06T13:22:18.681087Z",
     "start_time": "2022-09-06T13:22:18.639512Z"
    }
   },
   "outputs": [
    {
     "data": {
      "text/html": [
       "<div>\n",
       "<style scoped>\n",
       "    .dataframe tbody tr th:only-of-type {\n",
       "        vertical-align: middle;\n",
       "    }\n",
       "\n",
       "    .dataframe tbody tr th {\n",
       "        vertical-align: top;\n",
       "    }\n",
       "\n",
       "    .dataframe thead th {\n",
       "        text-align: right;\n",
       "    }\n",
       "</style>\n",
       "<table border=\"1\" class=\"dataframe\">\n",
       "  <thead>\n",
       "    <tr style=\"text-align: right;\">\n",
       "      <th></th>\n",
       "      <th>0</th>\n",
       "      <th>1</th>\n",
       "      <th>2</th>\n",
       "    </tr>\n",
       "  </thead>\n",
       "  <tbody>\n",
       "    <tr>\n",
       "      <th>0</th>\n",
       "      <td>1</td>\n",
       "      <td>2</td>\n",
       "      <td>3</td>\n",
       "    </tr>\n",
       "    <tr>\n",
       "      <th>1</th>\n",
       "      <td>4</td>\n",
       "      <td>5</td>\n",
       "      <td>6</td>\n",
       "    </tr>\n",
       "    <tr>\n",
       "      <th>2</th>\n",
       "      <td>7</td>\n",
       "      <td>8</td>\n",
       "      <td>9</td>\n",
       "    </tr>\n",
       "  </tbody>\n",
       "</table>\n",
       "</div>"
      ],
      "text/plain": [
       "   0  1  2\n",
       "0  1  2  3\n",
       "1  4  5  6\n",
       "2  7  8  9"
      ]
     },
     "execution_count": 4,
     "metadata": {},
     "output_type": "execute_result"
    }
   ],
   "source": [
    "a"
   ]
  },
  {
   "cell_type": "code",
   "execution_count": 7,
   "id": "a6cad08d",
   "metadata": {
    "ExecuteTime": {
     "end_time": "2022-09-06T13:23:12.845624Z",
     "start_time": "2022-09-06T13:23:12.842853Z"
    }
   },
   "outputs": [],
   "source": [
    "a = a.style.applymap(lambda x: \"background-color: red\" if x>0 else \"background-color: white\")"
   ]
  },
  {
   "cell_type": "code",
   "execution_count": 12,
   "id": "3b7298e4",
   "metadata": {
    "ExecuteTime": {
     "end_time": "2022-09-06T13:24:17.432658Z",
     "start_time": "2022-09-06T13:24:17.144182Z"
    }
   },
   "outputs": [],
   "source": [
    "a.to_excel('test.xlsx')"
   ]
  },
  {
   "cell_type": "code",
   "execution_count": 9,
   "id": "354c6890",
   "metadata": {
    "ExecuteTime": {
     "end_time": "2022-09-06T13:23:22.984880Z",
     "start_time": "2022-09-06T13:23:22.976230Z"
    }
   },
   "outputs": [
    {
     "data": {
      "text/html": [
       "<style type=\"text/css\">\n",
       "#T_82f57_row0_col0, #T_82f57_row0_col1, #T_82f57_row0_col2, #T_82f57_row1_col0, #T_82f57_row1_col1, #T_82f57_row1_col2, #T_82f57_row2_col0, #T_82f57_row2_col1, #T_82f57_row2_col2 {\n",
       "  background-color: red;\n",
       "}\n",
       "</style>\n",
       "<table id=\"T_82f57_\">\n",
       "  <thead>\n",
       "    <tr>\n",
       "      <th class=\"blank level0\" >&nbsp;</th>\n",
       "      <th class=\"col_heading level0 col0\" >0</th>\n",
       "      <th class=\"col_heading level0 col1\" >1</th>\n",
       "      <th class=\"col_heading level0 col2\" >2</th>\n",
       "    </tr>\n",
       "  </thead>\n",
       "  <tbody>\n",
       "    <tr>\n",
       "      <th id=\"T_82f57_level0_row0\" class=\"row_heading level0 row0\" >0</th>\n",
       "      <td id=\"T_82f57_row0_col0\" class=\"data row0 col0\" >1</td>\n",
       "      <td id=\"T_82f57_row0_col1\" class=\"data row0 col1\" >2</td>\n",
       "      <td id=\"T_82f57_row0_col2\" class=\"data row0 col2\" >3</td>\n",
       "    </tr>\n",
       "    <tr>\n",
       "      <th id=\"T_82f57_level0_row1\" class=\"row_heading level0 row1\" >1</th>\n",
       "      <td id=\"T_82f57_row1_col0\" class=\"data row1 col0\" >4</td>\n",
       "      <td id=\"T_82f57_row1_col1\" class=\"data row1 col1\" >5</td>\n",
       "      <td id=\"T_82f57_row1_col2\" class=\"data row1 col2\" >6</td>\n",
       "    </tr>\n",
       "    <tr>\n",
       "      <th id=\"T_82f57_level0_row2\" class=\"row_heading level0 row2\" >2</th>\n",
       "      <td id=\"T_82f57_row2_col0\" class=\"data row2 col0\" >7</td>\n",
       "      <td id=\"T_82f57_row2_col1\" class=\"data row2 col1\" >8</td>\n",
       "      <td id=\"T_82f57_row2_col2\" class=\"data row2 col2\" >9</td>\n",
       "    </tr>\n",
       "  </tbody>\n",
       "</table>\n"
      ],
      "text/plain": [
       "<pandas.io.formats.style.Styler at 0x7fd470d0b520>"
      ]
     },
     "execution_count": 9,
     "metadata": {},
     "output_type": "execute_result"
    }
   ],
   "source": [
    "a"
   ]
  },
  {
   "cell_type": "code",
   "execution_count": 16,
   "id": "c248bd13",
   "metadata": {
    "ExecuteTime": {
     "end_time": "2022-09-06T14:13:46.361564Z",
     "start_time": "2022-09-06T14:13:46.347047Z"
    }
   },
   "outputs": [
    {
     "name": "stdout",
     "output_type": "stream",
     "text": [
      "1\n"
     ]
    },
    {
     "data": {
      "text/html": [
       "<div>\n",
       "<style scoped>\n",
       "    .dataframe tbody tr th:only-of-type {\n",
       "        vertical-align: middle;\n",
       "    }\n",
       "\n",
       "    .dataframe tbody tr th {\n",
       "        vertical-align: top;\n",
       "    }\n",
       "\n",
       "    .dataframe thead th {\n",
       "        text-align: right;\n",
       "    }\n",
       "</style>\n",
       "<table border=\"1\" class=\"dataframe\">\n",
       "  <thead>\n",
       "    <tr style=\"text-align: right;\">\n",
       "      <th></th>\n",
       "      <th>0</th>\n",
       "      <th>1</th>\n",
       "      <th>2</th>\n",
       "    </tr>\n",
       "  </thead>\n",
       "  <tbody>\n",
       "    <tr>\n",
       "      <th>0</th>\n",
       "      <td>1</td>\n",
       "      <td>2</td>\n",
       "      <td>3</td>\n",
       "    </tr>\n",
       "  </tbody>\n",
       "</table>\n",
       "</div>"
      ],
      "text/plain": [
       "   0  1  2\n",
       "0  1  2  3"
      ]
     },
     "metadata": {},
     "output_type": "display_data"
    },
    {
     "name": "stdout",
     "output_type": "stream",
     "text": [
      "4\n"
     ]
    },
    {
     "data": {
      "text/html": [
       "<div>\n",
       "<style scoped>\n",
       "    .dataframe tbody tr th:only-of-type {\n",
       "        vertical-align: middle;\n",
       "    }\n",
       "\n",
       "    .dataframe tbody tr th {\n",
       "        vertical-align: top;\n",
       "    }\n",
       "\n",
       "    .dataframe thead th {\n",
       "        text-align: right;\n",
       "    }\n",
       "</style>\n",
       "<table border=\"1\" class=\"dataframe\">\n",
       "  <thead>\n",
       "    <tr style=\"text-align: right;\">\n",
       "      <th></th>\n",
       "      <th>0</th>\n",
       "      <th>1</th>\n",
       "      <th>2</th>\n",
       "    </tr>\n",
       "  </thead>\n",
       "  <tbody>\n",
       "    <tr>\n",
       "      <th>1</th>\n",
       "      <td>4</td>\n",
       "      <td>5</td>\n",
       "      <td>6</td>\n",
       "    </tr>\n",
       "  </tbody>\n",
       "</table>\n",
       "</div>"
      ],
      "text/plain": [
       "   0  1  2\n",
       "1  4  5  6"
      ]
     },
     "metadata": {},
     "output_type": "display_data"
    },
    {
     "name": "stdout",
     "output_type": "stream",
     "text": [
      "7\n"
     ]
    },
    {
     "data": {
      "text/html": [
       "<div>\n",
       "<style scoped>\n",
       "    .dataframe tbody tr th:only-of-type {\n",
       "        vertical-align: middle;\n",
       "    }\n",
       "\n",
       "    .dataframe tbody tr th {\n",
       "        vertical-align: top;\n",
       "    }\n",
       "\n",
       "    .dataframe thead th {\n",
       "        text-align: right;\n",
       "    }\n",
       "</style>\n",
       "<table border=\"1\" class=\"dataframe\">\n",
       "  <thead>\n",
       "    <tr style=\"text-align: right;\">\n",
       "      <th></th>\n",
       "      <th>0</th>\n",
       "      <th>1</th>\n",
       "      <th>2</th>\n",
       "    </tr>\n",
       "  </thead>\n",
       "  <tbody>\n",
       "    <tr>\n",
       "      <th>2</th>\n",
       "      <td>7</td>\n",
       "      <td>8</td>\n",
       "      <td>9</td>\n",
       "    </tr>\n",
       "    <tr>\n",
       "      <th>3</th>\n",
       "      <td>7</td>\n",
       "      <td>8</td>\n",
       "      <td>9</td>\n",
       "    </tr>\n",
       "    <tr>\n",
       "      <th>4</th>\n",
       "      <td>7</td>\n",
       "      <td>8</td>\n",
       "      <td>9</td>\n",
       "    </tr>\n",
       "  </tbody>\n",
       "</table>\n",
       "</div>"
      ],
      "text/plain": [
       "   0  1  2\n",
       "2  7  8  9\n",
       "3  7  8  9\n",
       "4  7  8  9"
      ]
     },
     "metadata": {},
     "output_type": "display_data"
    }
   ],
   "source": [
    "new = pd.DataFrame()\n",
    "for attribute, group in a.groupby(0):\n",
    "    print(attribute)\n",
    "    display(group)"
   ]
  },
  {
   "cell_type": "code",
   "execution_count": null,
   "id": "80bd5e73",
   "metadata": {},
   "outputs": [],
   "source": []
  },
  {
   "cell_type": "code",
   "execution_count": null,
   "id": "24e03583",
   "metadata": {},
   "outputs": [],
   "source": []
  },
  {
   "cell_type": "code",
   "execution_count": null,
   "id": "085ebd91",
   "metadata": {},
   "outputs": [],
   "source": []
  },
  {
   "cell_type": "code",
   "execution_count": null,
   "id": "0ee073a5",
   "metadata": {},
   "outputs": [],
   "source": []
  }
 ],
 "metadata": {
  "kernelspec": {
   "display_name": "Python 3 (ipykernel)",
   "language": "python",
   "name": "python3"
  },
  "language_info": {
   "codemirror_mode": {
    "name": "ipython",
    "version": 3
   },
   "file_extension": ".py",
   "mimetype": "text/x-python",
   "name": "python",
   "nbconvert_exporter": "python",
   "pygments_lexer": "ipython3",
   "version": "3.8.12"
  },
  "toc": {
   "base_numbering": 1,
   "nav_menu": {},
   "number_sections": true,
   "sideBar": true,
   "skip_h1_title": false,
   "title_cell": "Table of Contents",
   "title_sidebar": "Contents",
   "toc_cell": false,
   "toc_position": {},
   "toc_section_display": true,
   "toc_window_display": false
  }
 },
 "nbformat": 4,
 "nbformat_minor": 5
}
