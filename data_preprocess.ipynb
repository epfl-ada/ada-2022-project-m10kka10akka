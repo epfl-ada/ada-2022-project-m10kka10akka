{
 "cells": [
  {
   "cell_type": "code",
   "execution_count": 3,
   "metadata": {},
   "outputs": [],
   "source": [
    "# -*- coding: utf-8 -*-\n",
    "import os\n",
    "import warnings\n",
    "warnings.filterwarnings('ignore')\n",
    "import gensim\n",
    "from gensim.utils import simple_preprocess\n",
    "from gensim import corpora\n",
    "from gensim.models import CoherenceModel\n",
    "import spacy\n",
    "import argparse\n",
    "import re\n",
    "import time"
   ]
  },
  {
   "cell_type": "code",
   "execution_count": 4,
   "metadata": {},
   "outputs": [],
   "source": [
    "nlp = spacy.load(\"en_core_web_sm\", disable=['parser', 'ner'])"
   ]
  },
  {
   "cell_type": "markdown",
   "metadata": {},
   "source": [
    "Data Preprocessing:    \n",
    "\n",
    "    0. Load txt files.   \n",
    "    1. Transform sentences into words.     \n",
    "    2. Remove digits and short words(less than 2 characters).\n",
    "    3. Form bigrams to find proper nouns.\n",
    "    4. Remove stop words.\n",
    "    5. Word lemmatization and only keep noun, verb, adj and adv."
   ]
  },
  {
   "cell_type": "code",
   "execution_count": 5,
   "metadata": {},
   "outputs": [],
   "source": [
    "# load txt files from folder and delete copyright and source info\n",
    "def load_files():\n",
    "    path = 'plaintext_articles'\n",
    "    files = os.listdir(path)\n",
    "    data = []\n",
    "    for i, file in enumerate(files):\n",
    "        if os.path.splitext(file)[1] == '.txt':\n",
    "            file_path = os.path.join(path, file)\n",
    "            with open(file_path, \"r\", encoding='utf-8') as f:\n",
    "                txt = [line.strip() for line in f.readlines()]\n",
    "                del txt[-5:-1]  #retrieved info\n",
    "                del txt[0]      #copyright line\n",
    "                try:\n",
    "                    data.append(txt)\n",
    "                except Exception as e:\n",
    "                    print(e)\n",
    "    print(\"Finish loading data.\")\n",
    "    return data"
   ]
  },
  {
   "cell_type": "code",
   "execution_count": 30,
   "metadata": {},
   "outputs": [],
   "source": [
    "# for each article, split words from sentences, digits are removed\n",
    "def sent_to_words(sentences):\n",
    "    for sentence in sentences:\n",
    "        # deacc=True removes punctuations\n",
    "        yield(gensim.utils.simple_preprocess(str(sentence), deacc=True))\n",
    "    print(\"Finish transforming sentences to words.\")"
   ]
  },
  {
   "cell_type": "code",
   "execution_count": 7,
   "metadata": {},
   "outputs": [],
   "source": [
    "# remove numbers and one character words\n",
    "def clean_digit_short(texts):\n",
    "    #texts = [[token for token in doc if not token.isdigit()] for doc in texts]\n",
    "    texts = [[token for token in doc if len(token) > 3] for doc in texts]\n",
    "    print(\"Finish cleaning digits and short words.\")\n",
    "    return texts"
   ]
  },
  {
   "cell_type": "code",
   "execution_count": 8,
   "metadata": {},
   "outputs": [],
   "source": [
    "def form_bigrams(texts):\n",
    "    bigram = gensim.models.Phrases(texts, min_count=5, threshold=100.0)\n",
    "    print(\"Finish creating bigrams.\")\n",
    "    return [bigram[doc] for doc in texts], bigram"
   ]
  },
  {
   "cell_type": "code",
   "execution_count": 9,
   "metadata": {},
   "outputs": [],
   "source": [
    "def remove_stopwords(texts):\n",
    "    stopwords = nlp.Defaults.stop_words\n",
    "    stopwords |= {'know', 'second', 'include', 'january', 'february', \\\n",
    "                  'april', 'may', 'june', 'july', 'august', 'september',\\\n",
    "                  'october', 'november', 'december', 'monday', 'tuesday',\\\n",
    "                  'wednesday', 'thursday', 'friday', 'saturday', 'sunday'}\n",
    "    print(\"Finish removing stop words.\")    \n",
    "    return [[word for word in simple_preprocess(str(doc)) \n",
    "             if word not in stopwords] for doc in texts]"
   ]
  },
  {
   "cell_type": "code",
   "execution_count": 10,
   "metadata": {},
   "outputs": [],
   "source": [
    "def lemmatization(texts, allowed_postags=['NOUN', 'ADJ', 'VERB', 'ADV']):\n",
    "    texts_out = []\n",
    "    for sent in texts:\n",
    "        doc = nlp(\" \".join(sent)) \n",
    "        texts_out.append([token.lemma_ for token in doc if token.pos_ in allowed_postags])\n",
    "    print(\"Finish lemmatization.\")\n",
    "    return texts_out"
   ]
  },
  {
   "cell_type": "code",
   "execution_count": 11,
   "metadata": {
    "scrolled": true
   },
   "outputs": [
    {
     "name": "stdout",
     "output_type": "stream",
     "text": [
      "Finish loading data.\n",
      "Finish transforming sentences to words.\n",
      "Finish cleaning digits and short words.\n",
      "Finish removing stop words.\n",
      "Finish creating bigrams.\n",
      "Finish lemmatization.\n"
     ]
    }
   ],
   "source": [
    "# Call data preparation functions \n",
    "data = load_files()\n",
    "\n",
    "data_words = list(sent_to_words(data))\n",
    "data_words = clean_digit_short(data_words)\n",
    "data_words = remove_stopwords(data_words)\n",
    "data_words = form_bigrams(data_words)[0]\n",
    "data_words = lemmatization(data_words, allowed_postags=['NOUN', 'ADJ', 'VERB', 'ADV'])"
   ]
  },
  {
   "cell_type": "code",
   "execution_count": 12,
   "metadata": {},
   "outputs": [],
   "source": [
    "# Save data result into txt file\n",
    "with open(\"data_words.txt\", \"w\", encoding = 'utf-8') as f:\n",
    "    for item in data_words:\n",
    "        f.write(str(item))\n",
    "        f.write(\"\\n\")\n",
    "    f.close()"
   ]
  }
 ],
 "metadata": {
  "kernelspec": {
   "display_name": "Python 3",
   "language": "python",
   "name": "python3"
  },
  "language_info": {
   "codemirror_mode": {
    "name": "ipython",
    "version": 3
   },
   "file_extension": ".py",
   "mimetype": "text/x-python",
   "name": "python",
   "nbconvert_exporter": "python",
   "pygments_lexer": "ipython3",
   "version": "3.8.5"
  }
 },
 "nbformat": 4,
 "nbformat_minor": 4
}
