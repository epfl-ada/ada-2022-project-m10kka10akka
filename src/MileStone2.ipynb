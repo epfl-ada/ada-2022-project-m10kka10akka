{
 "cells": [
  {
   "cell_type": "markdown",
   "source": [
    "# ADA Project: MileStone2"
   ],
   "metadata": {
    "collapsed": false
   }
  },
  {
   "cell_type": "markdown",
   "source": [
    "## While way-finding in information network, human is a *Genius* or a *Lazybone*?"
   ],
   "metadata": {
    "collapsed": false
   }
  },
  {
   "cell_type": "markdown",
   "source": [
    "*Wikipeedia* is a human-computation game based on articles in Wikipedia. Users are asked to navigate from a source article to a specific target one, through clicking the links appeared in each Wikipedia article. Different from how a computer plays the game, humans will not always choose the shortest path to reach the destination word from the source one.\n",
    "We summary the human's \"clicking process\" into two main steps:\n",
    "<ol>\n",
    "<li>People first establish a logical chain (clear or blurry) which connect the source word to the destination, preliminarily. This part is based on people's priori knowledge.</li>\n",
    "<br>\n",
    "<li>While scanning the HTML page, people change their initial logical chain and finish their \"clicking task\". People make their shift according to the HTML they see, i.e. textplain, images in the page. </li>\n",
    "</ol>"
   ],
   "metadata": {
    "collapsed": false
   }
  },
  {
   "cell_type": "markdown",
   "source": [
    "We will process our analyse according to this two steps. In the first part, we use the model LDA to grasp points about how people link the source and target. In the second stage, we analyze the finished path and unfinished path to find people's clicking tendency based on the article they scan."
   ],
   "metadata": {
    "collapsed": false
   }
  },
  {
   "cell_type": "markdown",
   "source": [
    "### Content\n",
    "\n",
    "1. Basic analysis on the dataset\n",
    "2. Logical chain exploration using the LDA model\n",
    "3. Clicking tendency based on HTML pages\n"
   ],
   "metadata": {
    "collapsed": false
   }
  },
  {
   "cell_type": "markdown",
   "source": [
    "### Useful libraries"
   ],
   "metadata": {
    "collapsed": false
   }
  },
  {
   "cell_type": "code",
   "execution_count": 85,
   "outputs": [
    {
     "name": "stdout",
     "output_type": "stream",
     "text": [
      "The autoreload extension is already loaded. To reload it, use:\n",
      "  %reload_ext autoreload\n"
     ]
    }
   ],
   "source": [
    "# Utilitaries\n",
    "import pandas as pd\n",
    "import os\n",
    "\n",
    "# Math\n",
    "import numpy as np\n",
    "from scipy import stats\n",
    "\n",
    "# Plot\n",
    "import matplotlib.pyplot as plt\n",
    "\n",
    "%load_ext autoreload\n",
    "%autoreload 2"
   ],
   "metadata": {
    "collapsed": false
   }
  },
  {
   "cell_type": "code",
   "execution_count": 86,
   "outputs": [],
   "source": [
    "pd.options.mode.chained_assignment = None  # default='warn'\n",
    "pd.set_option('display.max_columns', None)\n",
    "pd.set_option('display.max_rows', None)\n",
    "pd.set_option('display.expand_frame_repr', False)\n",
    "pd.set_option('display.max_colwidth', 100)"
   ],
   "metadata": {
    "collapsed": false
   }
  },
  {
   "cell_type": "markdown",
   "source": [
    "### Data Importation"
   ],
   "metadata": {
    "collapsed": false
   }
  },
  {
   "cell_type": "markdown",
   "source": [
    "We will import the data in file \"paths_finished.tsv\", \"article.tsv\" and \"categories.tsv\" into DataFrame"
   ],
   "metadata": {
    "collapsed": false
   }
  },
  {
   "cell_type": "code",
   "execution_count": 87,
   "outputs": [
    {
     "data": {
      "text/plain": "    hashedIpAddress   timestamp  durationInSec                                                                                                 path  rating\n0  6a3701d319fc3754  1297740409            166  14th_century;15th_century;16th_century;Pacific_Ocean;Atlantic_Ocean;Accra;Africa;Atlantic_slave_...     NaN\n1  3824310e536af032  1344753412             88                                  14th_century;Europe;Africa;Atlantic_slave_trade;African_slave_trade     3.0\n2  415612e93584d30e  1349298640            138    14th_century;Niger;Nigeria;British_Empire;Slavery;Africa;Atlantic_slave_trade;African_slave_trade     NaN\n3  64dd5cd342e3780c  1265613925             37                                                       14th_century;Renaissance;Ancient_Greece;Greece     NaN\n4  015245d773376aab  1366730828            175  14th_century;Italy;Roman_Catholic_Church;HIV;Ronald_Reagan;President_of_the_United_States;John_F...     3.0",
      "text/html": "<div>\n<style scoped>\n    .dataframe tbody tr th:only-of-type {\n        vertical-align: middle;\n    }\n\n    .dataframe tbody tr th {\n        vertical-align: top;\n    }\n\n    .dataframe thead th {\n        text-align: right;\n    }\n</style>\n<table border=\"1\" class=\"dataframe\">\n  <thead>\n    <tr style=\"text-align: right;\">\n      <th></th>\n      <th>hashedIpAddress</th>\n      <th>timestamp</th>\n      <th>durationInSec</th>\n      <th>path</th>\n      <th>rating</th>\n    </tr>\n  </thead>\n  <tbody>\n    <tr>\n      <th>0</th>\n      <td>6a3701d319fc3754</td>\n      <td>1297740409</td>\n      <td>166</td>\n      <td>14th_century;15th_century;16th_century;Pacific_Ocean;Atlantic_Ocean;Accra;Africa;Atlantic_slave_...</td>\n      <td>NaN</td>\n    </tr>\n    <tr>\n      <th>1</th>\n      <td>3824310e536af032</td>\n      <td>1344753412</td>\n      <td>88</td>\n      <td>14th_century;Europe;Africa;Atlantic_slave_trade;African_slave_trade</td>\n      <td>3.0</td>\n    </tr>\n    <tr>\n      <th>2</th>\n      <td>415612e93584d30e</td>\n      <td>1349298640</td>\n      <td>138</td>\n      <td>14th_century;Niger;Nigeria;British_Empire;Slavery;Africa;Atlantic_slave_trade;African_slave_trade</td>\n      <td>NaN</td>\n    </tr>\n    <tr>\n      <th>3</th>\n      <td>64dd5cd342e3780c</td>\n      <td>1265613925</td>\n      <td>37</td>\n      <td>14th_century;Renaissance;Ancient_Greece;Greece</td>\n      <td>NaN</td>\n    </tr>\n    <tr>\n      <th>4</th>\n      <td>015245d773376aab</td>\n      <td>1366730828</td>\n      <td>175</td>\n      <td>14th_century;Italy;Roman_Catholic_Church;HIV;Ronald_Reagan;President_of_the_United_States;John_F...</td>\n      <td>3.0</td>\n    </tr>\n  </tbody>\n</table>\n</div>"
     },
     "execution_count": 87,
     "metadata": {},
     "output_type": "execute_result"
    }
   ],
   "source": [
    "# Reading the 'paths_finished.tsv' file as a pandas dataframe\n",
    "PATH_DATASET = \"../dataset\"\n",
    "fname = os.path.join(PATH_DATASET, 'wikispeedia_paths-and-graph/paths_finished.tsv')\n",
    "df_finished_path = pd.read_csv(\"../dataset/wikispeedia_paths-and-graph/paths_finished.tsv\", sep='\\t', comment = '#', header=None, names = ['hashedIpAddress','timestamp','durationInSec','path','rating'], encoding = 'UTF-8')\n",
    "\n",
    "df_finished_path.head()"
   ],
   "metadata": {
    "collapsed": false
   }
  },
  {
   "cell_type": "code",
   "execution_count": 88,
   "outputs": [
    {
     "data": {
      "text/plain": "                           articles                                                                                 category\n0  %C3%81ed%C3%A1n_mac_Gabr%C3%A1in  subject.History.British_History.British_History_1500_and_before_including_Roman_Britain\n1  %C3%81ed%C3%A1n_mac_Gabr%C3%A1in                                                        subject.People.Historical_figures\n2                        %C3%85land                                                                        subject.Countries\n3                        %C3%85land                                  subject.Geography.European_Geography.European_Countries\n4                %C3%89douard_Manet                                                                   subject.People.Artists",
      "text/html": "<div>\n<style scoped>\n    .dataframe tbody tr th:only-of-type {\n        vertical-align: middle;\n    }\n\n    .dataframe tbody tr th {\n        vertical-align: top;\n    }\n\n    .dataframe thead th {\n        text-align: right;\n    }\n</style>\n<table border=\"1\" class=\"dataframe\">\n  <thead>\n    <tr style=\"text-align: right;\">\n      <th></th>\n      <th>articles</th>\n      <th>category</th>\n    </tr>\n  </thead>\n  <tbody>\n    <tr>\n      <th>0</th>\n      <td>%C3%81ed%C3%A1n_mac_Gabr%C3%A1in</td>\n      <td>subject.History.British_History.British_History_1500_and_before_including_Roman_Britain</td>\n    </tr>\n    <tr>\n      <th>1</th>\n      <td>%C3%81ed%C3%A1n_mac_Gabr%C3%A1in</td>\n      <td>subject.People.Historical_figures</td>\n    </tr>\n    <tr>\n      <th>2</th>\n      <td>%C3%85land</td>\n      <td>subject.Countries</td>\n    </tr>\n    <tr>\n      <th>3</th>\n      <td>%C3%85land</td>\n      <td>subject.Geography.European_Geography.European_Countries</td>\n    </tr>\n    <tr>\n      <th>4</th>\n      <td>%C3%89douard_Manet</td>\n      <td>subject.People.Artists</td>\n    </tr>\n  </tbody>\n</table>\n</div>"
     },
     "execution_count": 88,
     "metadata": {},
     "output_type": "execute_result"
    }
   ],
   "source": [
    "# Reading the 'categories.tsv' file as a pandas dataframe\n",
    "\n",
    "fname = os.path.join(PATH_DATASET, 'wikispeedia_paths-and-graph/categories.tsv')\n",
    "df_catagories = pd.read_csv(fname, sep = '\\t', comment = '#', header = None, names = ['articles','category'], encoding = 'UTF-8')\n",
    "df_catagories.head()"
   ],
   "metadata": {
    "collapsed": false
   }
  },
  {
   "cell_type": "code",
   "execution_count": 95,
   "outputs": [
    {
     "data": {
      "text/plain": "                           articles\n0  %C3%81ed%C3%A1n_mac_Gabr%C3%A1in\n1                        %C3%85land\n2                %C3%89douard_Manet\n3                         %C3%89ire\n4        %C3%93engus_I_of_the_Picts",
      "text/html": "<div>\n<style scoped>\n    .dataframe tbody tr th:only-of-type {\n        vertical-align: middle;\n    }\n\n    .dataframe tbody tr th {\n        vertical-align: top;\n    }\n\n    .dataframe thead th {\n        text-align: right;\n    }\n</style>\n<table border=\"1\" class=\"dataframe\">\n  <thead>\n    <tr style=\"text-align: right;\">\n      <th></th>\n      <th>articles</th>\n    </tr>\n  </thead>\n  <tbody>\n    <tr>\n      <th>0</th>\n      <td>%C3%81ed%C3%A1n_mac_Gabr%C3%A1in</td>\n    </tr>\n    <tr>\n      <th>1</th>\n      <td>%C3%85land</td>\n    </tr>\n    <tr>\n      <th>2</th>\n      <td>%C3%89douard_Manet</td>\n    </tr>\n    <tr>\n      <th>3</th>\n      <td>%C3%89ire</td>\n    </tr>\n    <tr>\n      <th>4</th>\n      <td>%C3%93engus_I_of_the_Picts</td>\n    </tr>\n  </tbody>\n</table>\n</div>"
     },
     "execution_count": 95,
     "metadata": {},
     "output_type": "execute_result"
    }
   ],
   "source": [
    "# Reading the 'articles.tsv' file as a pandas dataframe\n",
    "\n",
    "fname = os.path.join(PATH_DATASET, 'wikispeedia_paths-and-graph/articles.tsv')\n",
    "df_article = pd.read_csv(fname, sep = '\\t', comment = '#', header = None, names = ['articles'],encoding = 'UTF-8')\n",
    "df_article.head()"
   ],
   "metadata": {
    "collapsed": false
   }
  },
  {
   "cell_type": "markdown",
   "source": [
    "### First glance at the data"
   ],
   "metadata": {
    "collapsed": false
   }
  },
  {
   "cell_type": "markdown",
   "source": [
    "We first analyse each file, respectively. And then we will merge files together to delve more points."
   ],
   "metadata": {
    "collapsed": false
   }
  },
  {
   "cell_type": "markdown",
   "source": [
    "#### Analyse each file independently. We will generate more datas in the dataframe.\n",
    "Files are \"paths_finished.tsv\" and \"categories.tsv\""
   ],
   "metadata": {
    "collapsed": false
   }
  },
  {
   "cell_type": "markdown",
   "source": [
    "**1. paths_finished.tsv**"
   ],
   "metadata": {
    "collapsed": false
   }
  },
  {
   "cell_type": "markdown",
   "source": [
    "We calculate the path length and store the value in column **path_length**. For example if the path is \"Yagan; Ancient_Egypt; Civilization\", the path length is 2."
   ],
   "metadata": {
    "collapsed": false
   }
  },
  {
   "cell_type": "code",
   "execution_count": 89,
   "outputs": [],
   "source": [
    "def calculate_path_length(x):\n",
    "    string_array = x.split(';')\n",
    "    return len(string_array)-1\n",
    "\n",
    "df_finished_path['path_length'] = df_finished_path['path'].apply(calculate_path_length)"
   ],
   "metadata": {
    "collapsed": false
   }
  },
  {
   "cell_type": "markdown",
   "source": [
    "We extract the source and the target word from the path and store them in column **source** and **destination**, respectively."
   ],
   "metadata": {
    "collapsed": false
   }
  },
  {
   "cell_type": "code",
   "execution_count": 92,
   "outputs": [],
   "source": [
    "def path_source(x):\n",
    "    string_array = x.split(';')\n",
    "    return string_array[0]\n",
    "\n",
    "\n",
    "def path_destination(x):\n",
    "    string_array = x.split(';')\n",
    "    return string_array[-1]\n",
    "\n",
    "df_finished_path['source'] = df_finished_path['path'].apply(path_source)\n",
    "df_finished_path['destination'] = df_finished_path['path'].apply(path_destination)"
   ],
   "metadata": {
    "collapsed": false
   }
  },
  {
   "cell_type": "markdown",
   "source": [
    "We construct the data \"path pair\". For example, if the path is \"A; B; C\", then the path pair will be [(A, B), (B, C)]"
   ],
   "metadata": {
    "collapsed": false
   }
  },
  {
   "cell_type": "code",
   "execution_count": 93,
   "outputs": [],
   "source": [
    "df_finished_path['path_pair'] = None\n",
    "\n",
    "i = 0\n",
    "path_pair_dict = {}\n",
    "for index, row in df_finished_path['path'].items():\n",
    "    string_path_pair = []\n",
    "    string_array = row.split(\";\")\n",
    "    for pair_index in range(len(string_array) - 1):\n",
    "        string_pair = '(' + string_array[pair_index] + ', ' + string_array[pair_index + 1] + ')'\n",
    "        string_path_pair.append(string_pair)\n",
    "        path_pair_dict[string_pair] = path_pair_dict.get(string_pair, 0) + 1\n",
    "    df_finished_path['path_pair'][i] = string_path_pair\n",
    "    i += 1"
   ],
   "metadata": {
    "collapsed": false
   }
  },
  {
   "cell_type": "code",
   "execution_count": 94,
   "outputs": [
    {
     "data": {
      "text/plain": "    hashedIpAddress   timestamp  durationInSec                                                                                                 path  rating  path_length        source          destination                                                                                            path_pair\n0  6a3701d319fc3754  1297740409            166  14th_century;15th_century;16th_century;Pacific_Ocean;Atlantic_Ocean;Accra;Africa;Atlantic_slave_...     NaN            8  14th_century  African_slave_trade  [(14th_century, 15th_century), (15th_century, 16th_century), (16th_century, Pacific_Ocean), (Pac...\n1  3824310e536af032  1344753412             88                                  14th_century;Europe;Africa;Atlantic_slave_trade;African_slave_trade     3.0            4  14th_century  African_slave_trade  [(14th_century, Europe), (Europe, Africa), (Africa, Atlantic_slave_trade), (Atlantic_slave_trade...\n2  415612e93584d30e  1349298640            138    14th_century;Niger;Nigeria;British_Empire;Slavery;Africa;Atlantic_slave_trade;African_slave_trade     NaN            7  14th_century  African_slave_trade  [(14th_century, Niger), (Niger, Nigeria), (Nigeria, British_Empire), (British_Empire, Slavery), ...\n3  64dd5cd342e3780c  1265613925             37                                                       14th_century;Renaissance;Ancient_Greece;Greece     NaN            3  14th_century               Greece               [(14th_century, Renaissance), (Renaissance, Ancient_Greece), (Ancient_Greece, Greece)]\n4  015245d773376aab  1366730828            175  14th_century;Italy;Roman_Catholic_Church;HIV;Ronald_Reagan;President_of_the_United_States;John_F...     3.0            6  14th_century      John_F._Kennedy  [(14th_century, Italy), (Italy, Roman_Catholic_Church), (Roman_Catholic_Church, HIV), (HIV, Rona...\n5  5295bca242be81fe  1372890414            110       14th_century;Europe;North_America;United_States;President_of_the_United_States;John_F._Kennedy     NaN            5  14th_century      John_F._Kennedy  [(14th_century, Europe), (Europe, North_America), (North_America, United_States), (United_States...\n6  36dabfa133b20e3c  1249525912            112                                                                    14th_century;China;Gunpowder;Fire     2.0            3  14th_century                 Fire                                       [(14th_century, China), (China, Gunpowder), (Gunpowder, Fire)]\n7  20418ff4797f96be  1229188046            139                                                   14th_century;Time;Isaac_Newton;Light;Color;Rainbow     1.0            5  14th_century              Rainbow  [(14th_century, Time), (Time, Isaac_Newton), (Isaac_Newton, Light), (Light, Color), (Color, Rain...\n8  08888b1b428dd90e  1232241510             74                                                                      14th_century;Time;Light;Rainbow     3.0            3  14th_century              Rainbow                                              [(14th_century, Time), (Time, Light), (Light, Rainbow)]\n9  08888b1b428dd90e  1232241601            167                                     14th_century;15th_century;Plato;Nature;Ultraviolet;Color;Rainbow     NaN            6  14th_century              Rainbow  [(14th_century, 15th_century), (15th_century, Plato), (Plato, Nature), (Nature, Ultraviolet), (U...",
      "text/html": "<div>\n<style scoped>\n    .dataframe tbody tr th:only-of-type {\n        vertical-align: middle;\n    }\n\n    .dataframe tbody tr th {\n        vertical-align: top;\n    }\n\n    .dataframe thead th {\n        text-align: right;\n    }\n</style>\n<table border=\"1\" class=\"dataframe\">\n  <thead>\n    <tr style=\"text-align: right;\">\n      <th></th>\n      <th>hashedIpAddress</th>\n      <th>timestamp</th>\n      <th>durationInSec</th>\n      <th>path</th>\n      <th>rating</th>\n      <th>path_length</th>\n      <th>source</th>\n      <th>destination</th>\n      <th>path_pair</th>\n    </tr>\n  </thead>\n  <tbody>\n    <tr>\n      <th>0</th>\n      <td>6a3701d319fc3754</td>\n      <td>1297740409</td>\n      <td>166</td>\n      <td>14th_century;15th_century;16th_century;Pacific_Ocean;Atlantic_Ocean;Accra;Africa;Atlantic_slave_...</td>\n      <td>NaN</td>\n      <td>8</td>\n      <td>14th_century</td>\n      <td>African_slave_trade</td>\n      <td>[(14th_century, 15th_century), (15th_century, 16th_century), (16th_century, Pacific_Ocean), (Pac...</td>\n    </tr>\n    <tr>\n      <th>1</th>\n      <td>3824310e536af032</td>\n      <td>1344753412</td>\n      <td>88</td>\n      <td>14th_century;Europe;Africa;Atlantic_slave_trade;African_slave_trade</td>\n      <td>3.0</td>\n      <td>4</td>\n      <td>14th_century</td>\n      <td>African_slave_trade</td>\n      <td>[(14th_century, Europe), (Europe, Africa), (Africa, Atlantic_slave_trade), (Atlantic_slave_trade...</td>\n    </tr>\n    <tr>\n      <th>2</th>\n      <td>415612e93584d30e</td>\n      <td>1349298640</td>\n      <td>138</td>\n      <td>14th_century;Niger;Nigeria;British_Empire;Slavery;Africa;Atlantic_slave_trade;African_slave_trade</td>\n      <td>NaN</td>\n      <td>7</td>\n      <td>14th_century</td>\n      <td>African_slave_trade</td>\n      <td>[(14th_century, Niger), (Niger, Nigeria), (Nigeria, British_Empire), (British_Empire, Slavery), ...</td>\n    </tr>\n    <tr>\n      <th>3</th>\n      <td>64dd5cd342e3780c</td>\n      <td>1265613925</td>\n      <td>37</td>\n      <td>14th_century;Renaissance;Ancient_Greece;Greece</td>\n      <td>NaN</td>\n      <td>3</td>\n      <td>14th_century</td>\n      <td>Greece</td>\n      <td>[(14th_century, Renaissance), (Renaissance, Ancient_Greece), (Ancient_Greece, Greece)]</td>\n    </tr>\n    <tr>\n      <th>4</th>\n      <td>015245d773376aab</td>\n      <td>1366730828</td>\n      <td>175</td>\n      <td>14th_century;Italy;Roman_Catholic_Church;HIV;Ronald_Reagan;President_of_the_United_States;John_F...</td>\n      <td>3.0</td>\n      <td>6</td>\n      <td>14th_century</td>\n      <td>John_F._Kennedy</td>\n      <td>[(14th_century, Italy), (Italy, Roman_Catholic_Church), (Roman_Catholic_Church, HIV), (HIV, Rona...</td>\n    </tr>\n    <tr>\n      <th>5</th>\n      <td>5295bca242be81fe</td>\n      <td>1372890414</td>\n      <td>110</td>\n      <td>14th_century;Europe;North_America;United_States;President_of_the_United_States;John_F._Kennedy</td>\n      <td>NaN</td>\n      <td>5</td>\n      <td>14th_century</td>\n      <td>John_F._Kennedy</td>\n      <td>[(14th_century, Europe), (Europe, North_America), (North_America, United_States), (United_States...</td>\n    </tr>\n    <tr>\n      <th>6</th>\n      <td>36dabfa133b20e3c</td>\n      <td>1249525912</td>\n      <td>112</td>\n      <td>14th_century;China;Gunpowder;Fire</td>\n      <td>2.0</td>\n      <td>3</td>\n      <td>14th_century</td>\n      <td>Fire</td>\n      <td>[(14th_century, China), (China, Gunpowder), (Gunpowder, Fire)]</td>\n    </tr>\n    <tr>\n      <th>7</th>\n      <td>20418ff4797f96be</td>\n      <td>1229188046</td>\n      <td>139</td>\n      <td>14th_century;Time;Isaac_Newton;Light;Color;Rainbow</td>\n      <td>1.0</td>\n      <td>5</td>\n      <td>14th_century</td>\n      <td>Rainbow</td>\n      <td>[(14th_century, Time), (Time, Isaac_Newton), (Isaac_Newton, Light), (Light, Color), (Color, Rain...</td>\n    </tr>\n    <tr>\n      <th>8</th>\n      <td>08888b1b428dd90e</td>\n      <td>1232241510</td>\n      <td>74</td>\n      <td>14th_century;Time;Light;Rainbow</td>\n      <td>3.0</td>\n      <td>3</td>\n      <td>14th_century</td>\n      <td>Rainbow</td>\n      <td>[(14th_century, Time), (Time, Light), (Light, Rainbow)]</td>\n    </tr>\n    <tr>\n      <th>9</th>\n      <td>08888b1b428dd90e</td>\n      <td>1232241601</td>\n      <td>167</td>\n      <td>14th_century;15th_century;Plato;Nature;Ultraviolet;Color;Rainbow</td>\n      <td>NaN</td>\n      <td>6</td>\n      <td>14th_century</td>\n      <td>Rainbow</td>\n      <td>[(14th_century, 15th_century), (15th_century, Plato), (Plato, Nature), (Nature, Ultraviolet), (U...</td>\n    </tr>\n  </tbody>\n</table>\n</div>"
     },
     "execution_count": 94,
     "metadata": {},
     "output_type": "execute_result"
    }
   ],
   "source": [
    "df_finished_path.head(10)"
   ],
   "metadata": {
    "collapsed": false
   }
  },
  {
   "cell_type": "markdown",
   "source": [
    "Dataframe **df_finished_path** variables\n",
    "\n",
    "`hashedIpAddress`: IP address in hashed format. It is the unique identifier.\n",
    "\n",
    "`timestamp`: timestamp when the game start. It is the unique identifier.\n",
    "\n",
    "`durationInSec`: time used by the player to finish the clicking task. Unit in second\n",
    "\n",
    "`path`: articles that player clicks during the game\n",
    "\n",
    "`rating`: score that the player get according to their path result\n",
    "\n",
    "`path_length`: length of the variable path\n",
    "\n",
    "`source`: the source article in the path\n",
    "\n",
    "`destination`: the target article in the path\n",
    "\n",
    "`path_pair`: article pair generated from the variable path"
   ],
   "metadata": {
    "collapsed": false
   }
  },
  {
   "cell_type": "markdown",
   "source": [
    "Analyze the data in dataframe df_finished_path"
   ],
   "metadata": {
    "collapsed": false
   }
  },
  {
   "cell_type": "markdown",
   "source": [
    "##### Variable: path length"
   ],
   "metadata": {
    "collapsed": false
   }
  },
  {
   "cell_type": "markdown",
   "source": [
    "First, we anlyse the variable path_length. We draw the histogram of it."
   ],
   "metadata": {
    "collapsed": false
   }
  },
  {
   "cell_type": "code",
   "execution_count": 57,
   "outputs": [
    {
     "data": {
      "text/plain": "Text(0.5, 1.0, 'Path Length Frequency Histogram')"
     },
     "execution_count": 57,
     "metadata": {},
     "output_type": "execute_result"
    },
    {
     "data": {
      "text/plain": "<Figure size 640x480 with 1 Axes>",
      "image/png": "[encoded data removed]"
     },
     "metadata": {},
     "output_type": "display_data"
    }
   ],
   "source": [
    "df_finished_path['path_length'].plot.hist(bins=np.arange(-0.5,440.5, 10), edgecolor='white', logy=True)\n",
    "plt.xlabel(\"Path Length\")\n",
    "plt.ylabel(\"Count\")\n",
    "plt.title(\"Path Length Frequency Histogram\")"
   ],
   "metadata": {
    "collapsed": false
   }
  },
  {
   "cell_type": "markdown",
   "source": [
    "From the histogram, we could find that the path length mainly concentrates on the range(0, 100). There are also outliers lie at 400+. In order to remove the special situations during the game playing, we set the range of bins to 10. And we consider that the path length frequency in each bin, which is smaller than 10, as outliers. We remove the path length larger than 70.\n"
   ],
   "metadata": {
    "collapsed": false
   }
  },
  {
   "cell_type": "code",
   "execution_count": 58,
   "outputs": [],
   "source": [
    "df_finished_path_rm_outlier = df_finished_path[df_finished_path['path_length'] <= 70]"
   ],
   "metadata": {
    "collapsed": false
   }
  },
  {
   "cell_type": "markdown",
   "source": [
    "We also find there are data whose path_length equals to 0. It means that the target article is same to to source one. We also remove this situation."
   ],
   "metadata": {
    "collapsed": false
   }
  },
  {
   "cell_type": "code",
   "execution_count": 60,
   "outputs": [],
   "source": [
    "df_finished_path_rm_outlier = df_finished_path_rm_outlier[df_finished_path_rm_outlier['path_length'] != 0]"
   ],
   "metadata": {
    "collapsed": false
   }
  },
  {
   "cell_type": "code",
   "execution_count": 63,
   "outputs": [
    {
     "data": {
      "text/plain": "Text(0.5, 1.0, 'Path Length Frequency Histogram without Outliers')"
     },
     "execution_count": 63,
     "metadata": {},
     "output_type": "execute_result"
    },
    {
     "data": {
      "text/plain": "<Figure size 640x480 with 1 Axes>",
      "image/png": "[encoded data removed]"
     },
     "metadata": {},
     "output_type": "display_data"
    }
   ],
   "source": [
    "df_finished_path_rm_outlier['path_length'].plot.hist(bins=np.arange(-0.5,70.5,1), edgecolor='white', logy=True)\n",
    "plt.xlabel(\"Path Length\")\n",
    "plt.ylabel(\"Count\")\n",
    "plt.title(\"Path Length Frequency Histogram without Outliers\")"
   ],
   "metadata": {
    "collapsed": false
   }
  },
  {
   "cell_type": "markdown",
   "source": [
    "##### Variable: rating and path_length"
   ],
   "metadata": {
    "collapsed": false
   }
  },
  {
   "cell_type": "markdown",
   "source": [
    "We want to find that whether the rate is related to the path length"
   ],
   "metadata": {
    "collapsed": false
   }
  },
  {
   "cell_type": "code",
   "execution_count": 76,
   "outputs": [
    {
     "data": {
      "text/plain": "    hashedIpAddress   timestamp  durationInSec                                                                                                 path  rating  path_length        source          destination                                                                                            path_pair\n1  3824310e536af032  1344753412             88                                  14th_century;Europe;Africa;Atlantic_slave_trade;African_slave_trade     3.0            4  14th_century  African_slave_trade  [(14th_century, Europe), (Europe, Africa), (Africa, Atlantic_slave_trade), (Atlantic_slave_trade...\n4  015245d773376aab  1366730828            175  14th_century;Italy;Roman_Catholic_Church;HIV;Ronald_Reagan;President_of_the_United_States;John_F...     3.0            6  14th_century      John_F._Kennedy  [(14th_century, Italy), (Italy, Roman_Catholic_Church), (Roman_Catholic_Church, HIV), (HIV, Rona...\n6  36dabfa133b20e3c  1249525912            112                                                                    14th_century;China;Gunpowder;Fire     2.0            3  14th_century                 Fire                                       [(14th_century, China), (China, Gunpowder), (Gunpowder, Fire)]\n7  20418ff4797f96be  1229188046            139                                                   14th_century;Time;Isaac_Newton;Light;Color;Rainbow     1.0            5  14th_century              Rainbow  [(14th_century, Time), (Time, Isaac_Newton), (Isaac_Newton, Light), (Light, Color), (Color, Rain...\n8  08888b1b428dd90e  1232241510             74                                                                      14th_century;Time;Light;Rainbow     3.0            3  14th_century              Rainbow                                              [(14th_century, Time), (Time, Light), (Light, Rainbow)]",
      "text/html": "<div>\n<style scoped>\n    .dataframe tbody tr th:only-of-type {\n        vertical-align: middle;\n    }\n\n    .dataframe tbody tr th {\n        vertical-align: top;\n    }\n\n    .dataframe thead th {\n        text-align: right;\n    }\n</style>\n<table border=\"1\" class=\"dataframe\">\n  <thead>\n    <tr style=\"text-align: right;\">\n      <th></th>\n      <th>hashedIpAddress</th>\n      <th>timestamp</th>\n      <th>durationInSec</th>\n      <th>path</th>\n      <th>rating</th>\n      <th>path_length</th>\n      <th>source</th>\n      <th>destination</th>\n      <th>path_pair</th>\n    </tr>\n  </thead>\n  <tbody>\n    <tr>\n      <th>1</th>\n      <td>3824310e536af032</td>\n      <td>1344753412</td>\n      <td>88</td>\n      <td>14th_century;Europe;Africa;Atlantic_slave_trade;African_slave_trade</td>\n      <td>3.0</td>\n      <td>4</td>\n      <td>14th_century</td>\n      <td>African_slave_trade</td>\n      <td>[(14th_century, Europe), (Europe, Africa), (Africa, Atlantic_slave_trade), (Atlantic_slave_trade...</td>\n    </tr>\n    <tr>\n      <th>4</th>\n      <td>015245d773376aab</td>\n      <td>1366730828</td>\n      <td>175</td>\n      <td>14th_century;Italy;Roman_Catholic_Church;HIV;Ronald_Reagan;President_of_the_United_States;John_F...</td>\n      <td>3.0</td>\n      <td>6</td>\n      <td>14th_century</td>\n      <td>John_F._Kennedy</td>\n      <td>[(14th_century, Italy), (Italy, Roman_Catholic_Church), (Roman_Catholic_Church, HIV), (HIV, Rona...</td>\n    </tr>\n    <tr>\n      <th>6</th>\n      <td>36dabfa133b20e3c</td>\n      <td>1249525912</td>\n      <td>112</td>\n      <td>14th_century;China;Gunpowder;Fire</td>\n      <td>2.0</td>\n      <td>3</td>\n      <td>14th_century</td>\n      <td>Fire</td>\n      <td>[(14th_century, China), (China, Gunpowder), (Gunpowder, Fire)]</td>\n    </tr>\n    <tr>\n      <th>7</th>\n      <td>20418ff4797f96be</td>\n      <td>1229188046</td>\n      <td>139</td>\n      <td>14th_century;Time;Isaac_Newton;Light;Color;Rainbow</td>\n      <td>1.0</td>\n      <td>5</td>\n      <td>14th_century</td>\n      <td>Rainbow</td>\n      <td>[(14th_century, Time), (Time, Isaac_Newton), (Isaac_Newton, Light), (Light, Color), (Color, Rain...</td>\n    </tr>\n    <tr>\n      <th>8</th>\n      <td>08888b1b428dd90e</td>\n      <td>1232241510</td>\n      <td>74</td>\n      <td>14th_century;Time;Light;Rainbow</td>\n      <td>3.0</td>\n      <td>3</td>\n      <td>14th_century</td>\n      <td>Rainbow</td>\n      <td>[(14th_century, Time), (Time, Light), (Light, Rainbow)]</td>\n    </tr>\n  </tbody>\n</table>\n</div>"
     },
     "execution_count": 76,
     "metadata": {},
     "output_type": "execute_result"
    }
   ],
   "source": [
    "## Is rating related to steps?\n",
    "\n",
    "# use only data with rating\n",
    "df_rate = df_finished_path_rm_outlier[df_finished_path_rm_outlier['rating']>0]\n",
    "df_rate.head()"
   ],
   "metadata": {
    "collapsed": false
   }
  },
  {
   "cell_type": "markdown",
   "source": [
    "We draw the boxplot with the variable data path_length and rating."
   ],
   "metadata": {
    "collapsed": false
   }
  },
  {
   "cell_type": "code",
   "execution_count": 83,
   "outputs": [
    {
     "name": "stdout",
     "output_type": "stream",
     "text": [
      "Average steps for each rating\n",
      "rating = 1\n",
      "number: 8542 mean: 3.6661203465230625\n",
      "rating = 2\n",
      "number: 8792 mean: 5.001592356687898\n",
      "rating = 3\n",
      "number: 7261 mean: 6.645503374190882\n",
      "rating = 4\n",
      "number: 2746 mean: 9.02804078659869\n",
      "rating = 5\n",
      "number: 1150 mean: 11.475652173913044\n"
     ]
    }
   ],
   "source": [
    "print('Average steps for each rating')\n",
    "for i in range(5):\n",
    "    print('rating =',i+1)\n",
    "    print('number:',df_rate[df_rate.rating == i+1].path_length.count(), 'mean:',df_rate[df_rate.rating == i+1].path_length.mean())"
   ],
   "metadata": {
    "collapsed": false
   }
  },
  {
   "cell_type": "code",
   "execution_count": 84,
   "outputs": [
    {
     "data": {
      "text/plain": "Text(0.5, 0, 'rating')"
     },
     "execution_count": 84,
     "metadata": {},
     "output_type": "execute_result"
    },
    {
     "data": {
      "text/plain": "<Figure size 640x480 with 1 Axes>",
      "image/png": "[encoded data removed]"
     },
     "metadata": {},
     "output_type": "display_data"
    }
   ],
   "source": [
    "# df_rate.plot.scatter(x='steps', y='rating')\n",
    "df_rate.boxplot(column=['path_length'], by=['rating'])\n",
    "plt.xlabel(\"rating\")\n",
    "plt.ylabel(\"path_length\")\n",
    "plt.title(\"Boxplot of Path Length and Rating\")"
   ],
   "metadata": {
    "collapsed": false
   }
  },
  {
   "cell_type": "markdown",
   "source": [
    "From the above plot, we find that the rating is related to the path length. And longer path will have a higher rate. We will delve this part in our later project."
   ],
   "metadata": {
    "collapsed": false
   }
  },
  {
   "cell_type": "markdown",
   "source": [
    "**2. categories.tsv**"
   ],
   "metadata": {
    "collapsed": false
   }
  },
  {
   "cell_type": "markdown",
   "source": [
    "We calculate the hierarchical depth of variable category"
   ],
   "metadata": {
    "collapsed": false
   }
  },
  {
   "cell_type": "code",
   "execution_count": 66,
   "outputs": [],
   "source": [
    "def calculate_category_length(x):\n",
    "    string_array = x.split('.')\n",
    "    return len(string_array)\n",
    "\n",
    "\n",
    "df_catagories['category_length'] = df_catagories['category'].apply(calculate_category_length)"
   ],
   "metadata": {
    "collapsed": false
   }
  },
  {
   "cell_type": "code",
   "execution_count": 67,
   "outputs": [
    {
     "data": {
      "text/plain": "                           articles                                                                                 category  category_length\n0  %C3%81ed%C3%A1n_mac_Gabr%C3%A1in  subject.History.British_History.British_History_1500_and_before_including_Roman_Britain                4\n1  %C3%81ed%C3%A1n_mac_Gabr%C3%A1in                                                        subject.People.Historical_figures                3\n2                        %C3%85land                                                                        subject.Countries                2\n3                        %C3%85land                                  subject.Geography.European_Geography.European_Countries                4\n4                %C3%89douard_Manet                                                                   subject.People.Artists                3",
      "text/html": "<div>\n<style scoped>\n    .dataframe tbody tr th:only-of-type {\n        vertical-align: middle;\n    }\n\n    .dataframe tbody tr th {\n        vertical-align: top;\n    }\n\n    .dataframe thead th {\n        text-align: right;\n    }\n</style>\n<table border=\"1\" class=\"dataframe\">\n  <thead>\n    <tr style=\"text-align: right;\">\n      <th></th>\n      <th>articles</th>\n      <th>category</th>\n      <th>category_length</th>\n    </tr>\n  </thead>\n  <tbody>\n    <tr>\n      <th>0</th>\n      <td>%C3%81ed%C3%A1n_mac_Gabr%C3%A1in</td>\n      <td>subject.History.British_History.British_History_1500_and_before_including_Roman_Britain</td>\n      <td>4</td>\n    </tr>\n    <tr>\n      <th>1</th>\n      <td>%C3%81ed%C3%A1n_mac_Gabr%C3%A1in</td>\n      <td>subject.People.Historical_figures</td>\n      <td>3</td>\n    </tr>\n    <tr>\n      <th>2</th>\n      <td>%C3%85land</td>\n      <td>subject.Countries</td>\n      <td>2</td>\n    </tr>\n    <tr>\n      <th>3</th>\n      <td>%C3%85land</td>\n      <td>subject.Geography.European_Geography.European_Countries</td>\n      <td>4</td>\n    </tr>\n    <tr>\n      <th>4</th>\n      <td>%C3%89douard_Manet</td>\n      <td>subject.People.Artists</td>\n      <td>3</td>\n    </tr>\n  </tbody>\n</table>\n</div>"
     },
     "execution_count": 67,
     "metadata": {},
     "output_type": "execute_result"
    }
   ],
   "source": [
    "df_catagories.head(10)"
   ],
   "metadata": {
    "collapsed": false
   }
  },
  {
   "cell_type": "markdown",
   "source": [
    "Dataframe **df_catagories** variables\n",
    "\n",
    "`articles`: the name of the article\n",
    "\n",
    "`category`: the category that the article belongs to\n",
    "\n",
    "`category_length`: the hierarchical depth of the variable category"
   ],
   "metadata": {
    "collapsed": false
   }
  },
  {
   "cell_type": "markdown",
   "source": [
    "Analyze the data in dataframe df_catagories"
   ],
   "metadata": {
    "collapsed": false
   }
  },
  {
   "cell_type": "markdown",
   "source": [
    "##### Variable: category_length"
   ],
   "metadata": {
    "collapsed": false
   }
  },
  {
   "cell_type": "markdown",
   "source": [
    "We first count the frequency according to the variable category_length. There are 274 articles which category depth equals to 2. 3448 articles which category depth equals to 3. 1482 articles which category depth equals to 4."
   ],
   "metadata": {
    "collapsed": false
   }
  },
  {
   "cell_type": "code",
   "execution_count": 69,
   "outputs": [
    {
     "data": {
      "text/plain": "3    3448\n4    1482\n2     274\nName: category_length, dtype: int64"
     },
     "execution_count": 69,
     "metadata": {},
     "output_type": "execute_result"
    }
   ],
   "source": [
    "df_catagories['category_length'].value_counts()"
   ],
   "metadata": {
    "collapsed": false
   }
  },
  {
   "cell_type": "markdown",
   "source": [
    "Then, we check the category with different depth in details."
   ],
   "metadata": {
    "collapsed": false
   }
  },
  {
   "cell_type": "code",
   "execution_count": 70,
   "outputs": [],
   "source": [
    "category_dict_1 = {}\n",
    "category_dict_2 = {}\n",
    "category_dict_3 = {}\n",
    "\n",
    "for index, row in df_catagories['category'].items():\n",
    "    string_path_pair = []\n",
    "    string_array = row.split(\".\")\n",
    "    for index in range(len(string_array)):\n",
    "        if index == 1:\n",
    "            category_dict_1[string_array[index]] = category_dict_1.get(string_array[index], 0) + 1\n",
    "        elif index == 2:\n",
    "            category_dict_2[string_array[index]] = category_dict_2.get(string_array[index], 0) + 1\n",
    "        elif index == 3:\n",
    "            category_dict_3[string_array[index]] = category_dict_3.get(string_array[index], 0) + 1"
   ],
   "metadata": {
    "collapsed": false
   }
  },
  {
   "cell_type": "markdown",
   "source": [
    "We check the categories at the depth 1. Key is the category and the value is the number of articles in this cateogory."
   ],
   "metadata": {
    "collapsed": false
   }
  },
  {
   "cell_type": "code",
   "execution_count": 72,
   "outputs": [
    {
     "name": "stdout",
     "output_type": "stream",
     "text": [
      "There are 15 categories at depth 1\n"
     ]
    },
    {
     "data": {
      "text/plain": "{'History': 545,\n 'People': 689,\n 'Countries': 229,\n 'Geography': 1084,\n 'Business_Studies': 88,\n 'Science': 1122,\n 'Everyday_life': 374,\n 'Design_and_Technology': 254,\n 'Music': 97,\n 'IT': 85,\n 'Language_and_literature': 196,\n 'Mathematics': 45,\n 'Religion': 134,\n 'Art': 38,\n 'Citizenship': 224}"
     },
     "execution_count": 72,
     "metadata": {},
     "output_type": "execute_result"
    }
   ],
   "source": [
    "print(\"There are {} categories at depth 1\".format(len(category_dict_1)))\n",
    "category_dict_1"
   ],
   "metadata": {
    "collapsed": false
   }
  },
  {
   "cell_type": "markdown",
   "source": [
    "We check the categories at the depth 2. Key is the category and the value is the number of articles in this cateogory."
   ],
   "metadata": {
    "collapsed": false
   }
  },
  {
   "cell_type": "code",
   "execution_count": 73,
   "outputs": [
    {
     "name": "stdout",
     "output_type": "stream",
     "text": [
      "There are 101 categories at depth 2\n"
     ]
    },
    {
     "data": {
      "text/plain": "{'British_History': 158,\n 'Historical_figures': 108,\n 'European_Geography': 139,\n 'Artists': 38,\n 'Currency': 14,\n 'General_history': 80,\n 'Military_History_and_War': 71,\n 'Physics': 226,\n 'Sports_events': 22,\n 'Storms': 33,\n 'Recent_History': 48,\n 'Geology_and_geophysics': 76,\n 'Natural_Disasters': 39,\n 'Railway_transport': 84,\n 'Sports_and_games_people': 45,\n 'Biology': 704,\n 'Performers_and_composers': 59,\n 'Computing_hardware_and_infrastructure': 20,\n 'Companies': 18,\n 'Novels': 39,\n 'Musical_genres_styles_eras_and_events': 46,\n 'Everyday_life': 27,\n 'Geography_of_the_Middle_East': 36,\n 'Ancient_History_Classical_History_and_Mythology': 87,\n 'Religious_movements_traditions_and_organizations': 35,\n 'Theatre': 32,\n 'Geographers_and_explorers': 21,\n 'Geography_of_Great_Britain': 124,\n 'Religious_texts': 18,\n 'African_Geography': 137,\n 'Geography_of_Asia': 106,\n 'Writers_and_critics': 71,\n 'USA_Presidents': 37,\n 'Drink': 15,\n 'Art': 36,\n 'Business': 28,\n 'Chemistry': 192,\n 'Environment': 26,\n 'General_Geography': 65,\n 'Economics': 28,\n 'Geography_of_Oceania_Australasia': 58,\n 'Religious_figures_and_leaders': 39,\n 'Political_People': 67,\n 'Literature_types': 17,\n 'Politics_and_government': 97,\n 'Languages': 47,\n 'Philosophy': 24,\n 'Websites_and_the_Internet': 21,\n 'Food_and_agriculture': 97,\n 'Air_and_Sea_transport': 24,\n 'Computer_Programming': 15,\n 'Producers_directors_and_media_figures': 8,\n 'Media': 11,\n 'Mathematicians': 15,\n 'Astronomers_and_physicists': 21,\n 'Engineers_and_inventors': 25,\n 'Pre_1900_Military': 27,\n 'Religious_disputes': 19,\n 'Military_People': 22,\n 'Chemists': 8,\n 'Monarchs_of_Great_Britain': 43,\n 'Sports_teams': 16,\n 'Musical_Recordings_and_compositions': 18,\n 'Divinities': 21,\n 'Poetry_and_Opera': 30,\n 'Linguistics': 15,\n 'Engineering': 74,\n 'North_American_Geography': 103,\n 'Central_and_South_American_Geography': 83,\n 'Mineralogy': 17,\n 'Sports': 32,\n 'Peoples': 22,\n 'Actors_models_and_celebrities': 25,\n 'Architecture': 53,\n 'Animal_and_Human_Rights': 17,\n 'Computer_and_Video_games': 26,\n 'Films': 36,\n 'World_War_II': 31,\n 'Antarctica': 8,\n 'Conflict_and_Peace': 10,\n 'General_Literature': 16,\n 'Archaeology': 11,\n 'Software': 23,\n 'Philosophers': 23,\n 'Recreation': 21,\n 'Historians_chroniclers_and_history_books': 10,\n 'Human_Scientists': 23,\n 'Myths': 17,\n 'Road_transport': 19,\n 'Climate_and_the_Weather': 38,\n 'Television': 41,\n 'Games': 21,\n 'Community_organisations': 11,\n 'Musical_Instruments': 17,\n 'Cartoons': 20,\n 'Computing_People': 9,\n 'Cryptography': 6,\n 'Law': 19,\n 'North_American_History': 22,\n 'Culture_and_Diversity': 16,\n 'Education': 17}"
     },
     "execution_count": 73,
     "metadata": {},
     "output_type": "execute_result"
    }
   ],
   "source": [
    "print(\"There are {} categories at depth 2\".format(len(category_dict_2)))\n",
    "category_dict_2"
   ],
   "metadata": {
    "collapsed": false
   }
  },
  {
   "cell_type": "markdown",
   "source": [
    "We check the categories at the depth 3. Key is the category and the value is the number of articles in this cateogory."
   ],
   "metadata": {
    "collapsed": false
   }
  },
  {
   "cell_type": "code",
   "execution_count": 74,
   "outputs": [
    {
     "name": "stdout",
     "output_type": "stream",
     "text": [
      "There are 27 categories at depth 3\n"
     ]
    },
    {
     "data": {
      "text/plain": "{'British_History_1500_and_before_including_Roman_Britain': 73,\n 'European_Countries': 56,\n 'Space_Astronomy': 105,\n 'Health_and_medicine': 109,\n 'General_Physics': 55,\n 'Mammals': 114,\n 'Plants': 108,\n 'British_History_15001750': 29,\n 'Asian_Countries': 37,\n 'Middle_Eastern_Countries': 18,\n 'Chemical_compounds': 42,\n 'Chemical_elements': 119,\n 'General_Biology': 51,\n 'Birds': 161,\n 'Insects_Reptiles_and_Fish': 72,\n 'Dinosaurs': 59,\n 'General_Chemistry': 21,\n 'African_Countries': 57,\n 'Central_and_South_American_Countries': 48,\n 'Space_transport': 33,\n 'British_History_17501900': 24,\n 'Organisms': 19,\n 'British_History_Post_1900': 18,\n 'Electricity_and_Electronics': 20,\n 'Evolution_and_reproduction': 11,\n 'Materials_science': 10,\n 'The_Planets': 13}"
     },
     "execution_count": 74,
     "metadata": {},
     "output_type": "execute_result"
    }
   ],
   "source": [
    "print(\"There are {} categories at depth 3\".format(len(category_dict_3)))\n",
    "category_dict_3"
   ],
   "metadata": {
    "collapsed": false
   }
  },
  {
   "cell_type": "markdown",
   "source": [
    "**3. articles.tsv**"
   ],
   "metadata": {
    "collapsed": false
   }
  },
  {
   "cell_type": "markdown",
   "source": [
    "We create the column **num** as the number index"
   ],
   "metadata": {
    "collapsed": false
   }
  },
  {
   "cell_type": "code",
   "execution_count": 96,
   "outputs": [],
   "source": [
    "## record index and change index to articles names\n",
    "\n",
    "df_article['num'] = df_article.index.copy(deep = True)\n",
    "df_article.index = df_article['articles']"
   ],
   "metadata": {
    "collapsed": false
   }
  },
  {
   "cell_type": "markdown",
   "source": [
    "Change the withdraw operation to -1"
   ],
   "metadata": {
    "collapsed": false
   }
  },
  {
   "cell_type": "code",
   "execution_count": 99,
   "outputs": [],
   "source": [
    "## add withdraw '<'\n",
    "df_article.loc['<'] = -1"
   ],
   "metadata": {
    "collapsed": false
   }
  },
  {
   "cell_type": "code",
   "execution_count": 100,
   "outputs": [
    {
     "data": {
      "text/plain": "                                                          articles  num\narticles                                                               \n%C3%81ed%C3%A1n_mac_Gabr%C3%A1in  %C3%81ed%C3%A1n_mac_Gabr%C3%A1in    0\n%C3%85land                                              %C3%85land    1\n%C3%89douard_Manet                              %C3%89douard_Manet    2\n%C3%89ire                                                %C3%89ire    3\n%C3%93engus_I_of_the_Picts              %C3%93engus_I_of_the_Picts    4\n%E2%82%AC2_commemorative_coins      %E2%82%AC2_commemorative_coins    5\n10th_century                                          10th_century    6\n11th_century                                          11th_century    7\n12th_century                                          12th_century    8\n13th_century                                          13th_century    9",
      "text/html": "<div>\n<style scoped>\n    .dataframe tbody tr th:only-of-type {\n        vertical-align: middle;\n    }\n\n    .dataframe tbody tr th {\n        vertical-align: top;\n    }\n\n    .dataframe thead th {\n        text-align: right;\n    }\n</style>\n<table border=\"1\" class=\"dataframe\">\n  <thead>\n    <tr style=\"text-align: right;\">\n      <th></th>\n      <th>articles</th>\n      <th>num</th>\n    </tr>\n    <tr>\n      <th>articles</th>\n      <th></th>\n      <th></th>\n    </tr>\n  </thead>\n  <tbody>\n    <tr>\n      <th>%C3%81ed%C3%A1n_mac_Gabr%C3%A1in</th>\n      <td>%C3%81ed%C3%A1n_mac_Gabr%C3%A1in</td>\n      <td>0</td>\n    </tr>\n    <tr>\n      <th>%C3%85land</th>\n      <td>%C3%85land</td>\n      <td>1</td>\n    </tr>\n    <tr>\n      <th>%C3%89douard_Manet</th>\n      <td>%C3%89douard_Manet</td>\n      <td>2</td>\n    </tr>\n    <tr>\n      <th>%C3%89ire</th>\n      <td>%C3%89ire</td>\n      <td>3</td>\n    </tr>\n    <tr>\n      <th>%C3%93engus_I_of_the_Picts</th>\n      <td>%C3%93engus_I_of_the_Picts</td>\n      <td>4</td>\n    </tr>\n    <tr>\n      <th>%E2%82%AC2_commemorative_coins</th>\n      <td>%E2%82%AC2_commemorative_coins</td>\n      <td>5</td>\n    </tr>\n    <tr>\n      <th>10th_century</th>\n      <td>10th_century</td>\n      <td>6</td>\n    </tr>\n    <tr>\n      <th>11th_century</th>\n      <td>11th_century</td>\n      <td>7</td>\n    </tr>\n    <tr>\n      <th>12th_century</th>\n      <td>12th_century</td>\n      <td>8</td>\n    </tr>\n    <tr>\n      <th>13th_century</th>\n      <td>13th_century</td>\n      <td>9</td>\n    </tr>\n  </tbody>\n</table>\n</div>"
     },
     "execution_count": 100,
     "metadata": {},
     "output_type": "execute_result"
    }
   ],
   "source": [
    "df_article.head(10)"
   ],
   "metadata": {
    "collapsed": false
   }
  }
 ],
 "metadata": {
  "kernelspec": {
   "display_name": "Python 3",
   "language": "python",
   "name": "python3"
  },
  "language_info": {
   "codemirror_mode": {
    "name": "ipython",
    "version": 2
   },
   "file_extension": ".py",
   "mimetype": "text/x-python",
   "name": "python",
   "nbconvert_exporter": "python",
   "pygments_lexer": "ipython2",
   "version": "2.7.6"
  }
 },
 "nbformat": 4,
 "nbformat_minor": 0
}
