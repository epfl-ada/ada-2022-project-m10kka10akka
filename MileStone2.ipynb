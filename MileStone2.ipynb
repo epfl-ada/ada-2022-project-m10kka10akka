{
 "cells": [
  {
   "cell_type": "markdown",
   "metadata": {},
   "source": [
    "# ADA Project: MileStone2"
   ]
  },
  {
   "cell_type": "markdown",
   "metadata": {},
   "source": [
    "## While way-finding in information network, human is a *Genius* or a *Lazybone*?"
   ]
  },
  {
   "cell_type": "markdown",
   "metadata": {},
   "source": [
    "*Wikipeedia* is a human-computation game based on articles in Wikipedia. Users are asked to navigate from a source article to a specific target one, through clicking the links appeared in each Wikipedia article. Different from how a computer plays the game, humans will not always choose the shortest path to reach the destination word from the source one.\n",
    "We summary the human's \"clicking process\" into two main steps:\n",
    "<ol>\n",
    "<li>People first establish a logical chain (clear or blurry) which connect the source word to the destination, preliminarily. This part is based on people's priori knowledge.</li>\n",
    "<br>\n",
    "<li>While scanning the HTML page, people change their initial logical chain and finish their \"clicking task\". People make their shift according to the HTML they see, i.e. textplain, images in the page. </li>\n",
    "</ol>"
   ]
  },
  {
   "cell_type": "markdown",
   "metadata": {},
   "source": [
    "We will process our analyse according to this two steps. In the first part, we use the model LDA to grasp points about how people link the source and target. In the second stage, we analyze the finished path and unfinished path to find people's clicking tendency based on the article they scan."
   ]
  },
  {
   "cell_type": "markdown",
   "metadata": {},
   "source": [
    "### Content\n",
    "\n",
    "1. Basic analysis on the dataset\n",
    "2. Logical chain exploration using the LDA model\n",
    "3. Clicking tendency based on HTML pages\n"
   ]
  },
  {
   "cell_type": "markdown",
   "metadata": {},
   "source": [
    "### Useful libraries"
   ]
  },
  {
   "cell_type": "code",
   "execution_count": 1,
   "metadata": {
    "collapsed": false,
    "jupyter": {
     "outputs_hidden": false
    }
   },
   "outputs": [],
   "source": [
    "# Utilitaries\n",
    "import pandas as pd\n",
    "import os\n",
    "\n",
    "# Math\n",
    "import numpy as np\n",
    "from scipy import stats\n",
    "\n",
    "# Plot\n",
    "import matplotlib.pyplot as plt\n",
    "\n",
    "# Seaborn\n",
    "import seaborn as sns\n",
    "\n",
    "\n",
    "%load_ext autoreload\n",
    "%autoreload 2"
   ]
  },
  {
   "cell_type": "code",
   "execution_count": 2,
   "metadata": {
    "collapsed": false,
    "jupyter": {
     "outputs_hidden": false
    }
   },
   "outputs": [],
   "source": [
    "pd.options.mode.chained_assignment = None  # default='warn'\n",
    "pd.set_option('display.max_columns', None)\n",
    "pd.set_option('display.max_rows', None)\n",
    "pd.set_option('display.expand_frame_repr', False)\n",
    "pd.set_option('display.max_colwidth', 100)"
   ]
  },
  {
   "cell_type": "markdown",
   "metadata": {
    "tags": []
   },
   "source": [
    "### Data Importation"
   ]
  },
  {
   "cell_type": "markdown",
   "metadata": {},
   "source": [
    "We will import the data in file \"paths_finished.tsv\", \"article.tsv\", \"categories.tsv\" and \"paths_finished.tsv\" into DataFrame and we load \"shortest-path-distance-matrix.txt\" and store it as NxN matric where N is the number of the articles."
   ]
  },
  {
   "cell_type": "code",
   "execution_count": 4,
   "metadata": {
    "collapsed": false,
    "jupyter": {
     "outputs_hidden": false
    }
   },
   "outputs": [
    {
     "data": {
      "text/html": [
       "<div>\n",
       "<style scoped>\n",
       "    .dataframe tbody tr th:only-of-type {\n",
       "        vertical-align: middle;\n",
       "    }\n",
       "\n",
       "    .dataframe tbody tr th {\n",
       "        vertical-align: top;\n",
       "    }\n",
       "\n",
       "    .dataframe thead th {\n",
       "        text-align: right;\n",
       "    }\n",
       "</style>\n",
       "<table border=\"1\" class=\"dataframe\">\n",
       "  <thead>\n",
       "    <tr style=\"text-align: right;\">\n",
       "      <th></th>\n",
       "      <th>hashedIpAddress</th>\n",
       "      <th>timestamp</th>\n",
       "      <th>durationInSec</th>\n",
       "      <th>path</th>\n",
       "      <th>rating</th>\n",
       "    </tr>\n",
       "  </thead>\n",
       "  <tbody>\n",
       "    <tr>\n",
       "      <th>0</th>\n",
       "      <td>6a3701d319fc3754</td>\n",
       "      <td>1297740409</td>\n",
       "      <td>166</td>\n",
       "      <td>14th_century;15th_century;16th_century;Pacific_Ocean;Atlantic_Ocean;Accra;Africa;Atlantic_slave_...</td>\n",
       "      <td>NaN</td>\n",
       "    </tr>\n",
       "    <tr>\n",
       "      <th>1</th>\n",
       "      <td>3824310e536af032</td>\n",
       "      <td>1344753412</td>\n",
       "      <td>88</td>\n",
       "      <td>14th_century;Europe;Africa;Atlantic_slave_trade;African_slave_trade</td>\n",
       "      <td>3.0</td>\n",
       "    </tr>\n",
       "    <tr>\n",
       "      <th>2</th>\n",
       "      <td>415612e93584d30e</td>\n",
       "      <td>1349298640</td>\n",
       "      <td>138</td>\n",
       "      <td>14th_century;Niger;Nigeria;British_Empire;Slavery;Africa;Atlantic_slave_trade;African_slave_trade</td>\n",
       "      <td>NaN</td>\n",
       "    </tr>\n",
       "    <tr>\n",
       "      <th>3</th>\n",
       "      <td>64dd5cd342e3780c</td>\n",
       "      <td>1265613925</td>\n",
       "      <td>37</td>\n",
       "      <td>14th_century;Renaissance;Ancient_Greece;Greece</td>\n",
       "      <td>NaN</td>\n",
       "    </tr>\n",
       "    <tr>\n",
       "      <th>4</th>\n",
       "      <td>015245d773376aab</td>\n",
       "      <td>1366730828</td>\n",
       "      <td>175</td>\n",
       "      <td>14th_century;Italy;Roman_Catholic_Church;HIV;Ronald_Reagan;President_of_the_United_States;John_F...</td>\n",
       "      <td>3.0</td>\n",
       "    </tr>\n",
       "  </tbody>\n",
       "</table>\n",
       "</div>"
      ],
      "text/plain": [
       "    hashedIpAddress   timestamp  durationInSec                                                                                                 path  rating\n",
       "0  6a3701d319fc3754  1297740409            166  14th_century;15th_century;16th_century;Pacific_Ocean;Atlantic_Ocean;Accra;Africa;Atlantic_slave_...     NaN\n",
       "1  3824310e536af032  1344753412             88                                  14th_century;Europe;Africa;Atlantic_slave_trade;African_slave_trade     3.0\n",
       "2  415612e93584d30e  1349298640            138    14th_century;Niger;Nigeria;British_Empire;Slavery;Africa;Atlantic_slave_trade;African_slave_trade     NaN\n",
       "3  64dd5cd342e3780c  1265613925             37                                                       14th_century;Renaissance;Ancient_Greece;Greece     NaN\n",
       "4  015245d773376aab  1366730828            175  14th_century;Italy;Roman_Catholic_Church;HIV;Ronald_Reagan;President_of_the_United_States;John_F...     3.0"
      ]
     },
     "execution_count": 4,
     "metadata": {},
     "output_type": "execute_result"
    }
   ],
   "source": [
    "# Reading the 'paths_finished.tsv' file as a pandas dataframe\n",
    "PATH_DATASET = \"./data\"\n",
    "fname = os.path.join(PATH_DATASET, 'wikispeedia_paths-and-graph/paths_finished.tsv')\n",
    "df_finished_path = pd.read_csv(\"./data/wikispeedia_paths-and-graph/paths_finished.tsv\", sep='\\t', comment = '#', header=None, names = ['hashedIpAddress','timestamp','durationInSec','path','rating'], encoding = 'UTF-8')\n",
    "\n",
    "df_finished_path.head()"
   ]
  },
  {
   "cell_type": "code",
   "execution_count": 5,
   "metadata": {
    "collapsed": false,
    "jupyter": {
     "outputs_hidden": false
    }
   },
   "outputs": [
    {
     "data": {
      "text/html": [
       "<div>\n",
       "<style scoped>\n",
       "    .dataframe tbody tr th:only-of-type {\n",
       "        vertical-align: middle;\n",
       "    }\n",
       "\n",
       "    .dataframe tbody tr th {\n",
       "        vertical-align: top;\n",
       "    }\n",
       "\n",
       "    .dataframe thead th {\n",
       "        text-align: right;\n",
       "    }\n",
       "</style>\n",
       "<table border=\"1\" class=\"dataframe\">\n",
       "  <thead>\n",
       "    <tr style=\"text-align: right;\">\n",
       "      <th></th>\n",
       "      <th>articles</th>\n",
       "      <th>category</th>\n",
       "    </tr>\n",
       "  </thead>\n",
       "  <tbody>\n",
       "    <tr>\n",
       "      <th>0</th>\n",
       "      <td>%C3%81ed%C3%A1n_mac_Gabr%C3%A1in</td>\n",
       "      <td>subject.History.British_History.British_History_1500_and_before_including_Roman_Britain</td>\n",
       "    </tr>\n",
       "    <tr>\n",
       "      <th>1</th>\n",
       "      <td>%C3%81ed%C3%A1n_mac_Gabr%C3%A1in</td>\n",
       "      <td>subject.People.Historical_figures</td>\n",
       "    </tr>\n",
       "    <tr>\n",
       "      <th>2</th>\n",
       "      <td>%C3%85land</td>\n",
       "      <td>subject.Countries</td>\n",
       "    </tr>\n",
       "    <tr>\n",
       "      <th>3</th>\n",
       "      <td>%C3%85land</td>\n",
       "      <td>subject.Geography.European_Geography.European_Countries</td>\n",
       "    </tr>\n",
       "    <tr>\n",
       "      <th>4</th>\n",
       "      <td>%C3%89douard_Manet</td>\n",
       "      <td>subject.People.Artists</td>\n",
       "    </tr>\n",
       "  </tbody>\n",
       "</table>\n",
       "</div>"
      ],
      "text/plain": [
       "                           articles                                                                                 category\n",
       "0  %C3%81ed%C3%A1n_mac_Gabr%C3%A1in  subject.History.British_History.British_History_1500_and_before_including_Roman_Britain\n",
       "1  %C3%81ed%C3%A1n_mac_Gabr%C3%A1in                                                        subject.People.Historical_figures\n",
       "2                        %C3%85land                                                                        subject.Countries\n",
       "3                        %C3%85land                                  subject.Geography.European_Geography.European_Countries\n",
       "4                %C3%89douard_Manet                                                                   subject.People.Artists"
      ]
     },
     "execution_count": 5,
     "metadata": {},
     "output_type": "execute_result"
    }
   ],
   "source": [
    "# Reading the 'categories.tsv' file as a pandas dataframe\n",
    "\n",
    "fname = os.path.join(PATH_DATASET, 'wikispeedia_paths-and-graph/categories.tsv')\n",
    "df_categories = pd.read_csv(fname, sep = '\\t', comment = '#', header = None, names = ['articles','category'], encoding = 'UTF-8')\n",
    "df_categories.head()"
   ]
  },
  {
   "cell_type": "code",
   "execution_count": 70,
   "metadata": {
    "collapsed": false,
    "jupyter": {
     "outputs_hidden": false
    }
   },
   "outputs": [
    {
     "data": {
      "text/html": [
       "<div>\n",
       "<style scoped>\n",
       "    .dataframe tbody tr th:only-of-type {\n",
       "        vertical-align: middle;\n",
       "    }\n",
       "\n",
       "    .dataframe tbody tr th {\n",
       "        vertical-align: top;\n",
       "    }\n",
       "\n",
       "    .dataframe thead th {\n",
       "        text-align: right;\n",
       "    }\n",
       "</style>\n",
       "<table border=\"1\" class=\"dataframe\">\n",
       "  <thead>\n",
       "    <tr style=\"text-align: right;\">\n",
       "      <th></th>\n",
       "      <th>articles</th>\n",
       "    </tr>\n",
       "  </thead>\n",
       "  <tbody>\n",
       "    <tr>\n",
       "      <th>0</th>\n",
       "      <td>%C3%81ed%C3%A1n_mac_Gabr%C3%A1in</td>\n",
       "    </tr>\n",
       "    <tr>\n",
       "      <th>1</th>\n",
       "      <td>%C3%85land</td>\n",
       "    </tr>\n",
       "    <tr>\n",
       "      <th>2</th>\n",
       "      <td>%C3%89douard_Manet</td>\n",
       "    </tr>\n",
       "    <tr>\n",
       "      <th>3</th>\n",
       "      <td>%C3%89ire</td>\n",
       "    </tr>\n",
       "    <tr>\n",
       "      <th>4</th>\n",
       "      <td>%C3%93engus_I_of_the_Picts</td>\n",
       "    </tr>\n",
       "  </tbody>\n",
       "</table>\n",
       "</div>"
      ],
      "text/plain": [
       "                           articles\n",
       "0  %C3%81ed%C3%A1n_mac_Gabr%C3%A1in\n",
       "1                        %C3%85land\n",
       "2                %C3%89douard_Manet\n",
       "3                         %C3%89ire\n",
       "4        %C3%93engus_I_of_the_Picts"
      ]
     },
     "execution_count": 70,
     "metadata": {},
     "output_type": "execute_result"
    }
   ],
   "source": [
    "# Reading the 'articles.tsv' file as a pandas dataframe\n",
    "\n",
    "fname = os.path.join(PATH_DATASET, 'wikispeedia_paths-and-graph/articles.tsv')\n",
    "df_article = pd.read_csv(fname, sep = '\\t', comment = '#', header = None, names = ['articles'],encoding = 'UTF-8')\n",
    "df_article.head()"
   ]
  },
  {
   "cell_type": "code",
   "execution_count": 8,
   "metadata": {},
   "outputs": [
    {
     "data": {
      "text/html": [
       "<div>\n",
       "<style scoped>\n",
       "    .dataframe tbody tr th:only-of-type {\n",
       "        vertical-align: middle;\n",
       "    }\n",
       "\n",
       "    .dataframe tbody tr th {\n",
       "        vertical-align: top;\n",
       "    }\n",
       "\n",
       "    .dataframe thead th {\n",
       "        text-align: right;\n",
       "    }\n",
       "</style>\n",
       "<table border=\"1\" class=\"dataframe\">\n",
       "  <thead>\n",
       "    <tr style=\"text-align: right;\">\n",
       "      <th></th>\n",
       "      <th>hashedIpAddress</th>\n",
       "      <th>timestamp</th>\n",
       "      <th>durationInSec</th>\n",
       "      <th>path</th>\n",
       "      <th>target</th>\n",
       "      <th>type</th>\n",
       "    </tr>\n",
       "  </thead>\n",
       "  <tbody>\n",
       "    <tr>\n",
       "      <th>0</th>\n",
       "      <td>2426091a53125110</td>\n",
       "      <td>1297054935</td>\n",
       "      <td>1804</td>\n",
       "      <td>Obi-Wan_Kenobi</td>\n",
       "      <td>Microsoft</td>\n",
       "      <td>timeout</td>\n",
       "    </tr>\n",
       "    <tr>\n",
       "      <th>1</th>\n",
       "      <td>26141fd878806294</td>\n",
       "      <td>1297055651</td>\n",
       "      <td>1805</td>\n",
       "      <td>Julius_Caesar</td>\n",
       "      <td>Caracas</td>\n",
       "      <td>timeout</td>\n",
       "    </tr>\n",
       "    <tr>\n",
       "      <th>2</th>\n",
       "      <td>2b015fb8181c48f2</td>\n",
       "      <td>1297090819</td>\n",
       "      <td>1818</td>\n",
       "      <td>Malawi;Democracy;Alexander_the_Great</td>\n",
       "      <td>First_Crusade</td>\n",
       "      <td>timeout</td>\n",
       "    </tr>\n",
       "    <tr>\n",
       "      <th>3</th>\n",
       "      <td>53a53bc244e08a6a</td>\n",
       "      <td>1297094761</td>\n",
       "      <td>49</td>\n",
       "      <td>Paraguay</td>\n",
       "      <td>Mount_St._Helens</td>\n",
       "      <td>restart</td>\n",
       "    </tr>\n",
       "    <tr>\n",
       "      <th>4</th>\n",
       "      <td>53a53bc244e08a6a</td>\n",
       "      <td>1297099105</td>\n",
       "      <td>1808</td>\n",
       "      <td>Paraguay;Bolivia</td>\n",
       "      <td>Mount_St._Helens</td>\n",
       "      <td>timeout</td>\n",
       "    </tr>\n",
       "  </tbody>\n",
       "</table>\n",
       "</div>"
      ],
      "text/plain": [
       "    hashedIpAddress   timestamp  durationInSec                                  path            target     type\n",
       "0  2426091a53125110  1297054935           1804                        Obi-Wan_Kenobi         Microsoft  timeout\n",
       "1  26141fd878806294  1297055651           1805                         Julius_Caesar           Caracas  timeout\n",
       "2  2b015fb8181c48f2  1297090819           1818  Malawi;Democracy;Alexander_the_Great     First_Crusade  timeout\n",
       "3  53a53bc244e08a6a  1297094761             49                              Paraguay  Mount_St._Helens  restart\n",
       "4  53a53bc244e08a6a  1297099105           1808                      Paraguay;Bolivia  Mount_St._Helens  timeout"
      ]
     },
     "execution_count": 8,
     "metadata": {},
     "output_type": "execute_result"
    }
   ],
   "source": [
    "## Reading the 'paths_unfinished.tsv' file as a pandas dataframe\n",
    "\n",
    "fname = os.path.join(PATH_DATASET, 'wikispeedia_paths-and-graph/paths_unfinished.tsv')\n",
    "df_unfinished_path = pd.read_csv(fname, sep = '\\t', comment = '#', header = None, names = ['hashedIpAddress','timestamp','durationInSec','path','target','type'],encoding = 'UTF-8')\n",
    "df_unfinished_path.head()"
   ]
  },
  {
   "cell_type": "code",
   "execution_count": 9,
   "metadata": {},
   "outputs": [],
   "source": [
    "## shortest path matrix\n",
    "\n",
    "shortest_dist_path = './data/wikispeedia_paths-and-graph/shortest-path-distance-matrix.txt'\n",
    "with open(shortest_dist_path, \"r\", encoding='utf-8') as f:\n",
    "    txt_lines = [line.strip() for line in f.readlines()]\n",
    "    del txt_lines[0:17]\n",
    "shortest_dist_matrix = np.array(txt_lines)"
   ]
  },
  {
   "cell_type": "markdown",
   "metadata": {
    "tags": []
   },
   "source": [
    "### First glance at the data"
   ]
  },
  {
   "cell_type": "markdown",
   "metadata": {},
   "source": [
    "We first analyse each file, respectively. And then we will merge files together to delve more points."
   ]
  },
  {
   "cell_type": "markdown",
   "metadata": {},
   "source": [
    "#### Analyse each file independently. We will generate more datas in the dataframe.\n",
    "Files are \"paths_finished.tsv\" and \"categories.tsv\""
   ]
  },
  {
   "cell_type": "markdown",
   "metadata": {},
   "source": [
    "**1. paths_finished.tsv**"
   ]
  },
  {
   "cell_type": "markdown",
   "metadata": {},
   "source": [
    "Dataframe **df_finished_path** variables in this section\n",
    "\n",
    "`hashedIpAddress`: IP address in hashed format. It is the unique identifier.\n",
    "\n",
    "`timestamp`: timestamp when the game start. It is the unique identifier.\n",
    "\n",
    "`durationInSec`: time used by the player to finish the clicking task. Unit in second\n",
    "\n",
    "`path`: articles that player clicks during the game\n",
    "\n",
    "`rating`: score that the player get according to their path result\n",
    "\n",
    "`path_length`: length of the variable path\n",
    "\n",
    "`source`: the source article in the path\n",
    "\n",
    "`destination`: the target article in the path\n",
    "\n",
    "`path_pair`: article pair generated from the variable path"
   ]
  },
  {
   "cell_type": "markdown",
   "metadata": {},
   "source": [
    "We calculate the path length and store the value in column **path_length**. For example if the path is \"Yagan; Ancient_Egypt; Civilization\", the path length is 2."
   ]
  },
  {
   "cell_type": "code",
   "execution_count": 19,
   "metadata": {
    "collapsed": false,
    "jupyter": {
     "outputs_hidden": false
    }
   },
   "outputs": [],
   "source": [
    "def calculate_path_length(x):\n",
    "    string_array = x.split(';')\n",
    "    return len(string_array)-1\n",
    "\n",
    "df_finished_path['path_length'] = df_finished_path['path'].apply(calculate_path_length)"
   ]
  },
  {
   "cell_type": "markdown",
   "metadata": {},
   "source": [
    "We extract the source and the target word from the path and store them in column **source** and **destination**, respectively."
   ]
  },
  {
   "cell_type": "code",
   "execution_count": 20,
   "metadata": {
    "collapsed": false,
    "jupyter": {
     "outputs_hidden": false
    }
   },
   "outputs": [],
   "source": [
    "def path_source(x):\n",
    "    string_array = x.split(';')\n",
    "    return string_array[0]\n",
    "\n",
    "\n",
    "def path_destination(x):\n",
    "    string_array = x.split(';')\n",
    "    return string_array[-1]\n",
    "\n",
    "df_finished_path['source'] = df_finished_path['path'].apply(path_source)\n",
    "df_finished_path['destination'] = df_finished_path['path'].apply(path_destination)"
   ]
  },
  {
   "cell_type": "markdown",
   "metadata": {},
   "source": [
    "We construct the data \"path pair\". For example, if the path is \"A; B; C\", then the path pair will be [(A, B), (B, C)]"
   ]
  },
  {
   "cell_type": "code",
   "execution_count": 21,
   "metadata": {
    "collapsed": false,
    "jupyter": {
     "outputs_hidden": false
    }
   },
   "outputs": [],
   "source": [
    "df_finished_path['path_pair'] = None\n",
    "\n",
    "i = 0\n",
    "path_pair_dict = {}\n",
    "for index, row in df_finished_path['path'].items():\n",
    "    string_path_pair = []\n",
    "    string_array = row.split(\";\")\n",
    "    for pair_index in range(len(string_array) - 1):\n",
    "        string_pair = '(' + string_array[pair_index] + ', ' + string_array[pair_index + 1] + ')'\n",
    "        string_path_pair.append(string_pair)\n",
    "        path_pair_dict[string_pair] = path_pair_dict.get(string_pair, 0) + 1\n",
    "    df_finished_path['path_pair'][i] = string_path_pair\n",
    "    i += 1"
   ]
  },
  {
   "cell_type": "code",
   "execution_count": 22,
   "metadata": {
    "collapsed": false,
    "jupyter": {
     "outputs_hidden": false
    }
   },
   "outputs": [
    {
     "data": {
      "text/html": [
       "<div>\n",
       "<style scoped>\n",
       "    .dataframe tbody tr th:only-of-type {\n",
       "        vertical-align: middle;\n",
       "    }\n",
       "\n",
       "    .dataframe tbody tr th {\n",
       "        vertical-align: top;\n",
       "    }\n",
       "\n",
       "    .dataframe thead th {\n",
       "        text-align: right;\n",
       "    }\n",
       "</style>\n",
       "<table border=\"1\" class=\"dataframe\">\n",
       "  <thead>\n",
       "    <tr style=\"text-align: right;\">\n",
       "      <th></th>\n",
       "      <th>hashedIpAddress</th>\n",
       "      <th>timestamp</th>\n",
       "      <th>durationInSec</th>\n",
       "      <th>path</th>\n",
       "      <th>rating</th>\n",
       "      <th>path_length</th>\n",
       "      <th>source</th>\n",
       "      <th>destination</th>\n",
       "      <th>path_pair</th>\n",
       "    </tr>\n",
       "  </thead>\n",
       "  <tbody>\n",
       "    <tr>\n",
       "      <th>0</th>\n",
       "      <td>6a3701d319fc3754</td>\n",
       "      <td>1297740409</td>\n",
       "      <td>166</td>\n",
       "      <td>14th_century;15th_century;16th_century;Pacific_Ocean;Atlantic_Ocean;Accra;Africa;Atlantic_slave_...</td>\n",
       "      <td>NaN</td>\n",
       "      <td>8</td>\n",
       "      <td>14th_century</td>\n",
       "      <td>African_slave_trade</td>\n",
       "      <td>[(14th_century, 15th_century), (15th_century, 16th_century), (16th_century, Pacific_Ocean), (Pac...</td>\n",
       "    </tr>\n",
       "    <tr>\n",
       "      <th>1</th>\n",
       "      <td>3824310e536af032</td>\n",
       "      <td>1344753412</td>\n",
       "      <td>88</td>\n",
       "      <td>14th_century;Europe;Africa;Atlantic_slave_trade;African_slave_trade</td>\n",
       "      <td>3.0</td>\n",
       "      <td>4</td>\n",
       "      <td>14th_century</td>\n",
       "      <td>African_slave_trade</td>\n",
       "      <td>[(14th_century, Europe), (Europe, Africa), (Africa, Atlantic_slave_trade), (Atlantic_slave_trade...</td>\n",
       "    </tr>\n",
       "    <tr>\n",
       "      <th>2</th>\n",
       "      <td>415612e93584d30e</td>\n",
       "      <td>1349298640</td>\n",
       "      <td>138</td>\n",
       "      <td>14th_century;Niger;Nigeria;British_Empire;Slavery;Africa;Atlantic_slave_trade;African_slave_trade</td>\n",
       "      <td>NaN</td>\n",
       "      <td>7</td>\n",
       "      <td>14th_century</td>\n",
       "      <td>African_slave_trade</td>\n",
       "      <td>[(14th_century, Niger), (Niger, Nigeria), (Nigeria, British_Empire), (British_Empire, Slavery), ...</td>\n",
       "    </tr>\n",
       "    <tr>\n",
       "      <th>3</th>\n",
       "      <td>64dd5cd342e3780c</td>\n",
       "      <td>1265613925</td>\n",
       "      <td>37</td>\n",
       "      <td>14th_century;Renaissance;Ancient_Greece;Greece</td>\n",
       "      <td>NaN</td>\n",
       "      <td>3</td>\n",
       "      <td>14th_century</td>\n",
       "      <td>Greece</td>\n",
       "      <td>[(14th_century, Renaissance), (Renaissance, Ancient_Greece), (Ancient_Greece, Greece)]</td>\n",
       "    </tr>\n",
       "    <tr>\n",
       "      <th>4</th>\n",
       "      <td>015245d773376aab</td>\n",
       "      <td>1366730828</td>\n",
       "      <td>175</td>\n",
       "      <td>14th_century;Italy;Roman_Catholic_Church;HIV;Ronald_Reagan;President_of_the_United_States;John_F...</td>\n",
       "      <td>3.0</td>\n",
       "      <td>6</td>\n",
       "      <td>14th_century</td>\n",
       "      <td>John_F._Kennedy</td>\n",
       "      <td>[(14th_century, Italy), (Italy, Roman_Catholic_Church), (Roman_Catholic_Church, HIV), (HIV, Rona...</td>\n",
       "    </tr>\n",
       "  </tbody>\n",
       "</table>\n",
       "</div>"
      ],
      "text/plain": [
       "    hashedIpAddress   timestamp  durationInSec                                                                                                 path  rating  path_length        source          destination                                                                                            path_pair\n",
       "0  6a3701d319fc3754  1297740409            166  14th_century;15th_century;16th_century;Pacific_Ocean;Atlantic_Ocean;Accra;Africa;Atlantic_slave_...     NaN            8  14th_century  African_slave_trade  [(14th_century, 15th_century), (15th_century, 16th_century), (16th_century, Pacific_Ocean), (Pac...\n",
       "1  3824310e536af032  1344753412             88                                  14th_century;Europe;Africa;Atlantic_slave_trade;African_slave_trade     3.0            4  14th_century  African_slave_trade  [(14th_century, Europe), (Europe, Africa), (Africa, Atlantic_slave_trade), (Atlantic_slave_trade...\n",
       "2  415612e93584d30e  1349298640            138    14th_century;Niger;Nigeria;British_Empire;Slavery;Africa;Atlantic_slave_trade;African_slave_trade     NaN            7  14th_century  African_slave_trade  [(14th_century, Niger), (Niger, Nigeria), (Nigeria, British_Empire), (British_Empire, Slavery), ...\n",
       "3  64dd5cd342e3780c  1265613925             37                                                       14th_century;Renaissance;Ancient_Greece;Greece     NaN            3  14th_century               Greece               [(14th_century, Renaissance), (Renaissance, Ancient_Greece), (Ancient_Greece, Greece)]\n",
       "4  015245d773376aab  1366730828            175  14th_century;Italy;Roman_Catholic_Church;HIV;Ronald_Reagan;President_of_the_United_States;John_F...     3.0            6  14th_century      John_F._Kennedy  [(14th_century, Italy), (Italy, Roman_Catholic_Church), (Roman_Catholic_Church, HIV), (HIV, Rona..."
      ]
     },
     "execution_count": 22,
     "metadata": {},
     "output_type": "execute_result"
    }
   ],
   "source": [
    "df_finished_path.head(5)"
   ]
  },
  {
   "cell_type": "markdown",
   "metadata": {},
   "source": [
    "Analyze the data in dataframe df_finished_path"
   ]
  },
  {
   "cell_type": "markdown",
   "metadata": {},
   "source": [
    "##### Variable: path length"
   ]
  },
  {
   "cell_type": "markdown",
   "metadata": {},
   "source": [
    "First, we anlyse the variable path_length. We draw the histogram of it."
   ]
  },
  {
   "cell_type": "code",
   "execution_count": 23,
   "metadata": {
    "collapsed": false,
    "jupyter": {
     "outputs_hidden": false
    }
   },
   "outputs": [
    {
     "data": {
      "text/plain": [
       "Text(0.5, 1.0, 'Path Length Frequency Histogram')"
      ]
     },
     "execution_count": 23,
     "metadata": {},
     "output_type": "execute_result"
    },
    {
     "data": {
      "image/png": "[encoded data removed]",
      "text/plain": [
       "<Figure size 640x480 with 1 Axes>"
      ]
     },
     "metadata": {},
     "output_type": "display_data"
    }
   ],
   "source": [
    "df_finished_path['path_length'].plot.hist(bins=np.arange(-0.5,440.5, 10), edgecolor='white', logy=True)\n",
    "plt.xlabel(\"Path Length\")\n",
    "plt.ylabel(\"Count\")\n",
    "plt.title(\"Path Length Frequency Histogram\")"
   ]
  },
  {
   "cell_type": "markdown",
   "metadata": {},
   "source": [
    "From the histogram, we could find that the path length mainly concentrates on the range(0, 100). There is also one outlier lying at 400+. In order to remove the special situations during the game playing, we set the range of bins to 10. And we consider that the path length frequency in each bin, which is smaller than 2, as outliers. We remove the path length larger than 100.\n"
   ]
  },
  {
   "cell_type": "code",
   "execution_count": 24,
   "metadata": {
    "collapsed": false,
    "jupyter": {
     "outputs_hidden": false
    }
   },
   "outputs": [],
   "source": [
    "df_finished_path_rm_outlier = df_finished_path[df_finished_path['path_length'] <= 100]"
   ]
  },
  {
   "cell_type": "markdown",
   "metadata": {},
   "source": [
    "We also find there are data whose path_length equals to 0. It means that the target article is same to to source one. We also remove this situation."
   ]
  },
  {
   "cell_type": "code",
   "execution_count": 25,
   "metadata": {
    "collapsed": false,
    "jupyter": {
     "outputs_hidden": false
    }
   },
   "outputs": [],
   "source": [
    "df_finished_path_rm_outlier = df_finished_path_rm_outlier[df_finished_path_rm_outlier['path_length'] != 0]"
   ]
  },
  {
   "cell_type": "code",
   "execution_count": 27,
   "metadata": {
    "collapsed": false,
    "jupyter": {
     "outputs_hidden": false
    }
   },
   "outputs": [
    {
     "data": {
      "text/plain": [
       "Text(0.5, 1.0, 'Path Length Frequency Histogram without Outliers')"
      ]
     },
     "execution_count": 27,
     "metadata": {},
     "output_type": "execute_result"
    },
    {
     "data": {
      "image/png": "[encoded data removed]",
      "text/plain": [
       "<Figure size 640x480 with 1 Axes>"
      ]
     },
     "metadata": {},
     "output_type": "display_data"
    }
   ],
   "source": [
    "df_finished_path_rm_outlier['path_length'].plot.hist(bins=np.arange(-0.5,100.5,1), edgecolor='white', logy=True)\n",
    "plt.xlabel(\"Path Length\")\n",
    "plt.ylabel(\"Count\")\n",
    "plt.title(\"Path Length Frequency Histogram without Outliers\")"
   ]
  },
  {
   "cell_type": "markdown",
   "metadata": {
    "tags": []
   },
   "source": [
    "##### Variable: rating and path_length"
   ]
  },
  {
   "cell_type": "markdown",
   "metadata": {},
   "source": [
    "As we calculated the path lengths, we also want to find that whether the rate is related to the path length. We create a new Dataframe to store the rated paths."
   ]
  },
  {
   "cell_type": "code",
   "execution_count": 29,
   "metadata": {
    "collapsed": false,
    "jupyter": {
     "outputs_hidden": false
    }
   },
   "outputs": [],
   "source": [
    "## Is rating related to steps?\n",
    "\n",
    "# use only data with rating\n",
    "df_rate = df_finished_path_rm_outlier[df_finished_path_rm_outlier['rating']>0]"
   ]
  },
  {
   "cell_type": "markdown",
   "metadata": {},
   "source": [
    "We draw the boxplot with the variable data path_length and rating."
   ]
  },
  {
   "cell_type": "code",
   "execution_count": 37,
   "metadata": {
    "collapsed": false,
    "jupyter": {
     "outputs_hidden": false
    }
   },
   "outputs": [
    {
     "name": "stdout",
     "output_type": "stream",
     "text": [
      "Average steps for each rating\n",
      "rating = 1\n",
      "number: 8542\n",
      "mean: 3.6661203465230625 \n",
      "95% CI: (3.6225986640558583, 3.7096420289902667)\n",
      "rating = 2\n",
      "number: 8792\n",
      "mean: 5.001592356687898 \n",
      "95% CI: (4.950619800250819, 5.052564913124978)\n",
      "rating = 3\n",
      "number: 7261\n",
      "mean: 6.645503374190882 \n",
      "95% CI: (6.560040894779702, 6.730965853602063)\n",
      "rating = 4\n",
      "number: 2748\n",
      "mean: 9.08296943231441 \n",
      "95% CI: (8.863767675989052, 9.302171188639768)\n",
      "rating = 5\n",
      "number: 1156\n",
      "mean: 11.852941176470589 \n",
      "95% CI: (11.184158085458863, 12.521724267482314)\n"
     ]
    }
   ],
   "source": [
    "print('Average steps for each rating')\n",
    "for i in range(5):\n",
    "    # calculate the intervals\n",
    "    CI = stats.norm.interval(0.95, np.mean(df_rate[df_rate.rating == i+1].path_length), np.std(df_rate[df_rate.rating == i+1].path_length)/np.sqrt(len(df_rate[df_rate.rating == i+1].path_length)))\n",
    "    print('rating =',i+1)\n",
    "    print('number:',df_rate[df_rate.rating == i+1].path_length.count())\n",
    "    print('mean:',df_rate[df_rate.rating == i+1].path_length.mean(),'\\n95% CI:',CI)"
   ]
  },
  {
   "cell_type": "code",
   "execution_count": 38,
   "metadata": {
    "collapsed": false,
    "jupyter": {
     "outputs_hidden": false
    }
   },
   "outputs": [
    {
     "data": {
      "text/plain": [
       "Text(0.5, 1.0, 'Boxplot of Path Length and Rating')"
      ]
     },
     "execution_count": 38,
     "metadata": {},
     "output_type": "execute_result"
    },
    {
     "data": {
      "image/png": "[encoded data removed]",
      "text/plain": [
       "<Figure size 640x480 with 1 Axes>"
      ]
     },
     "metadata": {},
     "output_type": "display_data"
    }
   ],
   "source": [
    "# df_rate.plot.scatter(x='steps', y='rating')\n",
    "df_rate.boxplot(column=['path_length'], by=['rating'])\n",
    "plt.xlabel(\"rating\")\n",
    "plt.ylabel(\"path_length\")\n",
    "plt.title(\"Boxplot of Path Length and Rating\")"
   ]
  },
  {
   "cell_type": "markdown",
   "metadata": {},
   "source": [
    "From the above plot, we find that the rating is related to the path length. And longer path will have a higher rate. We will delve this part in our later project."
   ]
  },
  {
   "cell_type": "markdown",
   "metadata": {},
   "source": [
    "**2. categories.tsv**"
   ]
  },
  {
   "cell_type": "markdown",
   "metadata": {},
   "source": [
    "Dataframe **df_categories** variables\n",
    "\n",
    "`articles`: the name of the article\n",
    "\n",
    "`category`: the category that the article belongs to\n",
    "\n",
    "`category_length`: the hierarchical depth of the variable category\n",
    "\n",
    "`category_1st`: the 1st category that the article belongs to"
   ]
  },
  {
   "cell_type": "markdown",
   "metadata": {},
   "source": [
    "We calculate the hierarchical depth of variable category"
   ]
  },
  {
   "cell_type": "code",
   "execution_count": 93,
   "metadata": {
    "collapsed": false,
    "jupyter": {
     "outputs_hidden": false
    }
   },
   "outputs": [],
   "source": [
    "def calculate_category_length(x):\n",
    "    string_array = x.split('.')\n",
    "    return len(string_array)\n",
    "\n",
    "df_categories['category_length'] = df_categories['category'].apply(calculate_category_length)"
   ]
  },
  {
   "cell_type": "markdown",
   "metadata": {},
   "source": [
    "Since all of the articles with categories have the same root 'Subject', we firstly extract the 1st depth category and store the data in the column **category_1st**"
   ]
  },
  {
   "cell_type": "code",
   "execution_count": 94,
   "metadata": {
    "collapsed": false,
    "jupyter": {
     "outputs_hidden": false
    }
   },
   "outputs": [],
   "source": [
    "df_categories['category_1st'] = df_categories.apply(lambda x:x.category.split('.')[1], axis = 1)"
   ]
  },
  {
   "cell_type": "markdown",
   "metadata": {},
   "source": [
    "Analyze the data in dataframe df_categories"
   ]
  },
  {
   "cell_type": "markdown",
   "metadata": {},
   "source": [
    "##### Variable: category_length"
   ]
  },
  {
   "cell_type": "markdown",
   "metadata": {},
   "source": [
    "We first count the frequency according to the variable category_length. There are 274 articles which category depth equals to 2. 3448 articles which category depth equals to 3. 1482 articles which category depth equals to 4."
   ]
  },
  {
   "cell_type": "code",
   "execution_count": 95,
   "metadata": {
    "collapsed": false,
    "jupyter": {
     "outputs_hidden": false
    }
   },
   "outputs": [
    {
     "data": {
      "text/plain": [
       "3    3448\n",
       "4    1482\n",
       "2     274\n",
       "Name: category_length, dtype: int64"
      ]
     },
     "execution_count": 95,
     "metadata": {},
     "output_type": "execute_result"
    }
   ],
   "source": [
    "df_categories['category_length'].value_counts()"
   ]
  },
  {
   "cell_type": "markdown",
   "metadata": {},
   "source": [
    "Then, we check the category with different depth in details."
   ]
  },
  {
   "cell_type": "code",
   "execution_count": 96,
   "metadata": {
    "collapsed": false,
    "jupyter": {
     "outputs_hidden": false
    }
   },
   "outputs": [],
   "source": [
    "category_dict_1 = {}\n",
    "category_dict_2 = {}\n",
    "category_dict_3 = {}\n",
    "\n",
    "for index, row in df_categories['category'].items():\n",
    "    string_path_pair = []\n",
    "    string_array = row.split(\".\")\n",
    "    for index in range(len(string_array)):\n",
    "        if index == 1:\n",
    "            category_dict_1[string_array[index-1] + \".\" + string_array[index]] = category_dict_1.get(string_array[index-1] + \".\" + string_array[index], 0) + 1\n",
    "        elif index == 2:\n",
    "            category_dict_2[string_array[index-2] + \".\" + string_array[index-1] + \".\" + string_array[index]] = category_dict_2.get(string_array[index-2] + \".\" + string_array[index-1] + \".\" + string_array[index], 0) + 1\n",
    "        elif index == 3:\n",
    "            category_dict_3[string_array[index-3] + \".\" + string_array[index-2] + \".\" + string_array[index-1] + \".\" + string_array[index]] = category_dict_3.get(string_array[index-3] + \".\" + string_array[index-2] + \".\" + string_array[index-1] + \".\" + string_array[index], 0) + 1"
   ]
  },
  {
   "cell_type": "markdown",
   "metadata": {},
   "source": [
    "We check the categories at the depth 1. Key is the category and the value is the number of articles in this cateogory."
   ]
  },
  {
   "cell_type": "code",
   "execution_count": 97,
   "metadata": {
    "collapsed": false,
    "jupyter": {
     "outputs_hidden": false
    }
   },
   "outputs": [
    {
     "name": "stdout",
     "output_type": "stream",
     "text": [
      "There are 15 categories at depth 1\n"
     ]
    },
    {
     "data": {
      "text/plain": [
       "{'subject.History': 545,\n",
       " 'subject.People': 689,\n",
       " 'subject.Countries': 229,\n",
       " 'subject.Geography': 1084,\n",
       " 'subject.Business_Studies': 88,\n",
       " 'subject.Science': 1122,\n",
       " 'subject.Everyday_life': 374,\n",
       " 'subject.Design_and_Technology': 254,\n",
       " 'subject.Music': 97,\n",
       " 'subject.IT': 85,\n",
       " 'subject.Language_and_literature': 196,\n",
       " 'subject.Mathematics': 45,\n",
       " 'subject.Religion': 134,\n",
       " 'subject.Art': 38,\n",
       " 'subject.Citizenship': 224}"
      ]
     },
     "execution_count": 97,
     "metadata": {},
     "output_type": "execute_result"
    }
   ],
   "source": [
    "print(\"There are {} categories at depth 1\".format(len(category_dict_1)))\n",
    "category_dict_1"
   ]
  },
  {
   "cell_type": "markdown",
   "metadata": {},
   "source": [
    "We check the categories at the depth 2. Key is the category and the value is the number of articles in this cateogory."
   ]
  },
  {
   "cell_type": "code",
   "execution_count": 42,
   "metadata": {
    "collapsed": false,
    "jupyter": {
     "outputs_hidden": false
    }
   },
   "outputs": [
    {
     "name": "stdout",
     "output_type": "stream",
     "text": [
      "There are 103 categories at depth 2\n"
     ]
    },
    {
     "data": {
      "text/plain": [
       "{'subject.History.British_History': 158,\n",
       " 'subject.People.Historical_figures': 108,\n",
       " 'subject.Geography.European_Geography': 139,\n",
       " 'subject.People.Artists': 36,\n",
       " 'subject.Business_Studies.Currency': 14,\n",
       " 'subject.History.General_history': 80,\n",
       " 'subject.History.Military_History_and_War': 71,\n",
       " 'subject.Science.Physics': 226,\n",
       " 'subject.Everyday_life.Sports_events': 22,\n",
       " 'subject.Geography.Storms': 33,\n",
       " 'subject.History.Recent_History': 48,\n",
       " 'subject.Geography.Geology_and_geophysics': 76,\n",
       " 'subject.Geography.Natural_Disasters': 39,\n",
       " 'subject.Design_and_Technology.Railway_transport': 84,\n",
       " 'subject.People.Sports_and_games_people': 45,\n",
       " 'subject.Science.Biology': 704,\n",
       " 'subject.Music.Performers_and_composers': 16,\n",
       " 'subject.IT.Computing_hardware_and_infrastructure': 20,\n",
       " 'subject.Business_Studies.Companies': 18,\n",
       " 'subject.Language_and_literature.Novels': 39,\n",
       " 'subject.Music.Musical_genres_styles_eras_and_events': 46,\n",
       " 'subject.Everyday_life.Everyday_life': 27,\n",
       " 'subject.Geography.Geography_of_the_Middle_East': 36,\n",
       " 'subject.History.Ancient_History_Classical_History_and_Mythology': 87,\n",
       " 'subject.Religion.Religious_movements_traditions_and_organizations': 35,\n",
       " 'subject.Language_and_literature.Theatre': 32,\n",
       " 'subject.People.Geographers_and_explorers': 21,\n",
       " 'subject.Geography.Geography_of_Great_Britain': 124,\n",
       " 'subject.Religion.Religious_texts': 18,\n",
       " 'subject.Geography.African_Geography': 137,\n",
       " 'subject.Geography.Geography_of_Asia': 106,\n",
       " 'subject.People.Writers_and_critics': 71,\n",
       " 'subject.People.USA_Presidents': 37,\n",
       " 'subject.Everyday_life.Drink': 15,\n",
       " 'subject.Art.Art': 36,\n",
       " 'subject.Business_Studies.Business': 28,\n",
       " 'subject.Science.Chemistry': 192,\n",
       " 'subject.Citizenship.Environment': 26,\n",
       " 'subject.Geography.General_Geography': 65,\n",
       " 'subject.Business_Studies.Economics': 28,\n",
       " 'subject.Geography.Geography_of_Oceania_Australasia': 58,\n",
       " 'subject.People.Religious_figures_and_leaders': 39,\n",
       " 'subject.People.Political_People': 67,\n",
       " 'subject.Language_and_literature.Literature_types': 17,\n",
       " 'subject.Citizenship.Politics_and_government': 97,\n",
       " 'subject.Language_and_literature.Languages': 47,\n",
       " 'subject.Religion.Philosophy': 24,\n",
       " 'subject.IT.Websites_and_the_Internet': 21,\n",
       " 'subject.Everyday_life.Food_and_agriculture': 97,\n",
       " 'subject.Design_and_Technology.Air_and_Sea_transport': 24,\n",
       " 'subject.IT.Computer_Programming': 15,\n",
       " 'subject.People.Producers_directors_and_media_figures': 8,\n",
       " 'subject.Citizenship.Media': 11,\n",
       " 'subject.People.Mathematicians': 15,\n",
       " 'subject.People.Astronomers_and_physicists': 21,\n",
       " 'subject.People.Engineers_and_inventors': 25,\n",
       " 'subject.History.Pre_1900_Military': 27,\n",
       " 'subject.Religion.Religious_disputes': 19,\n",
       " 'subject.People.Military_People': 22,\n",
       " 'subject.People.Chemists': 8,\n",
       " 'subject.People.Monarchs_of_Great_Britain': 43,\n",
       " 'subject.Everyday_life.Sports_teams': 16,\n",
       " 'subject.Music.Musical_Recordings_and_compositions': 18,\n",
       " 'subject.Religion.Divinities': 21,\n",
       " 'subject.Language_and_literature.Poetry_and_Opera': 30,\n",
       " 'subject.Language_and_literature.Linguistics': 15,\n",
       " 'subject.Design_and_Technology.Engineering': 74,\n",
       " 'subject.Geography.North_American_Geography': 103,\n",
       " 'subject.Geography.Central_and_South_American_Geography': 83,\n",
       " 'subject.Geography.Mineralogy': 17,\n",
       " 'subject.Everyday_life.Sports': 32,\n",
       " 'subject.Geography.Peoples': 22,\n",
       " 'subject.People.Actors_models_and_celebrities': 25,\n",
       " 'subject.Design_and_Technology.Architecture': 53,\n",
       " 'subject.Citizenship.Animal_and_Human_Rights': 17,\n",
       " 'subject.Everyday_life.Computer_and_Video_games': 26,\n",
       " 'subject.Everyday_life.Films': 36,\n",
       " 'subject.History.World_War_II': 31,\n",
       " 'subject.Geography.Antarctica': 8,\n",
       " 'subject.People.Performers_and_composers': 43,\n",
       " 'subject.Citizenship.Conflict_and_Peace': 10,\n",
       " 'subject.Language_and_literature.General_Literature': 16,\n",
       " 'subject.History.Archaeology': 11,\n",
       " 'subject.IT.Software': 23,\n",
       " 'subject.People.Philosophers': 23,\n",
       " 'subject.Everyday_life.Recreation': 21,\n",
       " 'subject.History.Historians_chroniclers_and_history_books': 10,\n",
       " 'subject.People.Human_Scientists': 23,\n",
       " 'subject.Religion.Myths': 17,\n",
       " 'subject.Design_and_Technology.Road_transport': 19,\n",
       " 'subject.Geography.Climate_and_the_Weather': 38,\n",
       " 'subject.Everyday_life.Television': 41,\n",
       " 'subject.Everyday_life.Games': 21,\n",
       " 'subject.Citizenship.Community_organisations': 11,\n",
       " 'subject.Music.Musical_Instruments': 17,\n",
       " 'subject.Everyday_life.Cartoons': 20,\n",
       " 'subject.People.Computing_People': 9,\n",
       " 'subject.IT.Cryptography': 6,\n",
       " 'subject.Citizenship.Law': 19,\n",
       " 'subject.History.North_American_History': 22,\n",
       " 'subject.Citizenship.Culture_and_Diversity': 16,\n",
       " 'subject.Citizenship.Education': 17,\n",
       " 'subject.Art.Artists': 2}"
      ]
     },
     "execution_count": 42,
     "metadata": {},
     "output_type": "execute_result"
    }
   ],
   "source": [
    "print(\"There are {} categories at depth 2\".format(len(category_dict_2)))\n",
    "category_dict_2"
   ]
  },
  {
   "cell_type": "markdown",
   "metadata": {},
   "source": [
    "We check the categories at the depth 3. Key is the category and the value is the number of articles in this cateogory."
   ]
  },
  {
   "cell_type": "code",
   "execution_count": 43,
   "metadata": {
    "collapsed": false,
    "jupyter": {
     "outputs_hidden": false
    }
   },
   "outputs": [
    {
     "name": "stdout",
     "output_type": "stream",
     "text": [
      "There are 27 categories at depth 3\n"
     ]
    },
    {
     "data": {
      "text/plain": [
       "{'subject.History.British_History.British_History_1500_and_before_including_Roman_Britain': 73,\n",
       " 'subject.Geography.European_Geography.European_Countries': 56,\n",
       " 'subject.Science.Physics.Space_Astronomy': 105,\n",
       " 'subject.Science.Biology.Health_and_medicine': 109,\n",
       " 'subject.Science.Physics.General_Physics': 55,\n",
       " 'subject.Science.Biology.Mammals': 114,\n",
       " 'subject.Science.Biology.Plants': 108,\n",
       " 'subject.History.British_History.British_History_15001750': 29,\n",
       " 'subject.Geography.Geography_of_Asia.Asian_Countries': 37,\n",
       " 'subject.Geography.Geography_of_the_Middle_East.Middle_Eastern_Countries': 18,\n",
       " 'subject.Science.Chemistry.Chemical_compounds': 42,\n",
       " 'subject.Science.Chemistry.Chemical_elements': 119,\n",
       " 'subject.Science.Biology.General_Biology': 51,\n",
       " 'subject.Science.Biology.Birds': 161,\n",
       " 'subject.Science.Biology.Insects_Reptiles_and_Fish': 72,\n",
       " 'subject.Science.Biology.Dinosaurs': 59,\n",
       " 'subject.Science.Chemistry.General_Chemistry': 21,\n",
       " 'subject.Geography.African_Geography.African_Countries': 57,\n",
       " 'subject.Geography.Central_and_South_American_Geography.Central_and_South_American_Countries': 48,\n",
       " 'subject.Science.Physics.Space_transport': 33,\n",
       " 'subject.History.British_History.British_History_17501900': 24,\n",
       " 'subject.Science.Biology.Organisms': 19,\n",
       " 'subject.History.British_History.British_History_Post_1900': 18,\n",
       " 'subject.Science.Physics.Electricity_and_Electronics': 20,\n",
       " 'subject.Science.Biology.Evolution_and_reproduction': 11,\n",
       " 'subject.Science.Chemistry.Materials_science': 10,\n",
       " 'subject.Science.Physics.The_Planets': 13}"
      ]
     },
     "execution_count": 43,
     "metadata": {},
     "output_type": "execute_result"
    }
   ],
   "source": [
    "print(\"There are {} categories at depth 3\".format(len(category_dict_3)))\n",
    "category_dict_3"
   ]
  },
  {
   "cell_type": "markdown",
   "metadata": {},
   "source": [
    "##### Variable: categories"
   ]
  },
  {
   "cell_type": "markdown",
   "metadata": {},
   "source": [
    "We will carry out some basic analysis to the variable category."
   ]
  },
  {
   "cell_type": "code",
   "execution_count": 44,
   "metadata": {
    "collapsed": false,
    "jupyter": {
     "outputs_hidden": false
    }
   },
   "outputs": [
    {
     "data": {
      "text/plain": [
       "subject.Countries                               229\n",
       "subject.Science.Biology.Birds                   161\n",
       "subject.Geography.Geography_of_Great_Britain    124\n",
       "subject.Science.Chemistry.Chemical_elements     119\n",
       "subject.Science.Biology.Mammals                 114\n",
       "subject.Science.Biology.Health_and_medicine     109\n",
       "subject.Science.Biology.Plants                  108\n",
       "subject.People.Historical_figures               108\n",
       "subject.Science.Physics.Space_Astronomy         105\n",
       "subject.Geography.North_American_Geography      103\n",
       "Name: category, dtype: int64"
      ]
     },
     "execution_count": 44,
     "metadata": {},
     "output_type": "execute_result"
    },
    {
     "data": {
      "image/png": "[encoded data removed]",
      "text/plain": [
       "<Figure size 640x480 with 1 Axes>"
      ]
     },
     "metadata": {},
     "output_type": "display_data"
    }
   ],
   "source": [
    "## how many categories are there in the dataframe\n",
    "\n",
    "category_list = df_categories['category'].value_counts()\n",
    "plt.hist(category_list,150)\n",
    "plt.xlabel(\"Article numbers in one category\")\n",
    "plt.ylabel(\"Frequency\")\n",
    "category_list[:10]"
   ]
  },
  {
   "cell_type": "markdown",
   "metadata": {},
   "source": [
    "**3. articles.tsv**"
   ]
  },
  {
   "cell_type": "markdown",
   "metadata": {},
   "source": [
    "We mainly used this file to get the index of an article.\n",
    "However, we can also anylize the articles by combining with categories."
   ]
  },
  {
   "cell_type": "code",
   "execution_count": 51,
   "metadata": {
    "collapsed": false,
    "jupyter": {
     "outputs_hidden": false
    }
   },
   "outputs": [
    {
     "data": {
      "text/html": [
       "<div>\n",
       "<style scoped>\n",
       "    .dataframe tbody tr th:only-of-type {\n",
       "        vertical-align: middle;\n",
       "    }\n",
       "\n",
       "    .dataframe tbody tr th {\n",
       "        vertical-align: top;\n",
       "    }\n",
       "\n",
       "    .dataframe thead th {\n",
       "        text-align: right;\n",
       "    }\n",
       "</style>\n",
       "<table border=\"1\" class=\"dataframe\">\n",
       "  <thead>\n",
       "    <tr style=\"text-align: right;\">\n",
       "      <th></th>\n",
       "      <th>articles</th>\n",
       "      <th>category</th>\n",
       "      <th>category_length</th>\n",
       "    </tr>\n",
       "  </thead>\n",
       "  <tbody>\n",
       "    <tr>\n",
       "      <th>0</th>\n",
       "      <td>%C3%81ed%C3%A1n_mac_Gabr%C3%A1in</td>\n",
       "      <td>subject.History.British_History.British_History_1500_and_before_including_Roman_Britain</td>\n",
       "      <td>4.0</td>\n",
       "    </tr>\n",
       "    <tr>\n",
       "      <th>1</th>\n",
       "      <td>%C3%81ed%C3%A1n_mac_Gabr%C3%A1in</td>\n",
       "      <td>subject.People.Historical_figures</td>\n",
       "      <td>3.0</td>\n",
       "    </tr>\n",
       "    <tr>\n",
       "      <th>2</th>\n",
       "      <td>%C3%85land</td>\n",
       "      <td>subject.Countries</td>\n",
       "      <td>2.0</td>\n",
       "    </tr>\n",
       "    <tr>\n",
       "      <th>3</th>\n",
       "      <td>%C3%85land</td>\n",
       "      <td>subject.Geography.European_Geography.European_Countries</td>\n",
       "      <td>4.0</td>\n",
       "    </tr>\n",
       "    <tr>\n",
       "      <th>4</th>\n",
       "      <td>%C3%89douard_Manet</td>\n",
       "      <td>subject.People.Artists</td>\n",
       "      <td>3.0</td>\n",
       "    </tr>\n",
       "  </tbody>\n",
       "</table>\n",
       "</div>"
      ],
      "text/plain": [
       "                           articles                                                                                 category  category_length\n",
       "0  %C3%81ed%C3%A1n_mac_Gabr%C3%A1in  subject.History.British_History.British_History_1500_and_before_including_Roman_Britain              4.0\n",
       "1  %C3%81ed%C3%A1n_mac_Gabr%C3%A1in                                                        subject.People.Historical_figures              3.0\n",
       "2                        %C3%85land                                                                        subject.Countries              2.0\n",
       "3                        %C3%85land                                  subject.Geography.European_Geography.European_Countries              4.0\n",
       "4                %C3%89douard_Manet                                                                   subject.People.Artists              3.0"
      ]
     },
     "execution_count": 51,
     "metadata": {},
     "output_type": "execute_result"
    }
   ],
   "source": [
    "## label every article with category\n",
    "\n",
    "df_article_with_cate = pd.merge(df_article, df_categories, how = 'outer')\n",
    "df_article_with_cate.head()"
   ]
  },
  {
   "cell_type": "code",
   "execution_count": 52,
   "metadata": {},
   "outputs": [
    {
     "data": {
      "text/html": [
       "<div>\n",
       "<style scoped>\n",
       "    .dataframe tbody tr th:only-of-type {\n",
       "        vertical-align: middle;\n",
       "    }\n",
       "\n",
       "    .dataframe tbody tr th {\n",
       "        vertical-align: top;\n",
       "    }\n",
       "\n",
       "    .dataframe thead th {\n",
       "        text-align: right;\n",
       "    }\n",
       "</style>\n",
       "<table border=\"1\" class=\"dataframe\">\n",
       "  <thead>\n",
       "    <tr style=\"text-align: right;\">\n",
       "      <th></th>\n",
       "      <th>articles</th>\n",
       "      <th>category</th>\n",
       "      <th>category_length</th>\n",
       "    </tr>\n",
       "  </thead>\n",
       "  <tbody>\n",
       "    <tr>\n",
       "      <th>1360</th>\n",
       "      <td>Directdebit</td>\n",
       "      <td>NaN</td>\n",
       "      <td>NaN</td>\n",
       "    </tr>\n",
       "    <tr>\n",
       "      <th>1385</th>\n",
       "      <td>Donation</td>\n",
       "      <td>NaN</td>\n",
       "      <td>NaN</td>\n",
       "    </tr>\n",
       "    <tr>\n",
       "      <th>1811</th>\n",
       "      <td>Friend_Directdebit</td>\n",
       "      <td>NaN</td>\n",
       "      <td>NaN</td>\n",
       "    </tr>\n",
       "    <tr>\n",
       "      <th>3670</th>\n",
       "      <td>Pikachu</td>\n",
       "      <td>NaN</td>\n",
       "      <td>NaN</td>\n",
       "    </tr>\n",
       "    <tr>\n",
       "      <th>4342</th>\n",
       "      <td>Sponsorship_Directdebit</td>\n",
       "      <td>NaN</td>\n",
       "      <td>NaN</td>\n",
       "    </tr>\n",
       "    <tr>\n",
       "      <th>5141</th>\n",
       "      <td>Wowpurchase</td>\n",
       "      <td>NaN</td>\n",
       "      <td>NaN</td>\n",
       "    </tr>\n",
       "  </tbody>\n",
       "</table>\n",
       "</div>"
      ],
      "text/plain": [
       "                     articles category  category_length\n",
       "1360              Directdebit      NaN              NaN\n",
       "1385                 Donation      NaN              NaN\n",
       "1811       Friend_Directdebit      NaN              NaN\n",
       "3670                  Pikachu      NaN              NaN\n",
       "4342  Sponsorship_Directdebit      NaN              NaN\n",
       "5141              Wowpurchase      NaN              NaN"
      ]
     },
     "execution_count": 52,
     "metadata": {},
     "output_type": "execute_result"
    }
   ],
   "source": [
    "# find articles without categories\n",
    "df_article_with_cate[df_article_with_cate.isnull().T.any()]"
   ]
  },
  {
   "cell_type": "code",
   "execution_count": 57,
   "metadata": {},
   "outputs": [
    {
     "data": {
      "image/png": "[encoded data removed]",
      "text/plain": [
       "<Figure size 640x480 with 1 Axes>"
      ]
     },
     "metadata": {},
     "output_type": "display_data"
    }
   ],
   "source": [
    "# find articles with multiple categories\n",
    "dup_cate_list = df_article_with_cate.articles.value_counts()\n",
    "\n",
    "# modify no category articles\n",
    "dup_cate_list[df_article_with_cate[df_article_with_cate.isnull().T.any()].articles] = 0\n",
    "\n",
    "dup_cate_list.hist()\n",
    "plt.yscale('log')\n",
    "plt.xlabel(\"Article categories\")\n",
    "plt.ylabel(\"Frequency\")\n",
    "plt.show()"
   ]
  },
  {
   "cell_type": "markdown",
   "metadata": {},
   "source": [
    "**4. paths_unfinished.tsv**"
   ]
  },
  {
   "cell_type": "markdown",
   "metadata": {},
   "source": [
    "We mainly analyze the unfinished paths by focusing on the quit type, path length and its target."
   ]
  },
  {
   "cell_type": "code",
   "execution_count": 118,
   "metadata": {},
   "outputs": [
    {
     "data": {
      "text/plain": [
       "restart    15552\n",
       "timeout     9323\n",
       "Name: type, dtype: int64"
      ]
     },
     "execution_count": 118,
     "metadata": {},
     "output_type": "execute_result"
    }
   ],
   "source": [
    "# different number of reason for unfinished\n",
    "df_unfinished_path.type.value_counts()"
   ]
  },
  {
   "cell_type": "code",
   "execution_count": 120,
   "metadata": {},
   "outputs": [],
   "source": [
    "# count path lengths\n",
    "df_unfinished_path['path_length'] = df_unfinished_path.apply(lambda x:x.path.count(';'),axis = 1)"
   ]
  },
  {
   "cell_type": "markdown",
   "metadata": {},
   "source": [
    "Find out players restart without clicking any links"
   ]
  },
  {
   "cell_type": "code",
   "execution_count": 122,
   "metadata": {},
   "outputs": [
    {
     "data": {
      "text/html": [
       "<div>\n",
       "<style scoped>\n",
       "    .dataframe tbody tr th:only-of-type {\n",
       "        vertical-align: middle;\n",
       "    }\n",
       "\n",
       "    .dataframe tbody tr th {\n",
       "        vertical-align: top;\n",
       "    }\n",
       "\n",
       "    .dataframe thead th {\n",
       "        text-align: right;\n",
       "    }\n",
       "</style>\n",
       "<table border=\"1\" class=\"dataframe\">\n",
       "  <thead>\n",
       "    <tr style=\"text-align: right;\">\n",
       "      <th></th>\n",
       "      <th>hashedIpAddress</th>\n",
       "      <th>timestamp</th>\n",
       "      <th>durationInSec</th>\n",
       "      <th>path</th>\n",
       "      <th>target</th>\n",
       "      <th>type</th>\n",
       "      <th>path_length</th>\n",
       "    </tr>\n",
       "  </thead>\n",
       "  <tbody>\n",
       "    <tr>\n",
       "      <th>3</th>\n",
       "      <td>53a53bc244e08a6a</td>\n",
       "      <td>1297094761</td>\n",
       "      <td>49</td>\n",
       "      <td>Paraguay</td>\n",
       "      <td>Mount_St._Helens</td>\n",
       "      <td>restart</td>\n",
       "      <td>0</td>\n",
       "    </tr>\n",
       "    <tr>\n",
       "      <th>8</th>\n",
       "      <td>6d136e371e42474f</td>\n",
       "      <td>1297102100</td>\n",
       "      <td>19</td>\n",
       "      <td>Logic</td>\n",
       "      <td>Moon_landing</td>\n",
       "      <td>restart</td>\n",
       "      <td>0</td>\n",
       "    </tr>\n",
       "    <tr>\n",
       "      <th>11</th>\n",
       "      <td>05dc2fbd5fc8d375</td>\n",
       "      <td>1297135100</td>\n",
       "      <td>8</td>\n",
       "      <td>Niobium</td>\n",
       "      <td>Beeching_Axe</td>\n",
       "      <td>restart</td>\n",
       "      <td>0</td>\n",
       "    </tr>\n",
       "    <tr>\n",
       "      <th>15</th>\n",
       "      <td>5900aa2d71b99153</td>\n",
       "      <td>1297138883</td>\n",
       "      <td>22</td>\n",
       "      <td>Prostate_cancer</td>\n",
       "      <td>Du_Fu</td>\n",
       "      <td>restart</td>\n",
       "      <td>0</td>\n",
       "    </tr>\n",
       "    <tr>\n",
       "      <th>20</th>\n",
       "      <td>3786d9852b814082</td>\n",
       "      <td>1297152708</td>\n",
       "      <td>13</td>\n",
       "      <td>Snowball_Earth</td>\n",
       "      <td>Medal_of_Honor</td>\n",
       "      <td>restart</td>\n",
       "      <td>0</td>\n",
       "    </tr>\n",
       "  </tbody>\n",
       "</table>\n",
       "</div>"
      ],
      "text/plain": [
       "     hashedIpAddress   timestamp  durationInSec             path            target     type  path_length\n",
       "3   53a53bc244e08a6a  1297094761             49         Paraguay  Mount_St._Helens  restart            0\n",
       "8   6d136e371e42474f  1297102100             19            Logic      Moon_landing  restart            0\n",
       "11  05dc2fbd5fc8d375  1297135100              8          Niobium      Beeching_Axe  restart            0\n",
       "15  5900aa2d71b99153  1297138883             22  Prostate_cancer             Du_Fu  restart            0\n",
       "20  3786d9852b814082  1297152708             13   Snowball_Earth    Medal_of_Honor  restart            0"
      ]
     },
     "execution_count": 122,
     "metadata": {},
     "output_type": "execute_result"
    }
   ],
   "source": [
    "df_restart0 = df_unfinished_path[(df_unfinished_path.type == 'restart') & (df_unfinished_path.path_length == 0)]\n",
    "df_restart0.head()"
   ]
  },
  {
   "cell_type": "code",
   "execution_count": 126,
   "metadata": {},
   "outputs": [
    {
     "data": {
      "image/png": "[encoded data removed]",
      "text/plain": [
       "<Figure size 640x480 with 1 Axes>"
      ]
     },
     "metadata": {},
     "output_type": "display_data"
    }
   ],
   "source": [
    "plt.hist(df_restart0.durationInSec,100)\n",
    "plt.yscale('log')\n",
    "plt.xlabel(\"Duration in Seconds\")\n",
    "plt.ylabel(\"Frequency\")\n",
    "plt.show()"
   ]
  },
  {
   "cell_type": "markdown",
   "metadata": {},
   "source": [
    "We can see that most of players they quit without carefully viewing the article while a few players they might have read the article and then deciede to restart."
   ]
  },
  {
   "cell_type": "markdown",
   "metadata": {},
   "source": [
    "Then we can have a look on the target: with which target players are more likely to quit?\n"
   ]
  },
  {
   "cell_type": "code",
   "execution_count": 127,
   "metadata": {},
   "outputs": [
    {
     "data": {
      "text/html": [
       "<div>\n",
       "<style scoped>\n",
       "    .dataframe tbody tr th:only-of-type {\n",
       "        vertical-align: middle;\n",
       "    }\n",
       "\n",
       "    .dataframe tbody tr th {\n",
       "        vertical-align: top;\n",
       "    }\n",
       "\n",
       "    .dataframe thead th {\n",
       "        text-align: right;\n",
       "    }\n",
       "</style>\n",
       "<table border=\"1\" class=\"dataframe\">\n",
       "  <thead>\n",
       "    <tr style=\"text-align: right;\">\n",
       "      <th></th>\n",
       "      <th>target</th>\n",
       "    </tr>\n",
       "  </thead>\n",
       "  <tbody>\n",
       "    <tr>\n",
       "      <th>Telephone</th>\n",
       "      <td>113</td>\n",
       "    </tr>\n",
       "    <tr>\n",
       "      <th>Zebra</th>\n",
       "      <td>105</td>\n",
       "    </tr>\n",
       "    <tr>\n",
       "      <th>Viking</th>\n",
       "      <td>66</td>\n",
       "    </tr>\n",
       "    <tr>\n",
       "      <th>Bean</th>\n",
       "      <td>62</td>\n",
       "    </tr>\n",
       "    <tr>\n",
       "      <th>Adolf_Hitler</th>\n",
       "      <td>26</td>\n",
       "    </tr>\n",
       "    <tr>\n",
       "      <th>Microsoft</th>\n",
       "      <td>19</td>\n",
       "    </tr>\n",
       "    <tr>\n",
       "      <th>Penguin</th>\n",
       "      <td>16</td>\n",
       "    </tr>\n",
       "    <tr>\n",
       "      <th>Wood</th>\n",
       "      <td>13</td>\n",
       "    </tr>\n",
       "    <tr>\n",
       "      <th>Krazy_Kat</th>\n",
       "      <td>12</td>\n",
       "    </tr>\n",
       "    <tr>\n",
       "      <th>Social_capital</th>\n",
       "      <td>12</td>\n",
       "    </tr>\n",
       "    <tr>\n",
       "      <th>Google</th>\n",
       "      <td>12</td>\n",
       "    </tr>\n",
       "    <tr>\n",
       "      <th>Banana</th>\n",
       "      <td>12</td>\n",
       "    </tr>\n",
       "    <tr>\n",
       "      <th>God</th>\n",
       "      <td>11</td>\n",
       "    </tr>\n",
       "    <tr>\n",
       "      <th>The_Country_Wife</th>\n",
       "      <td>11</td>\n",
       "    </tr>\n",
       "    <tr>\n",
       "      <th>Tiger_Woods</th>\n",
       "      <td>11</td>\n",
       "    </tr>\n",
       "  </tbody>\n",
       "</table>\n",
       "</div>"
      ],
      "text/plain": [
       "                  target\n",
       "Telephone            113\n",
       "Zebra                105\n",
       "Viking                66\n",
       "Bean                  62\n",
       "Adolf_Hitler          26\n",
       "Microsoft             19\n",
       "Penguin               16\n",
       "Wood                  13\n",
       "Krazy_Kat             12\n",
       "Social_capital        12\n",
       "Google                12\n",
       "Banana                12\n",
       "God                   11\n",
       "The_Country_Wife      11\n",
       "Tiger_Woods           11"
      ]
     },
     "execution_count": 127,
     "metadata": {},
     "output_type": "execute_result"
    }
   ],
   "source": [
    "restart0_target_list = pd.DataFrame(data = df_restart0.target.value_counts(sort = True))\n",
    "restart0_target_list = restart0_target_list[restart0_target_list.target > 10]\n",
    "restart0_target_list"
   ]
  },
  {
   "cell_type": "markdown",
   "metadata": {},
   "source": [
    "Take the target show up frequency into consideration"
   ]
  },
  {
   "cell_type": "code",
   "execution_count": 128,
   "metadata": {},
   "outputs": [
    {
     "data": {
      "text/html": [
       "<div>\n",
       "<style scoped>\n",
       "    .dataframe tbody tr th:only-of-type {\n",
       "        vertical-align: middle;\n",
       "    }\n",
       "\n",
       "    .dataframe tbody tr th {\n",
       "        vertical-align: top;\n",
       "    }\n",
       "\n",
       "    .dataframe thead th {\n",
       "        text-align: right;\n",
       "    }\n",
       "</style>\n",
       "<table border=\"1\" class=\"dataframe\">\n",
       "  <thead>\n",
       "    <tr style=\"text-align: right;\">\n",
       "      <th></th>\n",
       "      <th>target</th>\n",
       "    </tr>\n",
       "  </thead>\n",
       "  <tbody>\n",
       "    <tr>\n",
       "      <th>Tiger_Woods</th>\n",
       "      <td>0.050459</td>\n",
       "    </tr>\n",
       "    <tr>\n",
       "      <th>Bean</th>\n",
       "      <td>0.065263</td>\n",
       "    </tr>\n",
       "    <tr>\n",
       "      <th>Viking</th>\n",
       "      <td>0.089918</td>\n",
       "    </tr>\n",
       "    <tr>\n",
       "      <th>Telephone</th>\n",
       "      <td>0.106604</td>\n",
       "    </tr>\n",
       "    <tr>\n",
       "      <th>Zebra</th>\n",
       "      <td>0.117581</td>\n",
       "    </tr>\n",
       "    <tr>\n",
       "      <th>Wood</th>\n",
       "      <td>0.139785</td>\n",
       "    </tr>\n",
       "    <tr>\n",
       "      <th>Banana</th>\n",
       "      <td>0.142857</td>\n",
       "    </tr>\n",
       "    <tr>\n",
       "      <th>Google</th>\n",
       "      <td>0.148148</td>\n",
       "    </tr>\n",
       "    <tr>\n",
       "      <th>Krazy_Kat</th>\n",
       "      <td>0.173913</td>\n",
       "    </tr>\n",
       "    <tr>\n",
       "      <th>The_Country_Wife</th>\n",
       "      <td>0.239130</td>\n",
       "    </tr>\n",
       "    <tr>\n",
       "      <th>God</th>\n",
       "      <td>0.244444</td>\n",
       "    </tr>\n",
       "    <tr>\n",
       "      <th>Microsoft</th>\n",
       "      <td>0.263889</td>\n",
       "    </tr>\n",
       "    <tr>\n",
       "      <th>Social_capital</th>\n",
       "      <td>0.272727</td>\n",
       "    </tr>\n",
       "    <tr>\n",
       "      <th>Adolf_Hitler</th>\n",
       "      <td>0.276596</td>\n",
       "    </tr>\n",
       "    <tr>\n",
       "      <th>Penguin</th>\n",
       "      <td>0.372093</td>\n",
       "    </tr>\n",
       "  </tbody>\n",
       "</table>\n",
       "</div>"
      ],
      "text/plain": [
       "                    target\n",
       "Tiger_Woods       0.050459\n",
       "Bean              0.065263\n",
       "Viking            0.089918\n",
       "Telephone         0.106604\n",
       "Zebra             0.117581\n",
       "Wood              0.139785\n",
       "Banana            0.142857\n",
       "Google            0.148148\n",
       "Krazy_Kat         0.173913\n",
       "The_Country_Wife  0.239130\n",
       "God               0.244444\n",
       "Microsoft         0.263889\n",
       "Social_capital    0.272727\n",
       "Adolf_Hitler      0.276596\n",
       "Penguin           0.372093"
      ]
     },
     "execution_count": 128,
     "metadata": {},
     "output_type": "execute_result"
    }
   ],
   "source": [
    "restart0_target_list_total = pd.DataFrame(df_unfinished_path[df_unfinished_path['target'].isin(restart0_target_list.index)].target.value_counts(sort = True))\n",
    "restart0_target_ratio = restart0_target_list/restart0_target_list_total\n",
    "restart0_target_ratio.sort_values(by=['target'])"
   ]
  },
  {
   "cell_type": "markdown",
   "metadata": {},
   "source": [
    "It seems players are more likely to quit when they see Penguin as target."
   ]
  },
  {
   "cell_type": "markdown",
   "metadata": {},
   "source": [
    "All the above analysis focus more on seperate files and aim at giving a first impression of the datasets."
   ]
  },
  {
   "cell_type": "markdown",
   "metadata": {
    "tags": []
   },
   "source": [
    "#### Merge Data in Files together. And Analyse the Dataset more comprehensively"
   ]
  },
  {
   "cell_type": "markdown",
   "metadata": {},
   "source": [
    "```bash\n",
    "A. Convert path to index number format\n",
    "```"
   ]
  },
  {
   "cell_type": "markdown",
   "metadata": {},
   "source": [
    "The path will be converted to number index in the column **pathnum**. We can first use the index to get the shortest path and make comparison. Also, this is useful when we later analyze in LDA construction."
   ]
  },
  {
   "cell_type": "code",
   "execution_count": 74,
   "metadata": {},
   "outputs": [],
   "source": [
    "## First modify the df_article to make it easier find index\n",
    "# record index and change index to articles names\n",
    "df_article_temp = df_article.copy(deep = True)\n",
    "df_article_temp['num'] = df_article.index\n",
    "df_article_temp.index = df_article['articles']\n",
    "\n",
    "## add withdraw step '<' as 'article: -1'\n",
    "df_article_temp.loc['<'] = -1"
   ]
  },
  {
   "cell_type": "code",
   "execution_count": 84,
   "metadata": {
    "collapsed": false,
    "jupyter": {
     "outputs_hidden": false
    }
   },
   "outputs": [],
   "source": [
    "df_finished_path_rm_outlier['pathnum'] = df_finished_path_rm_outlier.apply(lambda x:df_article_temp.loc[x.path.split(';')[:]].num.tolist(), axis = 1)"
   ]
  },
  {
   "cell_type": "code",
   "execution_count": 87,
   "metadata": {},
   "outputs": [
    {
     "data": {
      "text/html": [
       "<div>\n",
       "<style scoped>\n",
       "    .dataframe tbody tr th:only-of-type {\n",
       "        vertical-align: middle;\n",
       "    }\n",
       "\n",
       "    .dataframe tbody tr th {\n",
       "        vertical-align: top;\n",
       "    }\n",
       "\n",
       "    .dataframe thead th {\n",
       "        text-align: right;\n",
       "    }\n",
       "</style>\n",
       "<table border=\"1\" class=\"dataframe\">\n",
       "  <thead>\n",
       "    <tr style=\"text-align: right;\">\n",
       "      <th></th>\n",
       "      <th>path</th>\n",
       "      <th>pathnum</th>\n",
       "    </tr>\n",
       "  </thead>\n",
       "  <tbody>\n",
       "    <tr>\n",
       "      <th>0</th>\n",
       "      <td>14th_century;15th_century;16th_century;Pacific_Ocean;Atlantic_Ocean;Accra;Africa;Atlantic_slave_...</td>\n",
       "      <td>[10, 12, 15, 3134, 377, 105, 128, 379, 143]</td>\n",
       "    </tr>\n",
       "    <tr>\n",
       "      <th>1</th>\n",
       "      <td>14th_century;Europe;Africa;Atlantic_slave_trade;African_slave_trade</td>\n",
       "      <td>[10, 1433, 128, 379, 143]</td>\n",
       "    </tr>\n",
       "    <tr>\n",
       "      <th>2</th>\n",
       "      <td>14th_century;Niger;Nigeria;British_Empire;Slavery;Africa;Atlantic_slave_trade;African_slave_trade</td>\n",
       "      <td>[10, 2982, 2984, 694, 3755, 128, 379, 143]</td>\n",
       "    </tr>\n",
       "    <tr>\n",
       "      <th>3</th>\n",
       "      <td>14th_century;Renaissance;Ancient_Greece;Greece</td>\n",
       "      <td>[10, 3464, 241, 1793]</td>\n",
       "    </tr>\n",
       "    <tr>\n",
       "      <th>4</th>\n",
       "      <td>14th_century;Italy;Roman_Catholic_Church;HIV;Ronald_Reagan;President_of_the_United_States;John_F...</td>\n",
       "      <td>[10, 2183, 3529, 1836, 3542, 3342, 2266]</td>\n",
       "    </tr>\n",
       "  </tbody>\n",
       "</table>\n",
       "</div>"
      ],
      "text/plain": [
       "                                                                                                  path                                      pathnum\n",
       "0  14th_century;15th_century;16th_century;Pacific_Ocean;Atlantic_Ocean;Accra;Africa;Atlantic_slave_...  [10, 12, 15, 3134, 377, 105, 128, 379, 143]\n",
       "1                                  14th_century;Europe;Africa;Atlantic_slave_trade;African_slave_trade                    [10, 1433, 128, 379, 143]\n",
       "2    14th_century;Niger;Nigeria;British_Empire;Slavery;Africa;Atlantic_slave_trade;African_slave_trade   [10, 2982, 2984, 694, 3755, 128, 379, 143]\n",
       "3                                                       14th_century;Renaissance;Ancient_Greece;Greece                        [10, 3464, 241, 1793]\n",
       "4  14th_century;Italy;Roman_Catholic_Church;HIV;Ronald_Reagan;President_of_the_United_States;John_F...     [10, 2183, 3529, 1836, 3542, 3342, 2266]"
      ]
     },
     "execution_count": 87,
     "metadata": {},
     "output_type": "execute_result"
    }
   ],
   "source": [
    "df_finished_path_rm_outlier[['path','pathnum']].head()"
   ]
  },
  {
   "cell_type": "markdown",
   "metadata": {},
   "source": [
    "With paths represent in numbers, we can also compare the length of the path with the shortest path length."
   ]
  },
  {
   "cell_type": "code",
   "execution_count": 82,
   "metadata": {},
   "outputs": [
    {
     "data": {
      "text/plain": [
       "<matplotlib.collections.PathCollection at 0x7f80220a8550>"
      ]
     },
     "execution_count": 82,
     "metadata": {},
     "output_type": "execute_result"
    },
    {
     "data": {
      "image/png": "[encoded data removed]",
      "text/plain": [
       "<Figure size 640x480 with 1 Axes>"
      ]
     },
     "metadata": {},
     "output_type": "display_data"
    }
   ],
   "source": [
    "# add shortest path length to dataframe\n",
    "df_finished_path_rm_outlier['shortest'] = df_finished_path_rm_outlier.apply(lambda x:shortest_dist_matrix[x['pathnum'][0]][x['pathnum'][-1]], axis = 1)\n",
    "\n",
    "# temporately not consider the error in shortest path\n",
    "df_finished_path_rm_outlier = df_finished_path_rm_outlier.drop(df_finished_path_rm_outlier[df_finished_path_rm_outlier['shortest'] == '_'].index, axis = 0)\n",
    "# use 'int' type in shortest path length instead of 'string'\n",
    "df_finished_path_rm_outlier['shortest'] = df_finished_path_rm_outlier.apply(lambda x: int(x.shortest), axis = 1)\n",
    "\n",
    "# visualize\n",
    "plt.scatter(df_finished_path_rm_outlier['shortest'], df_finished_path_rm_outlier['path_length'],alpha=0.5)"
   ]
  },
  {
   "cell_type": "markdown",
   "metadata": {},
   "source": [
    "```bash\n",
    "B. Analyze the finished_path dataframe joined with categories\n",
    "```"
   ]
  },
  {
   "cell_type": "markdown",
   "metadata": {},
   "source": [
    "Dataframe **df_finished_path** variables\n",
    "\n",
    "`hashedIpAddress`: IP address in hashed format. It is the unique identifier.\n",
    "\n",
    "`timestamp`: timestamp when the game start. It is the unique identifier.\n",
    "\n",
    "`durationInSec`: time used by the player to finish the clicking task. Unit in second\n",
    "\n",
    "`path`: articles that player clicks during the game\n",
    "\n",
    "`rating`: score that the player get according to their path result\n",
    "\n",
    "`path_length`: length of the variable path\n",
    "\n",
    "`source`: the source article in the path\n",
    "\n",
    "`destination`: the target article in the path\n",
    "\n",
    "`path_pair`: article pair generated from the variable path\n",
    "\n",
    "`pathnum`: convert the path to path number index\n",
    "\n",
    "`first_path`: article that the user first click on\n",
    "\n",
    "`first_path_category`: category of the article that the user first click on\n",
    "\n",
    "`first_path_category_length`: length of the variable first_path_category\n",
    "\n",
    "`first_path_category_1st`: 1st category of the article that the user first click on\n",
    "\n",
    "`source_category`: category of the source article\n",
    "\n",
    "`source_category_length`: length of the variable source_category\n",
    "\n",
    "`source_category_1st`: 1st category of the source article\n",
    "\n",
    "`dest_category`: category of the destination article\n",
    "\n",
    "`dest_category_length`: length of the variable dest_category\n",
    "\n",
    "`dest_category_1st`: 1st category of the destination article\n",
    "\n",
    "`source_dest_category_1st`: category pairs contain the category of source and destination articles\n",
    "\n",
    "`source_first_path_category_1st`: category pairs contain the category of source and first clicking articles"
   ]
  },
  {
   "cell_type": "markdown",
   "metadata": {},
   "source": [
    "First merge the df_finished_path and df_categories. Every data about the articles will have their category information.\n",
    "First, we extract the first article that the user click and store the data in column **first_path**"
   ]
  },
  {
   "cell_type": "code",
   "execution_count": 99,
   "metadata": {
    "collapsed": false,
    "jupyter": {
     "outputs_hidden": false
    }
   },
   "outputs": [],
   "source": [
    "df_merge_finished_path_category = df_finished_path_rm_outlier.copy(deep=True)\n",
    "df_merge_finished_path_category['first_path'] = df_merge_finished_path_category.apply(lambda x:x.path.split(';')[1], axis = 1)"
   ]
  },
  {
   "cell_type": "markdown",
   "metadata": {},
   "source": [
    "We merge the path and the category dataframe together. We create new columns called \"first_category\" and \"first_category_length\" to store the category information of the first path"
   ]
  },
  {
   "cell_type": "code",
   "execution_count": 100,
   "metadata": {
    "collapsed": false,
    "jupyter": {
     "outputs_hidden": false
    }
   },
   "outputs": [],
   "source": [
    "df_merge_finished_path_category = pd.merge(df_merge_finished_path_category, df_categories, left_on='first_path', right_on='articles')"
   ]
  },
  {
   "cell_type": "code",
   "execution_count": 101,
   "metadata": {
    "collapsed": false,
    "jupyter": {
     "outputs_hidden": false
    }
   },
   "outputs": [],
   "source": [
    "df_merge_finished_path_category['first_path_category'] = df_merge_finished_path_category['category']\n",
    "df_merge_finished_path_category['first_path_category_length'] = df_merge_finished_path_category['category_length']\n",
    "df_merge_finished_path_category['first_path_category_1st'] = df_merge_finished_path_category.apply(lambda x:x.first_path_category.split('.')[1], axis = 1)\n",
    "df_merge_finished_path_category = df_merge_finished_path_category.drop(['category','articles', 'category_length', 'category_1st'], axis = 1)"
   ]
  },
  {
   "cell_type": "markdown",
   "metadata": {},
   "source": [
    "We create new columns called \"source_category\" and \"source_category_length\" to store the category information of the source article. We create new columns called \"dest_category\" and \"dest_category_length\" to store the category information of the destination article."
   ]
  },
  {
   "cell_type": "code",
   "execution_count": 102,
   "metadata": {
    "collapsed": false,
    "jupyter": {
     "outputs_hidden": false
    }
   },
   "outputs": [],
   "source": [
    "df_merge_finished_path_category = pd.merge(df_merge_finished_path_category, df_categories,left_on='source', right_on='articles')\n",
    "df_merge_finished_path_category['source_category'] = df_merge_finished_path_category['category']\n",
    "df_merge_finished_path_category['source_category_length'] = df_merge_finished_path_category['category_length']\n",
    "df_merge_finished_path_category['source_category_1st'] = df_merge_finished_path_category.apply(lambda x:x.source_category.split('.')[1], axis = 1)\n",
    "df_merge_finished_path_category = df_merge_finished_path_category.drop(['category','articles', 'category_length', 'category_1st'], axis = 1)\n",
    "\n",
    "df_merge_finished_path_category = pd.merge(df_merge_finished_path_category, df_categories,left_on='destination', right_on='articles')\n",
    "df_merge_finished_path_category['dest_category'] = df_merge_finished_path_category['category']\n",
    "df_merge_finished_path_category['dest_category_length'] = df_merge_finished_path_category['category_length']\n",
    "df_merge_finished_path_category['dest_category_1st'] = df_merge_finished_path_category.apply(lambda x:x.dest_category.split('.')[1], axis = 1)\n",
    "df_merge_finished_path_category = df_merge_finished_path_category.drop(['category','articles', 'category_length', 'category_1st'], axis = 1)"
   ]
  },
  {
   "cell_type": "markdown",
   "metadata": {},
   "source": [
    "Then, we merge the source category with the destination category and store the data in column **source_dest_category**"
   ]
  },
  {
   "cell_type": "code",
   "execution_count": 103,
   "metadata": {
    "collapsed": false,
    "jupyter": {
     "outputs_hidden": false
    }
   },
   "outputs": [],
   "source": [
    "df_merge_finished_path_category['source_dest_category_1st'] = df_merge_finished_path_category['source_category_1st'].str.cat(';' + df_merge_finished_path_category['dest_category_1st'])"
   ]
  },
  {
   "cell_type": "code",
   "execution_count": 104,
   "metadata": {
    "collapsed": false,
    "jupyter": {
     "outputs_hidden": false
    }
   },
   "outputs": [],
   "source": [
    "df_merge_finished_path_category['source_dest_category'] = df_merge_finished_path_category['source_category'].str.cat(';' + df_merge_finished_path_category['dest_category'])"
   ]
  },
  {
   "cell_type": "markdown",
   "metadata": {},
   "source": [
    "Then, we merge the source category with the first path category and store the data in column **source_first_path_category**"
   ]
  },
  {
   "cell_type": "code",
   "execution_count": 105,
   "metadata": {
    "collapsed": false,
    "jupyter": {
     "outputs_hidden": false
    }
   },
   "outputs": [],
   "source": [
    "df_merge_finished_path_category['source_first_path_category_1st'] = df_merge_finished_path_category['source_category_1st'].str.cat(';' + df_merge_finished_path_category['first_path_category_1st'])"
   ]
  },
  {
   "cell_type": "code",
   "execution_count": 106,
   "metadata": {
    "collapsed": false,
    "jupyter": {
     "outputs_hidden": false
    }
   },
   "outputs": [
    {
     "data": {
      "text/html": [
       "<div>\n",
       "<style scoped>\n",
       "    .dataframe tbody tr th:only-of-type {\n",
       "        vertical-align: middle;\n",
       "    }\n",
       "\n",
       "    .dataframe tbody tr th {\n",
       "        vertical-align: top;\n",
       "    }\n",
       "\n",
       "    .dataframe thead th {\n",
       "        text-align: right;\n",
       "    }\n",
       "</style>\n",
       "<table border=\"1\" class=\"dataframe\">\n",
       "  <thead>\n",
       "    <tr style=\"text-align: right;\">\n",
       "      <th></th>\n",
       "      <th>hashedIpAddress</th>\n",
       "      <th>timestamp</th>\n",
       "      <th>durationInSec</th>\n",
       "      <th>path</th>\n",
       "      <th>rating</th>\n",
       "      <th>path_length</th>\n",
       "      <th>source</th>\n",
       "      <th>destination</th>\n",
       "      <th>path_pair</th>\n",
       "      <th>pathnum</th>\n",
       "      <th>shortest</th>\n",
       "      <th>first_path</th>\n",
       "      <th>first_path_category</th>\n",
       "      <th>first_path_category_length</th>\n",
       "      <th>first_path_category_1st</th>\n",
       "      <th>source_category</th>\n",
       "      <th>source_category_length</th>\n",
       "      <th>source_category_1st</th>\n",
       "      <th>dest_category</th>\n",
       "      <th>dest_category_length</th>\n",
       "      <th>dest_category_1st</th>\n",
       "      <th>source_dest_category_1st</th>\n",
       "      <th>source_dest_category</th>\n",
       "      <th>source_first_path_category_1st</th>\n",
       "    </tr>\n",
       "  </thead>\n",
       "  <tbody>\n",
       "    <tr>\n",
       "      <th>0</th>\n",
       "      <td>6a3701d319fc3754</td>\n",
       "      <td>1297740409</td>\n",
       "      <td>166</td>\n",
       "      <td>14th_century;15th_century;16th_century;Pacific_Ocean;Atlantic_Ocean;Accra;Africa;Atlantic_slave_...</td>\n",
       "      <td>NaN</td>\n",
       "      <td>8</td>\n",
       "      <td>14th_century</td>\n",
       "      <td>African_slave_trade</td>\n",
       "      <td>[(14th_century, 15th_century), (15th_century, 16th_century), (16th_century, Pacific_Ocean), (Pac...</td>\n",
       "      <td>[10, 12, 15, 3134, 377, 105, 128, 379, 143]</td>\n",
       "      <td>3</td>\n",
       "      <td>15th_century</td>\n",
       "      <td>subject.History.General_history</td>\n",
       "      <td>3</td>\n",
       "      <td>History</td>\n",
       "      <td>subject.History.General_history</td>\n",
       "      <td>3</td>\n",
       "      <td>History</td>\n",
       "      <td>subject.History.General_history</td>\n",
       "      <td>3</td>\n",
       "      <td>History</td>\n",
       "      <td>History;History</td>\n",
       "      <td>subject.History.General_history;subject.History.General_history</td>\n",
       "      <td>History;History</td>\n",
       "    </tr>\n",
       "    <tr>\n",
       "      <th>1</th>\n",
       "      <td>3824310e536af032</td>\n",
       "      <td>1344753412</td>\n",
       "      <td>88</td>\n",
       "      <td>14th_century;Europe;Africa;Atlantic_slave_trade;African_slave_trade</td>\n",
       "      <td>3.0</td>\n",
       "      <td>4</td>\n",
       "      <td>14th_century</td>\n",
       "      <td>African_slave_trade</td>\n",
       "      <td>[(14th_century, Europe), (Europe, Africa), (Africa, Atlantic_slave_trade), (Atlantic_slave_trade...</td>\n",
       "      <td>[10, 1433, 128, 379, 143]</td>\n",
       "      <td>3</td>\n",
       "      <td>Europe</td>\n",
       "      <td>subject.Geography.European_Geography</td>\n",
       "      <td>3</td>\n",
       "      <td>Geography</td>\n",
       "      <td>subject.History.General_history</td>\n",
       "      <td>3</td>\n",
       "      <td>History</td>\n",
       "      <td>subject.History.General_history</td>\n",
       "      <td>3</td>\n",
       "      <td>History</td>\n",
       "      <td>History;History</td>\n",
       "      <td>subject.History.General_history;subject.History.General_history</td>\n",
       "      <td>History;Geography</td>\n",
       "    </tr>\n",
       "    <tr>\n",
       "      <th>2</th>\n",
       "      <td>415612e93584d30e</td>\n",
       "      <td>1349298640</td>\n",
       "      <td>138</td>\n",
       "      <td>14th_century;Niger;Nigeria;British_Empire;Slavery;Africa;Atlantic_slave_trade;African_slave_trade</td>\n",
       "      <td>NaN</td>\n",
       "      <td>7</td>\n",
       "      <td>14th_century</td>\n",
       "      <td>African_slave_trade</td>\n",
       "      <td>[(14th_century, Niger), (Niger, Nigeria), (Nigeria, British_Empire), (British_Empire, Slavery), ...</td>\n",
       "      <td>[10, 2982, 2984, 694, 3755, 128, 379, 143]</td>\n",
       "      <td>3</td>\n",
       "      <td>Niger</td>\n",
       "      <td>subject.Geography.African_Geography.African_Countries</td>\n",
       "      <td>4</td>\n",
       "      <td>Geography</td>\n",
       "      <td>subject.History.General_history</td>\n",
       "      <td>3</td>\n",
       "      <td>History</td>\n",
       "      <td>subject.History.General_history</td>\n",
       "      <td>3</td>\n",
       "      <td>History</td>\n",
       "      <td>History;History</td>\n",
       "      <td>subject.History.General_history;subject.History.General_history</td>\n",
       "      <td>History;Geography</td>\n",
       "    </tr>\n",
       "    <tr>\n",
       "      <th>3</th>\n",
       "      <td>415612e93584d30e</td>\n",
       "      <td>1349298640</td>\n",
       "      <td>138</td>\n",
       "      <td>14th_century;Niger;Nigeria;British_Empire;Slavery;Africa;Atlantic_slave_trade;African_slave_trade</td>\n",
       "      <td>NaN</td>\n",
       "      <td>7</td>\n",
       "      <td>14th_century</td>\n",
       "      <td>African_slave_trade</td>\n",
       "      <td>[(14th_century, Niger), (Niger, Nigeria), (Nigeria, British_Empire), (British_Empire, Slavery), ...</td>\n",
       "      <td>[10, 2982, 2984, 694, 3755, 128, 379, 143]</td>\n",
       "      <td>3</td>\n",
       "      <td>Niger</td>\n",
       "      <td>subject.Countries</td>\n",
       "      <td>2</td>\n",
       "      <td>Countries</td>\n",
       "      <td>subject.History.General_history</td>\n",
       "      <td>3</td>\n",
       "      <td>History</td>\n",
       "      <td>subject.History.General_history</td>\n",
       "      <td>3</td>\n",
       "      <td>History</td>\n",
       "      <td>History;History</td>\n",
       "      <td>subject.History.General_history;subject.History.General_history</td>\n",
       "      <td>History;Countries</td>\n",
       "    </tr>\n",
       "    <tr>\n",
       "      <th>4</th>\n",
       "      <td>753ed9952cc780aa</td>\n",
       "      <td>1308004822</td>\n",
       "      <td>114</td>\n",
       "      <td>Bread;Ethiopia;Africa;Atlantic_slave_trade;African_slave_trade</td>\n",
       "      <td>1.0</td>\n",
       "      <td>4</td>\n",
       "      <td>Bread</td>\n",
       "      <td>African_slave_trade</td>\n",
       "      <td>[(Bread, Ethiopia), (Ethiopia, Africa), (Africa, Atlantic_slave_trade), (Atlantic_slave_trade, A...</td>\n",
       "      <td>[685, 1420, 128, 379, 143]</td>\n",
       "      <td>3</td>\n",
       "      <td>Ethiopia</td>\n",
       "      <td>subject.Geography.African_Geography.African_Countries</td>\n",
       "      <td>4</td>\n",
       "      <td>Geography</td>\n",
       "      <td>subject.Everyday_life.Food_and_agriculture</td>\n",
       "      <td>3</td>\n",
       "      <td>Everyday_life</td>\n",
       "      <td>subject.History.General_history</td>\n",
       "      <td>3</td>\n",
       "      <td>History</td>\n",
       "      <td>Everyday_life;History</td>\n",
       "      <td>subject.Everyday_life.Food_and_agriculture;subject.History.General_history</td>\n",
       "      <td>Everyday_life;Geography</td>\n",
       "    </tr>\n",
       "  </tbody>\n",
       "</table>\n",
       "</div>"
      ],
      "text/plain": [
       "    hashedIpAddress   timestamp  durationInSec                                                                                                 path  rating  path_length        source          destination                                                                                            path_pair                                      pathnum  shortest    first_path                                    first_path_category  first_path_category_length first_path_category_1st                             source_category  source_category_length source_category_1st                    dest_category  dest_category_length dest_category_1st source_dest_category_1st                                                        source_dest_category source_first_path_category_1st\n",
       "0  6a3701d319fc3754  1297740409            166  14th_century;15th_century;16th_century;Pacific_Ocean;Atlantic_Ocean;Accra;Africa;Atlantic_slave_...     NaN            8  14th_century  African_slave_trade  [(14th_century, 15th_century), (15th_century, 16th_century), (16th_century, Pacific_Ocean), (Pac...  [10, 12, 15, 3134, 377, 105, 128, 379, 143]         3  15th_century                        subject.History.General_history                           3                 History             subject.History.General_history                       3             History  subject.History.General_history                     3           History          History;History             subject.History.General_history;subject.History.General_history                History;History\n",
       "1  3824310e536af032  1344753412             88                                  14th_century;Europe;Africa;Atlantic_slave_trade;African_slave_trade     3.0            4  14th_century  African_slave_trade  [(14th_century, Europe), (Europe, Africa), (Africa, Atlantic_slave_trade), (Atlantic_slave_trade...                    [10, 1433, 128, 379, 143]         3        Europe                   subject.Geography.European_Geography                           3               Geography             subject.History.General_history                       3             History  subject.History.General_history                     3           History          History;History             subject.History.General_history;subject.History.General_history              History;Geography\n",
       "2  415612e93584d30e  1349298640            138    14th_century;Niger;Nigeria;British_Empire;Slavery;Africa;Atlantic_slave_trade;African_slave_trade     NaN            7  14th_century  African_slave_trade  [(14th_century, Niger), (Niger, Nigeria), (Nigeria, British_Empire), (British_Empire, Slavery), ...   [10, 2982, 2984, 694, 3755, 128, 379, 143]         3         Niger  subject.Geography.African_Geography.African_Countries                           4               Geography             subject.History.General_history                       3             History  subject.History.General_history                     3           History          History;History             subject.History.General_history;subject.History.General_history              History;Geography\n",
       "3  415612e93584d30e  1349298640            138    14th_century;Niger;Nigeria;British_Empire;Slavery;Africa;Atlantic_slave_trade;African_slave_trade     NaN            7  14th_century  African_slave_trade  [(14th_century, Niger), (Niger, Nigeria), (Nigeria, British_Empire), (British_Empire, Slavery), ...   [10, 2982, 2984, 694, 3755, 128, 379, 143]         3         Niger                                      subject.Countries                           2               Countries             subject.History.General_history                       3             History  subject.History.General_history                     3           History          History;History             subject.History.General_history;subject.History.General_history              History;Countries\n",
       "4  753ed9952cc780aa  1308004822            114                                       Bread;Ethiopia;Africa;Atlantic_slave_trade;African_slave_trade     1.0            4         Bread  African_slave_trade  [(Bread, Ethiopia), (Ethiopia, Africa), (Africa, Atlantic_slave_trade), (Atlantic_slave_trade, A...                   [685, 1420, 128, 379, 143]         3      Ethiopia  subject.Geography.African_Geography.African_Countries                           4               Geography  subject.Everyday_life.Food_and_agriculture                       3       Everyday_life  subject.History.General_history                     3           History    Everyday_life;History  subject.Everyday_life.Food_and_agriculture;subject.History.General_history        Everyday_life;Geography"
      ]
     },
     "execution_count": 106,
     "metadata": {},
     "output_type": "execute_result"
    }
   ],
   "source": [
    "df_merge_finished_path_category.head()"
   ]
  },
  {
   "cell_type": "markdown",
   "metadata": {},
   "source": [
    "Analyze the data in dataframe df_merge_finished_path_category"
   ]
  },
  {
   "cell_type": "markdown",
   "metadata": {
    "tags": []
   },
   "source": [
    "##### Variable: first_path_category_1st"
   ]
  },
  {
   "cell_type": "markdown",
   "metadata": {},
   "source": [
    "We count the frequency of variable **first_path_category_1st**. For example, the result shows that people click the article which is in the Science category 13672 times during the whole finished path."
   ]
  },
  {
   "cell_type": "code",
   "execution_count": 107,
   "metadata": {
    "collapsed": false,
    "jupyter": {
     "outputs_hidden": false
    }
   },
   "outputs": [
    {
     "data": {
      "text/plain": [
       "Geography                  35068\n",
       "Countries                  17663\n",
       "Science                    13672\n",
       "History                     6959\n",
       "Citizenship                 4066\n",
       "Everyday_life               3841\n",
       "Language_and_literature     3133\n",
       "People                      3094\n",
       "Religion                    2119\n",
       "IT                          1235\n",
       "Business_Studies            1076\n",
       "Design_and_Technology       1062\n",
       "Music                        479\n",
       "Mathematics                  403\n",
       "Art                          360\n",
       "Name: first_path_category_1st, dtype: int64"
      ]
     },
     "execution_count": 107,
     "metadata": {},
     "output_type": "execute_result"
    }
   ],
   "source": [
    "click_category_count_depth1 = df_merge_finished_path_category['first_path_category_1st'].value_counts(sort = True)\n",
    "click_category_count_depth1"
   ]
  },
  {
   "cell_type": "markdown",
   "metadata": {},
   "source": [
    "Then, we compare the result above with the article numbers in each category. For example, there are 38 articles in the category Art. And when people play the game, there are 360 times that people choose the Art category in their first choice."
   ]
  },
  {
   "cell_type": "code",
   "execution_count": 108,
   "metadata": {
    "collapsed": false,
    "jupyter": {
     "outputs_hidden": false
    }
   },
   "outputs": [
    {
     "data": {
      "image/png": "[encoded data removed]",
      "text/plain": [
       "<Figure size 640x480 with 1 Axes>"
      ]
     },
     "metadata": {},
     "output_type": "display_data"
    }
   ],
   "source": [
    "y = range(len(click_category_count_depth1))\n",
    "catagory_values = df_categories['category_1st'].value_counts(sort = True)\n",
    "\n",
    "rects1 = plt.barh(y=y, width=click_category_count_depth1, height=0.4, alpha=0.8, color='red', label=\"click number\")\n",
    "rects2 = plt.barh(y=[i + 0.4 for i in y], width=catagory_values, height=0.4, color='green', label=\"article number\")\n",
    "\n",
    "plt.xlabel(\"numbers\")\n",
    "\n",
    "plt.yticks([index + 0.4 for index in y], click_category_count_depth1.index)\n",
    "plt.ylabel(\"categories\")\n",
    "plt.title(\"First step\")\n",
    "plt.legend()\n",
    "\n",
    "for rect in rects1:\n",
    "    width = rect.get_width()\n",
    "    plt.text(width, rect.get_y() + rect.get_height() / 2 - 0.2, str(width))\n",
    "for rect in rects2:\n",
    "    width = rect.get_width()\n",
    "    plt.text(width, rect.get_y() + rect.get_height() / 2 - 0.1, str(width))\n",
    "plt.show()"
   ]
  },
  {
   "cell_type": "markdown",
   "metadata": {},
   "source": [
    "We draw the picture which shows the ratio of article numbers in each category and the times that people choose article in this kind of category in their first choice."
   ]
  },
  {
   "cell_type": "code",
   "execution_count": 109,
   "metadata": {
    "collapsed": false,
    "jupyter": {
     "outputs_hidden": false
    }
   },
   "outputs": [
    {
     "data": {
      "image/png": "[encoded data removed]",
      "text/plain": [
       "<Figure size 640x480 with 1 Axes>"
      ]
     },
     "metadata": {},
     "output_type": "display_data"
    }
   ],
   "source": [
    "# ratio\n",
    "\n",
    "rects3 = plt.barh(y=y, width = round(click_category_count_depth1/catagory_values,2), height=0.4, alpha=0.8, color='blue', label=\"ratio\")\n",
    "plt.xlabel(\"ratio\")\n",
    "\n",
    "plt.yticks([index  for index in y], click_category_count_depth1.index)\n",
    "plt.ylabel(\"categories\")\n",
    "plt.title(\"First step\")\n",
    "plt.legend()\n",
    "\n",
    "for rect in rects3:\n",
    "    width = rect.get_width()\n",
    "    plt.text(width, rect.get_y() + rect.get_height() / 2 -0.2, str(width))\n",
    "\n",
    "plt.show()"
   ]
  },
  {
   "cell_type": "markdown",
   "metadata": {},
   "source": [
    "From the picture, we find that the ratio of category history is relatively high, comparing with other categories. It means that people tends to click on the article with category \"history\" in their first clicking choice.\n",
    "Then in the later project, we could focus on the HTML in history category to find the reason why people tends to choose this kind of article."
   ]
  },
  {
   "cell_type": "markdown",
   "metadata": {},
   "source": [
    "##### Variable: source_first_path_category"
   ]
  },
  {
   "cell_type": "markdown",
   "metadata": {},
   "source": [
    "Then, we get the statistic of category pairs. The category pairs contains the category of source articles and the category of articles that people choose first in their clicking process. We can get a overviwe of the top10 category links. Also, this is affect by the number of articles in the categories. We can further analyze with this in the future."
   ]
  },
  {
   "cell_type": "code",
   "execution_count": 110,
   "metadata": {
    "collapsed": false,
    "jupyter": {
     "outputs_hidden": false
    }
   },
   "outputs": [
    {
     "data": {
      "text/plain": [
       "Science;Science                      8987\n",
       "Geography;Geography                  8521\n",
       "Science;Geography                    6214\n",
       "People;Geography                     3848\n",
       "Everyday_life;Geography              3586\n",
       "Geography;Countries                  3558\n",
       "History;Geography                    2968\n",
       "Science;Countries                    2764\n",
       "Countries;Geography                  2158\n",
       "Language_and_literature;Geography    2126\n",
       "Name: source_first_path_category_1st, dtype: int64"
      ]
     },
     "execution_count": 110,
     "metadata": {},
     "output_type": "execute_result"
    }
   ],
   "source": [
    "click_category_count_depth1_source_first_path = df_merge_finished_path_category['source_first_path_category_1st'].value_counts(sort = True)\n",
    "click_category_count_depth1_source_first_path[0:10]"
   ]
  },
  {
   "cell_type": "markdown",
   "metadata": {},
   "source": [
    "##### Variable: source_dest_category_1st"
   ]
  },
  {
   "cell_type": "markdown",
   "metadata": {},
   "source": [
    "Similarly, we get the statistic of category pairs. The category pairs contains the category of source articles and the category of destination articles."
   ]
  },
  {
   "cell_type": "code",
   "execution_count": 111,
   "metadata": {
    "collapsed": false,
    "jupyter": {
     "outputs_hidden": false
    }
   },
   "outputs": [
    {
     "data": {
      "text/plain": [
       "Science;Geography                  4600\n",
       "Geography;Geography                4520\n",
       "Science;Science                    4035\n",
       "Language_and_literature;Science    3617\n",
       "Science;History                    3492\n",
       "Geography;Science                  3342\n",
       "People;Geography                   2447\n",
       "Everyday_life;Science              2326\n",
       "Science;People                     2289\n",
       "Everyday_life;Geography            1960\n",
       "Name: source_dest_category_1st, dtype: int64"
      ]
     },
     "execution_count": 111,
     "metadata": {},
     "output_type": "execute_result"
    }
   ],
   "source": [
    "click_category_count_depth1_source_dest = df_merge_finished_path_category['source_dest_category_1st'].value_counts(sort = True)\n",
    "click_category_count_depth1_source_dest[0:10]"
   ]
  },
  {
   "cell_type": "markdown",
   "metadata": {},
   "source": [
    "##### Variable: path_pair"
   ]
  },
  {
   "cell_type": "markdown",
   "metadata": {},
   "source": [
    "We analyse the variable **path pair**. The path pair with the highest frequency will be found. And in the later project, we will delve the reason why people tends to follow on those path pair."
   ]
  },
  {
   "cell_type": "code",
   "execution_count": 112,
   "metadata": {
    "collapsed": false,
    "jupyter": {
     "outputs_hidden": false
    }
   },
   "outputs": [
    {
     "data": {
      "text/plain": [
       "[('(<, <)', 4971),\n",
       " ('(Communication, Telephone)', 533),\n",
       " ('(North_America, United_States)', 492),\n",
       " ('(Animal, Mammal)', 487),\n",
       " ('(Lion, Zebra)', 472),\n",
       " ('(United_States, President_of_the_United_States)', 469),\n",
       " ('(Europe, United_Kingdom)', 467),\n",
       " ('(Mammal, Zebra)', 450),\n",
       " ('(Brain, Computer_science)', 448),\n",
       " ('(<, United_States)', 436)]"
      ]
     },
     "execution_count": 112,
     "metadata": {},
     "output_type": "execute_result"
    }
   ],
   "source": [
    "sorted(path_pair_dict.items(), key=lambda x: x[1], reverse=True)[:10]"
   ]
  },
  {
   "cell_type": "markdown",
   "metadata": {},
   "source": [
    "From the above result, we find that the top-10 highest frequency path pair in our data. We could scan the HTML to find the reason why people always construct this kind of link during their game.\n",
    "For example, we could first analyse the path pair with the required source and destination articles."
   ]
  },
  {
   "cell_type": "code",
   "execution_count": 113,
   "metadata": {
    "collapsed": false,
    "jupyter": {
     "outputs_hidden": false
    }
   },
   "outputs": [],
   "source": [
    "df_temp = df_merge_finished_path_category[df_merge_finished_path_category['path_pair'].str.contains(\"(Brain, Computer_science)\", regex=False)]"
   ]
  },
  {
   "cell_type": "code",
   "execution_count": 115,
   "metadata": {
    "collapsed": false,
    "jupyter": {
     "outputs_hidden": false
    }
   },
   "outputs": [
    {
     "data": {
      "text/plain": [
       "Science;Design_and_Technology                    426\n",
       "Science;IT                                        11\n",
       "Science;Science                                    3\n",
       "Science;Mathematics                                2\n",
       "Science;Everyday_life                              2\n",
       "Science;Business_Studies                           1\n",
       "Religion;Everyday_life                             1\n",
       "Religion;Mathematics                               1\n",
       "People;Everyday_life                               1\n",
       "Design_and_Technology;Language_and_literature      1\n",
       "Name: source_dest_category_1st, dtype: int64"
      ]
     },
     "execution_count": 115,
     "metadata": {},
     "output_type": "execute_result"
    }
   ],
   "source": [
    "df_temp['source_dest_category_1st'].value_counts()[:10]"
   ]
  },
  {
   "cell_type": "markdown",
   "metadata": {},
   "source": [
    "We could find that the path pair (Brain, Computer_science) always occur when the source and destination category is (Science; Design_and_Technology)"
   ]
  },
  {
   "cell_type": "markdown",
   "metadata": {},
   "source": [
    "Then, we could continue to delve the source and destination articles. The specific detailed category of source and destination, which contains the path pair, is **subject.Science.Biology.General_Biology;subject.Design_and_Technology.Engineering**. So, later, we could find the specific articles to find the reason why people think the path pair (Brain, Computer_science) could help their tasks."
   ]
  },
  {
   "cell_type": "code",
   "execution_count": 116,
   "metadata": {
    "collapsed": false,
    "jupyter": {
     "outputs_hidden": false
    }
   },
   "outputs": [
    {
     "data": {
      "text/plain": [
       "subject.Science.Biology.General_Biology;subject.Design_and_Technology.Engineering           424\n",
       "subject.Science.Biology.General_Biology;subject.IT.Computing_hardware_and_infrastructure      6\n",
       "subject.Science.Biology.Mammals;subject.IT.Computing_hardware_and_infrastructure              3\n",
       "subject.Science.Biology.Health_and_medicine;subject.Mathematics                               2\n",
       "subject.Science.Biology.Mammals;subject.Design_and_Technology.Engineering                     2\n",
       "subject.Science.Biology.General_Biology;subject.Everyday_life.Television                      2\n",
       "subject.Science.Biology.Mammals;subject.Business_Studies.Companies                            1\n",
       "subject.Science.Biology.Mammals;subject.IT.Software                                           1\n",
       "subject.Science.Biology.Mammals;subject.Science.Physics.Electricity_and_Electronics           1\n",
       "subject.Religion.Philosophy;subject.Everyday_life.Everyday_life                               1\n",
       "Name: source_dest_category, dtype: int64"
      ]
     },
     "execution_count": 116,
     "metadata": {},
     "output_type": "execute_result"
    }
   ],
   "source": [
    "df_temp['source_dest_category'].value_counts()[:10]"
   ]
  },
  {
   "cell_type": "code",
   "execution_count": 257,
   "metadata": {
    "collapsed": false,
    "jupyter": {
     "outputs_hidden": false
    }
   },
   "outputs": [
    {
     "data": {
      "text/html": [
       "<div>\n",
       "<style scoped>\n",
       "    .dataframe tbody tr th:only-of-type {\n",
       "        vertical-align: middle;\n",
       "    }\n",
       "\n",
       "    .dataframe tbody tr th {\n",
       "        vertical-align: top;\n",
       "    }\n",
       "\n",
       "    .dataframe thead th {\n",
       "        text-align: right;\n",
       "    }\n",
       "</style>\n",
       "<table border=\"1\" class=\"dataframe\">\n",
       "  <thead>\n",
       "    <tr style=\"text-align: right;\">\n",
       "      <th></th>\n",
       "      <th>hashedIpAddress</th>\n",
       "      <th>timestamp</th>\n",
       "      <th>durationInSec</th>\n",
       "      <th>path</th>\n",
       "      <th>rating</th>\n",
       "      <th>path_length</th>\n",
       "      <th>source</th>\n",
       "      <th>destination</th>\n",
       "      <th>path_pair</th>\n",
       "      <th>pathnum</th>\n",
       "      <th>first_path</th>\n",
       "      <th>first_path_category</th>\n",
       "      <th>first_path_category_length</th>\n",
       "      <th>first_path_category_1st</th>\n",
       "      <th>source_category</th>\n",
       "      <th>source_category_length</th>\n",
       "      <th>source_category_1st</th>\n",
       "      <th>dest_category</th>\n",
       "      <th>dest_category_length</th>\n",
       "      <th>dest_category_1st</th>\n",
       "      <th>source_dest_category_1st</th>\n",
       "      <th>source_first_path_category_1st</th>\n",
       "      <th>source_dest_category</th>\n",
       "    </tr>\n",
       "  </thead>\n",
       "  <tbody>\n",
       "    <tr>\n",
       "      <th>38985</th>\n",
       "      <td>1a60ec2436f556b0</td>\n",
       "      <td>1354167936</td>\n",
       "      <td>226</td>\n",
       "      <td>Whale;Japan;Nintendo;Computer_and_video_games;Pac-Man;Pikachu;Pok%C3%A9mon_Trading_Card_Game</td>\n",
       "      <td>4.0</td>\n",
       "      <td>6</td>\n",
       "      <td>Whale</td>\n",
       "      <td>Pok%C3%A9mon_Trading_Card_Game</td>\n",
       "      <td>[(Whale, Japan), (Japan, Nintendo), (Nintendo, Computer_and_video_games), (Computer_and_video_ga...</td>\n",
       "      <td>[4462, 2226, 2991, 1007, 3132, 3253, 3284]</td>\n",
       "      <td>Japan</td>\n",
       "      <td>subject.Geography.Geography_of_Asia.Asian_Countries</td>\n",
       "      <td>4</td>\n",
       "      <td>Geography</td>\n",
       "      <td>subject.Science.Biology.Mammals</td>\n",
       "      <td>4</td>\n",
       "      <td>Science</td>\n",
       "      <td>subject.Everyday_life.Games</td>\n",
       "      <td>3</td>\n",
       "      <td>Everyday_life</td>\n",
       "      <td>Science;Everyday_life</td>\n",
       "      <td>Science;Geography</td>\n",
       "      <td>subject.Science.Biology.Mammals;subject.Everyday_life.Games</td>\n",
       "    </tr>\n",
       "    <tr>\n",
       "      <th>38986</th>\n",
       "      <td>1a60ec2436f556b0</td>\n",
       "      <td>1354167936</td>\n",
       "      <td>226</td>\n",
       "      <td>Whale;Japan;Nintendo;Computer_and_video_games;Pac-Man;Pikachu;Pok%C3%A9mon_Trading_Card_Game</td>\n",
       "      <td>4.0</td>\n",
       "      <td>6</td>\n",
       "      <td>Whale</td>\n",
       "      <td>Pok%C3%A9mon_Trading_Card_Game</td>\n",
       "      <td>[(Whale, Japan), (Japan, Nintendo), (Nintendo, Computer_and_video_games), (Computer_and_video_ga...</td>\n",
       "      <td>[4462, 2226, 2991, 1007, 3132, 3253, 3284]</td>\n",
       "      <td>Japan</td>\n",
       "      <td>subject.Countries</td>\n",
       "      <td>2</td>\n",
       "      <td>Countries</td>\n",
       "      <td>subject.Science.Biology.Mammals</td>\n",
       "      <td>4</td>\n",
       "      <td>Science</td>\n",
       "      <td>subject.Everyday_life.Games</td>\n",
       "      <td>3</td>\n",
       "      <td>Everyday_life</td>\n",
       "      <td>Science;Everyday_life</td>\n",
       "      <td>Science;Countries</td>\n",
       "      <td>subject.Science.Biology.Mammals;subject.Everyday_life.Games</td>\n",
       "    </tr>\n",
       "  </tbody>\n",
       "</table>\n",
       "</div>"
      ],
      "text/plain": [
       "        hashedIpAddress   timestamp  durationInSec                                                                                          path  rating  path_length source                     destination                                                                                            path_pair                                     pathnum first_path                                  first_path_category  first_path_category_length first_path_category_1st                  source_category  source_category_length source_category_1st                dest_category  dest_category_length dest_category_1st source_dest_category_1st source_first_path_category_1st                                         source_dest_category\n",
       "38985  1a60ec2436f556b0  1354167936            226  Whale;Japan;Nintendo;Computer_and_video_games;Pac-Man;Pikachu;Pok%C3%A9mon_Trading_Card_Game     4.0            6  Whale  Pok%C3%A9mon_Trading_Card_Game  [(Whale, Japan), (Japan, Nintendo), (Nintendo, Computer_and_video_games), (Computer_and_video_ga...  [4462, 2226, 2991, 1007, 3132, 3253, 3284]      Japan  subject.Geography.Geography_of_Asia.Asian_Countries                           4               Geography  subject.Science.Biology.Mammals                       4             Science  subject.Everyday_life.Games                     3     Everyday_life    Science;Everyday_life              Science;Geography  subject.Science.Biology.Mammals;subject.Everyday_life.Games\n",
       "38986  1a60ec2436f556b0  1354167936            226  Whale;Japan;Nintendo;Computer_and_video_games;Pac-Man;Pikachu;Pok%C3%A9mon_Trading_Card_Game     4.0            6  Whale  Pok%C3%A9mon_Trading_Card_Game  [(Whale, Japan), (Japan, Nintendo), (Nintendo, Computer_and_video_games), (Computer_and_video_ga...  [4462, 2226, 2991, 1007, 3132, 3253, 3284]      Japan                                    subject.Countries                           2               Countries  subject.Science.Biology.Mammals                       4             Science  subject.Everyday_life.Games                     3     Everyday_life    Science;Everyday_life              Science;Countries  subject.Science.Biology.Mammals;subject.Everyday_life.Games"
      ]
     },
     "execution_count": 257,
     "metadata": {},
     "output_type": "execute_result"
    }
   ],
   "source": [
    "df_merge_finished_path_category[df_merge_finished_path_category.path.str.contains('Pikachu', regex=False)]"
   ]
  }
 ],
 "metadata": {
  "kernelspec": {
   "display_name": "Python 3 (ipykernel)",
   "language": "python",
   "name": "python3"
  },
  "language_info": {
   "codemirror_mode": {
    "name": "ipython",
    "version": 3
   },
   "file_extension": ".py",
   "mimetype": "text/x-python",
   "name": "python",
   "nbconvert_exporter": "python",
   "pygments_lexer": "ipython3",
   "version": "3.9.13"
  }
 },
 "nbformat": 4,
 "nbformat_minor": 4
}
